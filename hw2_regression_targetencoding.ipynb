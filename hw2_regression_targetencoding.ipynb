{
 "cells": [
  {
   "cell_type": "markdown",
   "metadata": {},
   "source": [
    "# Домашнее задание №2\n",
    "\n",
    "**"
   ]
  },
  {
   "cell_type": "markdown",
   "metadata": {},
   "source": [
    "## Часть 1. ML workflow (**всего 5 баллов**)"
   ]
  },
  {
   "cell_type": "code",
   "execution_count": 1,
   "metadata": {},
   "outputs": [],
   "source": [
    "import numpy as np\n",
    "import pandas as pd\n",
    "from sklearn.model_selection import train_test_split, cross_val_score, GridSearchCV\n",
    "\n",
    "from sklearn.linear_model import LinearRegression\n",
    "from sklearn.tree import DecisionTreeRegressor\n",
    "\n",
    "from sklearn.metrics import mean_squared_error, r2_score\n",
    "\n",
    "from sklearn.preprocessing import PolynomialFeatures\n",
    "from sklearn.pipeline import Pipeline\n",
    "\n",
    "from itertools import product"
   ]
  },
  {
   "cell_type": "markdown",
   "metadata": {},
   "source": [
    "### Загрузим данные для работы. "
   ]
  },
  {
   "cell_type": "code",
   "execution_count": 2,
   "metadata": {},
   "outputs": [
    {
     "data": {
      "text/html": [
       "<div>\n",
       "<style scoped>\n",
       "    .dataframe tbody tr th:only-of-type {\n",
       "        vertical-align: middle;\n",
       "    }\n",
       "\n",
       "    .dataframe tbody tr th {\n",
       "        vertical-align: top;\n",
       "    }\n",
       "\n",
       "    .dataframe thead th {\n",
       "        text-align: right;\n",
       "    }\n",
       "</style>\n",
       "<table border=\"1\" class=\"dataframe\">\n",
       "  <thead>\n",
       "    <tr style=\"text-align: right;\">\n",
       "      <th></th>\n",
       "      <th>fixed acidity</th>\n",
       "      <th>volatile acidity</th>\n",
       "      <th>citric acid</th>\n",
       "      <th>residual sugar</th>\n",
       "      <th>chlorides</th>\n",
       "      <th>free sulfur dioxide</th>\n",
       "      <th>total sulfur dioxide</th>\n",
       "      <th>density</th>\n",
       "      <th>pH</th>\n",
       "      <th>sulphates</th>\n",
       "      <th>alcohol</th>\n",
       "      <th>quality</th>\n",
       "    </tr>\n",
       "  </thead>\n",
       "  <tbody>\n",
       "    <tr>\n",
       "      <th>0</th>\n",
       "      <td>7.4</td>\n",
       "      <td>0.70</td>\n",
       "      <td>0.00</td>\n",
       "      <td>1.9</td>\n",
       "      <td>0.076</td>\n",
       "      <td>11.0</td>\n",
       "      <td>34.0</td>\n",
       "      <td>0.9978</td>\n",
       "      <td>3.51</td>\n",
       "      <td>0.56</td>\n",
       "      <td>9.4</td>\n",
       "      <td>5</td>\n",
       "    </tr>\n",
       "    <tr>\n",
       "      <th>1</th>\n",
       "      <td>7.8</td>\n",
       "      <td>0.88</td>\n",
       "      <td>0.00</td>\n",
       "      <td>2.6</td>\n",
       "      <td>0.098</td>\n",
       "      <td>25.0</td>\n",
       "      <td>67.0</td>\n",
       "      <td>0.9968</td>\n",
       "      <td>3.20</td>\n",
       "      <td>0.68</td>\n",
       "      <td>9.8</td>\n",
       "      <td>5</td>\n",
       "    </tr>\n",
       "    <tr>\n",
       "      <th>2</th>\n",
       "      <td>7.8</td>\n",
       "      <td>0.76</td>\n",
       "      <td>0.04</td>\n",
       "      <td>2.3</td>\n",
       "      <td>0.092</td>\n",
       "      <td>15.0</td>\n",
       "      <td>54.0</td>\n",
       "      <td>0.9970</td>\n",
       "      <td>3.26</td>\n",
       "      <td>0.65</td>\n",
       "      <td>9.8</td>\n",
       "      <td>5</td>\n",
       "    </tr>\n",
       "    <tr>\n",
       "      <th>3</th>\n",
       "      <td>11.2</td>\n",
       "      <td>0.28</td>\n",
       "      <td>0.56</td>\n",
       "      <td>1.9</td>\n",
       "      <td>0.075</td>\n",
       "      <td>17.0</td>\n",
       "      <td>60.0</td>\n",
       "      <td>0.9980</td>\n",
       "      <td>3.16</td>\n",
       "      <td>0.58</td>\n",
       "      <td>9.8</td>\n",
       "      <td>6</td>\n",
       "    </tr>\n",
       "    <tr>\n",
       "      <th>4</th>\n",
       "      <td>7.4</td>\n",
       "      <td>0.70</td>\n",
       "      <td>0.00</td>\n",
       "      <td>1.9</td>\n",
       "      <td>0.076</td>\n",
       "      <td>11.0</td>\n",
       "      <td>34.0</td>\n",
       "      <td>0.9978</td>\n",
       "      <td>3.51</td>\n",
       "      <td>0.56</td>\n",
       "      <td>9.4</td>\n",
       "      <td>5</td>\n",
       "    </tr>\n",
       "  </tbody>\n",
       "</table>\n",
       "</div>"
      ],
      "text/plain": [
       "   fixed acidity  volatile acidity  citric acid  residual sugar  chlorides  \\\n",
       "0            7.4              0.70         0.00             1.9      0.076   \n",
       "1            7.8              0.88         0.00             2.6      0.098   \n",
       "2            7.8              0.76         0.04             2.3      0.092   \n",
       "3           11.2              0.28         0.56             1.9      0.075   \n",
       "4            7.4              0.70         0.00             1.9      0.076   \n",
       "\n",
       "   free sulfur dioxide  total sulfur dioxide  density    pH  sulphates  \\\n",
       "0                 11.0                  34.0   0.9978  3.51       0.56   \n",
       "1                 25.0                  67.0   0.9968  3.20       0.68   \n",
       "2                 15.0                  54.0   0.9970  3.26       0.65   \n",
       "3                 17.0                  60.0   0.9980  3.16       0.58   \n",
       "4                 11.0                  34.0   0.9978  3.51       0.56   \n",
       "\n",
       "   alcohol  quality  \n",
       "0      9.4        5  \n",
       "1      9.8        5  \n",
       "2      9.8        5  \n",
       "3      9.8        6  \n",
       "4      9.4        5  "
      ]
     },
     "execution_count": 2,
     "metadata": {},
     "output_type": "execute_result"
    }
   ],
   "source": [
    "df = pd.read_csv(\"winequality-red.csv\")\n",
    "df.head()"
   ]
  },
  {
   "cell_type": "markdown",
   "metadata": {},
   "source": [
    "Будем решать задачу регрессии: необходимо предсказать качество вина на основе его характеристик\n",
    "\n",
    "### Шаг 1.  (**0.2 балла**)\n",
    "Создайте матрицу X объект-признак и целевой вектор y (\"quality\")"
   ]
  },
  {
   "cell_type": "code",
   "execution_count": 3,
   "metadata": {},
   "outputs": [],
   "source": [
    "y = df['quality'].to_numpy()\n",
    "X = df.drop('quality', 1).to_numpy()"
   ]
  },
  {
   "cell_type": "code",
   "execution_count": 4,
   "metadata": {},
   "outputs": [
    {
     "data": {
      "text/plain": [
       "array([[ 7.4  ,  0.7  ,  0.   , ...,  3.51 ,  0.56 ,  9.4  ],\n",
       "       [ 7.8  ,  0.88 ,  0.   , ...,  3.2  ,  0.68 ,  9.8  ],\n",
       "       [ 7.8  ,  0.76 ,  0.04 , ...,  3.26 ,  0.65 ,  9.8  ],\n",
       "       ...,\n",
       "       [ 6.3  ,  0.51 ,  0.13 , ...,  3.42 ,  0.75 , 11.   ],\n",
       "       [ 5.9  ,  0.645,  0.12 , ...,  3.57 ,  0.71 , 10.2  ],\n",
       "       [ 6.   ,  0.31 ,  0.47 , ...,  3.39 ,  0.66 , 11.   ]])"
      ]
     },
     "execution_count": 4,
     "metadata": {},
     "output_type": "execute_result"
    }
   ],
   "source": [
    "X"
   ]
  },
  {
   "cell_type": "code",
   "execution_count": 5,
   "metadata": {},
   "outputs": [
    {
     "data": {
      "text/plain": [
       "array([5, 5, 5, ..., 6, 5, 6], dtype=int64)"
      ]
     },
     "execution_count": 5,
     "metadata": {},
     "output_type": "execute_result"
    }
   ],
   "source": [
    "y"
   ]
  },
  {
   "cell_type": "markdown",
   "metadata": {},
   "source": [
    "### Шаг 2. (**0.2 балла**)\n",
    "Разбейте данные на train и test (доля тестовых данных - 30%)."
   ]
  },
  {
   "cell_type": "code",
   "execution_count": 6,
   "metadata": {},
   "outputs": [],
   "source": [
    "X_train, X_test, y_train, y_test = train_test_split(X, y, test_size=0.3, random_state=690)"
   ]
  },
  {
   "cell_type": "markdown",
   "metadata": {},
   "source": [
    "Здесь просто чекаю, что датафрейм разделился корректно:"
   ]
  },
  {
   "cell_type": "code",
   "execution_count": 7,
   "metadata": {},
   "outputs": [
    {
     "data": {
      "text/plain": [
       "0.300187617260788"
      ]
     },
     "execution_count": 7,
     "metadata": {},
     "output_type": "execute_result"
    }
   ],
   "source": [
    "X_test.shape[0]/X.shape[0]"
   ]
  },
  {
   "cell_type": "markdown",
   "metadata": {},
   "source": [
    "### Шаг 3. (**0.2 балла**)\n",
    "Обучите линейную регрессию на тренировочных данных и сделайте предсказания на train и на test."
   ]
  },
  {
   "cell_type": "code",
   "execution_count": 8,
   "metadata": {},
   "outputs": [
    {
     "data": {
      "text/plain": [
       "array([5.03329837, 5.87059011, 4.77301568, ..., 5.62725576, 6.17390055,\n",
       "       6.34658728])"
      ]
     },
     "execution_count": 8,
     "metadata": {},
     "output_type": "execute_result"
    }
   ],
   "source": [
    "reg1 = LinearRegression().fit(X_train, y_train)\n",
    "train_prediction = reg1.predict(X_train)\n",
    "test_prediction = reg1.predict(X_test)\n",
    "\n",
    "train_prediction"
   ]
  },
  {
   "cell_type": "code",
   "execution_count": 9,
   "metadata": {},
   "outputs": [
    {
     "data": {
      "text/plain": [
       "array([6.07333963, 5.16620447, 5.12337435, 6.71925388, 5.93382321,\n",
       "       5.31450928, 6.29196632, 5.18222677, 5.50583533, 6.37922981,\n",
       "       5.78198518, 5.13424372, 6.47034389, 5.1730555 , 6.31597327,\n",
       "       5.42683583, 6.62169844, 5.26445765, 5.44373906, 5.22148189,\n",
       "       6.0267704 , 5.47222617, 5.53749023, 5.6128583 , 5.26976299,\n",
       "       5.35937958, 4.91041465, 5.37185731, 4.9377547 , 5.61046636,\n",
       "       5.0946638 , 5.9715291 , 5.38884978, 5.08876448, 5.35035249,\n",
       "       5.45307662, 5.30875147, 5.42296007, 5.69398686, 5.3284178 ,\n",
       "       5.07124173, 5.02481411, 5.20276754, 6.3527944 , 5.69876373,\n",
       "       5.43154818, 5.49229549, 5.12165396, 6.20242799, 5.11594365,\n",
       "       5.23277114, 5.99794018, 5.17759795, 6.49994703, 5.82492147,\n",
       "       4.84600398, 6.02752404, 6.41894492, 5.08806849, 6.21434959,\n",
       "       5.62624554, 4.87483187, 5.87696915, 5.29044629, 4.94856693,\n",
       "       5.4467288 , 5.86956752, 5.25035244, 6.93405126, 5.22739129,\n",
       "       5.77171039, 5.525642  , 5.58295484, 5.56978658, 5.62870526,\n",
       "       5.09787589, 5.67466226, 6.36956624, 4.91756747, 5.35601146,\n",
       "       5.65537097, 5.17322754, 6.2618259 , 6.00312011, 5.8520778 ,\n",
       "       5.53569525, 5.72198162, 6.17068247, 5.74121092, 5.65431486,\n",
       "       6.72145649, 5.14125978, 5.07912997, 4.75318014, 6.28523651,\n",
       "       5.46199752, 5.44219271, 5.29690604, 5.13252494, 5.08239839,\n",
       "       5.15403969, 4.99724571, 5.97662213, 6.05558374, 5.4071095 ,\n",
       "       5.1593806 , 5.92533256, 6.09027487, 4.77301568, 4.87483187,\n",
       "       5.42603713, 6.19534426, 5.11821182, 5.90459547, 6.35743797,\n",
       "       6.79567783, 6.92650294, 5.26097357, 5.32012662, 4.80048247,\n",
       "       5.80494664, 5.43236811, 5.51116236, 6.31443332, 5.74349817,\n",
       "       5.2524551 , 5.04181797, 5.58137782, 5.73757927, 4.81248406,\n",
       "       5.46962307, 5.19903415, 5.42544809, 5.33670551, 6.04491662,\n",
       "       6.00097609, 5.93382321, 5.03892119, 5.80785945, 6.1414868 ,\n",
       "       5.77684251, 5.63617446, 5.91127693, 4.94241396, 6.15206253,\n",
       "       5.35601146, 5.38968381, 5.47133865, 5.82481901, 6.00571935,\n",
       "       6.3336449 , 5.41135555, 5.30316947, 4.99757086, 5.93055075,\n",
       "       5.97699821, 5.04876675, 5.19184386, 5.86727374, 5.30316947,\n",
       "       6.13385271, 5.91495313, 5.68697961, 5.1309669 , 5.64948183,\n",
       "       5.96029622, 5.53433561, 5.25482358, 5.52067755, 5.91051666,\n",
       "       5.25166398, 5.44255879, 6.44899651, 6.07414029, 5.67600487,\n",
       "       5.07177879, 4.99205285, 5.21888332, 5.44179149, 5.07979161,\n",
       "       4.97571866, 5.48167693, 6.4801819 , 5.86155143, 5.35937958,\n",
       "       5.51682982, 5.43258057, 5.63880295, 5.67444328, 6.47171714,\n",
       "       6.49991363, 6.04241378, 5.73655884, 6.34479096, 6.46390224,\n",
       "       5.55133412, 5.29986363, 5.44155343, 5.04806867, 4.78247983,\n",
       "       5.38882538, 6.19534426, 5.5806391 , 5.31167347, 5.57423851,\n",
       "       4.87633964, 4.93900569, 5.40196086, 5.16907647, 6.34754246,\n",
       "       5.2632826 , 5.27115383, 5.88760574, 5.81073775, 5.44155343,\n",
       "       6.36365334, 6.25516041, 5.57745056, 5.1593806 , 5.26285627,\n",
       "       5.1650258 , 6.62169844, 5.95085414, 5.38274319, 5.07319542,\n",
       "       5.07601886, 5.84021755, 5.09215354, 5.81753801, 5.12366409,\n",
       "       5.30889163, 5.92059325, 5.01494263, 6.19939168, 6.44175939,\n",
       "       5.21266934, 5.64097234, 5.94875342, 5.5873929 , 6.54716411,\n",
       "       5.17751928, 6.32882128, 5.25660663, 5.38221681, 6.16147815,\n",
       "       6.07376113, 5.17633312, 5.26285627, 5.48078287, 6.15899841,\n",
       "       6.57043698, 6.45527189, 5.7342928 , 6.17304442, 6.39106724,\n",
       "       5.93667247, 5.89652795, 5.78585503, 6.2088333 , 6.20314504,\n",
       "       5.62966607, 5.45255635, 5.42296007, 5.56469219, 6.18215479,\n",
       "       5.89744776, 5.63617446, 5.78481529, 5.09135401, 5.32789847,\n",
       "       4.93521124, 6.19745626, 5.54751918, 5.40752443, 5.60166784,\n",
       "       5.22395862, 6.20845136, 5.65944729, 6.10431618, 5.2516327 ,\n",
       "       5.51682982, 5.81652382, 6.3483928 , 5.31893947, 5.27455832,\n",
       "       6.11089117, 5.42479126, 5.39542178, 5.35430163, 5.74342794,\n",
       "       5.7100808 , 5.12195339, 5.03331756, 6.28032571, 5.69643244,\n",
       "       5.45722085, 5.47923773, 5.17737854, 5.69965345, 5.81510093,\n",
       "       5.50284284, 4.95883327, 5.47428914, 5.03704975, 5.18171871,\n",
       "       5.71729836, 6.20707859, 5.41444907, 5.21522632, 5.04757208,\n",
       "       5.57350344, 5.2636931 , 5.69873384, 6.07554643, 5.70617412,\n",
       "       5.61017516, 4.44024745, 5.4118599 , 5.06639989, 5.78371893,\n",
       "       5.55799547, 5.8520778 , 5.03392563, 5.12946645, 5.19069246,\n",
       "       5.98888831, 5.24592202, 5.55847859, 5.0271649 , 6.29600323,\n",
       "       5.61561898, 6.21906139, 5.29597251, 5.68879338, 5.51893068,\n",
       "       5.04206083, 6.2088333 , 5.87074628, 5.43566086, 5.84730465,\n",
       "       5.30766739, 5.78291189, 5.00102244, 5.75355825, 4.81233164,\n",
       "       6.56774129, 5.72459923, 5.5140688 , 5.92493546, 6.93405126,\n",
       "       5.49094663, 5.03039678, 5.55449846, 6.50779464, 6.07376113,\n",
       "       6.24781132, 4.98176427, 5.9132635 , 6.11343713, 5.89484759,\n",
       "       5.31816552, 6.7248337 , 5.30889163, 5.31276981, 5.00589998,\n",
       "       5.47223513, 6.28618465, 5.16546763, 6.14498494, 6.45530834,\n",
       "       5.98776402, 5.9132635 , 6.11537871, 5.04561399, 5.05638146,\n",
       "       5.25144293, 5.59263028, 4.87320822, 6.85024652, 5.10302305,\n",
       "       5.1247734 , 5.0271649 , 6.43981556, 5.87715696, 4.96338933,\n",
       "       5.32180147, 5.15862744, 5.58464617, 5.70940872, 5.36441135,\n",
       "       6.10431618, 5.46130786, 5.23162127, 5.8627461 , 6.08058856,\n",
       "       5.59730567, 5.44376689, 4.85821371, 5.79408599, 5.31816552,\n",
       "       5.59082888, 5.83743522, 5.12831509, 5.11966191, 5.32823867,\n",
       "       5.78704277, 5.09517432, 5.42603713, 6.35933312, 4.99757086,\n",
       "       5.82855466, 6.1492946 , 5.56575676, 5.86853595, 5.94875342,\n",
       "       5.4200742 , 6.02945027, 5.82669694, 5.00925595, 6.43981556,\n",
       "       6.71502071, 6.2286998 , 5.6992252 , 5.29135393, 5.65978055,\n",
       "       5.79077002, 5.98613979, 5.96774468, 6.13622551, 5.61561898,\n",
       "       5.78038881, 5.39880109, 5.26275891, 5.00097003, 5.20037273,\n",
       "       5.70753699, 5.77690464, 6.11239499, 5.61561898, 5.53833534,\n",
       "       4.94991946, 4.99417956, 6.29704774, 5.18021729, 5.5321722 ,\n",
       "       4.64052824, 5.78737839, 5.6152373 , 5.93449706, 5.9864134 ,\n",
       "       5.9967871 , 6.51921977, 6.11522652, 5.70132683, 5.0612216 ,\n",
       "       4.95089936, 5.53886283, 5.1334856 , 5.88222068, 6.26489807,\n",
       "       5.28133292, 5.68195338, 5.33439092, 5.08651479, 5.61550621,\n",
       "       5.05460247, 6.1331077 , 5.4333818 , 5.03941368, 4.9430156 ,\n",
       "       5.75047618, 5.34611545, 6.14739546, 5.68454791, 5.87074628,\n",
       "       5.86672568, 5.04981043, 6.34479096, 6.47582202, 5.38304898])"
      ]
     },
     "execution_count": 9,
     "metadata": {},
     "output_type": "execute_result"
    }
   ],
   "source": [
    "test_prediction"
   ]
  },
  {
   "cell_type": "markdown",
   "metadata": {},
   "source": [
    "### Шаг 4. (**0.4 балла**)\n",
    "Выведите на экран ошибку MSE на train и на test, затем выведите на экран ошибку r2 на train и test.  "
   ]
  },
  {
   "cell_type": "code",
   "execution_count": 10,
   "metadata": {
    "scrolled": true
   },
   "outputs": [
    {
     "name": "stdout",
     "output_type": "stream",
     "text": [
      "MSE на трейне = 0.42157894227599524 \n",
      "MSE на тесте =  0.4086296844296972\n"
     ]
    }
   ],
   "source": [
    "print('MSE на трейне =', mean_squared_error(y_train, train_prediction),'\\nMSE на тесте = ', mean_squared_error(y_test, test_prediction))"
   ]
  },
  {
   "cell_type": "code",
   "execution_count": 11,
   "metadata": {},
   "outputs": [
    {
     "name": "stdout",
     "output_type": "stream",
     "text": [
      "R-squared на трейне = 0.3599876941197515 \n",
      "R-squared на тесте =  0.35669534685378146\n"
     ]
    }
   ],
   "source": [
    "print('R-squared на трейне =', r2_score(y_train, train_prediction),'\\nR-squared на тесте = ', r2_score(y_test, test_prediction))"
   ]
  },
  {
   "cell_type": "markdown",
   "metadata": {},
   "source": [
    "### Шаг 5. (**0.5 балла**)\n",
    "Вычислите среднее качество (r2) модели на кросс-валидации с k=5 фолдами."
   ]
  },
  {
   "cell_type": "markdown",
   "metadata": {},
   "source": [
    "Качество на каждом фолде:"
   ]
  },
  {
   "cell_type": "code",
   "execution_count": 12,
   "metadata": {},
   "outputs": [
    {
     "data": {
      "text/plain": [
       "array([0.13200871, 0.31858135, 0.34955348, 0.369145  , 0.2809196 ])"
      ]
     },
     "execution_count": 12,
     "metadata": {},
     "output_type": "execute_result"
    }
   ],
   "source": [
    "cross_val_score(reg1, X, y, cv=5, scoring='r2')"
   ]
  },
  {
   "cell_type": "markdown",
   "metadata": {},
   "source": [
    "Среднее качество по всем фолдам:"
   ]
  },
  {
   "cell_type": "code",
   "execution_count": 13,
   "metadata": {},
   "outputs": [
    {
     "data": {
      "text/plain": [
       "0.2900416288421999"
      ]
     },
     "execution_count": 13,
     "metadata": {},
     "output_type": "execute_result"
    }
   ],
   "source": [
    "np.mean(cross_val_score(reg1, X, y, cv=5, scoring='r2'))"
   ]
  },
  {
   "cell_type": "markdown",
   "metadata": {},
   "source": [
    "### Шаг 6.  (**0.5 балла**)\n",
    "Теперь примените линейную регрессию с L1-регуляризацией (Lasso) для данной задачи. Объявите модель и подберите параметр регуляризации alpha по сетке. Ищите alpha в диапазоне (0.1, 1.1) с шагом 0.1. \n",
    "\n",
    "Осуществите подбор параметра alpha по тренировочным данным (Xtrain, ytrain)."
   ]
  },
  {
   "cell_type": "code",
   "execution_count": 14,
   "metadata": {},
   "outputs": [
    {
     "data": {
      "text/plain": [
       "{'mean_fit_time': array([0.00219364, 0.00059867, 0.00079865, 0.00099483, 0.0007978 ,\n",
       "        0.00039897, 0.00059819, 0.00079789, 0.00039892, 0.00039902,\n",
       "        0.0005981 ]),\n",
       " 'std_fit_time': array([2.91712597e-03, 4.88811513e-04, 7.47679515e-04, 4.84077793e-06,\n",
       "        3.98898506e-04, 4.88636178e-04, 4.88421929e-04, 3.98945848e-04,\n",
       "        4.88577633e-04, 4.88694433e-04, 4.88344194e-04]),\n",
       " 'mean_score_time': array([0.        , 0.00039897, 0.00039897, 0.00039892, 0.00019941,\n",
       "        0.00039897, 0.00039907, 0.00039883, 0.00019946, 0.00039883,\n",
       "        0.00019979]),\n",
       " 'std_score_time': array([0.        , 0.00048864, 0.00048864, 0.00048858, 0.00039883,\n",
       "        0.00048864, 0.00048875, 0.00048846, 0.00039892, 0.00048846,\n",
       "        0.00039959]),\n",
       " 'param_alpha': masked_array(data=[0.1, 0.2, 0.3, 0.4, 0.5, 0.6, 0.7, 0.8, 0.9, 1.0, 1.1],\n",
       "              mask=[False, False, False, False, False, False, False, False,\n",
       "                    False, False, False],\n",
       "        fill_value='?',\n",
       "             dtype=object),\n",
       " 'params': [{'alpha': 0.1},\n",
       "  {'alpha': 0.2},\n",
       "  {'alpha': 0.3},\n",
       "  {'alpha': 0.4},\n",
       "  {'alpha': 0.5},\n",
       "  {'alpha': 0.6},\n",
       "  {'alpha': 0.7},\n",
       "  {'alpha': 0.8},\n",
       "  {'alpha': 0.9},\n",
       "  {'alpha': 1.0},\n",
       "  {'alpha': 1.1}],\n",
       " 'split0_test_score': array([0.2558539 , 0.18850153, 0.10837037, 0.04281567, 0.03934937,\n",
       "        0.03874403, 0.03847371, 0.03817552, 0.03784946, 0.03749554,\n",
       "        0.03711375]),\n",
       " 'split1_test_score': array([0.24426446, 0.19268045, 0.12961265, 0.06192834, 0.05911069,\n",
       "        0.0572057 , 0.05640435, 0.05557128, 0.0547065 , 0.05381   ,\n",
       "        0.05288178]),\n",
       " 'split2_test_score': array([0.21220775, 0.1617114 , 0.08910752, 0.02317906, 0.0214613 ,\n",
       "        0.020799  , 0.02115558, 0.02147718, 0.02176379, 0.02201543,\n",
       "        0.02223209]),\n",
       " 'split3_test_score': array([0.22922707, 0.17779336, 0.11563193, 0.04289268, 0.03885067,\n",
       "        0.03853702, 0.03820137, 0.03784371, 0.03746404, 0.03706237,\n",
       "        0.03663868]),\n",
       " 'split4_test_score': array([0.20422601, 0.15805377, 0.08861493, 0.02547635, 0.02246408,\n",
       "        0.02261484, 0.0227395 , 0.02283804, 0.02291047, 0.02295679,\n",
       "        0.022977  ]),\n",
       " 'mean_test_score': array([0.22915584, 0.1757481 , 0.10626748, 0.03925842, 0.03624722,\n",
       "        0.03558012, 0.0353949 , 0.03518115, 0.03493885, 0.03466803,\n",
       "        0.03436866]),\n",
       " 'std_test_score': array([0.01923432, 0.01388277, 0.01576825, 0.01405901, 0.01376763,\n",
       "        0.01321362, 0.01281928, 0.01242549, 0.01203223, 0.01163945,\n",
       "        0.01124714]),\n",
       " 'rank_test_score': array([ 1,  2,  3,  4,  5,  6,  7,  8,  9, 10, 11])}"
      ]
     },
     "execution_count": 14,
     "metadata": {},
     "output_type": "execute_result"
    }
   ],
   "source": [
    "from sklearn.linear_model import Lasso\n",
    "\n",
    "param_grid = {'alpha': [n * 1/10 for n in range(1,12)]}\n",
    "gridsearch = GridSearchCV(Lasso(), param_grid, scoring='r2', cv=5)\n",
    "\n",
    "gridsearch.fit(X_train, y_train)\n",
    "gridsearch.cv_results_"
   ]
  },
  {
   "cell_type": "markdown",
   "metadata": {},
   "source": [
    "### Шаг 7.  (**0.5 балла**)\n",
    "Выведите наилучший алгоритм и наилучшее качество по результатам подбора alpha (best_estimator_ и best_score_)."
   ]
  },
  {
   "cell_type": "code",
   "execution_count": 15,
   "metadata": {},
   "outputs": [
    {
     "data": {
      "text/plain": [
       "Lasso(alpha=0.1)"
      ]
     },
     "execution_count": 15,
     "metadata": {},
     "output_type": "execute_result"
    }
   ],
   "source": [
    "gridsearch.best_estimator_"
   ]
  },
  {
   "cell_type": "code",
   "execution_count": 16,
   "metadata": {},
   "outputs": [
    {
     "data": {
      "text/plain": [
       "0.22915583720108373"
      ]
     },
     "execution_count": 16,
     "metadata": {},
     "output_type": "execute_result"
    }
   ],
   "source": [
    "gridsearch.best_score_"
   ]
  },
  {
   "cell_type": "markdown",
   "metadata": {},
   "source": [
    "### Шаг 8.  (**0.5 балла**)\n",
    "\n",
    "С помощью найденного best_estimator_ сделайте предсказание на тестовых данных и выведите на экран r2-score на тесте."
   ]
  },
  {
   "cell_type": "code",
   "execution_count": 17,
   "metadata": {},
   "outputs": [
    {
     "data": {
      "text/plain": [
       "0.24643140462695579"
      ]
     },
     "execution_count": 17,
     "metadata": {},
     "output_type": "execute_result"
    }
   ],
   "source": [
    "best_pred = gridsearch.best_estimator_.predict(X_test)\n",
    "r2_score(y_test, best_pred)"
   ]
  },
  {
   "cell_type": "markdown",
   "metadata": {},
   "source": [
    "### Шаг 9.  (**0.5 балла**)\n",
    "\n",
    "Попробуем улучшить качество модели за счет добавления полиномиальных признаков. Создайте pipeline, состоящий из добавления полиномиальных признаков степени 2, а затем применения линейной регрессии.\n",
    "\n",
    "Затем вычислите r2-score этой модели на кросс валидации с пятью фолдами."
   ]
  },
  {
   "cell_type": "code",
   "execution_count": 18,
   "metadata": {},
   "outputs": [],
   "source": [
    "from sklearn.preprocessing import StandardScaler\n",
    "from sklearn.preprocessing import PolynomialFeatures \n",
    "from sklearn.pipeline import Pipeline\n",
    "from sklearn.linear_model import LinearRegression\n",
    "\n",
    "pipe = Pipeline([\n",
    "    ('poly_transformer_', PolynomialFeatures(2)),\n",
    "    ('scaler_', StandardScaler()),\n",
    "    ('model_', LinearRegression())\n",
    "    ])"
   ]
  },
  {
   "cell_type": "markdown",
   "metadata": {},
   "source": [
    "R2 на каждом из фолдов:"
   ]
  },
  {
   "cell_type": "code",
   "execution_count": 19,
   "metadata": {},
   "outputs": [
    {
     "data": {
      "text/plain": [
       "array([-0.0399065 ,  0.29930017,  0.38080624,  0.30145898,  0.20882197])"
      ]
     },
     "execution_count": 19,
     "metadata": {},
     "output_type": "execute_result"
    }
   ],
   "source": [
    "cross_val_score(pipe, X, y, cv=5, scoring='r2')"
   ]
  },
  {
   "cell_type": "markdown",
   "metadata": {},
   "source": [
    "Странное качество получается на первом фолде...Мб туда попали нетипичные наблюдения (?), мб зависит от параметра рандома. Из-за этого портится среднее качество тоже."
   ]
  },
  {
   "cell_type": "markdown",
   "metadata": {},
   "source": [
    "Среднее качество по всем фолдам:"
   ]
  },
  {
   "cell_type": "code",
   "execution_count": 20,
   "metadata": {},
   "outputs": [
    {
     "data": {
      "text/plain": [
       "0.23009617099812116"
      ]
     },
     "execution_count": 20,
     "metadata": {},
     "output_type": "execute_result"
    }
   ],
   "source": [
    "np.mean(cross_val_score(pipe, X, y, cv=5, scoring='r2'))"
   ]
  },
  {
   "cell_type": "markdown",
   "metadata": {},
   "source": [
    "### Шаг 10.  (**0.5 балла**)\n",
    "Обучите модель (pipeline) на тренировочных данных и сделайте предсказания для train и test, затем выведите на экран r2-score и MSE на тренировочных и на тестовых данных."
   ]
  },
  {
   "cell_type": "code",
   "execution_count": 21,
   "metadata": {},
   "outputs": [
    {
     "name": "stdout",
     "output_type": "stream",
     "text": [
      "R-squared на трейне = 0.46015279277541377 \n",
      "R-squared на тесте =  0.3241842009567366\n",
      "MSE на трейне = 0.35559974788199566 \n",
      "MSE на тесте =  0.4292808941223118\n"
     ]
    }
   ],
   "source": [
    "pipe.fit(X_train, y_train)\n",
    "\n",
    "pred_train = pipe.predict(X_train)\n",
    "pred_test = pipe.predict(X_test)\n",
    "\n",
    "print('R-squared на трейне =', r2_score(y_train, pred_train),'\\nR-squared на тесте = ', r2_score(y_test, pred_test))\n",
    "print('MSE на трейне =', mean_squared_error(y_train, pred_train),'\\nMSE на тесте = ', mean_squared_error(y_test, pred_test))"
   ]
  },
  {
   "cell_type": "markdown",
   "metadata": {},
   "source": [
    "### Сделайте выводы. Для этого ответьте на вопросы: (**1 балл**)\n",
    "\n",
    "1) Хорошее ли качество показала исходная модель (линейная регрессия без регуляризации)? Является ли эта модель переобученной?\n",
    "\n",
    "2) Помогла ли L1-регуляризация улучшить качество модели?\n",
    "\n",
    "3) Помогло ли добавление полиномов второй степени улучшить качество модели? Как добавление новых признаков повлияло на переобучение?"
   ]
  },
  {
   "cell_type": "markdown",
   "metadata": {},
   "source": [
    "1)\n",
    "Для исходной модели: MSE на трейне = 0.422, MSE на тесте =  0.409, R-squared на трейне = 0.360, R-squared на тесте =  0.357. \n",
    "Как мы знаем, сам по себе показатель MSE не имеет верхней границы и зависит от разброса переменной, поэтому судить только по нему о качестве модели нецелесообразно. Зная что зависимая переменная это какое-то целое число в диапазоне от 3 до 8, полагаю, что значение MSE=0,41 достаточно высокое для данного датасета: качество модели не очень. Об этом же говорит достаточно низкий коэффициент детерминации, смысл которого - показывать долю вариации, объясненную регрессией в общей вариации Y. То есть объясняющая способность модели достаточно низкая. \n",
    "Модель не является переобученной, скорее видим недообучение - низкие значения метрик качества на тренировочной выборке. Значения MSE и R2 на трейне не сильно превышают значения соответствующих метрик на тесте - значит не наблюдается переобучения.\n",
    "На кроссвалидации среднее значение R2 еще ниже: 0.29. Это не меняет выводы."
   ]
  },
  {
   "cell_type": "code",
   "execution_count": 22,
   "metadata": {},
   "outputs": [
    {
     "data": {
      "text/plain": [
       "[3, 4, 5, 6, 7, 8]"
      ]
     },
     "execution_count": 22,
     "metadata": {},
     "output_type": "execute_result"
    }
   ],
   "source": [
    "sorted(pd.unique(df['quality']))"
   ]
  },
  {
   "cell_type": "markdown",
   "metadata": {},
   "source": [
    "2)\n",
    "Регуляризация не помогла. По крайней мере для параметров alpha из указанного диапазона. Коэффициент детерминации на тесте R2=0.246, при alpha=0.1. Качество модели снизилось."
   ]
  },
  {
   "cell_type": "markdown",
   "metadata": {},
   "source": [
    "3) \n",
    "R-squared на трейне = 0.46015279277541377 \n",
    "\n",
    "R-squared на тесте =  0.3241842009567366\n",
    "\n",
    "MSE на трейне = 0.35559974788199566 \n",
    "\n",
    "MSE на тесте =  0.4292808941223118\n",
    "\n",
    "Судя по данным показателям - качество модели улучшилось! Но зато она стала более переобученной - об этом говорит увеличение разрыва между значениями метрик на трейне и тесте. R2 вообще вполне мог увеличиться только по причине увеличения количества регрессоров (тоже признак того, что модель подгоняется под данные). Нужно чекать R2-adjusted или сравнивать по информационным критериям. "
   ]
  },
  {
   "cell_type": "markdown",
   "metadata": {},
   "source": [
    "### *Попытайтесь улучшить модель (добейтесь наилучшего качества) - можно использовать любые методы."
   ]
  },
  {
   "cell_type": "markdown",
   "metadata": {},
   "source": [
    "При улучшении качества r2 на 0.1-0.2 +1 балл, при большем улучшении +2 балла (дополнительно к 5 баллам за основную часть)."
   ]
  },
  {
   "cell_type": "markdown",
   "metadata": {},
   "source": [
    "Это исходная модель (с полиномиальными признаками):"
   ]
  },
  {
   "cell_type": "code",
   "execution_count": 23,
   "metadata": {},
   "outputs": [
    {
     "name": "stdout",
     "output_type": "stream",
     "text": [
      "R-squared на тeсте = 0.3241842009567366\n"
     ]
    }
   ],
   "source": [
    "pipe = Pipeline([\n",
    "    ('poly_transformer_', PolynomialFeatures(2)),\n",
    "    ('scaler_', StandardScaler()),\n",
    "    ('model_', LinearRegression())\n",
    "    ])\n",
    "pipe.fit(X_train, y_train)\n",
    "pred_test = pipe.predict(X_test)\n",
    "\n",
    "print('R-squared на тeсте =', r2_score(y_test, pred_test))"
   ]
  },
  {
   "cell_type": "markdown",
   "metadata": {},
   "source": [
    "Качество немного увеличивается, если подобрать параметр регуляризации alpha:"
   ]
  },
  {
   "cell_type": "code",
   "execution_count": 24,
   "metadata": {
    "scrolled": true
   },
   "outputs": [
    {
     "name": "stdout",
     "output_type": "stream",
     "text": [
      "R-squared на тeсте = 0.3641180391633353\n"
     ]
    }
   ],
   "source": [
    "pipe = Pipeline([\n",
    "    ('poly_transformer_', PolynomialFeatures(2)),\n",
    "    ('scaler_', StandardScaler()),\n",
    "    ('model_', Lasso(alpha=0.008, max_iter=1000))\n",
    "    ])\n",
    "pipe.fit(X_train, y_train)\n",
    "pred_test = pipe.predict(X_test)\n",
    "\n",
    "print('R-squared на тeсте =', r2_score(y_test, pred_test))"
   ]
  },
  {
   "cell_type": "markdown",
   "metadata": {},
   "source": [
    "Просто запустила градиентный бустинг и радуюсь жизни:"
   ]
  },
  {
   "cell_type": "code",
   "execution_count": 25,
   "metadata": {},
   "outputs": [
    {
     "name": "stdout",
     "output_type": "stream",
     "text": [
      "R-squared на тeсте = 0.42658472708721273\n"
     ]
    }
   ],
   "source": [
    "from sklearn.ensemble import GradientBoostingRegressor\n",
    "pipe = Pipeline([\n",
    "    ('poly_transformer_', PolynomialFeatures(2)),\n",
    "    ('scaler_', StandardScaler()),\n",
    "    ('model_', GradientBoostingRegressor(learning_rate=0.1, n_estimators=500, random_state=690))\n",
    "    ])\n",
    "pipe.fit(X_train, y_train)\n",
    "pred_test = pipe.predict(X_test)\n",
    "\n",
    "print('R-squared на тeсте =', r2_score(y_test, pred_test))"
   ]
  },
  {
   "cell_type": "markdown",
   "metadata": {},
   "source": [
    "## Часть 2. Target encoding (**всего 5 баллов**)"
   ]
  },
  {
   "cell_type": "markdown",
   "metadata": {},
   "source": [
    "В этом части домашнего задания вы будете работать с выборкой `1C`. Вам нужно посчитать счетчики для `item_id` четырьмя способами:\n",
    "\n",
    "    1) При помощи KFold схемы;  \n",
    "    2) При помощи Leave-one-out схемы;\n",
    "    3) При помощи smoothing схемы;\n",
    "    4) При помощи expanding mean схемы."
   ]
  },
  {
   "cell_type": "markdown",
   "metadata": {},
   "source": [
    "### Подготовка данных"
   ]
  },
  {
   "cell_type": "code",
   "execution_count": 26,
   "metadata": {},
   "outputs": [
    {
     "data": {
      "text/html": [
       "<div>\n",
       "<style scoped>\n",
       "    .dataframe tbody tr th:only-of-type {\n",
       "        vertical-align: middle;\n",
       "    }\n",
       "\n",
       "    .dataframe tbody tr th {\n",
       "        vertical-align: top;\n",
       "    }\n",
       "\n",
       "    .dataframe thead th {\n",
       "        text-align: right;\n",
       "    }\n",
       "</style>\n",
       "<table border=\"1\" class=\"dataframe\">\n",
       "  <thead>\n",
       "    <tr style=\"text-align: right;\">\n",
       "      <th></th>\n",
       "      <th>date</th>\n",
       "      <th>date_block_num</th>\n",
       "      <th>shop_id</th>\n",
       "      <th>item_id</th>\n",
       "      <th>item_price</th>\n",
       "      <th>target</th>\n",
       "    </tr>\n",
       "  </thead>\n",
       "  <tbody>\n",
       "    <tr>\n",
       "      <th>0</th>\n",
       "      <td>02.01.2013</td>\n",
       "      <td>0</td>\n",
       "      <td>59</td>\n",
       "      <td>22154</td>\n",
       "      <td>999.00</td>\n",
       "      <td>1.0</td>\n",
       "    </tr>\n",
       "    <tr>\n",
       "      <th>1</th>\n",
       "      <td>03.01.2013</td>\n",
       "      <td>0</td>\n",
       "      <td>25</td>\n",
       "      <td>2552</td>\n",
       "      <td>899.00</td>\n",
       "      <td>1.0</td>\n",
       "    </tr>\n",
       "    <tr>\n",
       "      <th>2</th>\n",
       "      <td>05.01.2013</td>\n",
       "      <td>0</td>\n",
       "      <td>25</td>\n",
       "      <td>2552</td>\n",
       "      <td>899.00</td>\n",
       "      <td>-1.0</td>\n",
       "    </tr>\n",
       "    <tr>\n",
       "      <th>3</th>\n",
       "      <td>06.01.2013</td>\n",
       "      <td>0</td>\n",
       "      <td>25</td>\n",
       "      <td>2554</td>\n",
       "      <td>1709.05</td>\n",
       "      <td>1.0</td>\n",
       "    </tr>\n",
       "    <tr>\n",
       "      <th>4</th>\n",
       "      <td>15.01.2013</td>\n",
       "      <td>0</td>\n",
       "      <td>25</td>\n",
       "      <td>2555</td>\n",
       "      <td>1099.00</td>\n",
       "      <td>1.0</td>\n",
       "    </tr>\n",
       "    <tr>\n",
       "      <th>...</th>\n",
       "      <td>...</td>\n",
       "      <td>...</td>\n",
       "      <td>...</td>\n",
       "      <td>...</td>\n",
       "      <td>...</td>\n",
       "      <td>...</td>\n",
       "    </tr>\n",
       "    <tr>\n",
       "      <th>2935844</th>\n",
       "      <td>10.10.2015</td>\n",
       "      <td>33</td>\n",
       "      <td>25</td>\n",
       "      <td>7409</td>\n",
       "      <td>299.00</td>\n",
       "      <td>1.0</td>\n",
       "    </tr>\n",
       "    <tr>\n",
       "      <th>2935845</th>\n",
       "      <td>09.10.2015</td>\n",
       "      <td>33</td>\n",
       "      <td>25</td>\n",
       "      <td>7460</td>\n",
       "      <td>299.00</td>\n",
       "      <td>1.0</td>\n",
       "    </tr>\n",
       "    <tr>\n",
       "      <th>2935846</th>\n",
       "      <td>14.10.2015</td>\n",
       "      <td>33</td>\n",
       "      <td>25</td>\n",
       "      <td>7459</td>\n",
       "      <td>349.00</td>\n",
       "      <td>1.0</td>\n",
       "    </tr>\n",
       "    <tr>\n",
       "      <th>2935847</th>\n",
       "      <td>22.10.2015</td>\n",
       "      <td>33</td>\n",
       "      <td>25</td>\n",
       "      <td>7440</td>\n",
       "      <td>299.00</td>\n",
       "      <td>1.0</td>\n",
       "    </tr>\n",
       "    <tr>\n",
       "      <th>2935848</th>\n",
       "      <td>03.10.2015</td>\n",
       "      <td>33</td>\n",
       "      <td>25</td>\n",
       "      <td>7460</td>\n",
       "      <td>299.00</td>\n",
       "      <td>1.0</td>\n",
       "    </tr>\n",
       "  </tbody>\n",
       "</table>\n",
       "<p>2935849 rows × 6 columns</p>\n",
       "</div>"
      ],
      "text/plain": [
       "               date  date_block_num  shop_id  item_id  item_price  target\n",
       "0        02.01.2013               0       59    22154      999.00     1.0\n",
       "1        03.01.2013               0       25     2552      899.00     1.0\n",
       "2        05.01.2013               0       25     2552      899.00    -1.0\n",
       "3        06.01.2013               0       25     2554     1709.05     1.0\n",
       "4        15.01.2013               0       25     2555     1099.00     1.0\n",
       "...             ...             ...      ...      ...         ...     ...\n",
       "2935844  10.10.2015              33       25     7409      299.00     1.0\n",
       "2935845  09.10.2015              33       25     7460      299.00     1.0\n",
       "2935846  14.10.2015              33       25     7459      349.00     1.0\n",
       "2935847  22.10.2015              33       25     7440      299.00     1.0\n",
       "2935848  03.10.2015              33       25     7460      299.00     1.0\n",
       "\n",
       "[2935849 rows x 6 columns]"
      ]
     },
     "execution_count": 26,
     "metadata": {},
     "output_type": "execute_result"
    }
   ],
   "source": [
    "sales = pd.read_csv('sales_train.csv.gz')\n",
    "sales.columns = ['date', 'date_block_num', 'shop_id', 'item_id', 'item_price', 'target']\n",
    "sales"
   ]
  },
  {
   "cell_type": "code",
   "execution_count": 27,
   "metadata": {},
   "outputs": [],
   "source": [
    "index_cols = ['shop_id', 'item_id', 'date_block_num']\n",
    "\n",
    "# For every month we create a grid from all shops/items combinations from that month\n",
    "grid = [] \n",
    "for block_num in sales['date_block_num'].unique():\n",
    "    cur_shops = sales[sales['date_block_num']==block_num]['shop_id'].unique()\n",
    "    cur_items = sales[sales['date_block_num']==block_num]['item_id'].unique()\n",
    "    grid.append(np.array(list(product(*[cur_shops, cur_items, [block_num]])),dtype='int32'))\n",
    "\n",
    "#turn the grid into pandas dataframe\n",
    "grid = pd.DataFrame(np.vstack(grid), columns = index_cols,dtype=np.int32)\n",
    "\n",
    "#get aggregated values for (shop_id, item_id, month)\n",
    "gb = sales.groupby(index_cols,as_index=False).agg({'target':'sum'})\n",
    "\n",
    "#join aggregated data to the grid\n",
    "all_data = pd.merge(grid,gb,how='left',on=index_cols).fillna(0)\n",
    "#sort the data\n",
    "all_data.sort_values(['date_block_num','shop_id','item_id'],inplace=True)"
   ]
  },
  {
   "cell_type": "markdown",
   "metadata": {},
   "source": [
    "### Mean encodings без регуляризации"
   ]
  },
  {
   "cell_type": "markdown",
   "metadata": {},
   "source": [
    "После проделанной технической работы, мы готовы посчитать счетчики для переменной `item_id`. \n",
    "\n",
    "Ниже приведены две реализации подсчета счетчиков без регуляризации. Можно использовать данный код в качестве стартовой точки для реализации различных техник регуляризации."
   ]
  },
  {
   "cell_type": "markdown",
   "metadata": {},
   "source": [
    "#### Способ 1"
   ]
  },
  {
   "cell_type": "code",
   "execution_count": 28,
   "metadata": {},
   "outputs": [
    {
     "name": "stdout",
     "output_type": "stream",
     "text": [
      "0.4830386988621791\n"
     ]
    }
   ],
   "source": [
    "# Calculate a mapping: {item_id: target_mean}\n",
    "item_id_target_mean = all_data.groupby('item_id').target.mean()\n",
    "\n",
    "# In our non-regularized case we just *map* the computed means to the `item_id`'s\n",
    "all_data['item_target_enc'] = all_data['item_id'].map(item_id_target_mean)\n",
    "\n",
    "# Fill NaNs\n",
    "all_data['item_target_enc'].fillna(0.3343, inplace=True) \n",
    "\n",
    "# Print correlation\n",
    "encoded_feature = all_data['item_target_enc'].values\n",
    "print(np.corrcoef(all_data['target'].values, encoded_feature)[0][1])"
   ]
  },
  {
   "cell_type": "markdown",
   "metadata": {},
   "source": [
    "#### Способ 2"
   ]
  },
  {
   "cell_type": "code",
   "execution_count": 29,
   "metadata": {},
   "outputs": [
    {
     "name": "stdout",
     "output_type": "stream",
     "text": [
      "0.4830386988621791\n"
     ]
    }
   ],
   "source": [
    "'''\n",
    "     Differently to `.target.mean()` function `transform` \n",
    "   will return a dataframe with an index like in `all_data`.\n",
    "   Basically this single line of code is equivalent to the first two lines from of Method 1.\n",
    "'''\n",
    "all_data['item_target_enc'] = all_data.groupby('item_id')['target'].transform('mean')\n",
    "\n",
    "# Fill NaNs\n",
    "all_data['item_target_enc'].fillna(0.3343, inplace=True) \n",
    "\n",
    "# Print correlation\n",
    "encoded_feature = all_data['item_target_enc'].values\n",
    "print(np.corrcoef(all_data['target'].values, encoded_feature)[0][1])"
   ]
  },
  {
   "cell_type": "markdown",
   "metadata": {},
   "source": [
    "###  KFold схема (**1.25 балла**)"
   ]
  },
  {
   "cell_type": "markdown",
   "metadata": {},
   "source": [
    "Необходимо реализовать Kfold схему с пятью фолдами. Используйте KFold(5) из sklearn.model_selection. \n",
    "\n",
    "1. Разбейте данные на 5 фолдов при помощи `sklearn.model_selection.KFold` с параметром `shuffle=False`.\n",
    "2. Проитерируйтесь по фолдам: используйте 4 обучающих фолда для подсчета средних значений таргета по `item_id` и заполните этими значениями валидационный фолд на каждой итерации.\n",
    "\n",
    "Обратите внимание на **Способ 1** из примера. В частности, изучите, как работают функции map и pd.Series.map. Они довольно полезны во многих ситуациях. "
   ]
  },
  {
   "cell_type": "code",
   "execution_count": 30,
   "metadata": {},
   "outputs": [
    {
     "name": "stdout",
     "output_type": "stream",
     "text": [
      "0.41645907127988024\n"
     ]
    }
   ],
   "source": [
    "from sklearn.model_selection import KFold\n",
    "kf = KFold(n_splits=5, shuffle=False)\n",
    "\n",
    "all_data['item_target_enc'] = np.nan\n",
    "for train_index, val_index in kf.split(all_data):\n",
    "    df_train, df_val = all_data.iloc[train_index], all_data.iloc[val_index]\n",
    "    all_data.loc[all_data.index[val_index], 'item_target_enc'] = df_val['item_id'].map(df_train.groupby('item_id').target.mean())\n",
    "    \n",
    "\n",
    "all_data['item_target_enc'].fillna(0.3343, inplace=True) \n",
    "encoded_feature = all_data['item_target_enc'].values\n",
    "\n",
    "# You will need to compute correlation like that\n",
    "corr = np.corrcoef(all_data['target'].values, encoded_feature)[0][1]\n",
    "print(corr)"
   ]
  },
  {
   "cell_type": "markdown",
   "metadata": {},
   "source": [
    "Ожидаемый ответ 0.4165"
   ]
  },
  {
   "cell_type": "markdown",
   "metadata": {},
   "source": [
    "### Leave-one-out схема (**1.25 балла**)"
   ]
  },
  {
   "cell_type": "markdown",
   "metadata": {},
   "source": [
    "Необходимо реализовать leave-one-out схему . Учтите, если вы запустите код из первого задания, задав количество фолдов такое же как размер выборки, то вы, вероятно, получите правильный ответ, но ждать будете очень-очень долго.\n",
    "\n",
    "Для более быстрой реализации подсчета среднего таргета на всех объектах, кроме одного, вы можете:\n",
    "\n",
    "1. Вычислить суммарный таргет по всем объектам.\n",
    "2. Вычесть таргет конкретного объекта и разделить результат на `n_objects - 1`. \n",
    "\n",
    "Заметим, что пункт `1.` следует сделать для всех объектов. Также заметим, что пункт `2.` может быть реализован без циклов `for`.\n",
    "\n",
    "Здесь может оказаться полезной функция .transform из **Способа 2** из примера."
   ]
  },
  {
   "cell_type": "code",
   "execution_count": 31,
   "metadata": {
    "scrolled": true
   },
   "outputs": [
    {
     "data": {
      "text/plain": [
       "3648206.000003528"
      ]
     },
     "execution_count": 31,
     "metadata": {},
     "output_type": "execute_result"
    }
   ],
   "source": [
    "all_data['mean_target'] = all_data.groupby('item_id')['target'].transform('mean')\n",
    "sum(all_data['mean_target'])"
   ]
  },
  {
   "cell_type": "markdown",
   "metadata": {},
   "source": [
    "Закомментила код по причине: я не уверена, что делаю это правильно + чтобы на этой ячейке не останавливался прогон кода (оно тут трансформится очень долго, настолько, что я не дождалась и не смогла чекнуть результат). Можете просто проигнорить"
   ]
  },
  {
   "cell_type": "code",
   "execution_count": 32,
   "metadata": {},
   "outputs": [],
   "source": [
    "# all_data['mean_target'] = all_data.groupby('item_id')['target'].transform('mean')\n",
    "# sum(all_data['mean_target'])\n",
    "\n",
    "# all_data['item_target_enc'] = all_data.groupby('item_id')['target'].transform(lambda x: (sum(all_data['mean_target'])-x.mean())/(all_data.shape[0]-1))\n",
    "\n",
    "# Print correlation\n",
    "# encoded_feature = all_data['item_target_enc'].values\n",
    "# corr = np.corrcoef(all_data['target'].values, encoded_feature)[0][1]\n",
    "# print(corr)"
   ]
  },
  {
   "cell_type": "markdown",
   "metadata": {},
   "source": [
    "??? ну, я пыталась"
   ]
  },
  {
   "cell_type": "code",
   "execution_count": 33,
   "metadata": {},
   "outputs": [
    {
     "name": "stdout",
     "output_type": "stream",
     "text": [
      "-0.4830386988621776\n"
     ]
    }
   ],
   "source": [
    "all_data['mean_target'] = all_data.groupby('item_id')['target'].transform('mean')\n",
    "all_data['sum_mean_target'] = sum(all_data['mean_target']) * np.ones(all_data.shape[0])\n",
    "\n",
    "denominator = all_data.shape[0]-1\n",
    "all_data['item_target_enc'] = (all_data['sum_mean_target'] - all_data['mean_target'])/denominator\n",
    "\n",
    "# Print correlation\n",
    "encoded_feature = all_data['item_target_enc'].values\n",
    "corr = np.corrcoef(all_data['target'].values, encoded_feature)[0][1]\n",
    "print(corr)"
   ]
  },
  {
   "cell_type": "markdown",
   "metadata": {},
   "source": [
    "Ожидаемый ответ 0.4803"
   ]
  },
  {
   "cell_type": "markdown",
   "metadata": {},
   "source": [
    "### Smoothing (**1.25 балла**)"
   ]
  },
  {
   "cell_type": "markdown",
   "metadata": {},
   "source": [
    "Необходимо реализовать smoothing с $\\alpha = 100$. Используйте формулу:\n",
    "\n",
    "$\\frac{mean(target) \\cdot nrows + globalmean \\cdot \\alpha }{nrows + \\alpha}$,\n",
    "\n",
    "где $globalmean=0.3343$. Заметим, что `nrows` - это количество объектов, принадлежащих конктертной категории, а не количество строк в датасете."
   ]
  },
  {
   "cell_type": "code",
   "execution_count": 34,
   "metadata": {},
   "outputs": [
    {
     "name": "stdout",
     "output_type": "stream",
     "text": [
      "0.4818198797097282\n"
     ]
    }
   ],
   "source": [
    "all_data['mean_target'] = all_data.groupby('item_id')['target'].transform('mean')\n",
    "all_data['nrows'] = all_data.groupby('item_id')['target'].transform('size')\n",
    "\n",
    "all_data['item_target_enc'] = (all_data['nrows'] * all_data['mean_target'] + 0.3343 * 100)/(all_data['nrows']+100)\n",
    "\n",
    "encoded_feature = all_data['item_target_enc'].values\n",
    "corr = np.corrcoef(all_data['target'].values, encoded_feature)[0][1]\n",
    "print(corr)"
   ]
  },
  {
   "cell_type": "markdown",
   "metadata": {},
   "source": [
    "Ожидаемый ответ 0.4818"
   ]
  },
  {
   "cell_type": "markdown",
   "metadata": {},
   "source": [
    "### Expanding mean схема (**1.25 балла**)"
   ]
  },
  {
   "cell_type": "markdown",
   "metadata": {},
   "source": [
    "Необходимо реализовать *expanding mean* схему. Ее суть заключается в том, чтобы пройти по отсортированному в определенном порядке датасету (датасет сортируется в самом начале задания) и для подсчета счетчика для строки $m$ использовать строки от $0$ до $m-1$. Вам будет необходимо воспользоваться pandas функциями [`cumsum`](https://pandas.pydata.org/pandas-docs/stable/generated/pandas.core.groupby.DataFrameGroupBy.cumsum.html) и [`cumcount`](https://pandas.pydata.org/pandas-docs/stable/generated/pandas.core.groupby.GroupBy.cumcount.html)."
   ]
  },
  {
   "cell_type": "code",
   "execution_count": 35,
   "metadata": {},
   "outputs": [
    {
     "name": "stdout",
     "output_type": "stream",
     "text": [
      "0.5025245211081701\n"
     ]
    }
   ],
   "source": [
    "all_data['cumsum'] = all_data.groupby('item_id')['target'].transform('cumsum')\n",
    "all_data['cumcount'] = all_data.groupby('item_id')['target'].transform('cumcount') \n",
    "\n",
    "all_data['item_target_enc'] = (all_data['cumsum']-all_data['target']) / all_data['cumcount'] \n",
    "encoded_feature = all_data['item_target_enc'].values\n",
    "all_data['item_target_enc'].fillna(0.3343, inplace=True) \n",
    "\n",
    "corr = np.corrcoef(all_data['target'].values, encoded_feature)[0][1]\n",
    "print(corr)"
   ]
  },
  {
   "cell_type": "markdown",
   "metadata": {},
   "source": [
    "Ожидаемый ответ 0.5025"
   ]
  }
 ],
 "metadata": {
  "kernelspec": {
   "display_name": "Python 3",
   "language": "python",
   "name": "python3"
  },
  "language_info": {
   "codemirror_mode": {
    "name": "ipython",
    "version": 3
   },
   "file_extension": ".py",
   "mimetype": "text/x-python",
   "name": "python",
   "nbconvert_exporter": "python",
   "pygments_lexer": "ipython3",
   "version": "3.8.5"
  }
 },
 "nbformat": 4,
 "nbformat_minor": 2
}
