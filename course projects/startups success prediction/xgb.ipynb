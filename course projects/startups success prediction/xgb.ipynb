{
  "cells": [
    {
      "cell_type": "code",
      "execution_count": 2,
      "metadata": {
        "id": "L3XqBrUYIwxa"
      },
      "outputs": [],
      "source": [
        "import pandas as pd\n",
        "import numpy as np\n",
        "import matplotlib.pyplot as plt\n",
        "\n",
        "import xgboost as xgb\n",
        "\n",
        "from sklearn.model_selection import cross_val_score\n",
        "from sklearn.model_selection import GridSearchCV\n",
        "from sklearn import preprocessing\n",
        "\n",
        "from sklearn.metrics import f1_score\n",
        "from sklearn.metrics import accuracy_score\n",
        "from sklearn.metrics import auc\n",
        "from sklearn.metrics import roc_curve, roc_auc_score"
      ],
      "id": "L3XqBrUYIwxa"
    },
    {
      "cell_type": "code",
      "source": [
        "from google.colab import drive \n",
        "drive.mount('/content/drive')"
      ],
      "metadata": {
        "colab": {
          "base_uri": "https://localhost:8080/"
        },
        "id": "z857Jh4iIyyt",
        "outputId": "6a428013-daf2-4681-bd80-d2298ea8560e"
      },
      "id": "z857Jh4iIyyt",
      "execution_count": 3,
      "outputs": [
        {
          "output_type": "stream",
          "name": "stdout",
          "text": [
            "Mounted at /content/drive\n"
          ]
        }
      ]
    },
    {
      "cell_type": "code",
      "execution_count": 5,
      "metadata": {
        "id": "3vn5wj8AIwxj"
      },
      "outputs": [],
      "source": [
        "test_df = pd.read_csv('/content/drive/My Drive/test_df.csv')\n",
        "train_df = pd.read_csv('/content/drive/My Drive/train_df.csv')"
      ],
      "id": "3vn5wj8AIwxj"
    },
    {
      "cell_type": "code",
      "execution_count": 6,
      "metadata": {
        "scrolled": true,
        "colab": {
          "base_uri": "https://localhost:8080/"
        },
        "id": "pwBzr5FsIwxj",
        "outputId": "7b21ab87-ce89-4532-9abb-c86b7521ab1e"
      },
      "outputs": [
        {
          "output_type": "execute_result",
          "data": {
            "text/plain": [
              "Index(['domain', 'country_code', 'num_funding_rounds', 'total_funding_usd',\n",
              "       'founded_on', 'last_funding_on', 'closed_on', 'employee_count',\n",
              "       'num_exits', 'b_round_raised_amount_usd', 'ipo_money_raised_usd',\n",
              "       'is_tech', 'b_round_age', 'ipo_age', 'acquired_age', 'target'],\n",
              "      dtype='object')"
            ]
          },
          "metadata": {},
          "execution_count": 6
        }
      ],
      "source": [
        "train_df.columns"
      ],
      "id": "pwBzr5FsIwxj"
    },
    {
      "cell_type": "code",
      "source": [
        "train_df.shape, test_df.shape"
      ],
      "metadata": {
        "colab": {
          "base_uri": "https://localhost:8080/"
        },
        "id": "doX-Jgw4KAlT",
        "outputId": "a60a1904-0684-4d58-dcc7-7d39fe136b94"
      },
      "id": "doX-Jgw4KAlT",
      "execution_count": 7,
      "outputs": [
        {
          "output_type": "execute_result",
          "data": {
            "text/plain": [
              "((316566, 16), (105522, 16))"
            ]
          },
          "metadata": {},
          "execution_count": 7
        }
      ]
    },
    {
      "cell_type": "code",
      "execution_count": 8,
      "metadata": {
        "id": "CDfvSZa5Iwxv"
      },
      "outputs": [],
      "source": [
        "y_train = train_df['target']\n",
        "X_train = train_df.drop(['target'], axis = 1)\n",
        "\n",
        "y_test = test_df['target']\n",
        "X_test = test_df.drop(['target'], axis = 1)"
      ],
      "id": "CDfvSZa5Iwxv"
    },
    {
      "cell_type": "code",
      "source": [
        "len(y_train[y_train == 1]) / len(y_train[y_train == 0])"
      ],
      "metadata": {
        "colab": {
          "base_uri": "https://localhost:8080/"
        },
        "id": "kbvfkXlJ3JDp",
        "outputId": "2b67719f-6743-45a1-8e1a-8d4aeea0d690"
      },
      "id": "kbvfkXlJ3JDp",
      "execution_count": 12,
      "outputs": [
        {
          "output_type": "execute_result",
          "data": {
            "text/plain": [
              "0.0646349214890347"
            ]
          },
          "metadata": {},
          "execution_count": 12
        }
      ]
    },
    {
      "cell_type": "code",
      "source": [
        "len(y_train[y_train == 0]) / len(y_train[y_train == 1])"
      ],
      "metadata": {
        "colab": {
          "base_uri": "https://localhost:8080/"
        },
        "id": "OqOzj4mF45mV",
        "outputId": "97e75e1b-13b5-4045-8909-7d6a7c1a0758"
      },
      "id": "OqOzj4mF45mV",
      "execution_count": 13,
      "outputs": [
        {
          "output_type": "execute_result",
          "data": {
            "text/plain": [
              "15.471512565690203"
            ]
          },
          "metadata": {},
          "execution_count": 13
        }
      ]
    },
    {
      "cell_type": "code",
      "source": [
        "param_grid = {'eta': [0.001, 0.01, 0.1],\n",
        "              'max_depth': [5, 10],\n",
        "              'scale_pos_weight': [0.06, 1, 16]\n",
        "              }\n",
        "clf = xgb.XGBClassifier(n_estimators = 100)\n",
        "gridsearch = GridSearchCV(clf, param_grid, scoring='f1', cv=5, verbose=3)\n",
        "\n",
        "gridsearch.fit(X_train, y_train)\n",
        "gridsearch.cv_results_"
      ],
      "metadata": {
        "colab": {
          "base_uri": "https://localhost:8080/"
        },
        "id": "94vV9oEtL0wZ",
        "outputId": "a0611f4d-95da-4a6b-cd08-34fb0ea088b9"
      },
      "id": "94vV9oEtL0wZ",
      "execution_count": 14,
      "outputs": [
        {
          "output_type": "stream",
          "name": "stdout",
          "text": [
            "Fitting 5 folds for each of 18 candidates, totalling 90 fits\n",
            "[CV 1/5] END eta=0.001, max_depth=5, scale_pos_weight=0.06;, score=0.885 total time=  21.2s\n",
            "[CV 2/5] END eta=0.001, max_depth=5, scale_pos_weight=0.06;, score=0.898 total time=  28.0s\n",
            "[CV 3/5] END eta=0.001, max_depth=5, scale_pos_weight=0.06;, score=0.894 total time=  21.0s\n",
            "[CV 4/5] END eta=0.001, max_depth=5, scale_pos_weight=0.06;, score=0.892 total time=  20.8s\n",
            "[CV 5/5] END eta=0.001, max_depth=5, scale_pos_weight=0.06;, score=0.888 total time=  21.1s\n",
            "[CV 1/5] END eta=0.001, max_depth=5, scale_pos_weight=1;, score=0.956 total time=  22.9s\n",
            "[CV 2/5] END eta=0.001, max_depth=5, scale_pos_weight=1;, score=0.957 total time=  21.4s\n",
            "[CV 3/5] END eta=0.001, max_depth=5, scale_pos_weight=1;, score=0.957 total time=  21.5s\n",
            "[CV 4/5] END eta=0.001, max_depth=5, scale_pos_weight=1;, score=0.957 total time=  21.6s\n",
            "[CV 5/5] END eta=0.001, max_depth=5, scale_pos_weight=1;, score=0.958 total time=  21.4s\n",
            "[CV 1/5] END eta=0.001, max_depth=5, scale_pos_weight=16;, score=0.935 total time=  21.2s\n",
            "[CV 2/5] END eta=0.001, max_depth=5, scale_pos_weight=16;, score=0.936 total time=  21.0s\n",
            "[CV 3/5] END eta=0.001, max_depth=5, scale_pos_weight=16;, score=0.925 total time=  21.0s\n",
            "[CV 4/5] END eta=0.001, max_depth=5, scale_pos_weight=16;, score=0.932 total time=  21.4s\n",
            "[CV 5/5] END eta=0.001, max_depth=5, scale_pos_weight=16;, score=0.936 total time=  21.1s\n",
            "[CV 1/5] END eta=0.001, max_depth=10, scale_pos_weight=0.06;, score=0.902 total time=  38.7s\n",
            "[CV 2/5] END eta=0.001, max_depth=10, scale_pos_weight=0.06;, score=0.917 total time=  37.0s\n",
            "[CV 3/5] END eta=0.001, max_depth=10, scale_pos_weight=0.06;, score=0.911 total time=  38.2s\n",
            "[CV 4/5] END eta=0.001, max_depth=10, scale_pos_weight=0.06;, score=0.914 total time=  37.6s\n",
            "[CV 5/5] END eta=0.001, max_depth=10, scale_pos_weight=0.06;, score=0.907 total time=  37.4s\n",
            "[CV 1/5] END eta=0.001, max_depth=10, scale_pos_weight=1;, score=0.955 total time=  51.5s\n",
            "[CV 2/5] END eta=0.001, max_depth=10, scale_pos_weight=1;, score=0.956 total time=  45.3s\n",
            "[CV 3/5] END eta=0.001, max_depth=10, scale_pos_weight=1;, score=0.957 total time=  43.7s\n",
            "[CV 4/5] END eta=0.001, max_depth=10, scale_pos_weight=1;, score=0.957 total time=  44.0s\n",
            "[CV 5/5] END eta=0.001, max_depth=10, scale_pos_weight=1;, score=0.958 total time=  48.4s\n",
            "[CV 1/5] END eta=0.001, max_depth=10, scale_pos_weight=16;, score=0.925 total time=  47.1s\n",
            "[CV 2/5] END eta=0.001, max_depth=10, scale_pos_weight=16;, score=0.941 total time=  44.7s\n",
            "[CV 3/5] END eta=0.001, max_depth=10, scale_pos_weight=16;, score=0.924 total time=  43.3s\n",
            "[CV 4/5] END eta=0.001, max_depth=10, scale_pos_weight=16;, score=0.930 total time=  43.9s\n",
            "[CV 5/5] END eta=0.001, max_depth=10, scale_pos_weight=16;, score=0.932 total time=  42.9s\n",
            "[CV 1/5] END eta=0.01, max_depth=5, scale_pos_weight=0.06;, score=0.885 total time=  30.9s\n",
            "[CV 2/5] END eta=0.01, max_depth=5, scale_pos_weight=0.06;, score=0.898 total time=  40.5s\n",
            "[CV 3/5] END eta=0.01, max_depth=5, scale_pos_weight=0.06;, score=0.894 total time=  25.9s\n",
            "[CV 4/5] END eta=0.01, max_depth=5, scale_pos_weight=0.06;, score=0.892 total time=  24.4s\n",
            "[CV 5/5] END eta=0.01, max_depth=5, scale_pos_weight=0.06;, score=0.888 total time=  20.9s\n",
            "[CV 1/5] END eta=0.01, max_depth=5, scale_pos_weight=1;, score=0.956 total time=  21.7s\n",
            "[CV 2/5] END eta=0.01, max_depth=5, scale_pos_weight=1;, score=0.957 total time=  21.5s\n",
            "[CV 3/5] END eta=0.01, max_depth=5, scale_pos_weight=1;, score=0.957 total time=  21.4s\n",
            "[CV 4/5] END eta=0.01, max_depth=5, scale_pos_weight=1;, score=0.957 total time=  21.7s\n",
            "[CV 5/5] END eta=0.01, max_depth=5, scale_pos_weight=1;, score=0.958 total time=  21.4s\n",
            "[CV 1/5] END eta=0.01, max_depth=5, scale_pos_weight=16;, score=0.935 total time=  21.7s\n",
            "[CV 2/5] END eta=0.01, max_depth=5, scale_pos_weight=16;, score=0.936 total time=  21.0s\n",
            "[CV 3/5] END eta=0.01, max_depth=5, scale_pos_weight=16;, score=0.925 total time=  21.0s\n",
            "[CV 4/5] END eta=0.01, max_depth=5, scale_pos_weight=16;, score=0.932 total time=  22.5s\n",
            "[CV 5/5] END eta=0.01, max_depth=5, scale_pos_weight=16;, score=0.936 total time=  21.2s\n",
            "[CV 1/5] END eta=0.01, max_depth=10, scale_pos_weight=0.06;, score=0.902 total time=  37.1s\n",
            "[CV 2/5] END eta=0.01, max_depth=10, scale_pos_weight=0.06;, score=0.917 total time=  37.1s\n",
            "[CV 3/5] END eta=0.01, max_depth=10, scale_pos_weight=0.06;, score=0.911 total time=  37.6s\n",
            "[CV 4/5] END eta=0.01, max_depth=10, scale_pos_weight=0.06;, score=0.914 total time=  37.4s\n",
            "[CV 5/5] END eta=0.01, max_depth=10, scale_pos_weight=0.06;, score=0.907 total time=  37.5s\n",
            "[CV 1/5] END eta=0.01, max_depth=10, scale_pos_weight=1;, score=0.955 total time=  44.6s\n",
            "[CV 2/5] END eta=0.01, max_depth=10, scale_pos_weight=1;, score=0.956 total time=  43.6s\n",
            "[CV 3/5] END eta=0.01, max_depth=10, scale_pos_weight=1;, score=0.957 total time=  43.6s\n",
            "[CV 4/5] END eta=0.01, max_depth=10, scale_pos_weight=1;, score=0.957 total time=  43.7s\n",
            "[CV 5/5] END eta=0.01, max_depth=10, scale_pos_weight=1;, score=0.958 total time=  43.8s\n",
            "[CV 1/5] END eta=0.01, max_depth=10, scale_pos_weight=16;, score=0.925 total time=  44.7s\n",
            "[CV 2/5] END eta=0.01, max_depth=10, scale_pos_weight=16;, score=0.941 total time=  43.2s\n",
            "[CV 3/5] END eta=0.01, max_depth=10, scale_pos_weight=16;, score=0.924 total time=  43.5s\n",
            "[CV 4/5] END eta=0.01, max_depth=10, scale_pos_weight=16;, score=0.930 total time=  43.4s\n",
            "[CV 5/5] END eta=0.01, max_depth=10, scale_pos_weight=16;, score=0.932 total time=  43.0s\n",
            "[CV 1/5] END eta=0.1, max_depth=5, scale_pos_weight=0.06;, score=0.885 total time=  20.8s\n",
            "[CV 2/5] END eta=0.1, max_depth=5, scale_pos_weight=0.06;, score=0.898 total time=  22.4s\n",
            "[CV 3/5] END eta=0.1, max_depth=5, scale_pos_weight=0.06;, score=0.894 total time=  21.0s\n",
            "[CV 4/5] END eta=0.1, max_depth=5, scale_pos_weight=0.06;, score=0.892 total time=  20.9s\n",
            "[CV 5/5] END eta=0.1, max_depth=5, scale_pos_weight=0.06;, score=0.888 total time=  21.1s\n",
            "[CV 1/5] END eta=0.1, max_depth=5, scale_pos_weight=1;, score=0.956 total time=  21.2s\n",
            "[CV 2/5] END eta=0.1, max_depth=5, scale_pos_weight=1;, score=0.957 total time=  21.6s\n",
            "[CV 3/5] END eta=0.1, max_depth=5, scale_pos_weight=1;, score=0.957 total time=  21.6s\n",
            "[CV 4/5] END eta=0.1, max_depth=5, scale_pos_weight=1;, score=0.957 total time=  21.5s\n",
            "[CV 5/5] END eta=0.1, max_depth=5, scale_pos_weight=1;, score=0.958 total time=  21.6s\n",
            "[CV 1/5] END eta=0.1, max_depth=5, scale_pos_weight=16;, score=0.935 total time=  21.3s\n",
            "[CV 2/5] END eta=0.1, max_depth=5, scale_pos_weight=16;, score=0.936 total time=  22.6s\n",
            "[CV 3/5] END eta=0.1, max_depth=5, scale_pos_weight=16;, score=0.925 total time=  21.2s\n",
            "[CV 4/5] END eta=0.1, max_depth=5, scale_pos_weight=16;, score=0.932 total time=  21.1s\n",
            "[CV 5/5] END eta=0.1, max_depth=5, scale_pos_weight=16;, score=0.936 total time=  21.2s\n",
            "[CV 1/5] END eta=0.1, max_depth=10, scale_pos_weight=0.06;, score=0.902 total time=  37.4s\n",
            "[CV 2/5] END eta=0.1, max_depth=10, scale_pos_weight=0.06;, score=0.917 total time=  37.4s\n",
            "[CV 3/5] END eta=0.1, max_depth=10, scale_pos_weight=0.06;, score=0.911 total time=  37.6s\n",
            "[CV 4/5] END eta=0.1, max_depth=10, scale_pos_weight=0.06;, score=0.914 total time=  37.9s\n",
            "[CV 5/5] END eta=0.1, max_depth=10, scale_pos_weight=0.06;, score=0.907 total time=  38.9s\n",
            "[CV 1/5] END eta=0.1, max_depth=10, scale_pos_weight=1;, score=0.955 total time=  43.2s\n",
            "[CV 2/5] END eta=0.1, max_depth=10, scale_pos_weight=1;, score=0.956 total time=  43.6s\n",
            "[CV 3/5] END eta=0.1, max_depth=10, scale_pos_weight=1;, score=0.957 total time=  43.7s\n",
            "[CV 4/5] END eta=0.1, max_depth=10, scale_pos_weight=1;, score=0.957 total time=  43.9s\n",
            "[CV 5/5] END eta=0.1, max_depth=10, scale_pos_weight=1;, score=0.958 total time=  45.5s\n",
            "[CV 1/5] END eta=0.1, max_depth=10, scale_pos_weight=16;, score=0.925 total time=  44.0s\n",
            "[CV 2/5] END eta=0.1, max_depth=10, scale_pos_weight=16;, score=0.941 total time=  43.6s\n",
            "[CV 3/5] END eta=0.1, max_depth=10, scale_pos_weight=16;, score=0.924 total time=  43.4s\n",
            "[CV 4/5] END eta=0.1, max_depth=10, scale_pos_weight=16;, score=0.930 total time=  43.9s\n",
            "[CV 5/5] END eta=0.1, max_depth=10, scale_pos_weight=16;, score=0.932 total time=  44.7s\n"
          ]
        },
        {
          "output_type": "execute_result",
          "data": {
            "text/plain": [
              "{'mean_fit_time': array([22.23883038, 21.52157722, 20.92474394, 37.49796576, 46.05341454,\n",
              "        43.92359848, 28.23604345, 21.30415258, 21.22422938, 37.06857715,\n",
              "        43.38985963, 43.1251687 , 21.05957117, 21.27891898, 21.25234847,\n",
              "        37.54586258, 43.52861958, 43.47066498]),\n",
              " 'mean_score_time': array([0.20029354, 0.22974648, 0.23844972, 0.28671541, 0.52551041,\n",
              "        0.4581708 , 0.26452389, 0.23307676, 0.24201922, 0.28500338,\n",
              "        0.46224432, 0.45563006, 0.20403056, 0.23171029, 0.24135489,\n",
              "        0.2871172 , 0.47059865, 0.46111789]),\n",
              " 'mean_test_score': array([0.89144288, 0.95699259, 0.93276775, 0.91014385, 0.95663639,\n",
              "        0.9303013 , 0.89144288, 0.95699259, 0.93276775, 0.91014385,\n",
              "        0.95663639, 0.9303013 , 0.89144288, 0.95699259, 0.93276775,\n",
              "        0.91014385, 0.95663639, 0.9303013 ]),\n",
              " 'param_eta': masked_array(data=[0.001, 0.001, 0.001, 0.001, 0.001, 0.001, 0.01, 0.01,\n",
              "                    0.01, 0.01, 0.01, 0.01, 0.1, 0.1, 0.1, 0.1, 0.1, 0.1],\n",
              "              mask=[False, False, False, False, False, False, False, False,\n",
              "                    False, False, False, False, False, False, False, False,\n",
              "                    False, False],\n",
              "        fill_value='?',\n",
              "             dtype=object),\n",
              " 'param_max_depth': masked_array(data=[5, 5, 5, 10, 10, 10, 5, 5, 5, 10, 10, 10, 5, 5, 5, 10,\n",
              "                    10, 10],\n",
              "              mask=[False, False, False, False, False, False, False, False,\n",
              "                    False, False, False, False, False, False, False, False,\n",
              "                    False, False],\n",
              "        fill_value='?',\n",
              "             dtype=object),\n",
              " 'param_scale_pos_weight': masked_array(data=[0.06, 1, 16, 0.06, 1, 16, 0.06, 1, 16, 0.06, 1, 16,\n",
              "                    0.06, 1, 16, 0.06, 1, 16],\n",
              "              mask=[False, False, False, False, False, False, False, False,\n",
              "                    False, False, False, False, False, False, False, False,\n",
              "                    False, False],\n",
              "        fill_value='?',\n",
              "             dtype=object),\n",
              " 'params': [{'eta': 0.001, 'max_depth': 5, 'scale_pos_weight': 0.06},\n",
              "  {'eta': 0.001, 'max_depth': 5, 'scale_pos_weight': 1},\n",
              "  {'eta': 0.001, 'max_depth': 5, 'scale_pos_weight': 16},\n",
              "  {'eta': 0.001, 'max_depth': 10, 'scale_pos_weight': 0.06},\n",
              "  {'eta': 0.001, 'max_depth': 10, 'scale_pos_weight': 1},\n",
              "  {'eta': 0.001, 'max_depth': 10, 'scale_pos_weight': 16},\n",
              "  {'eta': 0.01, 'max_depth': 5, 'scale_pos_weight': 0.06},\n",
              "  {'eta': 0.01, 'max_depth': 5, 'scale_pos_weight': 1},\n",
              "  {'eta': 0.01, 'max_depth': 5, 'scale_pos_weight': 16},\n",
              "  {'eta': 0.01, 'max_depth': 10, 'scale_pos_weight': 0.06},\n",
              "  {'eta': 0.01, 'max_depth': 10, 'scale_pos_weight': 1},\n",
              "  {'eta': 0.01, 'max_depth': 10, 'scale_pos_weight': 16},\n",
              "  {'eta': 0.1, 'max_depth': 5, 'scale_pos_weight': 0.06},\n",
              "  {'eta': 0.1, 'max_depth': 5, 'scale_pos_weight': 1},\n",
              "  {'eta': 0.1, 'max_depth': 5, 'scale_pos_weight': 16},\n",
              "  {'eta': 0.1, 'max_depth': 10, 'scale_pos_weight': 0.06},\n",
              "  {'eta': 0.1, 'max_depth': 10, 'scale_pos_weight': 1},\n",
              "  {'eta': 0.1, 'max_depth': 10, 'scale_pos_weight': 16}],\n",
              " 'rank_test_score': array([16,  1,  7, 13,  4, 10, 16,  1,  7, 13,  4, 10, 16,  1,  7, 13,  4,\n",
              "        10], dtype=int32),\n",
              " 'split0_test_score': array([0.8848869 , 0.95577331, 0.93496458, 0.90189426, 0.95523179,\n",
              "        0.92456677, 0.8848869 , 0.95577331, 0.93496458, 0.90189426,\n",
              "        0.95523179, 0.92456677, 0.8848869 , 0.95577331, 0.93496458,\n",
              "        0.90189426, 0.95523179, 0.92456677]),\n",
              " 'split1_test_score': array([0.8978487 , 0.95659058, 0.93588591, 0.91735192, 0.95615425,\n",
              "        0.94102465, 0.8978487 , 0.95659058, 0.93588591, 0.91735192,\n",
              "        0.95615425, 0.94102465, 0.8978487 , 0.95659058, 0.93588591,\n",
              "        0.91735192, 0.95615425, 0.94102465]),\n",
              " 'split2_test_score': array([0.89429266, 0.95733721, 0.92504756, 0.91080208, 0.95734847,\n",
              "        0.92436548, 0.89429266, 0.95733721, 0.92504756, 0.91080208,\n",
              "        0.95734847, 0.92436548, 0.89429266, 0.95733721, 0.92504756,\n",
              "        0.91080208, 0.95734847, 0.92436548]),\n",
              " 'split3_test_score': array([0.89232089, 0.95693402, 0.93212554, 0.91363192, 0.95653319,\n",
              "        0.92969944, 0.89232089, 0.95693402, 0.93212554, 0.91363192,\n",
              "        0.95653319, 0.92969944, 0.89232089, 0.95693402, 0.93212554,\n",
              "        0.91363192, 0.95653319, 0.92969944]),\n",
              " 'split4_test_score': array([0.88786527, 0.95832782, 0.93581515, 0.90703907, 0.95791424,\n",
              "        0.93185015, 0.88786527, 0.95832782, 0.93581515, 0.90703907,\n",
              "        0.95791424, 0.93185015, 0.88786527, 0.95832782, 0.93581515,\n",
              "        0.90703907, 0.95791424, 0.93185015]),\n",
              " 'std_fit_time': array([2.79038643, 0.55597437, 0.1407245 , 0.58235149, 2.95882518,\n",
              "        1.49943202, 6.73727877, 0.10768482, 0.56810945, 0.21812255,\n",
              "        0.39544705, 0.59808453, 0.5993563 , 0.14045552, 0.55781785,\n",
              "        0.57960849, 0.80401265, 0.46218702]),\n",
              " 'std_score_time': array([0.00310787, 0.00570855, 0.00241004, 0.00329062, 0.10698366,\n",
              "        0.00567074, 0.07809231, 0.00461352, 0.0018169 , 0.00490856,\n",
              "        0.00371648, 0.00446223, 0.00280992, 0.00352143, 0.00328966,\n",
              "        0.00396588, 0.00763836, 0.00393564]),\n",
              " 'std_test_score': array([0.00459797, 0.00084301, 0.0040951 , 0.00533388, 0.00093338,\n",
              "        0.00609705, 0.00459797, 0.00084301, 0.0040951 , 0.00533388,\n",
              "        0.00093338, 0.00609705, 0.00459797, 0.00084301, 0.0040951 ,\n",
              "        0.00533388, 0.00093338, 0.00609705])}"
            ]
          },
          "metadata": {},
          "execution_count": 14
        }
      ]
    },
    {
      "cell_type": "code",
      "source": [
        "print('XGB','\\nbest parameters:', gridsearch.best_params_, '\\nbest score:', gridsearch.best_score_)"
      ],
      "metadata": {
        "colab": {
          "base_uri": "https://localhost:8080/"
        },
        "id": "m7Xv4i6EMuNb",
        "outputId": "f5082398-2732-4e1c-99ce-6fae2fb903dc"
      },
      "id": "m7Xv4i6EMuNb",
      "execution_count": 15,
      "outputs": [
        {
          "output_type": "stream",
          "name": "stdout",
          "text": [
            "XGB \n",
            "best parameters: {'eta': 0.001, 'max_depth': 5, 'scale_pos_weight': 1} \n",
            "best score: 0.9569925862796618\n"
          ]
        }
      ]
    },
    {
      "cell_type": "code",
      "source": [
        "best_clf = xgb.XGBClassifier(n_estimators = 100, eta=0.001, max_depth=5, scale_pos_weight=1) # best params\n",
        "\n",
        "best_clf.fit(X_train, y_train)\n",
        "y_test_pred = best_clf.predict(X_test)\n",
        "\n",
        "print('Accuracy:', accuracy_score(y_test, y_test_pred),\n",
        "      '\\nF1-score:', f1_score(y_test, y_test_pred),\n",
        "      '\\nROC-AUC score:', roc_auc_score(y_test, y_test_pred))"
      ],
      "metadata": {
        "colab": {
          "base_uri": "https://localhost:8080/"
        },
        "id": "XK3Z-w4DOvXJ",
        "outputId": "422990e4-6693-4665-ba90-e32e78fe7f20"
      },
      "id": "XK3Z-w4DOvXJ",
      "execution_count": 16,
      "outputs": [
        {
          "output_type": "stream",
          "name": "stdout",
          "text": [
            "Accuracy: 0.9948257235458009 \n",
            "F1-score: 0.9568584070796461 \n",
            "ROC-AUC score: 0.9699769788372041\n"
          ]
        }
      ]
    },
    {
      "cell_type": "code",
      "source": [
        "from sklearn.metrics import cohen_kappa_score\n",
        "from sklearn.metrics import matthews_corrcoef\n",
        "from sklearn.metrics import average_precision_score"
      ],
      "metadata": {
        "id": "lAaI3gv-5Jko"
      },
      "id": "lAaI3gv-5Jko",
      "execution_count": 17,
      "outputs": []
    },
    {
      "cell_type": "code",
      "source": [
        "print('Average precision:', average_precision_score(y_test, y_test_pred), \n",
        "      '\\nCohen-Kappa coefficient:', cohen_kappa_score(y_test, y_test_pred),\n",
        "      '\\nMatthews coeficient:', matthews_corrcoef(y_test, y_test_pred))"
      ],
      "metadata": {
        "colab": {
          "base_uri": "https://localhost:8080/"
        },
        "id": "NMplq0igF2MG",
        "outputId": "49371c57-2b02-4c97-dcfb-66fafa7a1126"
      },
      "id": "NMplq0igF2MG",
      "execution_count": 18,
      "outputs": [
        {
          "output_type": "stream",
          "name": "stdout",
          "text": [
            "Average precision: 0.919369716965737 \n",
            "Cohen-Kappa coefficient: 0.9541069851558021 \n",
            "Matthews coeficient: 0.9542472765676976\n"
          ]
        }
      ]
    },
    {
      "cell_type": "code",
      "source": [
        "probs = best_clf.predict_proba(X_test)\n",
        "probs"
      ],
      "metadata": {
        "colab": {
          "base_uri": "https://localhost:8080/"
        },
        "id": "he_HeW7tF_rA",
        "outputId": "27e0feb6-5157-47b8-b4a9-9d99de41a432"
      },
      "id": "he_HeW7tF_rA",
      "execution_count": 11,
      "outputs": [
        {
          "output_type": "execute_result",
          "data": {
            "text/plain": [
              "array([[0.9964757 , 0.0035243 ],\n",
              "       [0.9986144 , 0.00138565],\n",
              "       [0.99000853, 0.00999146],\n",
              "       ...,\n",
              "       [0.9983642 , 0.00163577],\n",
              "       [0.9961427 , 0.00385729],\n",
              "       [0.9951352 , 0.00486481]], dtype=float32)"
            ]
          },
          "metadata": {},
          "execution_count": 11
        }
      ]
    },
    {
      "cell_type": "code",
      "source": [
        "probs.T[1] # уверенность модели в положительном классе"
      ],
      "metadata": {
        "colab": {
          "base_uri": "https://localhost:8080/"
        },
        "id": "ELh2VzsPHAJn",
        "outputId": "016ed5f5-be9f-4939-fc76-c7adb4982b4d"
      },
      "id": "ELh2VzsPHAJn",
      "execution_count": 19,
      "outputs": [
        {
          "output_type": "execute_result",
          "data": {
            "text/plain": [
              "array([0.0035243 , 0.00138565, 0.00999146, ..., 0.00163577, 0.00385729,\n",
              "       0.00486481], dtype=float32)"
            ]
          },
          "metadata": {},
          "execution_count": 19
        }
      ]
    },
    {
      "cell_type": "code",
      "source": [
        "fpr, tpr, _ = roc_curve(y_test, probs.T[1])\n",
        "\n",
        "plt.figure(figsize = (10,6))\n",
        "plt.plot(fpr, tpr, color='red', label=\" AUC TEST =\"+str(round(roc_auc_score(y_test, y_test_pred),3)))\n",
        "plt.plot([0, 1], [0, 1], color='darkblue', linestyle='--')\n",
        "plt.xlabel('False Positive Rate')\n",
        "plt.ylabel('True Positive Rate')\n",
        "plt.title('Receiver Operating Characteristic Curve')\n",
        "plt.legend()\n",
        "plt.savefig('logreg.png')\n",
        "plt.show()\n"
      ],
      "metadata": {
        "colab": {
          "base_uri": "https://localhost:8080/",
          "height": 404
        },
        "id": "EB0gvgG8HKfR",
        "outputId": "14494ce7-070c-4491-c2b8-826eff0ac61b"
      },
      "id": "EB0gvgG8HKfR",
      "execution_count": 21,
      "outputs": [
        {
          "output_type": "display_data",
          "data": {
            "text/plain": [
              "<Figure size 720x432 with 1 Axes>"
            ],
            "image/png": "[encoded data removed]"
          },
          "metadata": {
            "needs_background": "light"
          }
        }
      ]
    },
    {
      "cell_type": "markdown",
      "source": [
        ""
      ],
      "metadata": {
        "id": "ddyGjYzkPfoc"
      },
      "id": "ddyGjYzkPfoc"
    },
    {
      "cell_type": "code",
      "execution_count": 22,
      "metadata": {
        "id": "9hdSyeojIwxv"
      },
      "outputs": [],
      "source": [
        "from sklearn import preprocessing\n",
        "scaler = preprocessing.StandardScaler()\n",
        "\n",
        "scaler.fit_transform(X_train)\n",
        "X_scaled_train = scaler.transform(X_train)\n",
        "X_scaled_test = scaler.transform(X_test)"
      ],
      "id": "9hdSyeojIwxv"
    },
    {
      "cell_type": "code",
      "source": [
        "param_grid = {'eta': [0.001, 0.01, 0.1],\n",
        "              'max_depth': [5, 10],\n",
        "              'scale_pos_weight': [1, 15]\n",
        "              }\n",
        "clf = xgb.XGBClassifier(n_estimators = 100)\n",
        "gridsearch = GridSearchCV(clf, param_grid, scoring='f1', cv=5, verbose=3)\n",
        "\n",
        "gridsearch.fit(X_scaled_train, y_train)\n",
        "gridsearch.cv_results_"
      ],
      "metadata": {
        "colab": {
          "base_uri": "https://localhost:8080/"
        },
        "id": "edWrGIe-LJ1E",
        "outputId": "8702f5b5-6f0a-4a45-ae78-327180130113"
      },
      "id": "edWrGIe-LJ1E",
      "execution_count": 26,
      "outputs": [
        {
          "output_type": "stream",
          "name": "stdout",
          "text": [
            "Fitting 5 folds for each of 12 candidates, totalling 60 fits\n",
            "[CV 1/5] END eta=0.001, max_depth=5, scale_pos_weight=1;, score=0.956 total time=  26.0s\n",
            "[CV 2/5] END eta=0.001, max_depth=5, scale_pos_weight=1;, score=0.957 total time=  47.1s\n",
            "[CV 3/5] END eta=0.001, max_depth=5, scale_pos_weight=1;, score=0.957 total time=  34.5s\n",
            "[CV 4/5] END eta=0.001, max_depth=5, scale_pos_weight=1;, score=0.957 total time=  23.8s\n",
            "[CV 5/5] END eta=0.001, max_depth=5, scale_pos_weight=1;, score=0.958 total time=  22.7s\n",
            "[CV 1/5] END eta=0.001, max_depth=5, scale_pos_weight=15;, score=0.937 total time=  21.7s\n",
            "[CV 2/5] END eta=0.001, max_depth=5, scale_pos_weight=15;, score=0.936 total time=  22.1s\n",
            "[CV 3/5] END eta=0.001, max_depth=5, scale_pos_weight=15;, score=0.935 total time=  22.2s\n",
            "[CV 4/5] END eta=0.001, max_depth=5, scale_pos_weight=15;, score=0.940 total time=  22.0s\n",
            "[CV 5/5] END eta=0.001, max_depth=5, scale_pos_weight=15;, score=0.938 total time=  21.7s\n",
            "[CV 1/5] END eta=0.001, max_depth=10, scale_pos_weight=1;, score=0.955 total time=  48.6s\n",
            "[CV 2/5] END eta=0.001, max_depth=10, scale_pos_weight=1;, score=0.956 total time=  45.8s\n",
            "[CV 3/5] END eta=0.001, max_depth=10, scale_pos_weight=1;, score=0.957 total time=  45.8s\n",
            "[CV 4/5] END eta=0.001, max_depth=10, scale_pos_weight=1;, score=0.957 total time=  46.8s\n",
            "[CV 5/5] END eta=0.001, max_depth=10, scale_pos_weight=1;, score=0.958 total time=  46.2s\n",
            "[CV 1/5] END eta=0.001, max_depth=10, scale_pos_weight=15;, score=0.931 total time=  45.0s\n",
            "[CV 2/5] END eta=0.001, max_depth=10, scale_pos_weight=15;, score=0.941 total time=  47.5s\n",
            "[CV 3/5] END eta=0.001, max_depth=10, scale_pos_weight=15;, score=0.928 total time=  46.5s\n",
            "[CV 4/5] END eta=0.001, max_depth=10, scale_pos_weight=15;, score=0.933 total time=  45.6s\n",
            "[CV 5/5] END eta=0.001, max_depth=10, scale_pos_weight=15;, score=0.933 total time=  46.4s\n",
            "[CV 1/5] END eta=0.01, max_depth=5, scale_pos_weight=1;, score=0.956 total time=  22.4s\n",
            "[CV 2/5] END eta=0.01, max_depth=5, scale_pos_weight=1;, score=0.957 total time=  22.4s\n",
            "[CV 3/5] END eta=0.01, max_depth=5, scale_pos_weight=1;, score=0.957 total time=  22.6s\n",
            "[CV 4/5] END eta=0.01, max_depth=5, scale_pos_weight=1;, score=0.957 total time=  22.3s\n",
            "[CV 5/5] END eta=0.01, max_depth=5, scale_pos_weight=1;, score=0.958 total time=  22.2s\n",
            "[CV 1/5] END eta=0.01, max_depth=5, scale_pos_weight=15;, score=0.937 total time=  22.0s\n",
            "[CV 2/5] END eta=0.01, max_depth=5, scale_pos_weight=15;, score=0.936 total time=  23.8s\n",
            "[CV 3/5] END eta=0.01, max_depth=5, scale_pos_weight=15;, score=0.935 total time=  21.8s\n",
            "[CV 4/5] END eta=0.01, max_depth=5, scale_pos_weight=15;, score=0.940 total time=  22.0s\n",
            "[CV 5/5] END eta=0.01, max_depth=5, scale_pos_weight=15;, score=0.938 total time=  22.2s\n",
            "[CV 1/5] END eta=0.01, max_depth=10, scale_pos_weight=1;, score=0.955 total time=  46.2s\n",
            "[CV 2/5] END eta=0.01, max_depth=10, scale_pos_weight=1;, score=0.956 total time=  47.6s\n",
            "[CV 3/5] END eta=0.01, max_depth=10, scale_pos_weight=1;, score=0.957 total time=  46.9s\n",
            "[CV 4/5] END eta=0.01, max_depth=10, scale_pos_weight=1;, score=0.957 total time=  46.9s\n",
            "[CV 5/5] END eta=0.01, max_depth=10, scale_pos_weight=1;, score=0.958 total time=  48.6s\n",
            "[CV 1/5] END eta=0.01, max_depth=10, scale_pos_weight=15;, score=0.931 total time=  46.1s\n",
            "[CV 2/5] END eta=0.01, max_depth=10, scale_pos_weight=15;, score=0.941 total time=  46.1s\n",
            "[CV 3/5] END eta=0.01, max_depth=10, scale_pos_weight=15;, score=0.928 total time=  47.0s\n",
            "[CV 4/5] END eta=0.01, max_depth=10, scale_pos_weight=15;, score=0.933 total time=  47.4s\n",
            "[CV 5/5] END eta=0.01, max_depth=10, scale_pos_weight=15;, score=0.933 total time=  45.7s\n",
            "[CV 1/5] END eta=0.1, max_depth=5, scale_pos_weight=1;, score=0.956 total time=  22.2s\n",
            "[CV 2/5] END eta=0.1, max_depth=5, scale_pos_weight=1;, score=0.957 total time=  24.1s\n",
            "[CV 3/5] END eta=0.1, max_depth=5, scale_pos_weight=1;, score=0.957 total time=  25.2s\n",
            "[CV 4/5] END eta=0.1, max_depth=5, scale_pos_weight=1;, score=0.957 total time=  22.8s\n",
            "[CV 5/5] END eta=0.1, max_depth=5, scale_pos_weight=1;, score=0.958 total time=  23.3s\n",
            "[CV 1/5] END eta=0.1, max_depth=5, scale_pos_weight=15;, score=0.937 total time=  22.8s\n",
            "[CV 2/5] END eta=0.1, max_depth=5, scale_pos_weight=15;, score=0.936 total time=  23.3s\n",
            "[CV 3/5] END eta=0.1, max_depth=5, scale_pos_weight=15;, score=0.935 total time=  22.6s\n",
            "[CV 4/5] END eta=0.1, max_depth=5, scale_pos_weight=15;, score=0.940 total time=  22.2s\n",
            "[CV 5/5] END eta=0.1, max_depth=5, scale_pos_weight=15;, score=0.938 total time=  22.3s\n",
            "[CV 1/5] END eta=0.1, max_depth=10, scale_pos_weight=1;, score=0.955 total time=  46.7s\n",
            "[CV 2/5] END eta=0.1, max_depth=10, scale_pos_weight=1;, score=0.956 total time=  46.3s\n",
            "[CV 3/5] END eta=0.1, max_depth=10, scale_pos_weight=1;, score=0.957 total time=  48.1s\n",
            "[CV 4/5] END eta=0.1, max_depth=10, scale_pos_weight=1;, score=0.957 total time=  46.5s\n",
            "[CV 5/5] END eta=0.1, max_depth=10, scale_pos_weight=1;, score=0.958 total time=  45.9s\n",
            "[CV 1/5] END eta=0.1, max_depth=10, scale_pos_weight=15;, score=0.931 total time=  47.0s\n",
            "[CV 2/5] END eta=0.1, max_depth=10, scale_pos_weight=15;, score=0.941 total time=  47.4s\n",
            "[CV 3/5] END eta=0.1, max_depth=10, scale_pos_weight=15;, score=0.928 total time=  46.6s\n",
            "[CV 4/5] END eta=0.1, max_depth=10, scale_pos_weight=15;, score=0.933 total time=  46.9s\n",
            "[CV 5/5] END eta=0.1, max_depth=10, scale_pos_weight=15;, score=0.933 total time=  46.6s\n"
          ]
        },
        {
          "output_type": "execute_result",
          "data": {
            "text/plain": [
              "{'mean_fit_time': array([30.55334558, 21.67772398, 46.1637126 , 45.73277516, 22.19029937,\n",
              "        22.11392474, 46.75862484, 45.9841795 , 23.30054183, 22.39659901,\n",
              "        46.23529835, 46.44981351]),\n",
              " 'mean_score_time': array([0.26490455, 0.23821635, 0.48015547, 0.48272877, 0.23010983,\n",
              "        0.23819742, 0.47775879, 0.47395039, 0.23431044, 0.24169807,\n",
              "        0.4799067 , 0.46336551]),\n",
              " 'mean_test_score': array([0.95699259, 0.93736941, 0.95666406, 0.93338211, 0.95699259,\n",
              "        0.93736941, 0.95666406, 0.93338211, 0.95699259, 0.93736941,\n",
              "        0.95666406, 0.93338211]),\n",
              " 'param_eta': masked_array(data=[0.001, 0.001, 0.001, 0.001, 0.01, 0.01, 0.01, 0.01,\n",
              "                    0.1, 0.1, 0.1, 0.1],\n",
              "              mask=[False, False, False, False, False, False, False, False,\n",
              "                    False, False, False, False],\n",
              "        fill_value='?',\n",
              "             dtype=object),\n",
              " 'param_max_depth': masked_array(data=[5, 5, 10, 10, 5, 5, 10, 10, 5, 5, 10, 10],\n",
              "              mask=[False, False, False, False, False, False, False, False,\n",
              "                    False, False, False, False],\n",
              "        fill_value='?',\n",
              "             dtype=object),\n",
              " 'param_scale_pos_weight': masked_array(data=[1, 15, 1, 15, 1, 15, 1, 15, 1, 15, 1, 15],\n",
              "              mask=[False, False, False, False, False, False, False, False,\n",
              "                    False, False, False, False],\n",
              "        fill_value='?',\n",
              "             dtype=object),\n",
              " 'params': [{'eta': 0.001, 'max_depth': 5, 'scale_pos_weight': 1},\n",
              "  {'eta': 0.001, 'max_depth': 5, 'scale_pos_weight': 15},\n",
              "  {'eta': 0.001, 'max_depth': 10, 'scale_pos_weight': 1},\n",
              "  {'eta': 0.001, 'max_depth': 10, 'scale_pos_weight': 15},\n",
              "  {'eta': 0.01, 'max_depth': 5, 'scale_pos_weight': 1},\n",
              "  {'eta': 0.01, 'max_depth': 5, 'scale_pos_weight': 15},\n",
              "  {'eta': 0.01, 'max_depth': 10, 'scale_pos_weight': 1},\n",
              "  {'eta': 0.01, 'max_depth': 10, 'scale_pos_weight': 15},\n",
              "  {'eta': 0.1, 'max_depth': 5, 'scale_pos_weight': 1},\n",
              "  {'eta': 0.1, 'max_depth': 5, 'scale_pos_weight': 15},\n",
              "  {'eta': 0.1, 'max_depth': 10, 'scale_pos_weight': 1},\n",
              "  {'eta': 0.1, 'max_depth': 10, 'scale_pos_weight': 15}],\n",
              " 'rank_test_score': array([ 1,  7,  4, 10,  1,  7,  4, 10,  1,  7,  4, 10], dtype=int32),\n",
              " 'split0_test_score': array([0.95577331, 0.93748385, 0.95537015, 0.93097254, 0.95577331,\n",
              "        0.93748385, 0.95537015, 0.93097254, 0.95577331, 0.93748385,\n",
              "        0.95537015, 0.93097254]),\n",
              " 'split1_test_score': array([0.95659058, 0.93647119, 0.95615425, 0.94132851, 0.95659058,\n",
              "        0.93647119, 0.95615425, 0.94132851, 0.95659058, 0.93647119,\n",
              "        0.95615425, 0.94132851]),\n",
              " 'split2_test_score': array([0.95733721, 0.93523516, 0.95734847, 0.92794286, 0.95733721,\n",
              "        0.93523516, 0.95734847, 0.92794286, 0.95733721, 0.93523516,\n",
              "        0.95734847, 0.92794286]),\n",
              " 'split3_test_score': array([0.95693402, 0.93970626, 0.95653319, 0.93336744, 0.95693402,\n",
              "        0.93970626, 0.95653319, 0.93336744, 0.95693402, 0.93970626,\n",
              "        0.95653319, 0.93336744]),\n",
              " 'split4_test_score': array([0.95832782, 0.93795057, 0.95791424, 0.93329919, 0.95832782,\n",
              "        0.93795057, 0.95791424, 0.93329919, 0.95832782, 0.93795057,\n",
              "        0.95791424, 0.93329919]),\n",
              " 'std_fit_time': array([9.09748565, 0.21005534, 1.02134776, 0.80480386, 0.13007704,\n",
              "        0.70838882, 0.80420182, 0.63784944, 1.04603013, 0.38865584,\n",
              "        0.76134485, 0.29002935]),\n",
              " 'std_score_time': array([0.04665051, 0.00663507, 0.01028076, 0.04907122, 0.00849354,\n",
              "        0.00263433, 0.01251929, 0.00985445, 0.00497818, 0.00661053,\n",
              "        0.01685191, 0.01136352]),\n",
              " 'std_test_score': array([0.00084301, 0.00149489, 0.00089248, 0.00443945, 0.00084301,\n",
              "        0.00149489, 0.00089248, 0.00443945, 0.00084301, 0.00149489,\n",
              "        0.00089248, 0.00443945])}"
            ]
          },
          "metadata": {},
          "execution_count": 26
        }
      ]
    },
    {
      "cell_type": "code",
      "source": [
        "print('XGB','\\nbest parameters:', gridsearch.best_params_, '\\nbest score:', gridsearch.best_score_)"
      ],
      "metadata": {
        "colab": {
          "base_uri": "https://localhost:8080/"
        },
        "id": "JmpCOXwJLJyt",
        "outputId": "1bb99f46-d02f-42a8-b971-72621b9822c7"
      },
      "id": "JmpCOXwJLJyt",
      "execution_count": 27,
      "outputs": [
        {
          "output_type": "stream",
          "name": "stdout",
          "text": [
            "XGB \n",
            "best parameters: {'eta': 0.001, 'max_depth': 5, 'scale_pos_weight': 1} \n",
            "best score: 0.9569925862796618\n"
          ]
        }
      ]
    },
    {
      "cell_type": "code",
      "source": [
        "best_clf = xgb.XGBClassifier(n_estimators = 100, eta=0.001, max_depth=5, scale_pos_weight=1) # best params\n",
        "\n",
        "best_clf.fit(X_scaled_train, y_train)\n",
        "y_test_pred = best_clf.predict(X_scaled_test)\n",
        "\n",
        "print('Accuracy:', accuracy_score(y_test, y_test_pred),\n",
        "      '\\nF1-score:', f1_score(y_test, y_test_pred),\n",
        "      '\\nROC-AUC score:', roc_auc_score(y_test, y_test_pred))"
      ],
      "metadata": {
        "colab": {
          "base_uri": "https://localhost:8080/"
        },
        "id": "3IaqvgNFLJwT",
        "outputId": "9b3ac2a8-9afb-40a0-de56-c3a7ae85fc4a"
      },
      "id": "3IaqvgNFLJwT",
      "execution_count": 28,
      "outputs": [
        {
          "output_type": "stream",
          "name": "stdout",
          "text": [
            "Accuracy: 0.9948257235458009 \n",
            "F1-score: 0.9568584070796461 \n",
            "ROC-AUC score: 0.9699769788372041\n"
          ]
        }
      ]
    },
    {
      "cell_type": "code",
      "source": [
        "print('Average precision:', average_precision_score(y_test, y_test_pred), \n",
        "      '\\nCohen-Kappa coefficient:', cohen_kappa_score(y_test, y_test_pred),\n",
        "      '\\nMatthews coeficient:', matthews_corrcoef(y_test, y_test_pred))"
      ],
      "metadata": {
        "id": "W9Gz9cuq9Ibu"
      },
      "id": "W9Gz9cuq9Ibu",
      "execution_count": null,
      "outputs": []
    },
    {
      "cell_type": "code",
      "source": [
        "probs = best_clf.predict_proba(X_scaled_test)\n",
        "probs"
      ],
      "metadata": {
        "colab": {
          "base_uri": "https://localhost:8080/"
        },
        "id": "lwAh169SN4JO",
        "outputId": "c3033453-8286-4aa0-d050-4c1b01675974"
      },
      "id": "lwAh169SN4JO",
      "execution_count": 29,
      "outputs": [
        {
          "output_type": "execute_result",
          "data": {
            "text/plain": [
              "array([[0.9964757 , 0.0035243 ],\n",
              "       [0.9986144 , 0.00138565],\n",
              "       [0.99000853, 0.00999146],\n",
              "       ...,\n",
              "       [0.9983642 , 0.00163577],\n",
              "       [0.9961427 , 0.00385729],\n",
              "       [0.9951352 , 0.00486481]], dtype=float32)"
            ]
          },
          "metadata": {},
          "execution_count": 29
        }
      ]
    },
    {
      "cell_type": "code",
      "source": [
        "fpr, tpr, _ = roc_curve(y_test, probs.T[1])\n",
        "\n",
        "plt.figure(figsize = (10,6))\n",
        "plt.plot(fpr, tpr, color='red', label=\" AUC TEST =\"+str(round(roc_auc_score(y_test, y_test_pred),3)))\n",
        "plt.plot([0, 1], [0, 1], color='darkblue', linestyle='--')\n",
        "plt.xlabel('False Positive Rate')\n",
        "plt.ylabel('True Positive Rate')\n",
        "plt.title('Receiver Operating Characteristic Curve')\n",
        "plt.legend()\n",
        "plt.savefig('logreg.png')\n",
        "plt.show()\n"
      ],
      "metadata": {
        "colab": {
          "base_uri": "https://localhost:8080/",
          "height": 404
        },
        "id": "MH2BjRR8OEEe",
        "outputId": "18d321e4-50c4-484c-df22-9b45d9a46ffd"
      },
      "id": "MH2BjRR8OEEe",
      "execution_count": 30,
      "outputs": [
        {
          "output_type": "display_data",
          "data": {
            "text/plain": [
              "<Figure size 720x432 with 1 Axes>"
            ],
            "image/png": "[encoded data removed]"
          },
          "metadata": {
            "needs_background": "light"
          }
        }
      ]
    }
  ],
  "metadata": {
    "kernelspec": {
      "display_name": "Python 3",
      "language": "python",
      "name": "python3"
    },
    "language_info": {
      "codemirror_mode": {
        "name": "ipython",
        "version": 3
      },
      "file_extension": ".py",
      "mimetype": "text/x-python",
      "name": "python",
      "nbconvert_exporter": "python",
      "pygments_lexer": "ipython3",
      "version": "3.8.5"
    },
    "colab": {
      "name": "xgb.ipynb",
      "provenance": [],
      "collapsed_sections": []
    }
  },
  "nbformat": 4,
  "nbformat_minor": 5
}