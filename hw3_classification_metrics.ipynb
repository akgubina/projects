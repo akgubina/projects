{
 "cells": [
  {
   "cell_type": "markdown",
   "metadata": {},
   "source": [
    "# Домашнее задание: модели классификации и оценка их качества.\n",
    "\n",
    "Будем тренироваться обучать модели классификации и интерпретировать их качество."
   ]
  },
  {
   "cell_type": "markdown",
   "metadata": {},
   "source": [
    "## Часть 1. Обучение моделей классификации (5 баллов). \n",
    "\n",
    "Поработайте с датасетом telecom_churn. Вам предстоит по характеристикам клиента предсказать, уйдет он или нет (целевая колонка - Churn).\n",
    "\n",
    "A. Решите задачу с помощью логистической регрессии:\n",
    "- подберите значение гиперпараметров с помощью GridSearchCV\n",
    "Что вы можете сказать об алгоритме? Он переобучился/недообучился/обучился как надо и вы довольны качеством?\n",
    "\n",
    "B. Решите задачу с помощью метода опорных векторов (с kernel = 'linear'):\n",
    "- подберите значение гиперпараметров с помощью GridSearchCV\n",
    "Что вы можете сказать об алгоритме? Он переобучился/недообучился/обучился как надо и вы довольны качеством?\n",
    "\n",
    "Не забудьте масштабировать данные перед применением линейных моделей.\n",
    "\n",
    "C. Попробуйте увеличить число признаков с помощью добавления полиномиальных признаков. Также можно добавить функции от признаков вручную (те, которые вам кажутся подходящими в данной задаче).\n",
    "Улучшилось ли качество алгоритма?\n",
    "\n",
    "D. Постройте матрицу корреляций признаков. Есть ли признаки, которые практически не коррелируют с целевой переменной? Попробуйте их удалить. Есть ли пары сильно коррелирующих между собой признаков? Удалите по одному признаку из каждой пары.\n",
    "Помогло ли это улучшить качество в данной задаче?\n",
    "\n",
    "Пункты C и D можно скомбинировать для достижения наилучшего качества.\n",
    "\n",
    "E. Сделайте мини-отчет о проведенной работе. Для этого ответьте на вопросы:\n",
    "a) какой классификатор дал наилучший результат? чему равны значения метрик accuracy, f1-score и ROC-AUC? \n",
    "(Вы можете изначально разбить данные на train и test и сравнивать значения метрик на этих выборках; или же можно оценивать качество алгоритмов по кросс-валидации).\n",
    "\n",
    "b) какие новые признаки вы добавили и какие признаки удалили?\n",
    "\n",
    "c) удалось ли добиться того, что алгоритм не переобучился и не недообучился?"
   ]
  },
  {
   "cell_type": "code",
   "execution_count": 1,
   "metadata": {},
   "outputs": [],
   "source": [
    "#!pip install category_encoders"
   ]
  },
  {
   "cell_type": "code",
   "execution_count": 2,
   "metadata": {},
   "outputs": [
    {
     "name": "stdout",
     "output_type": "stream",
     "text": [
      "Populating the interactive namespace from numpy and matplotlib\n"
     ]
    }
   ],
   "source": [
    "import pandas as pd\n",
    "import matplotlib.pyplot as plt\n",
    "import numpy as np\n",
    "\n",
    "from sklearn.preprocessing import LabelEncoder\n",
    "from sklearn.preprocessing import StandardScaler\n",
    "from category_encoders.target_encoder import TargetEncoder\n",
    "from sklearn.model_selection import train_test_split\n",
    "\n",
    "%pylab inline"
   ]
  },
  {
   "cell_type": "code",
   "execution_count": 3,
   "metadata": {},
   "outputs": [
    {
     "data": {
      "text/html": [
       "<div>\n",
       "<style scoped>\n",
       "    .dataframe tbody tr th:only-of-type {\n",
       "        vertical-align: middle;\n",
       "    }\n",
       "\n",
       "    .dataframe tbody tr th {\n",
       "        vertical-align: top;\n",
       "    }\n",
       "\n",
       "    .dataframe thead th {\n",
       "        text-align: right;\n",
       "    }\n",
       "</style>\n",
       "<table border=\"1\" class=\"dataframe\">\n",
       "  <thead>\n",
       "    <tr style=\"text-align: right;\">\n",
       "      <th></th>\n",
       "      <th>State</th>\n",
       "      <th>Account length</th>\n",
       "      <th>Area code</th>\n",
       "      <th>International plan</th>\n",
       "      <th>Voice mail plan</th>\n",
       "      <th>Number vmail messages</th>\n",
       "      <th>Total day minutes</th>\n",
       "      <th>Total day calls</th>\n",
       "      <th>Total day charge</th>\n",
       "      <th>Total eve minutes</th>\n",
       "      <th>Total eve calls</th>\n",
       "      <th>Total eve charge</th>\n",
       "      <th>Total night minutes</th>\n",
       "      <th>Total night calls</th>\n",
       "      <th>Total night charge</th>\n",
       "      <th>Total intl minutes</th>\n",
       "      <th>Total intl calls</th>\n",
       "      <th>Total intl charge</th>\n",
       "      <th>Customer service calls</th>\n",
       "      <th>Churn</th>\n",
       "    </tr>\n",
       "  </thead>\n",
       "  <tbody>\n",
       "    <tr>\n",
       "      <th>0</th>\n",
       "      <td>KS</td>\n",
       "      <td>128</td>\n",
       "      <td>415</td>\n",
       "      <td>No</td>\n",
       "      <td>Yes</td>\n",
       "      <td>25</td>\n",
       "      <td>265.1</td>\n",
       "      <td>110</td>\n",
       "      <td>45.07</td>\n",
       "      <td>197.4</td>\n",
       "      <td>99</td>\n",
       "      <td>16.78</td>\n",
       "      <td>244.7</td>\n",
       "      <td>91</td>\n",
       "      <td>11.01</td>\n",
       "      <td>10.0</td>\n",
       "      <td>3</td>\n",
       "      <td>2.70</td>\n",
       "      <td>1</td>\n",
       "      <td>False</td>\n",
       "    </tr>\n",
       "    <tr>\n",
       "      <th>1</th>\n",
       "      <td>OH</td>\n",
       "      <td>107</td>\n",
       "      <td>415</td>\n",
       "      <td>No</td>\n",
       "      <td>Yes</td>\n",
       "      <td>26</td>\n",
       "      <td>161.6</td>\n",
       "      <td>123</td>\n",
       "      <td>27.47</td>\n",
       "      <td>195.5</td>\n",
       "      <td>103</td>\n",
       "      <td>16.62</td>\n",
       "      <td>254.4</td>\n",
       "      <td>103</td>\n",
       "      <td>11.45</td>\n",
       "      <td>13.7</td>\n",
       "      <td>3</td>\n",
       "      <td>3.70</td>\n",
       "      <td>1</td>\n",
       "      <td>False</td>\n",
       "    </tr>\n",
       "    <tr>\n",
       "      <th>2</th>\n",
       "      <td>NJ</td>\n",
       "      <td>137</td>\n",
       "      <td>415</td>\n",
       "      <td>No</td>\n",
       "      <td>No</td>\n",
       "      <td>0</td>\n",
       "      <td>243.4</td>\n",
       "      <td>114</td>\n",
       "      <td>41.38</td>\n",
       "      <td>121.2</td>\n",
       "      <td>110</td>\n",
       "      <td>10.30</td>\n",
       "      <td>162.6</td>\n",
       "      <td>104</td>\n",
       "      <td>7.32</td>\n",
       "      <td>12.2</td>\n",
       "      <td>5</td>\n",
       "      <td>3.29</td>\n",
       "      <td>0</td>\n",
       "      <td>False</td>\n",
       "    </tr>\n",
       "    <tr>\n",
       "      <th>3</th>\n",
       "      <td>OH</td>\n",
       "      <td>84</td>\n",
       "      <td>408</td>\n",
       "      <td>Yes</td>\n",
       "      <td>No</td>\n",
       "      <td>0</td>\n",
       "      <td>299.4</td>\n",
       "      <td>71</td>\n",
       "      <td>50.90</td>\n",
       "      <td>61.9</td>\n",
       "      <td>88</td>\n",
       "      <td>5.26</td>\n",
       "      <td>196.9</td>\n",
       "      <td>89</td>\n",
       "      <td>8.86</td>\n",
       "      <td>6.6</td>\n",
       "      <td>7</td>\n",
       "      <td>1.78</td>\n",
       "      <td>2</td>\n",
       "      <td>False</td>\n",
       "    </tr>\n",
       "    <tr>\n",
       "      <th>4</th>\n",
       "      <td>OK</td>\n",
       "      <td>75</td>\n",
       "      <td>415</td>\n",
       "      <td>Yes</td>\n",
       "      <td>No</td>\n",
       "      <td>0</td>\n",
       "      <td>166.7</td>\n",
       "      <td>113</td>\n",
       "      <td>28.34</td>\n",
       "      <td>148.3</td>\n",
       "      <td>122</td>\n",
       "      <td>12.61</td>\n",
       "      <td>186.9</td>\n",
       "      <td>121</td>\n",
       "      <td>8.41</td>\n",
       "      <td>10.1</td>\n",
       "      <td>3</td>\n",
       "      <td>2.73</td>\n",
       "      <td>3</td>\n",
       "      <td>False</td>\n",
       "    </tr>\n",
       "  </tbody>\n",
       "</table>\n",
       "</div>"
      ],
      "text/plain": [
       "  State  Account length  Area code International plan Voice mail plan  \\\n",
       "0    KS             128        415                 No             Yes   \n",
       "1    OH             107        415                 No             Yes   \n",
       "2    NJ             137        415                 No              No   \n",
       "3    OH              84        408                Yes              No   \n",
       "4    OK              75        415                Yes              No   \n",
       "\n",
       "   Number vmail messages  Total day minutes  Total day calls  \\\n",
       "0                     25              265.1              110   \n",
       "1                     26              161.6              123   \n",
       "2                      0              243.4              114   \n",
       "3                      0              299.4               71   \n",
       "4                      0              166.7              113   \n",
       "\n",
       "   Total day charge  Total eve minutes  Total eve calls  Total eve charge  \\\n",
       "0             45.07              197.4               99             16.78   \n",
       "1             27.47              195.5              103             16.62   \n",
       "2             41.38              121.2              110             10.30   \n",
       "3             50.90               61.9               88              5.26   \n",
       "4             28.34              148.3              122             12.61   \n",
       "\n",
       "   Total night minutes  Total night calls  Total night charge  \\\n",
       "0                244.7                 91               11.01   \n",
       "1                254.4                103               11.45   \n",
       "2                162.6                104                7.32   \n",
       "3                196.9                 89                8.86   \n",
       "4                186.9                121                8.41   \n",
       "\n",
       "   Total intl minutes  Total intl calls  Total intl charge  \\\n",
       "0                10.0                 3               2.70   \n",
       "1                13.7                 3               3.70   \n",
       "2                12.2                 5               3.29   \n",
       "3                 6.6                 7               1.78   \n",
       "4                10.1                 3               2.73   \n",
       "\n",
       "   Customer service calls  Churn  \n",
       "0                       1  False  \n",
       "1                       1  False  \n",
       "2                       0  False  \n",
       "3                       2  False  \n",
       "4                       3  False  "
      ]
     },
     "execution_count": 3,
     "metadata": {},
     "output_type": "execute_result"
    }
   ],
   "source": [
    "data = pd.read_csv(\"telecom_churn.csv\")\n",
    "data.head()"
   ]
  },
  {
   "cell_type": "code",
   "execution_count": 4,
   "metadata": {},
   "outputs": [
    {
     "data": {
      "text/plain": [
       "(3333, 20)"
      ]
     },
     "execution_count": 4,
     "metadata": {},
     "output_type": "execute_result"
    }
   ],
   "source": [
    "data.shape"
   ]
  },
  {
   "cell_type": "markdown",
   "metadata": {},
   "source": [
    "Сначала предобработка данных: закодирую категориальные и бинарные переменные, закодирую значения целевой переменной в 0(False) и 1(True), масштабирую данные. (Standard Scaler)."
   ]
  },
  {
   "cell_type": "code",
   "execution_count": 5,
   "metadata": {},
   "outputs": [],
   "source": [
    "data['Churn'] = data['Churn'].astype(int)\n",
    "for column in ['International plan', 'Voice mail plan']:\n",
    "    data[column] = (data[column] == 'Yes').astype('int')"
   ]
  },
  {
   "cell_type": "code",
   "execution_count": 6,
   "metadata": {},
   "outputs": [],
   "source": [
    "# data['Churn'].value_counts()"
   ]
  },
  {
   "cell_type": "code",
   "execution_count": 7,
   "metadata": {},
   "outputs": [
    {
     "data": {
      "text/html": [
       "<div>\n",
       "<style scoped>\n",
       "    .dataframe tbody tr th:only-of-type {\n",
       "        vertical-align: middle;\n",
       "    }\n",
       "\n",
       "    .dataframe tbody tr th {\n",
       "        vertical-align: top;\n",
       "    }\n",
       "\n",
       "    .dataframe thead th {\n",
       "        text-align: right;\n",
       "    }\n",
       "</style>\n",
       "<table border=\"1\" class=\"dataframe\">\n",
       "  <thead>\n",
       "    <tr style=\"text-align: right;\">\n",
       "      <th></th>\n",
       "      <th>State</th>\n",
       "      <th>Account length</th>\n",
       "      <th>Area code</th>\n",
       "      <th>International plan</th>\n",
       "      <th>Voice mail plan</th>\n",
       "      <th>Number vmail messages</th>\n",
       "      <th>Total day minutes</th>\n",
       "      <th>Total day calls</th>\n",
       "      <th>Total day charge</th>\n",
       "      <th>Total eve minutes</th>\n",
       "      <th>Total eve calls</th>\n",
       "      <th>Total eve charge</th>\n",
       "      <th>Total night minutes</th>\n",
       "      <th>Total night calls</th>\n",
       "      <th>Total night charge</th>\n",
       "      <th>Total intl minutes</th>\n",
       "      <th>Total intl calls</th>\n",
       "      <th>Total intl charge</th>\n",
       "      <th>Customer service calls</th>\n",
       "      <th>Churn</th>\n",
       "    </tr>\n",
       "  </thead>\n",
       "  <tbody>\n",
       "    <tr>\n",
       "      <th>0</th>\n",
       "      <td>KS</td>\n",
       "      <td>128</td>\n",
       "      <td>415</td>\n",
       "      <td>0</td>\n",
       "      <td>1</td>\n",
       "      <td>25</td>\n",
       "      <td>265.1</td>\n",
       "      <td>110</td>\n",
       "      <td>45.07</td>\n",
       "      <td>197.4</td>\n",
       "      <td>99</td>\n",
       "      <td>16.78</td>\n",
       "      <td>244.7</td>\n",
       "      <td>91</td>\n",
       "      <td>11.01</td>\n",
       "      <td>10.0</td>\n",
       "      <td>3</td>\n",
       "      <td>2.70</td>\n",
       "      <td>1</td>\n",
       "      <td>0</td>\n",
       "    </tr>\n",
       "    <tr>\n",
       "      <th>1</th>\n",
       "      <td>OH</td>\n",
       "      <td>107</td>\n",
       "      <td>415</td>\n",
       "      <td>0</td>\n",
       "      <td>1</td>\n",
       "      <td>26</td>\n",
       "      <td>161.6</td>\n",
       "      <td>123</td>\n",
       "      <td>27.47</td>\n",
       "      <td>195.5</td>\n",
       "      <td>103</td>\n",
       "      <td>16.62</td>\n",
       "      <td>254.4</td>\n",
       "      <td>103</td>\n",
       "      <td>11.45</td>\n",
       "      <td>13.7</td>\n",
       "      <td>3</td>\n",
       "      <td>3.70</td>\n",
       "      <td>1</td>\n",
       "      <td>0</td>\n",
       "    </tr>\n",
       "    <tr>\n",
       "      <th>2</th>\n",
       "      <td>NJ</td>\n",
       "      <td>137</td>\n",
       "      <td>415</td>\n",
       "      <td>0</td>\n",
       "      <td>0</td>\n",
       "      <td>0</td>\n",
       "      <td>243.4</td>\n",
       "      <td>114</td>\n",
       "      <td>41.38</td>\n",
       "      <td>121.2</td>\n",
       "      <td>110</td>\n",
       "      <td>10.30</td>\n",
       "      <td>162.6</td>\n",
       "      <td>104</td>\n",
       "      <td>7.32</td>\n",
       "      <td>12.2</td>\n",
       "      <td>5</td>\n",
       "      <td>3.29</td>\n",
       "      <td>0</td>\n",
       "      <td>0</td>\n",
       "    </tr>\n",
       "    <tr>\n",
       "      <th>3</th>\n",
       "      <td>OH</td>\n",
       "      <td>84</td>\n",
       "      <td>408</td>\n",
       "      <td>1</td>\n",
       "      <td>0</td>\n",
       "      <td>0</td>\n",
       "      <td>299.4</td>\n",
       "      <td>71</td>\n",
       "      <td>50.90</td>\n",
       "      <td>61.9</td>\n",
       "      <td>88</td>\n",
       "      <td>5.26</td>\n",
       "      <td>196.9</td>\n",
       "      <td>89</td>\n",
       "      <td>8.86</td>\n",
       "      <td>6.6</td>\n",
       "      <td>7</td>\n",
       "      <td>1.78</td>\n",
       "      <td>2</td>\n",
       "      <td>0</td>\n",
       "    </tr>\n",
       "    <tr>\n",
       "      <th>4</th>\n",
       "      <td>OK</td>\n",
       "      <td>75</td>\n",
       "      <td>415</td>\n",
       "      <td>1</td>\n",
       "      <td>0</td>\n",
       "      <td>0</td>\n",
       "      <td>166.7</td>\n",
       "      <td>113</td>\n",
       "      <td>28.34</td>\n",
       "      <td>148.3</td>\n",
       "      <td>122</td>\n",
       "      <td>12.61</td>\n",
       "      <td>186.9</td>\n",
       "      <td>121</td>\n",
       "      <td>8.41</td>\n",
       "      <td>10.1</td>\n",
       "      <td>3</td>\n",
       "      <td>2.73</td>\n",
       "      <td>3</td>\n",
       "      <td>0</td>\n",
       "    </tr>\n",
       "    <tr>\n",
       "      <th>...</th>\n",
       "      <td>...</td>\n",
       "      <td>...</td>\n",
       "      <td>...</td>\n",
       "      <td>...</td>\n",
       "      <td>...</td>\n",
       "      <td>...</td>\n",
       "      <td>...</td>\n",
       "      <td>...</td>\n",
       "      <td>...</td>\n",
       "      <td>...</td>\n",
       "      <td>...</td>\n",
       "      <td>...</td>\n",
       "      <td>...</td>\n",
       "      <td>...</td>\n",
       "      <td>...</td>\n",
       "      <td>...</td>\n",
       "      <td>...</td>\n",
       "      <td>...</td>\n",
       "      <td>...</td>\n",
       "      <td>...</td>\n",
       "    </tr>\n",
       "    <tr>\n",
       "      <th>3328</th>\n",
       "      <td>AZ</td>\n",
       "      <td>192</td>\n",
       "      <td>415</td>\n",
       "      <td>0</td>\n",
       "      <td>1</td>\n",
       "      <td>36</td>\n",
       "      <td>156.2</td>\n",
       "      <td>77</td>\n",
       "      <td>26.55</td>\n",
       "      <td>215.5</td>\n",
       "      <td>126</td>\n",
       "      <td>18.32</td>\n",
       "      <td>279.1</td>\n",
       "      <td>83</td>\n",
       "      <td>12.56</td>\n",
       "      <td>9.9</td>\n",
       "      <td>6</td>\n",
       "      <td>2.67</td>\n",
       "      <td>2</td>\n",
       "      <td>0</td>\n",
       "    </tr>\n",
       "    <tr>\n",
       "      <th>3329</th>\n",
       "      <td>WV</td>\n",
       "      <td>68</td>\n",
       "      <td>415</td>\n",
       "      <td>0</td>\n",
       "      <td>0</td>\n",
       "      <td>0</td>\n",
       "      <td>231.1</td>\n",
       "      <td>57</td>\n",
       "      <td>39.29</td>\n",
       "      <td>153.4</td>\n",
       "      <td>55</td>\n",
       "      <td>13.04</td>\n",
       "      <td>191.3</td>\n",
       "      <td>123</td>\n",
       "      <td>8.61</td>\n",
       "      <td>9.6</td>\n",
       "      <td>4</td>\n",
       "      <td>2.59</td>\n",
       "      <td>3</td>\n",
       "      <td>0</td>\n",
       "    </tr>\n",
       "    <tr>\n",
       "      <th>3330</th>\n",
       "      <td>RI</td>\n",
       "      <td>28</td>\n",
       "      <td>510</td>\n",
       "      <td>0</td>\n",
       "      <td>0</td>\n",
       "      <td>0</td>\n",
       "      <td>180.8</td>\n",
       "      <td>109</td>\n",
       "      <td>30.74</td>\n",
       "      <td>288.8</td>\n",
       "      <td>58</td>\n",
       "      <td>24.55</td>\n",
       "      <td>191.9</td>\n",
       "      <td>91</td>\n",
       "      <td>8.64</td>\n",
       "      <td>14.1</td>\n",
       "      <td>6</td>\n",
       "      <td>3.81</td>\n",
       "      <td>2</td>\n",
       "      <td>0</td>\n",
       "    </tr>\n",
       "    <tr>\n",
       "      <th>3331</th>\n",
       "      <td>CT</td>\n",
       "      <td>184</td>\n",
       "      <td>510</td>\n",
       "      <td>1</td>\n",
       "      <td>0</td>\n",
       "      <td>0</td>\n",
       "      <td>213.8</td>\n",
       "      <td>105</td>\n",
       "      <td>36.35</td>\n",
       "      <td>159.6</td>\n",
       "      <td>84</td>\n",
       "      <td>13.57</td>\n",
       "      <td>139.2</td>\n",
       "      <td>137</td>\n",
       "      <td>6.26</td>\n",
       "      <td>5.0</td>\n",
       "      <td>10</td>\n",
       "      <td>1.35</td>\n",
       "      <td>2</td>\n",
       "      <td>0</td>\n",
       "    </tr>\n",
       "    <tr>\n",
       "      <th>3332</th>\n",
       "      <td>TN</td>\n",
       "      <td>74</td>\n",
       "      <td>415</td>\n",
       "      <td>0</td>\n",
       "      <td>1</td>\n",
       "      <td>25</td>\n",
       "      <td>234.4</td>\n",
       "      <td>113</td>\n",
       "      <td>39.85</td>\n",
       "      <td>265.9</td>\n",
       "      <td>82</td>\n",
       "      <td>22.60</td>\n",
       "      <td>241.4</td>\n",
       "      <td>77</td>\n",
       "      <td>10.86</td>\n",
       "      <td>13.7</td>\n",
       "      <td>4</td>\n",
       "      <td>3.70</td>\n",
       "      <td>0</td>\n",
       "      <td>0</td>\n",
       "    </tr>\n",
       "  </tbody>\n",
       "</table>\n",
       "<p>3333 rows × 20 columns</p>\n",
       "</div>"
      ],
      "text/plain": [
       "     State  Account length  Area code  International plan  Voice mail plan  \\\n",
       "0       KS             128        415                   0                1   \n",
       "1       OH             107        415                   0                1   \n",
       "2       NJ             137        415                   0                0   \n",
       "3       OH              84        408                   1                0   \n",
       "4       OK              75        415                   1                0   \n",
       "...    ...             ...        ...                 ...              ...   \n",
       "3328    AZ             192        415                   0                1   \n",
       "3329    WV              68        415                   0                0   \n",
       "3330    RI              28        510                   0                0   \n",
       "3331    CT             184        510                   1                0   \n",
       "3332    TN              74        415                   0                1   \n",
       "\n",
       "      Number vmail messages  Total day minutes  Total day calls  \\\n",
       "0                        25              265.1              110   \n",
       "1                        26              161.6              123   \n",
       "2                         0              243.4              114   \n",
       "3                         0              299.4               71   \n",
       "4                         0              166.7              113   \n",
       "...                     ...                ...              ...   \n",
       "3328                     36              156.2               77   \n",
       "3329                      0              231.1               57   \n",
       "3330                      0              180.8              109   \n",
       "3331                      0              213.8              105   \n",
       "3332                     25              234.4              113   \n",
       "\n",
       "      Total day charge  Total eve minutes  Total eve calls  Total eve charge  \\\n",
       "0                45.07              197.4               99             16.78   \n",
       "1                27.47              195.5              103             16.62   \n",
       "2                41.38              121.2              110             10.30   \n",
       "3                50.90               61.9               88              5.26   \n",
       "4                28.34              148.3              122             12.61   \n",
       "...                ...                ...              ...               ...   \n",
       "3328             26.55              215.5              126             18.32   \n",
       "3329             39.29              153.4               55             13.04   \n",
       "3330             30.74              288.8               58             24.55   \n",
       "3331             36.35              159.6               84             13.57   \n",
       "3332             39.85              265.9               82             22.60   \n",
       "\n",
       "      Total night minutes  Total night calls  Total night charge  \\\n",
       "0                   244.7                 91               11.01   \n",
       "1                   254.4                103               11.45   \n",
       "2                   162.6                104                7.32   \n",
       "3                   196.9                 89                8.86   \n",
       "4                   186.9                121                8.41   \n",
       "...                   ...                ...                 ...   \n",
       "3328                279.1                 83               12.56   \n",
       "3329                191.3                123                8.61   \n",
       "3330                191.9                 91                8.64   \n",
       "3331                139.2                137                6.26   \n",
       "3332                241.4                 77               10.86   \n",
       "\n",
       "      Total intl minutes  Total intl calls  Total intl charge  \\\n",
       "0                   10.0                 3               2.70   \n",
       "1                   13.7                 3               3.70   \n",
       "2                   12.2                 5               3.29   \n",
       "3                    6.6                 7               1.78   \n",
       "4                   10.1                 3               2.73   \n",
       "...                  ...               ...                ...   \n",
       "3328                 9.9                 6               2.67   \n",
       "3329                 9.6                 4               2.59   \n",
       "3330                14.1                 6               3.81   \n",
       "3331                 5.0                10               1.35   \n",
       "3332                13.7                 4               3.70   \n",
       "\n",
       "      Customer service calls  Churn  \n",
       "0                          1      0  \n",
       "1                          1      0  \n",
       "2                          0      0  \n",
       "3                          2      0  \n",
       "4                          3      0  \n",
       "...                      ...    ...  \n",
       "3328                       2      0  \n",
       "3329                       3      0  \n",
       "3330                       2      0  \n",
       "3331                       2      0  \n",
       "3332                       0      0  \n",
       "\n",
       "[3333 rows x 20 columns]"
      ]
     },
     "execution_count": 7,
     "metadata": {},
     "output_type": "execute_result"
    }
   ],
   "source": [
    "data"
   ]
  },
  {
   "cell_type": "code",
   "execution_count": 8,
   "metadata": {},
   "outputs": [
    {
     "data": {
      "text/plain": [
       "WV    106\n",
       "MN     84\n",
       "NY     83\n",
       "AL     80\n",
       "OH     78\n",
       "WI     78\n",
       "OR     78\n",
       "VA     77\n",
       "WY     77\n",
       "CT     74\n",
       "VT     73\n",
       "MI     73\n",
       "ID     73\n",
       "UT     72\n",
       "TX     72\n",
       "IN     71\n",
       "MD     70\n",
       "KS     70\n",
       "NC     68\n",
       "NJ     68\n",
       "MT     68\n",
       "WA     66\n",
       "CO     66\n",
       "NV     66\n",
       "RI     65\n",
       "MS     65\n",
       "MA     65\n",
       "AZ     64\n",
       "MO     63\n",
       "FL     63\n",
       "ND     62\n",
       "NM     62\n",
       "ME     62\n",
       "OK     61\n",
       "DE     61\n",
       "NE     61\n",
       "SC     60\n",
       "SD     60\n",
       "KY     59\n",
       "IL     58\n",
       "NH     56\n",
       "AR     55\n",
       "DC     54\n",
       "GA     54\n",
       "TN     53\n",
       "HI     53\n",
       "AK     52\n",
       "LA     51\n",
       "PA     45\n",
       "IA     44\n",
       "CA     34\n",
       "Name: State, dtype: int64"
      ]
     },
     "execution_count": 8,
     "metadata": {},
     "output_type": "execute_result"
    }
   ],
   "source": [
    "data['State'].value_counts()"
   ]
  },
  {
   "cell_type": "code",
   "execution_count": 9,
   "metadata": {},
   "outputs": [
    {
     "data": {
      "text/html": [
       "<div>\n",
       "<style scoped>\n",
       "    .dataframe tbody tr th:only-of-type {\n",
       "        vertical-align: middle;\n",
       "    }\n",
       "\n",
       "    .dataframe tbody tr th {\n",
       "        vertical-align: top;\n",
       "    }\n",
       "\n",
       "    .dataframe thead th {\n",
       "        text-align: right;\n",
       "    }\n",
       "</style>\n",
       "<table border=\"1\" class=\"dataframe\">\n",
       "  <thead>\n",
       "    <tr style=\"text-align: right;\">\n",
       "      <th></th>\n",
       "      <th>State</th>\n",
       "      <th>Account length</th>\n",
       "      <th>Area code</th>\n",
       "      <th>International plan</th>\n",
       "      <th>Voice mail plan</th>\n",
       "      <th>Number vmail messages</th>\n",
       "      <th>Total day minutes</th>\n",
       "      <th>Total day calls</th>\n",
       "      <th>Total day charge</th>\n",
       "      <th>Total eve minutes</th>\n",
       "      <th>Total eve calls</th>\n",
       "      <th>Total eve charge</th>\n",
       "      <th>Total night minutes</th>\n",
       "      <th>Total night calls</th>\n",
       "      <th>Total night charge</th>\n",
       "      <th>Total intl minutes</th>\n",
       "      <th>Total intl calls</th>\n",
       "      <th>Total intl charge</th>\n",
       "      <th>Customer service calls</th>\n",
       "      <th>Churn</th>\n",
       "    </tr>\n",
       "  </thead>\n",
       "  <tbody>\n",
       "    <tr>\n",
       "      <th>0</th>\n",
       "      <td>0.185714</td>\n",
       "      <td>128</td>\n",
       "      <td>415</td>\n",
       "      <td>0</td>\n",
       "      <td>1</td>\n",
       "      <td>25</td>\n",
       "      <td>265.1</td>\n",
       "      <td>110</td>\n",
       "      <td>45.07</td>\n",
       "      <td>197.4</td>\n",
       "      <td>99</td>\n",
       "      <td>16.78</td>\n",
       "      <td>244.7</td>\n",
       "      <td>91</td>\n",
       "      <td>11.01</td>\n",
       "      <td>10.0</td>\n",
       "      <td>3</td>\n",
       "      <td>2.70</td>\n",
       "      <td>1</td>\n",
       "      <td>0</td>\n",
       "    </tr>\n",
       "    <tr>\n",
       "      <th>1</th>\n",
       "      <td>0.128205</td>\n",
       "      <td>107</td>\n",
       "      <td>415</td>\n",
       "      <td>0</td>\n",
       "      <td>1</td>\n",
       "      <td>26</td>\n",
       "      <td>161.6</td>\n",
       "      <td>123</td>\n",
       "      <td>27.47</td>\n",
       "      <td>195.5</td>\n",
       "      <td>103</td>\n",
       "      <td>16.62</td>\n",
       "      <td>254.4</td>\n",
       "      <td>103</td>\n",
       "      <td>11.45</td>\n",
       "      <td>13.7</td>\n",
       "      <td>3</td>\n",
       "      <td>3.70</td>\n",
       "      <td>1</td>\n",
       "      <td>0</td>\n",
       "    </tr>\n",
       "    <tr>\n",
       "      <th>2</th>\n",
       "      <td>0.264706</td>\n",
       "      <td>137</td>\n",
       "      <td>415</td>\n",
       "      <td>0</td>\n",
       "      <td>0</td>\n",
       "      <td>0</td>\n",
       "      <td>243.4</td>\n",
       "      <td>114</td>\n",
       "      <td>41.38</td>\n",
       "      <td>121.2</td>\n",
       "      <td>110</td>\n",
       "      <td>10.30</td>\n",
       "      <td>162.6</td>\n",
       "      <td>104</td>\n",
       "      <td>7.32</td>\n",
       "      <td>12.2</td>\n",
       "      <td>5</td>\n",
       "      <td>3.29</td>\n",
       "      <td>0</td>\n",
       "      <td>0</td>\n",
       "    </tr>\n",
       "    <tr>\n",
       "      <th>3</th>\n",
       "      <td>0.128205</td>\n",
       "      <td>84</td>\n",
       "      <td>408</td>\n",
       "      <td>1</td>\n",
       "      <td>0</td>\n",
       "      <td>0</td>\n",
       "      <td>299.4</td>\n",
       "      <td>71</td>\n",
       "      <td>50.90</td>\n",
       "      <td>61.9</td>\n",
       "      <td>88</td>\n",
       "      <td>5.26</td>\n",
       "      <td>196.9</td>\n",
       "      <td>89</td>\n",
       "      <td>8.86</td>\n",
       "      <td>6.6</td>\n",
       "      <td>7</td>\n",
       "      <td>1.78</td>\n",
       "      <td>2</td>\n",
       "      <td>0</td>\n",
       "    </tr>\n",
       "    <tr>\n",
       "      <th>4</th>\n",
       "      <td>0.147541</td>\n",
       "      <td>75</td>\n",
       "      <td>415</td>\n",
       "      <td>1</td>\n",
       "      <td>0</td>\n",
       "      <td>0</td>\n",
       "      <td>166.7</td>\n",
       "      <td>113</td>\n",
       "      <td>28.34</td>\n",
       "      <td>148.3</td>\n",
       "      <td>122</td>\n",
       "      <td>12.61</td>\n",
       "      <td>186.9</td>\n",
       "      <td>121</td>\n",
       "      <td>8.41</td>\n",
       "      <td>10.1</td>\n",
       "      <td>3</td>\n",
       "      <td>2.73</td>\n",
       "      <td>3</td>\n",
       "      <td>0</td>\n",
       "    </tr>\n",
       "    <tr>\n",
       "      <th>...</th>\n",
       "      <td>...</td>\n",
       "      <td>...</td>\n",
       "      <td>...</td>\n",
       "      <td>...</td>\n",
       "      <td>...</td>\n",
       "      <td>...</td>\n",
       "      <td>...</td>\n",
       "      <td>...</td>\n",
       "      <td>...</td>\n",
       "      <td>...</td>\n",
       "      <td>...</td>\n",
       "      <td>...</td>\n",
       "      <td>...</td>\n",
       "      <td>...</td>\n",
       "      <td>...</td>\n",
       "      <td>...</td>\n",
       "      <td>...</td>\n",
       "      <td>...</td>\n",
       "      <td>...</td>\n",
       "      <td>...</td>\n",
       "    </tr>\n",
       "    <tr>\n",
       "      <th>3328</th>\n",
       "      <td>0.062500</td>\n",
       "      <td>192</td>\n",
       "      <td>415</td>\n",
       "      <td>0</td>\n",
       "      <td>1</td>\n",
       "      <td>36</td>\n",
       "      <td>156.2</td>\n",
       "      <td>77</td>\n",
       "      <td>26.55</td>\n",
       "      <td>215.5</td>\n",
       "      <td>126</td>\n",
       "      <td>18.32</td>\n",
       "      <td>279.1</td>\n",
       "      <td>83</td>\n",
       "      <td>12.56</td>\n",
       "      <td>9.9</td>\n",
       "      <td>6</td>\n",
       "      <td>2.67</td>\n",
       "      <td>2</td>\n",
       "      <td>0</td>\n",
       "    </tr>\n",
       "    <tr>\n",
       "      <th>3329</th>\n",
       "      <td>0.094340</td>\n",
       "      <td>68</td>\n",
       "      <td>415</td>\n",
       "      <td>0</td>\n",
       "      <td>0</td>\n",
       "      <td>0</td>\n",
       "      <td>231.1</td>\n",
       "      <td>57</td>\n",
       "      <td>39.29</td>\n",
       "      <td>153.4</td>\n",
       "      <td>55</td>\n",
       "      <td>13.04</td>\n",
       "      <td>191.3</td>\n",
       "      <td>123</td>\n",
       "      <td>8.61</td>\n",
       "      <td>9.6</td>\n",
       "      <td>4</td>\n",
       "      <td>2.59</td>\n",
       "      <td>3</td>\n",
       "      <td>0</td>\n",
       "    </tr>\n",
       "    <tr>\n",
       "      <th>3330</th>\n",
       "      <td>0.092308</td>\n",
       "      <td>28</td>\n",
       "      <td>510</td>\n",
       "      <td>0</td>\n",
       "      <td>0</td>\n",
       "      <td>0</td>\n",
       "      <td>180.8</td>\n",
       "      <td>109</td>\n",
       "      <td>30.74</td>\n",
       "      <td>288.8</td>\n",
       "      <td>58</td>\n",
       "      <td>24.55</td>\n",
       "      <td>191.9</td>\n",
       "      <td>91</td>\n",
       "      <td>8.64</td>\n",
       "      <td>14.1</td>\n",
       "      <td>6</td>\n",
       "      <td>3.81</td>\n",
       "      <td>2</td>\n",
       "      <td>0</td>\n",
       "    </tr>\n",
       "    <tr>\n",
       "      <th>3331</th>\n",
       "      <td>0.162162</td>\n",
       "      <td>184</td>\n",
       "      <td>510</td>\n",
       "      <td>1</td>\n",
       "      <td>0</td>\n",
       "      <td>0</td>\n",
       "      <td>213.8</td>\n",
       "      <td>105</td>\n",
       "      <td>36.35</td>\n",
       "      <td>159.6</td>\n",
       "      <td>84</td>\n",
       "      <td>13.57</td>\n",
       "      <td>139.2</td>\n",
       "      <td>137</td>\n",
       "      <td>6.26</td>\n",
       "      <td>5.0</td>\n",
       "      <td>10</td>\n",
       "      <td>1.35</td>\n",
       "      <td>2</td>\n",
       "      <td>0</td>\n",
       "    </tr>\n",
       "    <tr>\n",
       "      <th>3332</th>\n",
       "      <td>0.094340</td>\n",
       "      <td>74</td>\n",
       "      <td>415</td>\n",
       "      <td>0</td>\n",
       "      <td>1</td>\n",
       "      <td>25</td>\n",
       "      <td>234.4</td>\n",
       "      <td>113</td>\n",
       "      <td>39.85</td>\n",
       "      <td>265.9</td>\n",
       "      <td>82</td>\n",
       "      <td>22.60</td>\n",
       "      <td>241.4</td>\n",
       "      <td>77</td>\n",
       "      <td>10.86</td>\n",
       "      <td>13.7</td>\n",
       "      <td>4</td>\n",
       "      <td>3.70</td>\n",
       "      <td>0</td>\n",
       "      <td>0</td>\n",
       "    </tr>\n",
       "  </tbody>\n",
       "</table>\n",
       "<p>3333 rows × 20 columns</p>\n",
       "</div>"
      ],
      "text/plain": [
       "         State  Account length  Area code  International plan  \\\n",
       "0     0.185714             128        415                   0   \n",
       "1     0.128205             107        415                   0   \n",
       "2     0.264706             137        415                   0   \n",
       "3     0.128205              84        408                   1   \n",
       "4     0.147541              75        415                   1   \n",
       "...        ...             ...        ...                 ...   \n",
       "3328  0.062500             192        415                   0   \n",
       "3329  0.094340              68        415                   0   \n",
       "3330  0.092308              28        510                   0   \n",
       "3331  0.162162             184        510                   1   \n",
       "3332  0.094340              74        415                   0   \n",
       "\n",
       "      Voice mail plan  Number vmail messages  Total day minutes  \\\n",
       "0                   1                     25              265.1   \n",
       "1                   1                     26              161.6   \n",
       "2                   0                      0              243.4   \n",
       "3                   0                      0              299.4   \n",
       "4                   0                      0              166.7   \n",
       "...               ...                    ...                ...   \n",
       "3328                1                     36              156.2   \n",
       "3329                0                      0              231.1   \n",
       "3330                0                      0              180.8   \n",
       "3331                0                      0              213.8   \n",
       "3332                1                     25              234.4   \n",
       "\n",
       "      Total day calls  Total day charge  Total eve minutes  Total eve calls  \\\n",
       "0                 110             45.07              197.4               99   \n",
       "1                 123             27.47              195.5              103   \n",
       "2                 114             41.38              121.2              110   \n",
       "3                  71             50.90               61.9               88   \n",
       "4                 113             28.34              148.3              122   \n",
       "...               ...               ...                ...              ...   \n",
       "3328               77             26.55              215.5              126   \n",
       "3329               57             39.29              153.4               55   \n",
       "3330              109             30.74              288.8               58   \n",
       "3331              105             36.35              159.6               84   \n",
       "3332              113             39.85              265.9               82   \n",
       "\n",
       "      Total eve charge  Total night minutes  Total night calls  \\\n",
       "0                16.78                244.7                 91   \n",
       "1                16.62                254.4                103   \n",
       "2                10.30                162.6                104   \n",
       "3                 5.26                196.9                 89   \n",
       "4                12.61                186.9                121   \n",
       "...                ...                  ...                ...   \n",
       "3328             18.32                279.1                 83   \n",
       "3329             13.04                191.3                123   \n",
       "3330             24.55                191.9                 91   \n",
       "3331             13.57                139.2                137   \n",
       "3332             22.60                241.4                 77   \n",
       "\n",
       "      Total night charge  Total intl minutes  Total intl calls  \\\n",
       "0                  11.01                10.0                 3   \n",
       "1                  11.45                13.7                 3   \n",
       "2                   7.32                12.2                 5   \n",
       "3                   8.86                 6.6                 7   \n",
       "4                   8.41                10.1                 3   \n",
       "...                  ...                 ...               ...   \n",
       "3328               12.56                 9.9                 6   \n",
       "3329                8.61                 9.6                 4   \n",
       "3330                8.64                14.1                 6   \n",
       "3331                6.26                 5.0                10   \n",
       "3332               10.86                13.7                 4   \n",
       "\n",
       "      Total intl charge  Customer service calls  Churn  \n",
       "0                  2.70                       1      0  \n",
       "1                  3.70                       1      0  \n",
       "2                  3.29                       0      0  \n",
       "3                  1.78                       2      0  \n",
       "4                  2.73                       3      0  \n",
       "...                 ...                     ...    ...  \n",
       "3328               2.67                       2      0  \n",
       "3329               2.59                       3      0  \n",
       "3330               3.81                       2      0  \n",
       "3331               1.35                       2      0  \n",
       "3332               3.70                       0      0  \n",
       "\n",
       "[3333 rows x 20 columns]"
      ]
     },
     "execution_count": 9,
     "metadata": {},
     "output_type": "execute_result"
    }
   ],
   "source": [
    "tgt_enc = TargetEncoder(smoothing=1)\n",
    "state = tgt_enc.fit_transform(data['State'], data['Churn'])\n",
    "data['State'] = state\n",
    "data"
   ]
  },
  {
   "cell_type": "markdown",
   "metadata": {},
   "source": [
    "Теперь все признаки числовые, гуд"
   ]
  },
  {
   "cell_type": "markdown",
   "metadata": {},
   "source": [
    "Буду считать качество на трейне, среднее качество по кроссвалидации на трейне и качество на тесте."
   ]
  },
  {
   "cell_type": "code",
   "execution_count": 10,
   "metadata": {},
   "outputs": [],
   "source": [
    "y = data['Churn']\n",
    "X = data.drop('Churn', 1)\n",
    "\n",
    "X_train, X_test, y_train, y_test = train_test_split(X, y, test_size=0.3, random_state=690)"
   ]
  },
  {
   "cell_type": "code",
   "execution_count": 11,
   "metadata": {},
   "outputs": [
    {
     "data": {
      "text/html": [
       "<div>\n",
       "<style scoped>\n",
       "    .dataframe tbody tr th:only-of-type {\n",
       "        vertical-align: middle;\n",
       "    }\n",
       "\n",
       "    .dataframe tbody tr th {\n",
       "        vertical-align: top;\n",
       "    }\n",
       "\n",
       "    .dataframe thead th {\n",
       "        text-align: right;\n",
       "    }\n",
       "</style>\n",
       "<table border=\"1\" class=\"dataframe\">\n",
       "  <thead>\n",
       "    <tr style=\"text-align: right;\">\n",
       "      <th></th>\n",
       "      <th>State</th>\n",
       "      <th>Account length</th>\n",
       "      <th>Area code</th>\n",
       "      <th>International plan</th>\n",
       "      <th>Voice mail plan</th>\n",
       "      <th>Number vmail messages</th>\n",
       "      <th>Total day minutes</th>\n",
       "      <th>Total day calls</th>\n",
       "      <th>Total day charge</th>\n",
       "      <th>Total eve minutes</th>\n",
       "      <th>Total eve calls</th>\n",
       "      <th>Total eve charge</th>\n",
       "      <th>Total night minutes</th>\n",
       "      <th>Total night calls</th>\n",
       "      <th>Total night charge</th>\n",
       "      <th>Total intl minutes</th>\n",
       "      <th>Total intl calls</th>\n",
       "      <th>Total intl charge</th>\n",
       "      <th>Customer service calls</th>\n",
       "    </tr>\n",
       "  </thead>\n",
       "  <tbody>\n",
       "    <tr>\n",
       "      <th>2599</th>\n",
       "      <td>0.147541</td>\n",
       "      <td>97</td>\n",
       "      <td>510</td>\n",
       "      <td>0</td>\n",
       "      <td>0</td>\n",
       "      <td>0</td>\n",
       "      <td>225.1</td>\n",
       "      <td>90</td>\n",
       "      <td>38.27</td>\n",
       "      <td>279.5</td>\n",
       "      <td>127</td>\n",
       "      <td>23.76</td>\n",
       "      <td>233.8</td>\n",
       "      <td>103</td>\n",
       "      <td>10.52</td>\n",
       "      <td>8.8</td>\n",
       "      <td>4</td>\n",
       "      <td>2.38</td>\n",
       "      <td>0</td>\n",
       "    </tr>\n",
       "    <tr>\n",
       "      <th>1767</th>\n",
       "      <td>0.100000</td>\n",
       "      <td>115</td>\n",
       "      <td>510</td>\n",
       "      <td>0</td>\n",
       "      <td>1</td>\n",
       "      <td>14</td>\n",
       "      <td>192.3</td>\n",
       "      <td>86</td>\n",
       "      <td>32.69</td>\n",
       "      <td>88.7</td>\n",
       "      <td>90</td>\n",
       "      <td>7.54</td>\n",
       "      <td>229.4</td>\n",
       "      <td>120</td>\n",
       "      <td>10.32</td>\n",
       "      <td>10.5</td>\n",
       "      <td>3</td>\n",
       "      <td>2.84</td>\n",
       "      <td>2</td>\n",
       "    </tr>\n",
       "    <tr>\n",
       "      <th>446</th>\n",
       "      <td>0.250000</td>\n",
       "      <td>88</td>\n",
       "      <td>510</td>\n",
       "      <td>0</td>\n",
       "      <td>0</td>\n",
       "      <td>0</td>\n",
       "      <td>138.3</td>\n",
       "      <td>116</td>\n",
       "      <td>23.51</td>\n",
       "      <td>236.0</td>\n",
       "      <td>138</td>\n",
       "      <td>20.06</td>\n",
       "      <td>179.1</td>\n",
       "      <td>110</td>\n",
       "      <td>8.06</td>\n",
       "      <td>9.6</td>\n",
       "      <td>4</td>\n",
       "      <td>2.59</td>\n",
       "      <td>3</td>\n",
       "    </tr>\n",
       "    <tr>\n",
       "      <th>1716</th>\n",
       "      <td>0.209677</td>\n",
       "      <td>36</td>\n",
       "      <td>510</td>\n",
       "      <td>0</td>\n",
       "      <td>1</td>\n",
       "      <td>25</td>\n",
       "      <td>152.8</td>\n",
       "      <td>110</td>\n",
       "      <td>25.98</td>\n",
       "      <td>242.8</td>\n",
       "      <td>67</td>\n",
       "      <td>20.64</td>\n",
       "      <td>147.4</td>\n",
       "      <td>74</td>\n",
       "      <td>6.63</td>\n",
       "      <td>9.1</td>\n",
       "      <td>2</td>\n",
       "      <td>2.46</td>\n",
       "      <td>1</td>\n",
       "    </tr>\n",
       "    <tr>\n",
       "      <th>1959</th>\n",
       "      <td>0.180723</td>\n",
       "      <td>60</td>\n",
       "      <td>510</td>\n",
       "      <td>0</td>\n",
       "      <td>1</td>\n",
       "      <td>31</td>\n",
       "      <td>191.8</td>\n",
       "      <td>75</td>\n",
       "      <td>32.61</td>\n",
       "      <td>267.8</td>\n",
       "      <td>135</td>\n",
       "      <td>22.76</td>\n",
       "      <td>200.5</td>\n",
       "      <td>62</td>\n",
       "      <td>9.02</td>\n",
       "      <td>12.8</td>\n",
       "      <td>3</td>\n",
       "      <td>3.46</td>\n",
       "      <td>2</td>\n",
       "    </tr>\n",
       "  </tbody>\n",
       "</table>\n",
       "</div>"
      ],
      "text/plain": [
       "         State  Account length  Area code  International plan  \\\n",
       "2599  0.147541              97        510                   0   \n",
       "1767  0.100000             115        510                   0   \n",
       "446   0.250000              88        510                   0   \n",
       "1716  0.209677              36        510                   0   \n",
       "1959  0.180723              60        510                   0   \n",
       "\n",
       "      Voice mail plan  Number vmail messages  Total day minutes  \\\n",
       "2599                0                      0              225.1   \n",
       "1767                1                     14              192.3   \n",
       "446                 0                      0              138.3   \n",
       "1716                1                     25              152.8   \n",
       "1959                1                     31              191.8   \n",
       "\n",
       "      Total day calls  Total day charge  Total eve minutes  Total eve calls  \\\n",
       "2599               90             38.27              279.5              127   \n",
       "1767               86             32.69               88.7               90   \n",
       "446               116             23.51              236.0              138   \n",
       "1716              110             25.98              242.8               67   \n",
       "1959               75             32.61              267.8              135   \n",
       "\n",
       "      Total eve charge  Total night minutes  Total night calls  \\\n",
       "2599             23.76                233.8                103   \n",
       "1767              7.54                229.4                120   \n",
       "446              20.06                179.1                110   \n",
       "1716             20.64                147.4                 74   \n",
       "1959             22.76                200.5                 62   \n",
       "\n",
       "      Total night charge  Total intl minutes  Total intl calls  \\\n",
       "2599               10.52                 8.8                 4   \n",
       "1767               10.32                10.5                 3   \n",
       "446                 8.06                 9.6                 4   \n",
       "1716                6.63                 9.1                 2   \n",
       "1959                9.02                12.8                 3   \n",
       "\n",
       "      Total intl charge  Customer service calls  \n",
       "2599               2.38                       0  \n",
       "1767               2.84                       2  \n",
       "446                2.59                       3  \n",
       "1716               2.46                       1  \n",
       "1959               3.46                       2  "
      ]
     },
     "execution_count": 11,
     "metadata": {},
     "output_type": "execute_result"
    }
   ],
   "source": [
    "X_train.head()"
   ]
  },
  {
   "cell_type": "code",
   "execution_count": 12,
   "metadata": {},
   "outputs": [
    {
     "data": {
      "text/plain": [
       "2333"
      ]
     },
     "execution_count": 12,
     "metadata": {},
     "output_type": "execute_result"
    }
   ],
   "source": [
    "len(X_train)"
   ]
  },
  {
   "cell_type": "code",
   "execution_count": 13,
   "metadata": {},
   "outputs": [
    {
     "data": {
      "text/plain": [
       "Index(['State', 'Account length', 'Area code', 'International plan',\n",
       "       'Voice mail plan', 'Number vmail messages', 'Total day minutes',\n",
       "       'Total day calls', 'Total day charge', 'Total eve minutes',\n",
       "       'Total eve calls', 'Total eve charge', 'Total night minutes',\n",
       "       'Total night calls', 'Total night charge', 'Total intl minutes',\n",
       "       'Total intl calls', 'Total intl charge', 'Customer service calls',\n",
       "       'Churn'],\n",
       "      dtype='object')"
      ]
     },
     "execution_count": 13,
     "metadata": {},
     "output_type": "execute_result"
    }
   ],
   "source": [
    "data.columns"
   ]
  },
  {
   "cell_type": "code",
   "execution_count": 14,
   "metadata": {},
   "outputs": [],
   "source": [
    "# num_cols = ['Account length', 'Area code', 'Number vmail messages', 'Total day minutes',\n",
    "       #'Total day calls', 'Total day charge', 'Total eve minutes',\n",
    "      # 'Total eve calls', 'Total eve charge', 'Total night minutes',\n",
    "      # 'Total night calls', 'Total night charge', 'Total intl minutes',\n",
    "      # 'Total intl calls', 'Total intl charge', 'Customer service calls']\n",
    "#from sklearn.compose import ColumnTransformer\n",
    "\n",
    "#ct = ColumnTransformer([('scaler', StandardScaler(), num_cols)], remainder='passthrough')\n",
    "\n",
    "# забила на выбор колонок, решила скейлить по всей выборке \n",
    "\n",
    "scaler = StandardScaler()\n",
    "X_train = scaler.fit_transform(X_train)\n",
    "X_test = scaler.transform(X_test)"
   ]
  },
  {
   "cell_type": "code",
   "execution_count": 15,
   "metadata": {},
   "outputs": [
    {
     "data": {
      "text/html": [
       "<div>\n",
       "<style scoped>\n",
       "    .dataframe tbody tr th:only-of-type {\n",
       "        vertical-align: middle;\n",
       "    }\n",
       "\n",
       "    .dataframe tbody tr th {\n",
       "        vertical-align: top;\n",
       "    }\n",
       "\n",
       "    .dataframe thead th {\n",
       "        text-align: right;\n",
       "    }\n",
       "</style>\n",
       "<table border=\"1\" class=\"dataframe\">\n",
       "  <thead>\n",
       "    <tr style=\"text-align: right;\">\n",
       "      <th></th>\n",
       "      <th>0</th>\n",
       "      <th>1</th>\n",
       "      <th>2</th>\n",
       "      <th>3</th>\n",
       "      <th>4</th>\n",
       "      <th>5</th>\n",
       "      <th>6</th>\n",
       "      <th>7</th>\n",
       "      <th>8</th>\n",
       "      <th>9</th>\n",
       "      <th>10</th>\n",
       "      <th>11</th>\n",
       "      <th>12</th>\n",
       "      <th>13</th>\n",
       "      <th>14</th>\n",
       "      <th>15</th>\n",
       "      <th>16</th>\n",
       "      <th>17</th>\n",
       "      <th>18</th>\n",
       "    </tr>\n",
       "  </thead>\n",
       "  <tbody>\n",
       "    <tr>\n",
       "      <th>0</th>\n",
       "      <td>0.059316</td>\n",
       "      <td>-0.114970</td>\n",
       "      <td>1.711029</td>\n",
       "      <td>-0.341764</td>\n",
       "      <td>-0.622788</td>\n",
       "      <td>-0.595424</td>\n",
       "      <td>0.827453</td>\n",
       "      <td>-0.531082</td>\n",
       "      <td>0.827720</td>\n",
       "      <td>1.531522</td>\n",
       "      <td>1.350592</td>\n",
       "      <td>1.532061</td>\n",
       "      <td>0.656025</td>\n",
       "      <td>0.155833</td>\n",
       "      <td>0.655532</td>\n",
       "      <td>-0.521229</td>\n",
       "      <td>-0.192378</td>\n",
       "      <td>-0.516556</td>\n",
       "      <td>-1.190539</td>\n",
       "    </tr>\n",
       "    <tr>\n",
       "      <th>1</th>\n",
       "      <td>-0.790489</td>\n",
       "      <td>0.340808</td>\n",
       "      <td>1.711029</td>\n",
       "      <td>-0.341764</td>\n",
       "      <td>1.605684</td>\n",
       "      <td>0.425884</td>\n",
       "      <td>0.226177</td>\n",
       "      <td>-0.730714</td>\n",
       "      <td>0.226012</td>\n",
       "      <td>-2.235464</td>\n",
       "      <td>-0.508335</td>\n",
       "      <td>-2.235392</td>\n",
       "      <td>0.568706</td>\n",
       "      <td>1.030265</td>\n",
       "      <td>0.567331</td>\n",
       "      <td>0.089010</td>\n",
       "      <td>-0.593465</td>\n",
       "      <td>0.095061</td>\n",
       "      <td>0.333064</td>\n",
       "    </tr>\n",
       "    <tr>\n",
       "      <th>2</th>\n",
       "      <td>1.890792</td>\n",
       "      <td>-0.342860</td>\n",
       "      <td>1.711029</td>\n",
       "      <td>-0.341764</td>\n",
       "      <td>-0.622788</td>\n",
       "      <td>-0.595424</td>\n",
       "      <td>-0.763727</td>\n",
       "      <td>0.766524</td>\n",
       "      <td>-0.763894</td>\n",
       "      <td>0.672697</td>\n",
       "      <td>1.903246</td>\n",
       "      <td>0.672654</td>\n",
       "      <td>-0.429518</td>\n",
       "      <td>0.515893</td>\n",
       "      <td>-0.429343</td>\n",
       "      <td>-0.234058</td>\n",
       "      <td>-0.192378</td>\n",
       "      <td>-0.237339</td>\n",
       "      <td>1.094865</td>\n",
       "    </tr>\n",
       "    <tr>\n",
       "      <th>3</th>\n",
       "      <td>1.170017</td>\n",
       "      <td>-1.659553</td>\n",
       "      <td>1.711029</td>\n",
       "      <td>-0.341764</td>\n",
       "      <td>1.605684</td>\n",
       "      <td>1.228340</td>\n",
       "      <td>-0.497919</td>\n",
       "      <td>0.467077</td>\n",
       "      <td>-0.497547</td>\n",
       "      <td>0.806950</td>\n",
       "      <td>-1.663884</td>\n",
       "      <td>0.807372</td>\n",
       "      <td>-1.058618</td>\n",
       "      <td>-1.335845</td>\n",
       "      <td>-1.059982</td>\n",
       "      <td>-0.413540</td>\n",
       "      <td>-0.994553</td>\n",
       "      <td>-0.410188</td>\n",
       "      <td>-0.428738</td>\n",
       "    </tr>\n",
       "    <tr>\n",
       "      <th>4</th>\n",
       "      <td>0.652449</td>\n",
       "      <td>-1.051849</td>\n",
       "      <td>1.711029</td>\n",
       "      <td>-0.341764</td>\n",
       "      <td>1.605684</td>\n",
       "      <td>1.666043</td>\n",
       "      <td>0.217012</td>\n",
       "      <td>-1.279701</td>\n",
       "      <td>0.217386</td>\n",
       "      <td>1.300528</td>\n",
       "      <td>1.752522</td>\n",
       "      <td>1.299789</td>\n",
       "      <td>-0.004827</td>\n",
       "      <td>-1.953091</td>\n",
       "      <td>-0.005977</td>\n",
       "      <td>0.914629</td>\n",
       "      <td>-0.593465</td>\n",
       "      <td>0.919415</td>\n",
       "      <td>0.333064</td>\n",
       "    </tr>\n",
       "    <tr>\n",
       "      <th>...</th>\n",
       "      <td>...</td>\n",
       "      <td>...</td>\n",
       "      <td>...</td>\n",
       "      <td>...</td>\n",
       "      <td>...</td>\n",
       "      <td>...</td>\n",
       "      <td>...</td>\n",
       "      <td>...</td>\n",
       "      <td>...</td>\n",
       "      <td>...</td>\n",
       "      <td>...</td>\n",
       "      <td>...</td>\n",
       "      <td>...</td>\n",
       "      <td>...</td>\n",
       "      <td>...</td>\n",
       "      <td>...</td>\n",
       "      <td>...</td>\n",
       "      <td>...</td>\n",
       "      <td>...</td>\n",
       "    </tr>\n",
       "    <tr>\n",
       "      <th>2328</th>\n",
       "      <td>-1.546747</td>\n",
       "      <td>0.340808</td>\n",
       "      <td>-0.526874</td>\n",
       "      <td>-0.341764</td>\n",
       "      <td>-0.622788</td>\n",
       "      <td>-0.595424</td>\n",
       "      <td>1.195917</td>\n",
       "      <td>0.217537</td>\n",
       "      <td>1.195431</td>\n",
       "      <td>-0.847523</td>\n",
       "      <td>0.446249</td>\n",
       "      <td>-0.846405</td>\n",
       "      <td>0.578628</td>\n",
       "      <td>-1.335845</td>\n",
       "      <td>0.580561</td>\n",
       "      <td>-1.095573</td>\n",
       "      <td>1.411973</td>\n",
       "      <td>-1.101581</td>\n",
       "      <td>-1.190539</td>\n",
       "    </tr>\n",
       "    <tr>\n",
       "      <th>2329</th>\n",
       "      <td>1.890792</td>\n",
       "      <td>1.277687</td>\n",
       "      <td>-0.526874</td>\n",
       "      <td>-0.341764</td>\n",
       "      <td>-0.622788</td>\n",
       "      <td>-0.595424</td>\n",
       "      <td>-0.705066</td>\n",
       "      <td>0.067813</td>\n",
       "      <td>-0.704586</td>\n",
       "      <td>1.205761</td>\n",
       "      <td>-0.307370</td>\n",
       "      <td>1.206880</td>\n",
       "      <td>0.126153</td>\n",
       "      <td>0.670204</td>\n",
       "      <td>0.126325</td>\n",
       "      <td>-2.459638</td>\n",
       "      <td>-0.192378</td>\n",
       "      <td>-2.457775</td>\n",
       "      <td>0.333064</td>\n",
       "    </tr>\n",
       "    <tr>\n",
       "      <th>2330</th>\n",
       "      <td>0.613992</td>\n",
       "      <td>0.518056</td>\n",
       "      <td>-0.526874</td>\n",
       "      <td>-0.341764</td>\n",
       "      <td>-0.622788</td>\n",
       "      <td>-0.595424</td>\n",
       "      <td>-0.730730</td>\n",
       "      <td>0.966156</td>\n",
       "      <td>-0.730466</td>\n",
       "      <td>0.581879</td>\n",
       "      <td>1.400833</td>\n",
       "      <td>0.582068</td>\n",
       "      <td>-0.250910</td>\n",
       "      <td>1.390325</td>\n",
       "      <td>-0.252941</td>\n",
       "      <td>0.340285</td>\n",
       "      <td>0.208710</td>\n",
       "      <td>0.334390</td>\n",
       "      <td>0.333064</td>\n",
       "    </tr>\n",
       "    <tr>\n",
       "      <th>2331</th>\n",
       "      <td>-0.848151</td>\n",
       "      <td>0.518056</td>\n",
       "      <td>-0.691773</td>\n",
       "      <td>-0.341764</td>\n",
       "      <td>1.605684</td>\n",
       "      <td>1.082439</td>\n",
       "      <td>-0.838886</td>\n",
       "      <td>-0.780621</td>\n",
       "      <td>-0.839377</td>\n",
       "      <td>0.500932</td>\n",
       "      <td>1.601799</td>\n",
       "      <td>0.500773</td>\n",
       "      <td>-1.554753</td>\n",
       "      <td>-0.204227</td>\n",
       "      <td>-1.553909</td>\n",
       "      <td>-0.628919</td>\n",
       "      <td>-0.994553</td>\n",
       "      <td>-0.622924</td>\n",
       "      <td>0.333064</td>\n",
       "    </tr>\n",
       "    <tr>\n",
       "      <th>2332</th>\n",
       "      <td>1.890792</td>\n",
       "      <td>1.708144</td>\n",
       "      <td>-0.691773</td>\n",
       "      <td>-0.341764</td>\n",
       "      <td>-0.622788</td>\n",
       "      <td>-0.595424</td>\n",
       "      <td>1.590045</td>\n",
       "      <td>0.217537</td>\n",
       "      <td>1.590099</td>\n",
       "      <td>-0.863317</td>\n",
       "      <td>-0.608817</td>\n",
       "      <td>-0.862664</td>\n",
       "      <td>1.725693</td>\n",
       "      <td>0.567330</td>\n",
       "      <td>1.727177</td>\n",
       "      <td>1.273593</td>\n",
       "      <td>-0.593465</td>\n",
       "      <td>1.278407</td>\n",
       "      <td>1.094865</td>\n",
       "    </tr>\n",
       "  </tbody>\n",
       "</table>\n",
       "<p>2333 rows × 19 columns</p>\n",
       "</div>"
      ],
      "text/plain": [
       "            0         1         2         3         4         5         6   \\\n",
       "0     0.059316 -0.114970  1.711029 -0.341764 -0.622788 -0.595424  0.827453   \n",
       "1    -0.790489  0.340808  1.711029 -0.341764  1.605684  0.425884  0.226177   \n",
       "2     1.890792 -0.342860  1.711029 -0.341764 -0.622788 -0.595424 -0.763727   \n",
       "3     1.170017 -1.659553  1.711029 -0.341764  1.605684  1.228340 -0.497919   \n",
       "4     0.652449 -1.051849  1.711029 -0.341764  1.605684  1.666043  0.217012   \n",
       "...        ...       ...       ...       ...       ...       ...       ...   \n",
       "2328 -1.546747  0.340808 -0.526874 -0.341764 -0.622788 -0.595424  1.195917   \n",
       "2329  1.890792  1.277687 -0.526874 -0.341764 -0.622788 -0.595424 -0.705066   \n",
       "2330  0.613992  0.518056 -0.526874 -0.341764 -0.622788 -0.595424 -0.730730   \n",
       "2331 -0.848151  0.518056 -0.691773 -0.341764  1.605684  1.082439 -0.838886   \n",
       "2332  1.890792  1.708144 -0.691773 -0.341764 -0.622788 -0.595424  1.590045   \n",
       "\n",
       "            7         8         9         10        11        12        13  \\\n",
       "0    -0.531082  0.827720  1.531522  1.350592  1.532061  0.656025  0.155833   \n",
       "1    -0.730714  0.226012 -2.235464 -0.508335 -2.235392  0.568706  1.030265   \n",
       "2     0.766524 -0.763894  0.672697  1.903246  0.672654 -0.429518  0.515893   \n",
       "3     0.467077 -0.497547  0.806950 -1.663884  0.807372 -1.058618 -1.335845   \n",
       "4    -1.279701  0.217386  1.300528  1.752522  1.299789 -0.004827 -1.953091   \n",
       "...        ...       ...       ...       ...       ...       ...       ...   \n",
       "2328  0.217537  1.195431 -0.847523  0.446249 -0.846405  0.578628 -1.335845   \n",
       "2329  0.067813 -0.704586  1.205761 -0.307370  1.206880  0.126153  0.670204   \n",
       "2330  0.966156 -0.730466  0.581879  1.400833  0.582068 -0.250910  1.390325   \n",
       "2331 -0.780621 -0.839377  0.500932  1.601799  0.500773 -1.554753 -0.204227   \n",
       "2332  0.217537  1.590099 -0.863317 -0.608817 -0.862664  1.725693  0.567330   \n",
       "\n",
       "            14        15        16        17        18  \n",
       "0     0.655532 -0.521229 -0.192378 -0.516556 -1.190539  \n",
       "1     0.567331  0.089010 -0.593465  0.095061  0.333064  \n",
       "2    -0.429343 -0.234058 -0.192378 -0.237339  1.094865  \n",
       "3    -1.059982 -0.413540 -0.994553 -0.410188 -0.428738  \n",
       "4    -0.005977  0.914629 -0.593465  0.919415  0.333064  \n",
       "...        ...       ...       ...       ...       ...  \n",
       "2328  0.580561 -1.095573  1.411973 -1.101581 -1.190539  \n",
       "2329  0.126325 -2.459638 -0.192378 -2.457775  0.333064  \n",
       "2330 -0.252941  0.340285  0.208710  0.334390  0.333064  \n",
       "2331 -1.553909 -0.628919 -0.994553 -0.622924  0.333064  \n",
       "2332  1.727177  1.273593 -0.593465  1.278407  1.094865  \n",
       "\n",
       "[2333 rows x 19 columns]"
      ]
     },
     "execution_count": 15,
     "metadata": {},
     "output_type": "execute_result"
    }
   ],
   "source": [
    "pd.DataFrame(X_train)"
   ]
  },
  {
   "cell_type": "code",
   "execution_count": 16,
   "metadata": {},
   "outputs": [
    {
     "data": {
      "text/html": [
       "<div>\n",
       "<style scoped>\n",
       "    .dataframe tbody tr th:only-of-type {\n",
       "        vertical-align: middle;\n",
       "    }\n",
       "\n",
       "    .dataframe tbody tr th {\n",
       "        vertical-align: top;\n",
       "    }\n",
       "\n",
       "    .dataframe thead th {\n",
       "        text-align: right;\n",
       "    }\n",
       "</style>\n",
       "<table border=\"1\" class=\"dataframe\">\n",
       "  <thead>\n",
       "    <tr style=\"text-align: right;\">\n",
       "      <th></th>\n",
       "      <th>0</th>\n",
       "      <th>1</th>\n",
       "      <th>2</th>\n",
       "      <th>3</th>\n",
       "      <th>4</th>\n",
       "      <th>5</th>\n",
       "      <th>6</th>\n",
       "      <th>7</th>\n",
       "      <th>8</th>\n",
       "      <th>9</th>\n",
       "      <th>10</th>\n",
       "      <th>11</th>\n",
       "      <th>12</th>\n",
       "      <th>13</th>\n",
       "      <th>14</th>\n",
       "      <th>15</th>\n",
       "      <th>16</th>\n",
       "      <th>17</th>\n",
       "      <th>18</th>\n",
       "    </tr>\n",
       "  </thead>\n",
       "  <tbody>\n",
       "    <tr>\n",
       "      <th>0</th>\n",
       "      <td>1.102180</td>\n",
       "      <td>-1.862122</td>\n",
       "      <td>-0.526874</td>\n",
       "      <td>-0.341764</td>\n",
       "      <td>-0.622788</td>\n",
       "      <td>-0.595424</td>\n",
       "      <td>-1.068030</td>\n",
       "      <td>-2.627214</td>\n",
       "      <td>-1.067983</td>\n",
       "      <td>-1.502994</td>\n",
       "      <td>0.596973</td>\n",
       "      <td>-1.503735</td>\n",
       "      <td>1.207728</td>\n",
       "      <td>1.133139</td>\n",
       "      <td>1.206790</td>\n",
       "      <td>-0.700712</td>\n",
       "      <td>-0.994553</td>\n",
       "      <td>-0.702700</td>\n",
       "      <td>3.380268</td>\n",
       "    </tr>\n",
       "    <tr>\n",
       "      <th>1</th>\n",
       "      <td>1.102180</td>\n",
       "      <td>-1.051849</td>\n",
       "      <td>-0.691773</td>\n",
       "      <td>-0.341764</td>\n",
       "      <td>-0.622788</td>\n",
       "      <td>-0.595424</td>\n",
       "      <td>1.333404</td>\n",
       "      <td>-0.181726</td>\n",
       "      <td>1.333457</td>\n",
       "      <td>0.378524</td>\n",
       "      <td>1.049145</td>\n",
       "      <td>0.377669</td>\n",
       "      <td>-1.802820</td>\n",
       "      <td>0.001521</td>\n",
       "      <td>-1.800872</td>\n",
       "      <td>0.771043</td>\n",
       "      <td>-0.192378</td>\n",
       "      <td>0.773158</td>\n",
       "      <td>0.333064</td>\n",
       "    </tr>\n",
       "    <tr>\n",
       "      <th>2</th>\n",
       "      <td>2.153662</td>\n",
       "      <td>0.290166</td>\n",
       "      <td>-0.526874</td>\n",
       "      <td>-0.341764</td>\n",
       "      <td>-0.622788</td>\n",
       "      <td>-0.595424</td>\n",
       "      <td>0.140019</td>\n",
       "      <td>-0.181726</td>\n",
       "      <td>0.139746</td>\n",
       "      <td>0.123838</td>\n",
       "      <td>0.898421</td>\n",
       "      <td>0.124492</td>\n",
       "      <td>-0.830395</td>\n",
       "      <td>0.052958</td>\n",
       "      <td>-0.830659</td>\n",
       "      <td>-0.557126</td>\n",
       "      <td>0.609797</td>\n",
       "      <td>-0.556444</td>\n",
       "      <td>0.333064</td>\n",
       "    </tr>\n",
       "    <tr>\n",
       "      <th>3</th>\n",
       "      <td>1.890792</td>\n",
       "      <td>0.720624</td>\n",
       "      <td>-0.691773</td>\n",
       "      <td>-0.341764</td>\n",
       "      <td>-0.622788</td>\n",
       "      <td>-0.595424</td>\n",
       "      <td>1.320571</td>\n",
       "      <td>0.017905</td>\n",
       "      <td>1.320517</td>\n",
       "      <td>-0.626400</td>\n",
       "      <td>0.245284</td>\n",
       "      <td>-0.625747</td>\n",
       "      <td>0.167828</td>\n",
       "      <td>-1.850217</td>\n",
       "      <td>0.166015</td>\n",
       "      <td>-1.634020</td>\n",
       "      <td>0.208710</td>\n",
       "      <td>-1.633422</td>\n",
       "      <td>-1.190539</td>\n",
       "    </tr>\n",
       "    <tr>\n",
       "      <th>4</th>\n",
       "      <td>-0.891669</td>\n",
       "      <td>0.163561</td>\n",
       "      <td>-0.691773</td>\n",
       "      <td>-0.341764</td>\n",
       "      <td>1.605684</td>\n",
       "      <td>0.498834</td>\n",
       "      <td>-0.272441</td>\n",
       "      <td>-0.780621</td>\n",
       "      <td>-0.272176</td>\n",
       "      <td>1.284733</td>\n",
       "      <td>-0.357611</td>\n",
       "      <td>1.285853</td>\n",
       "      <td>0.991413</td>\n",
       "      <td>0.721642</td>\n",
       "      <td>0.990697</td>\n",
       "      <td>0.232596</td>\n",
       "      <td>-0.192378</td>\n",
       "      <td>0.228021</td>\n",
       "      <td>-0.428738</td>\n",
       "    </tr>\n",
       "    <tr>\n",
       "      <th>...</th>\n",
       "      <td>...</td>\n",
       "      <td>...</td>\n",
       "      <td>...</td>\n",
       "      <td>...</td>\n",
       "      <td>...</td>\n",
       "      <td>...</td>\n",
       "      <td>...</td>\n",
       "      <td>...</td>\n",
       "      <td>...</td>\n",
       "      <td>...</td>\n",
       "      <td>...</td>\n",
       "      <td>...</td>\n",
       "      <td>...</td>\n",
       "      <td>...</td>\n",
       "      <td>...</td>\n",
       "      <td>...</td>\n",
       "      <td>...</td>\n",
       "      <td>...</td>\n",
       "      <td>...</td>\n",
       "    </tr>\n",
       "    <tr>\n",
       "      <th>995</th>\n",
       "      <td>1.339844</td>\n",
       "      <td>3.126122</td>\n",
       "      <td>-0.526874</td>\n",
       "      <td>-0.341764</td>\n",
       "      <td>-0.622788</td>\n",
       "      <td>-0.595424</td>\n",
       "      <td>-0.266941</td>\n",
       "      <td>0.267445</td>\n",
       "      <td>-0.266784</td>\n",
       "      <td>1.417012</td>\n",
       "      <td>0.446249</td>\n",
       "      <td>1.415925</td>\n",
       "      <td>0.183705</td>\n",
       "      <td>-0.358539</td>\n",
       "      <td>0.183656</td>\n",
       "      <td>-0.557126</td>\n",
       "      <td>-0.593465</td>\n",
       "      <td>-0.556444</td>\n",
       "      <td>-1.190539</td>\n",
       "    </tr>\n",
       "    <tr>\n",
       "      <th>996</th>\n",
       "      <td>0.059316</td>\n",
       "      <td>-0.596070</td>\n",
       "      <td>-0.691773</td>\n",
       "      <td>-0.341764</td>\n",
       "      <td>-0.622788</td>\n",
       "      <td>-0.595424</td>\n",
       "      <td>-0.747228</td>\n",
       "      <td>1.964314</td>\n",
       "      <td>-0.747719</td>\n",
       "      <td>-0.207846</td>\n",
       "      <td>0.647214</td>\n",
       "      <td>-0.207657</td>\n",
       "      <td>1.701878</td>\n",
       "      <td>1.287450</td>\n",
       "      <td>1.700717</td>\n",
       "      <td>0.555664</td>\n",
       "      <td>-0.593465</td>\n",
       "      <td>0.560422</td>\n",
       "      <td>1.094865</td>\n",
       "    </tr>\n",
       "    <tr>\n",
       "      <th>997</th>\n",
       "      <td>2.153662</td>\n",
       "      <td>-0.342860</td>\n",
       "      <td>1.711029</td>\n",
       "      <td>-0.341764</td>\n",
       "      <td>-0.622788</td>\n",
       "      <td>-0.595424</td>\n",
       "      <td>-0.653737</td>\n",
       "      <td>0.766524</td>\n",
       "      <td>-0.653904</td>\n",
       "      <td>-0.898855</td>\n",
       "      <td>-1.312195</td>\n",
       "      <td>-0.899828</td>\n",
       "      <td>0.276978</td>\n",
       "      <td>-0.512850</td>\n",
       "      <td>0.276267</td>\n",
       "      <td>-0.880194</td>\n",
       "      <td>2.214148</td>\n",
       "      <td>-0.875548</td>\n",
       "      <td>1.094865</td>\n",
       "    </tr>\n",
       "    <tr>\n",
       "      <th>998</th>\n",
       "      <td>0.741672</td>\n",
       "      <td>0.771266</td>\n",
       "      <td>-0.526874</td>\n",
       "      <td>-0.341764</td>\n",
       "      <td>-0.622788</td>\n",
       "      <td>-0.595424</td>\n",
       "      <td>-1.770129</td>\n",
       "      <td>0.467077</td>\n",
       "      <td>-1.769975</td>\n",
       "      <td>0.597673</td>\n",
       "      <td>1.853005</td>\n",
       "      <td>0.598327</td>\n",
       "      <td>-1.072509</td>\n",
       "      <td>0.721642</td>\n",
       "      <td>-1.073212</td>\n",
       "      <td>-0.951987</td>\n",
       "      <td>0.208710</td>\n",
       "      <td>-0.955325</td>\n",
       "      <td>-0.428738</td>\n",
       "    </tr>\n",
       "    <tr>\n",
       "      <th>999</th>\n",
       "      <td>-0.312138</td>\n",
       "      <td>-0.520107</td>\n",
       "      <td>-0.691773</td>\n",
       "      <td>-0.341764</td>\n",
       "      <td>1.605684</td>\n",
       "      <td>2.760302</td>\n",
       "      <td>-0.213780</td>\n",
       "      <td>1.165787</td>\n",
       "      <td>-0.213946</td>\n",
       "      <td>1.361732</td>\n",
       "      <td>0.144802</td>\n",
       "      <td>1.362502</td>\n",
       "      <td>0.431772</td>\n",
       "      <td>-0.101353</td>\n",
       "      <td>0.430619</td>\n",
       "      <td>-1.275055</td>\n",
       "      <td>-0.994553</td>\n",
       "      <td>-1.274429</td>\n",
       "      <td>1.856666</td>\n",
       "    </tr>\n",
       "  </tbody>\n",
       "</table>\n",
       "<p>1000 rows × 19 columns</p>\n",
       "</div>"
      ],
      "text/plain": [
       "           0         1         2         3         4         5         6   \\\n",
       "0    1.102180 -1.862122 -0.526874 -0.341764 -0.622788 -0.595424 -1.068030   \n",
       "1    1.102180 -1.051849 -0.691773 -0.341764 -0.622788 -0.595424  1.333404   \n",
       "2    2.153662  0.290166 -0.526874 -0.341764 -0.622788 -0.595424  0.140019   \n",
       "3    1.890792  0.720624 -0.691773 -0.341764 -0.622788 -0.595424  1.320571   \n",
       "4   -0.891669  0.163561 -0.691773 -0.341764  1.605684  0.498834 -0.272441   \n",
       "..        ...       ...       ...       ...       ...       ...       ...   \n",
       "995  1.339844  3.126122 -0.526874 -0.341764 -0.622788 -0.595424 -0.266941   \n",
       "996  0.059316 -0.596070 -0.691773 -0.341764 -0.622788 -0.595424 -0.747228   \n",
       "997  2.153662 -0.342860  1.711029 -0.341764 -0.622788 -0.595424 -0.653737   \n",
       "998  0.741672  0.771266 -0.526874 -0.341764 -0.622788 -0.595424 -1.770129   \n",
       "999 -0.312138 -0.520107 -0.691773 -0.341764  1.605684  2.760302 -0.213780   \n",
       "\n",
       "           7         8         9         10        11        12        13  \\\n",
       "0   -2.627214 -1.067983 -1.502994  0.596973 -1.503735  1.207728  1.133139   \n",
       "1   -0.181726  1.333457  0.378524  1.049145  0.377669 -1.802820  0.001521   \n",
       "2   -0.181726  0.139746  0.123838  0.898421  0.124492 -0.830395  0.052958   \n",
       "3    0.017905  1.320517 -0.626400  0.245284 -0.625747  0.167828 -1.850217   \n",
       "4   -0.780621 -0.272176  1.284733 -0.357611  1.285853  0.991413  0.721642   \n",
       "..        ...       ...       ...       ...       ...       ...       ...   \n",
       "995  0.267445 -0.266784  1.417012  0.446249  1.415925  0.183705 -0.358539   \n",
       "996  1.964314 -0.747719 -0.207846  0.647214 -0.207657  1.701878  1.287450   \n",
       "997  0.766524 -0.653904 -0.898855 -1.312195 -0.899828  0.276978 -0.512850   \n",
       "998  0.467077 -1.769975  0.597673  1.853005  0.598327 -1.072509  0.721642   \n",
       "999  1.165787 -0.213946  1.361732  0.144802  1.362502  0.431772 -0.101353   \n",
       "\n",
       "           14        15        16        17        18  \n",
       "0    1.206790 -0.700712 -0.994553 -0.702700  3.380268  \n",
       "1   -1.800872  0.771043 -0.192378  0.773158  0.333064  \n",
       "2   -0.830659 -0.557126  0.609797 -0.556444  0.333064  \n",
       "3    0.166015 -1.634020  0.208710 -1.633422 -1.190539  \n",
       "4    0.990697  0.232596 -0.192378  0.228021 -0.428738  \n",
       "..        ...       ...       ...       ...       ...  \n",
       "995  0.183656 -0.557126 -0.593465 -0.556444 -1.190539  \n",
       "996  1.700717  0.555664 -0.593465  0.560422  1.094865  \n",
       "997  0.276267 -0.880194  2.214148 -0.875548  1.094865  \n",
       "998 -1.073212 -0.951987  0.208710 -0.955325 -0.428738  \n",
       "999  0.430619 -1.275055 -0.994553 -1.274429  1.856666  \n",
       "\n",
       "[1000 rows x 19 columns]"
      ]
     },
     "execution_count": 16,
     "metadata": {},
     "output_type": "execute_result"
    }
   ],
   "source": [
    "pd.DataFrame(X_test)"
   ]
  },
  {
   "cell_type": "code",
   "execution_count": 17,
   "metadata": {},
   "outputs": [],
   "source": [
    "# импортирую все\n",
    "from sklearn.linear_model import LogisticRegression\n",
    "from sklearn.svm import LinearSVC\n",
    "from sklearn.svm import SVC\n",
    "\n",
    "from sklearn.metrics import accuracy_score\n",
    "from sklearn.metrics import f1_score\n",
    "from sklearn.metrics import roc_auc_score\n",
    "\n",
    "from sklearn.model_selection import GridSearchCV"
   ]
  },
  {
   "cell_type": "markdown",
   "metadata": {},
   "source": [
    "Логистическая регрессия:"
   ]
  },
  {
   "cell_type": "code",
   "execution_count": 18,
   "metadata": {},
   "outputs": [
    {
     "data": {
      "text/plain": [
       "{'mean_fit_time': array([0.00922194, 0.0086266 , 0.009375  , 0.01356535, 0.07542791,\n",
       "        0.01018715, 0.19518456, 0.01425529]),\n",
       " 'std_fit_time': array([0.00227785, 0.00098278, 0.00080952, 0.00185633, 0.07482813,\n",
       "        0.00120442, 0.12939629, 0.00084901]),\n",
       " 'mean_score_time': array([0.00478759, 0.00113883, 0.0018075 , 0.00160527, 0.00080976,\n",
       "        0.00100856, 0.00120444, 0.00115128]),\n",
       " 'std_score_time': array([6.09446834e-03, 2.57321566e-04, 4.02249307e-04, 7.91232465e-04,\n",
       "        4.06472216e-04, 2.29320503e-05, 3.96691674e-04, 4.26898526e-04]),\n",
       " 'param_C': masked_array(data=[0.001, 0.001, 0.01, 0.01, 0.1, 0.1, 1, 1],\n",
       "              mask=[False, False, False, False, False, False, False, False],\n",
       "        fill_value='?',\n",
       "             dtype=object),\n",
       " 'param_penalty': masked_array(data=['l1', 'l2', 'l1', 'l2', 'l1', 'l2', 'l1', 'l2'],\n",
       "              mask=[False, False, False, False, False, False, False, False],\n",
       "        fill_value='?',\n",
       "             dtype=object),\n",
       " 'params': [{'C': 0.001, 'penalty': 'l1'},\n",
       "  {'C': 0.001, 'penalty': 'l2'},\n",
       "  {'C': 0.01, 'penalty': 'l1'},\n",
       "  {'C': 0.01, 'penalty': 'l2'},\n",
       "  {'C': 0.1, 'penalty': 'l1'},\n",
       "  {'C': 0.1, 'penalty': 'l2'},\n",
       "  {'C': 1, 'penalty': 'l1'},\n",
       "  {'C': 1, 'penalty': 'l2'}],\n",
       " 'split0_test_score': array([0.85010707, 0.84796574, 0.85010707, 0.85010707, 0.85010707,\n",
       "        0.84796574, 0.84796574, 0.84796574]),\n",
       " 'split1_test_score': array([0.85010707, 0.86937901, 0.85224839, 0.85867238, 0.85867238,\n",
       "        0.85867238, 0.86295503, 0.86295503]),\n",
       " 'split2_test_score': array([0.85224839, 0.875803  , 0.85224839, 0.87794433, 0.87366167,\n",
       "        0.875803  , 0.86937901, 0.86509636]),\n",
       " 'split3_test_score': array([0.85193133, 0.86909871, 0.85193133, 0.86051502, 0.8583691 ,\n",
       "        0.8583691 , 0.86051502, 0.86480687]),\n",
       " 'split4_test_score': array([0.85193133, 0.86695279, 0.85193133, 0.86695279, 0.87339056,\n",
       "        0.87339056, 0.8776824 , 0.8776824 ]),\n",
       " 'mean_test_score': array([0.85126504, 0.86583985, 0.8516933 , 0.86283832, 0.86284015,\n",
       "        0.86284015, 0.86369944, 0.86370128]),\n",
       " 'std_test_score': array([0.00095254, 0.00941417, 0.00080569, 0.00927316, 0.00925104,\n",
       "        0.01037261, 0.00985926, 0.00945309]),\n",
       " 'rank_test_score': array([8, 1, 7, 6, 4, 4, 3, 2])}"
      ]
     },
     "execution_count": 18,
     "metadata": {},
     "output_type": "execute_result"
    }
   ],
   "source": [
    "param_grid = {'penalty': ['l1', 'l2'], 'C': [0.001, 0.01, 0.1, 1]}\n",
    "gridsearch = GridSearchCV(LogisticRegression(solver='liblinear'), param_grid, scoring='accuracy', cv=5)\n",
    "\n",
    "gridsearch.fit(X_train, y_train)\n",
    "gridsearch.cv_results_"
   ]
  },
  {
   "cell_type": "code",
   "execution_count": 19,
   "metadata": {},
   "outputs": [
    {
     "name": "stdout",
     "output_type": "stream",
     "text": [
      "Logistic regression \n",
      "best parameters: LogisticRegression(C=0.001, solver='liblinear') \n",
      "best score: 0.8658398507503836\n"
     ]
    }
   ],
   "source": [
    "print('Logistic regression','\\nbest parameters:', gridsearch.best_estimator_, '\\nbest score:', gridsearch.best_score_)"
   ]
  },
  {
   "cell_type": "code",
   "execution_count": 20,
   "metadata": {},
   "outputs": [
    {
     "data": {
      "text/html": [
       "<div>\n",
       "<style scoped>\n",
       "    .dataframe tbody tr th:only-of-type {\n",
       "        vertical-align: middle;\n",
       "    }\n",
       "\n",
       "    .dataframe tbody tr th {\n",
       "        vertical-align: top;\n",
       "    }\n",
       "\n",
       "    .dataframe thead th {\n",
       "        text-align: right;\n",
       "    }\n",
       "</style>\n",
       "<table border=\"1\" class=\"dataframe\">\n",
       "  <thead>\n",
       "    <tr style=\"text-align: right;\">\n",
       "      <th></th>\n",
       "      <th>Train</th>\n",
       "      <th>Test</th>\n",
       "    </tr>\n",
       "  </thead>\n",
       "  <tbody>\n",
       "    <tr>\n",
       "      <th>Accuracy</th>\n",
       "      <td>0.867553</td>\n",
       "      <td>0.867000</td>\n",
       "    </tr>\n",
       "    <tr>\n",
       "      <th>F1-score</th>\n",
       "      <td>0.329718</td>\n",
       "      <td>0.265193</td>\n",
       "    </tr>\n",
       "    <tr>\n",
       "      <th>ROC-AUC</th>\n",
       "      <td>0.599943</td>\n",
       "      <td>0.576083</td>\n",
       "    </tr>\n",
       "  </tbody>\n",
       "</table>\n",
       "</div>"
      ],
      "text/plain": [
       "             Train      Test\n",
       "Accuracy  0.867553  0.867000\n",
       "F1-score  0.329718  0.265193\n",
       "ROC-AUC   0.599943  0.576083"
      ]
     },
     "execution_count": 20,
     "metadata": {},
     "output_type": "execute_result"
    }
   ],
   "source": [
    "clf1 = LogisticRegression(C=0.001, solver='liblinear')\n",
    "clf1.fit(X_train, y_train)\n",
    "y_pred_train = clf1.predict(X_train)\n",
    "y_pred_test = clf1.predict(X_test)\n",
    "\n",
    "train = []\n",
    "test = []\n",
    "\n",
    "acc_train = accuracy_score(y_train, y_pred_train) \n",
    "acc_test = accuracy_score(y_test, y_pred_test)\n",
    "train.append(acc_train)\n",
    "test.append(acc_test)\n",
    "\n",
    "f1_train = f1_score(y_train, y_pred_train)\n",
    "f1_test = f1_score(y_test, y_pred_test)\n",
    "train.append(f1_train)\n",
    "test.append(f1_test)\n",
    "\n",
    "roc_auc_train = roc_auc_score(y_train, y_pred_train)\n",
    "roc_auc_test = roc_auc_score(y_test, y_pred_test)\n",
    "train.append(roc_auc_train)\n",
    "test.append(roc_auc_test)\n",
    "\n",
    "# print('Accuracy', '\\nTrain:', acc_train, '\\nTest:', acc_test)\n",
    "# хочу дф столбцы трейн и тест, индексы (строки) названия метрик\n",
    "metrics_dict = {\"Train\": train, \"Test\": test,}\n",
    "pd.DataFrame(metrics_dict, index=['Accuracy', 'F1-score', 'ROC-AUC'])"
   ]
  },
  {
   "cell_type": "markdown",
   "metadata": {},
   "source": [
    "**Выводы**\n",
    "\n",
    "Судя по значениям основных метрик, я здесь не наблюдаю ярко выраженного переобучения или недообучения. Accuracy на трейне  и тесте практически одинаковые. По значениям F-меры и ROC-AUC, наверное, можно судить о небольшом переобучении. F-мера вообще получилась достаточно маленькой, полагаю, это может указывать на то, что accuracy (количество правильных ответов) может быть неподходящей метрикой для конкретных задач с этими данными, и, если исследовать отдельно recall и precision, их значения будут уже не так хороши. Вообще сложно сказать что-то про эту модель, кроме того, что скорее всего она может лучше."
   ]
  },
  {
   "cell_type": "markdown",
   "metadata": {},
   "source": [
    "(Linear) SVM Classifier:"
   ]
  },
  {
   "cell_type": "code",
   "execution_count": 21,
   "metadata": {},
   "outputs": [
    {
     "name": "stderr",
     "output_type": "stream",
     "text": [
      "C:\\miniconsa\\lib\\site-packages\\sklearn\\svm\\_base.py:985: ConvergenceWarning: Liblinear failed to converge, increase the number of iterations.\n",
      "  warnings.warn(\"Liblinear failed to converge, increase \"\n",
      "C:\\miniconsa\\lib\\site-packages\\sklearn\\svm\\_base.py:985: ConvergenceWarning: Liblinear failed to converge, increase the number of iterations.\n",
      "  warnings.warn(\"Liblinear failed to converge, increase \"\n",
      "C:\\miniconsa\\lib\\site-packages\\sklearn\\svm\\_base.py:985: ConvergenceWarning: Liblinear failed to converge, increase the number of iterations.\n",
      "  warnings.warn(\"Liblinear failed to converge, increase \"\n",
      "C:\\miniconsa\\lib\\site-packages\\sklearn\\svm\\_base.py:985: ConvergenceWarning: Liblinear failed to converge, increase the number of iterations.\n",
      "  warnings.warn(\"Liblinear failed to converge, increase \"\n",
      "C:\\miniconsa\\lib\\site-packages\\sklearn\\svm\\_base.py:985: ConvergenceWarning: Liblinear failed to converge, increase the number of iterations.\n",
      "  warnings.warn(\"Liblinear failed to converge, increase \"\n"
     ]
    },
    {
     "data": {
      "text/plain": [
       "{'mean_fit_time': array([0.00950642, 0.0119679 , 0.04747367, 0.30442739]),\n",
       " 'std_fit_time': array([0.00169518, 0.00260512, 0.00554489, 0.03666228]),\n",
       " 'mean_score_time': array([0.00165367, 0.00174723, 0.00159016, 0.00214396]),\n",
       " 'std_score_time': array([0.00062452, 0.00038884, 0.00077995, 0.00099154]),\n",
       " 'param_C': masked_array(data=[0.001, 0.01, 0.1, 1],\n",
       "              mask=[False, False, False, False],\n",
       "        fill_value='?',\n",
       "             dtype=object),\n",
       " 'params': [{'C': 0.001}, {'C': 0.01}, {'C': 0.1}, {'C': 1}],\n",
       " 'split0_test_score': array([0.85438972, 0.85224839, 0.85010707, 0.85010707]),\n",
       " 'split1_test_score': array([0.86509636, 0.86723769, 0.86509636, 0.86295503]),\n",
       " 'split2_test_score': array([0.875803  , 0.875803  , 0.87794433, 0.875803  ]),\n",
       " 'split3_test_score': array([0.85622318, 0.8583691 , 0.8583691 , 0.8583691 ]),\n",
       " 'split4_test_score': array([0.86480687, 0.86480687, 0.86695279, 0.86695279]),\n",
       " 'mean_test_score': array([0.86326382, 0.86369301, 0.86369393, 0.8628374 ]),\n",
       " 'std_test_score': array([0.0076327 , 0.00799726, 0.0092587 , 0.00856836]),\n",
       " 'rank_test_score': array([3, 2, 1, 4])}"
      ]
     },
     "execution_count": 21,
     "metadata": {},
     "output_type": "execute_result"
    }
   ],
   "source": [
    "param_grid = {'C': [0.001, 0.01, 0.1, 1]}\n",
    "gridsearch = GridSearchCV(LinearSVC(), param_grid, scoring='accuracy', cv=5)\n",
    "\n",
    "gridsearch.fit(X_train, y_train)\n",
    "gridsearch.cv_results_"
   ]
  },
  {
   "cell_type": "code",
   "execution_count": 22,
   "metadata": {},
   "outputs": [
    {
     "name": "stdout",
     "output_type": "stream",
     "text": [
      "SVM classifier \n",
      "best parameters: LinearSVC(C=0.1) \n",
      "best score: 0.8636939280036027\n"
     ]
    }
   ],
   "source": [
    "print('SVM classifier','\\nbest parameters:', gridsearch.best_estimator_, '\\nbest score:', gridsearch.best_score_)"
   ]
  },
  {
   "cell_type": "code",
   "execution_count": 23,
   "metadata": {},
   "outputs": [
    {
     "data": {
      "text/html": [
       "<div>\n",
       "<style scoped>\n",
       "    .dataframe tbody tr th:only-of-type {\n",
       "        vertical-align: middle;\n",
       "    }\n",
       "\n",
       "    .dataframe tbody tr th {\n",
       "        vertical-align: top;\n",
       "    }\n",
       "\n",
       "    .dataframe thead th {\n",
       "        text-align: right;\n",
       "    }\n",
       "</style>\n",
       "<table border=\"1\" class=\"dataframe\">\n",
       "  <thead>\n",
       "    <tr style=\"text-align: right;\">\n",
       "      <th></th>\n",
       "      <th>Train</th>\n",
       "      <th>Test</th>\n",
       "    </tr>\n",
       "  </thead>\n",
       "  <tbody>\n",
       "    <tr>\n",
       "      <th>Accuracy</th>\n",
       "      <td>0.865409</td>\n",
       "      <td>0.863000</td>\n",
       "    </tr>\n",
       "    <tr>\n",
       "      <th>F1-score</th>\n",
       "      <td>0.317391</td>\n",
       "      <td>0.251366</td>\n",
       "    </tr>\n",
       "    <tr>\n",
       "      <th>ROC-AUC</th>\n",
       "      <td>0.595117</td>\n",
       "      <td>0.570670</td>\n",
       "    </tr>\n",
       "  </tbody>\n",
       "</table>\n",
       "</div>"
      ],
      "text/plain": [
       "             Train      Test\n",
       "Accuracy  0.865409  0.863000\n",
       "F1-score  0.317391  0.251366\n",
       "ROC-AUC   0.595117  0.570670"
      ]
     },
     "execution_count": 23,
     "metadata": {},
     "output_type": "execute_result"
    }
   ],
   "source": [
    "clf2 = LinearSVC(C=0.1) # просто SVC у меня почему-то странно обучается, всегда предказывает 0\n",
    "clf2.fit(X_train, y_train)\n",
    "y_pred_train = clf2.predict(X_train)\n",
    "y_pred_test = clf2.predict(X_test)\n",
    "\n",
    "train = []\n",
    "test = []\n",
    "\n",
    "acc_train = accuracy_score(y_train, y_pred_train) \n",
    "acc_test = accuracy_score(y_test, y_pred_test)\n",
    "train.append(acc_train)\n",
    "test.append(acc_test)\n",
    "\n",
    "f1_train = f1_score(y_train, y_pred_train)\n",
    "f1_test = f1_score(y_test, y_pred_test)\n",
    "train.append(f1_train)\n",
    "test.append(f1_test)\n",
    "\n",
    "roc_auc_train = roc_auc_score(y_train, y_pred_train)\n",
    "roc_auc_test = roc_auc_score(y_test, y_pred_test)\n",
    "train.append(roc_auc_train)\n",
    "test.append(roc_auc_test)\n",
    "\n",
    "# print('Accuracy', '\\nTrain:', acc_train, '\\nTest:', acc_test)\n",
    "metrics_dict = {\"Train\": train, \"Test\": test,}\n",
    "pd.DataFrame(metrics_dict, index=['Accuracy', 'F1-score', 'ROC-AUC'])"
   ]
  },
  {
   "cell_type": "markdown",
   "metadata": {},
   "source": [
    "**Выводы**\n",
    "\n",
    "Кажется, линейный классификатор SVM справляется чуть хуже логистической регрессии. Он дает хуже качество на трейне и хуже на тесте (но не сильно). По значениям метрик, кажется что эти модели очень похожи друг на друга по способности предсказаний. Он не переобучается и не недообучается - очень близкие значения метрик на трейне и тесте. F1-score хуже, чем в лог регрессии."
   ]
  },
  {
   "cell_type": "markdown",
   "metadata": {},
   "source": [
    "Дальше я объединяю пукнты: сначала построим матрицу корреляции и проведем отбор признаков. Потом к оставшимся признакам добавим полиномиальные степени 2."
   ]
  },
  {
   "cell_type": "markdown",
   "metadata": {},
   "source": [
    "Корреляционная матрица по исходным данным:"
   ]
  },
  {
   "cell_type": "code",
   "execution_count": 24,
   "metadata": {},
   "outputs": [
    {
     "data": {
      "text/plain": [
       "<AxesSubplot:title={'center':'Pearson Correlation of Features'}>"
      ]
     },
     "execution_count": 24,
     "metadata": {},
     "output_type": "execute_result"
    },
    {
     "data": {
      "image/png": "[encoded data removed]",
      "text/plain": [
       "<Figure size 1008x864 with 2 Axes>"
      ]
     },
     "metadata": {
      "needs_background": "light"
     },
     "output_type": "display_data"
    }
   ],
   "source": [
    "import seaborn as sns\n",
    "\n",
    "colormap = plt.cm.RdBu\n",
    "plt.figure(figsize=(14,12))\n",
    "\n",
    "plt.title('Pearson Correlation of Features', y=1.05, size=18)\n",
    "sns.heatmap(data.corr(),\n",
    "            linewidths=0.1, vmax=1.0, \n",
    "            square=True, cmap=colormap, linecolor='white', annot=True)"
   ]
  },
  {
   "cell_type": "markdown",
   "metadata": {},
   "source": [
    "Сразу видно, что есть признаки, которые очень сильно коррелируют между собой: например Total day charge и Total day minutes. (И это логично. Скорее всего значение charge это просто minutes, умноженное на какое- то число). Удаляю по одному признаку из пары сильно коррелирующих."
   ]
  },
  {
   "cell_type": "markdown",
   "metadata": {},
   "source": [
    "Посмотрим теперь на коэффициенты корреляции целевой переменной со всеми остальными. Есть переменные, которые больше остальных коррелируют, типа International plan (около 0.2). Большая часть переменных коррелируют с таргетом слабо.\n",
    "Area Code и Total night calls выкинем по причине того, что их корреляция с таргетом наиболее близка к нулю."
   ]
  },
  {
   "cell_type": "code",
   "execution_count": 25,
   "metadata": {},
   "outputs": [
    {
     "data": {
      "text/plain": [
       "Index(['State', 'Account length', 'Area code', 'International plan',\n",
       "       'Voice mail plan', 'Number vmail messages', 'Total day minutes',\n",
       "       'Total day calls', 'Total day charge', 'Total eve minutes',\n",
       "       'Total eve calls', 'Total eve charge', 'Total night minutes',\n",
       "       'Total night calls', 'Total night charge', 'Total intl minutes',\n",
       "       'Total intl calls', 'Total intl charge', 'Customer service calls',\n",
       "       'Churn'],\n",
       "      dtype='object')"
      ]
     },
     "execution_count": 25,
     "metadata": {},
     "output_type": "execute_result"
    }
   ],
   "source": [
    "data.columns\n",
    "# вывожу чтобы скопировать названия колонок в следующей ячейке"
   ]
  },
  {
   "cell_type": "code",
   "execution_count": 26,
   "metadata": {},
   "outputs": [
    {
     "data": {
      "text/html": [
       "<div>\n",
       "<style scoped>\n",
       "    .dataframe tbody tr th:only-of-type {\n",
       "        vertical-align: middle;\n",
       "    }\n",
       "\n",
       "    .dataframe tbody tr th {\n",
       "        vertical-align: top;\n",
       "    }\n",
       "\n",
       "    .dataframe thead th {\n",
       "        text-align: right;\n",
       "    }\n",
       "</style>\n",
       "<table border=\"1\" class=\"dataframe\">\n",
       "  <thead>\n",
       "    <tr style=\"text-align: right;\">\n",
       "      <th></th>\n",
       "      <th>State</th>\n",
       "      <th>Account length</th>\n",
       "      <th>International plan</th>\n",
       "      <th>Voice mail plan</th>\n",
       "      <th>Total day minutes</th>\n",
       "      <th>Total day calls</th>\n",
       "      <th>Total eve minutes</th>\n",
       "      <th>Total eve calls</th>\n",
       "      <th>Total night minutes</th>\n",
       "      <th>Total intl minutes</th>\n",
       "      <th>Total intl calls</th>\n",
       "      <th>Customer service calls</th>\n",
       "      <th>Churn</th>\n",
       "    </tr>\n",
       "  </thead>\n",
       "  <tbody>\n",
       "    <tr>\n",
       "      <th>0</th>\n",
       "      <td>0.185714</td>\n",
       "      <td>128</td>\n",
       "      <td>0</td>\n",
       "      <td>1</td>\n",
       "      <td>265.1</td>\n",
       "      <td>110</td>\n",
       "      <td>197.4</td>\n",
       "      <td>99</td>\n",
       "      <td>244.7</td>\n",
       "      <td>10.0</td>\n",
       "      <td>3</td>\n",
       "      <td>1</td>\n",
       "      <td>0</td>\n",
       "    </tr>\n",
       "    <tr>\n",
       "      <th>1</th>\n",
       "      <td>0.128205</td>\n",
       "      <td>107</td>\n",
       "      <td>0</td>\n",
       "      <td>1</td>\n",
       "      <td>161.6</td>\n",
       "      <td>123</td>\n",
       "      <td>195.5</td>\n",
       "      <td>103</td>\n",
       "      <td>254.4</td>\n",
       "      <td>13.7</td>\n",
       "      <td>3</td>\n",
       "      <td>1</td>\n",
       "      <td>0</td>\n",
       "    </tr>\n",
       "    <tr>\n",
       "      <th>2</th>\n",
       "      <td>0.264706</td>\n",
       "      <td>137</td>\n",
       "      <td>0</td>\n",
       "      <td>0</td>\n",
       "      <td>243.4</td>\n",
       "      <td>114</td>\n",
       "      <td>121.2</td>\n",
       "      <td>110</td>\n",
       "      <td>162.6</td>\n",
       "      <td>12.2</td>\n",
       "      <td>5</td>\n",
       "      <td>0</td>\n",
       "      <td>0</td>\n",
       "    </tr>\n",
       "    <tr>\n",
       "      <th>3</th>\n",
       "      <td>0.128205</td>\n",
       "      <td>84</td>\n",
       "      <td>1</td>\n",
       "      <td>0</td>\n",
       "      <td>299.4</td>\n",
       "      <td>71</td>\n",
       "      <td>61.9</td>\n",
       "      <td>88</td>\n",
       "      <td>196.9</td>\n",
       "      <td>6.6</td>\n",
       "      <td>7</td>\n",
       "      <td>2</td>\n",
       "      <td>0</td>\n",
       "    </tr>\n",
       "    <tr>\n",
       "      <th>4</th>\n",
       "      <td>0.147541</td>\n",
       "      <td>75</td>\n",
       "      <td>1</td>\n",
       "      <td>0</td>\n",
       "      <td>166.7</td>\n",
       "      <td>113</td>\n",
       "      <td>148.3</td>\n",
       "      <td>122</td>\n",
       "      <td>186.9</td>\n",
       "      <td>10.1</td>\n",
       "      <td>3</td>\n",
       "      <td>3</td>\n",
       "      <td>0</td>\n",
       "    </tr>\n",
       "    <tr>\n",
       "      <th>...</th>\n",
       "      <td>...</td>\n",
       "      <td>...</td>\n",
       "      <td>...</td>\n",
       "      <td>...</td>\n",
       "      <td>...</td>\n",
       "      <td>...</td>\n",
       "      <td>...</td>\n",
       "      <td>...</td>\n",
       "      <td>...</td>\n",
       "      <td>...</td>\n",
       "      <td>...</td>\n",
       "      <td>...</td>\n",
       "      <td>...</td>\n",
       "    </tr>\n",
       "    <tr>\n",
       "      <th>3328</th>\n",
       "      <td>0.062500</td>\n",
       "      <td>192</td>\n",
       "      <td>0</td>\n",
       "      <td>1</td>\n",
       "      <td>156.2</td>\n",
       "      <td>77</td>\n",
       "      <td>215.5</td>\n",
       "      <td>126</td>\n",
       "      <td>279.1</td>\n",
       "      <td>9.9</td>\n",
       "      <td>6</td>\n",
       "      <td>2</td>\n",
       "      <td>0</td>\n",
       "    </tr>\n",
       "    <tr>\n",
       "      <th>3329</th>\n",
       "      <td>0.094340</td>\n",
       "      <td>68</td>\n",
       "      <td>0</td>\n",
       "      <td>0</td>\n",
       "      <td>231.1</td>\n",
       "      <td>57</td>\n",
       "      <td>153.4</td>\n",
       "      <td>55</td>\n",
       "      <td>191.3</td>\n",
       "      <td>9.6</td>\n",
       "      <td>4</td>\n",
       "      <td>3</td>\n",
       "      <td>0</td>\n",
       "    </tr>\n",
       "    <tr>\n",
       "      <th>3330</th>\n",
       "      <td>0.092308</td>\n",
       "      <td>28</td>\n",
       "      <td>0</td>\n",
       "      <td>0</td>\n",
       "      <td>180.8</td>\n",
       "      <td>109</td>\n",
       "      <td>288.8</td>\n",
       "      <td>58</td>\n",
       "      <td>191.9</td>\n",
       "      <td>14.1</td>\n",
       "      <td>6</td>\n",
       "      <td>2</td>\n",
       "      <td>0</td>\n",
       "    </tr>\n",
       "    <tr>\n",
       "      <th>3331</th>\n",
       "      <td>0.162162</td>\n",
       "      <td>184</td>\n",
       "      <td>1</td>\n",
       "      <td>0</td>\n",
       "      <td>213.8</td>\n",
       "      <td>105</td>\n",
       "      <td>159.6</td>\n",
       "      <td>84</td>\n",
       "      <td>139.2</td>\n",
       "      <td>5.0</td>\n",
       "      <td>10</td>\n",
       "      <td>2</td>\n",
       "      <td>0</td>\n",
       "    </tr>\n",
       "    <tr>\n",
       "      <th>3332</th>\n",
       "      <td>0.094340</td>\n",
       "      <td>74</td>\n",
       "      <td>0</td>\n",
       "      <td>1</td>\n",
       "      <td>234.4</td>\n",
       "      <td>113</td>\n",
       "      <td>265.9</td>\n",
       "      <td>82</td>\n",
       "      <td>241.4</td>\n",
       "      <td>13.7</td>\n",
       "      <td>4</td>\n",
       "      <td>0</td>\n",
       "      <td>0</td>\n",
       "    </tr>\n",
       "  </tbody>\n",
       "</table>\n",
       "<p>3333 rows × 13 columns</p>\n",
       "</div>"
      ],
      "text/plain": [
       "         State  Account length  International plan  Voice mail plan  \\\n",
       "0     0.185714             128                   0                1   \n",
       "1     0.128205             107                   0                1   \n",
       "2     0.264706             137                   0                0   \n",
       "3     0.128205              84                   1                0   \n",
       "4     0.147541              75                   1                0   \n",
       "...        ...             ...                 ...              ...   \n",
       "3328  0.062500             192                   0                1   \n",
       "3329  0.094340              68                   0                0   \n",
       "3330  0.092308              28                   0                0   \n",
       "3331  0.162162             184                   1                0   \n",
       "3332  0.094340              74                   0                1   \n",
       "\n",
       "      Total day minutes  Total day calls  Total eve minutes  Total eve calls  \\\n",
       "0                 265.1              110              197.4               99   \n",
       "1                 161.6              123              195.5              103   \n",
       "2                 243.4              114              121.2              110   \n",
       "3                 299.4               71               61.9               88   \n",
       "4                 166.7              113              148.3              122   \n",
       "...                 ...              ...                ...              ...   \n",
       "3328              156.2               77              215.5              126   \n",
       "3329              231.1               57              153.4               55   \n",
       "3330              180.8              109              288.8               58   \n",
       "3331              213.8              105              159.6               84   \n",
       "3332              234.4              113              265.9               82   \n",
       "\n",
       "      Total night minutes  Total intl minutes  Total intl calls  \\\n",
       "0                   244.7                10.0                 3   \n",
       "1                   254.4                13.7                 3   \n",
       "2                   162.6                12.2                 5   \n",
       "3                   196.9                 6.6                 7   \n",
       "4                   186.9                10.1                 3   \n",
       "...                   ...                 ...               ...   \n",
       "3328                279.1                 9.9                 6   \n",
       "3329                191.3                 9.6                 4   \n",
       "3330                191.9                14.1                 6   \n",
       "3331                139.2                 5.0                10   \n",
       "3332                241.4                13.7                 4   \n",
       "\n",
       "      Customer service calls  Churn  \n",
       "0                          1      0  \n",
       "1                          1      0  \n",
       "2                          0      0  \n",
       "3                          2      0  \n",
       "4                          3      0  \n",
       "...                      ...    ...  \n",
       "3328                       2      0  \n",
       "3329                       3      0  \n",
       "3330                       2      0  \n",
       "3331                       2      0  \n",
       "3332                       0      0  \n",
       "\n",
       "[3333 rows x 13 columns]"
      ]
     },
     "execution_count": 26,
     "metadata": {},
     "output_type": "execute_result"
    }
   ],
   "source": [
    "for column in ['Area code','Number vmail messages','Total day charge','Total eve charge', 'Total night calls', 'Total night charge','Total intl charge']:\n",
    "    data = data.drop(column, 1)\n",
    "    \n",
    "data"
   ]
  },
  {
   "cell_type": "markdown",
   "metadata": {},
   "source": [
    "Было 19 признаков, осталось 12, гуд."
   ]
  },
  {
   "cell_type": "code",
   "execution_count": 27,
   "metadata": {},
   "outputs": [
    {
     "data": {
      "text/plain": [
       "<AxesSubplot:title={'center':'Pearson Correlation of Features'}>"
      ]
     },
     "execution_count": 27,
     "metadata": {},
     "output_type": "execute_result"
    },
    {
     "data": {
      "image/png": "[encoded data removed]",
      "text/plain": [
       "<Figure size 1008x864 with 2 Axes>"
      ]
     },
     "metadata": {
      "needs_background": "light"
     },
     "output_type": "display_data"
    }
   ],
   "source": [
    "colormap = plt.cm.RdBu\n",
    "plt.figure(figsize=(14,12))\n",
    "\n",
    "plt.title('Pearson Correlation of Features', y=1.05, size=18)\n",
    "sns.heatmap(data.corr(),\n",
    "            linewidths=0.1, vmax=1.0, \n",
    "            square=True, cmap=colormap, linecolor='white', annot=True)"
   ]
  },
  {
   "cell_type": "markdown",
   "metadata": {},
   "source": [
    "Дальше все то же самое: делю на трейн и тест, потом добавляю полиномиальные признаки, потом стандартизирую данные и обучаю модели."
   ]
  },
  {
   "cell_type": "code",
   "execution_count": 28,
   "metadata": {},
   "outputs": [],
   "source": [
    "y = data['Churn']\n",
    "X = data.drop('Churn', 1)\n",
    "\n",
    "X_train, X_test, y_train, y_test = train_test_split(X, y, test_size=0.3, random_state=690)"
   ]
  },
  {
   "cell_type": "code",
   "execution_count": 29,
   "metadata": {},
   "outputs": [
    {
     "data": {
      "text/html": [
       "<div>\n",
       "<style scoped>\n",
       "    .dataframe tbody tr th:only-of-type {\n",
       "        vertical-align: middle;\n",
       "    }\n",
       "\n",
       "    .dataframe tbody tr th {\n",
       "        vertical-align: top;\n",
       "    }\n",
       "\n",
       "    .dataframe thead th {\n",
       "        text-align: right;\n",
       "    }\n",
       "</style>\n",
       "<table border=\"1\" class=\"dataframe\">\n",
       "  <thead>\n",
       "    <tr style=\"text-align: right;\">\n",
       "      <th></th>\n",
       "      <th>0</th>\n",
       "      <th>1</th>\n",
       "      <th>2</th>\n",
       "      <th>3</th>\n",
       "      <th>4</th>\n",
       "      <th>5</th>\n",
       "      <th>6</th>\n",
       "      <th>7</th>\n",
       "      <th>8</th>\n",
       "      <th>9</th>\n",
       "      <th>...</th>\n",
       "      <th>81</th>\n",
       "      <th>82</th>\n",
       "      <th>83</th>\n",
       "      <th>84</th>\n",
       "      <th>85</th>\n",
       "      <th>86</th>\n",
       "      <th>87</th>\n",
       "      <th>88</th>\n",
       "      <th>89</th>\n",
       "      <th>90</th>\n",
       "    </tr>\n",
       "  </thead>\n",
       "  <tbody>\n",
       "    <tr>\n",
       "      <th>0</th>\n",
       "      <td>1.0</td>\n",
       "      <td>0.147541</td>\n",
       "      <td>97.0</td>\n",
       "      <td>0.0</td>\n",
       "      <td>0.0</td>\n",
       "      <td>225.1</td>\n",
       "      <td>90.0</td>\n",
       "      <td>279.5</td>\n",
       "      <td>127.0</td>\n",
       "      <td>233.8</td>\n",
       "      <td>...</td>\n",
       "      <td>54662.44</td>\n",
       "      <td>2057.44</td>\n",
       "      <td>935.2</td>\n",
       "      <td>0.0</td>\n",
       "      <td>77.44</td>\n",
       "      <td>35.2</td>\n",
       "      <td>0.0</td>\n",
       "      <td>16.0</td>\n",
       "      <td>0.0</td>\n",
       "      <td>0.0</td>\n",
       "    </tr>\n",
       "    <tr>\n",
       "      <th>1</th>\n",
       "      <td>1.0</td>\n",
       "      <td>0.100000</td>\n",
       "      <td>115.0</td>\n",
       "      <td>0.0</td>\n",
       "      <td>1.0</td>\n",
       "      <td>192.3</td>\n",
       "      <td>86.0</td>\n",
       "      <td>88.7</td>\n",
       "      <td>90.0</td>\n",
       "      <td>229.4</td>\n",
       "      <td>...</td>\n",
       "      <td>52624.36</td>\n",
       "      <td>2408.70</td>\n",
       "      <td>688.2</td>\n",
       "      <td>458.8</td>\n",
       "      <td>110.25</td>\n",
       "      <td>31.5</td>\n",
       "      <td>21.0</td>\n",
       "      <td>9.0</td>\n",
       "      <td>6.0</td>\n",
       "      <td>4.0</td>\n",
       "    </tr>\n",
       "    <tr>\n",
       "      <th>2</th>\n",
       "      <td>1.0</td>\n",
       "      <td>0.250000</td>\n",
       "      <td>88.0</td>\n",
       "      <td>0.0</td>\n",
       "      <td>0.0</td>\n",
       "      <td>138.3</td>\n",
       "      <td>116.0</td>\n",
       "      <td>236.0</td>\n",
       "      <td>138.0</td>\n",
       "      <td>179.1</td>\n",
       "      <td>...</td>\n",
       "      <td>32076.81</td>\n",
       "      <td>1719.36</td>\n",
       "      <td>716.4</td>\n",
       "      <td>537.3</td>\n",
       "      <td>92.16</td>\n",
       "      <td>38.4</td>\n",
       "      <td>28.8</td>\n",
       "      <td>16.0</td>\n",
       "      <td>12.0</td>\n",
       "      <td>9.0</td>\n",
       "    </tr>\n",
       "    <tr>\n",
       "      <th>3</th>\n",
       "      <td>1.0</td>\n",
       "      <td>0.209677</td>\n",
       "      <td>36.0</td>\n",
       "      <td>0.0</td>\n",
       "      <td>1.0</td>\n",
       "      <td>152.8</td>\n",
       "      <td>110.0</td>\n",
       "      <td>242.8</td>\n",
       "      <td>67.0</td>\n",
       "      <td>147.4</td>\n",
       "      <td>...</td>\n",
       "      <td>21726.76</td>\n",
       "      <td>1341.34</td>\n",
       "      <td>294.8</td>\n",
       "      <td>147.4</td>\n",
       "      <td>82.81</td>\n",
       "      <td>18.2</td>\n",
       "      <td>9.1</td>\n",
       "      <td>4.0</td>\n",
       "      <td>2.0</td>\n",
       "      <td>1.0</td>\n",
       "    </tr>\n",
       "    <tr>\n",
       "      <th>4</th>\n",
       "      <td>1.0</td>\n",
       "      <td>0.180723</td>\n",
       "      <td>60.0</td>\n",
       "      <td>0.0</td>\n",
       "      <td>1.0</td>\n",
       "      <td>191.8</td>\n",
       "      <td>75.0</td>\n",
       "      <td>267.8</td>\n",
       "      <td>135.0</td>\n",
       "      <td>200.5</td>\n",
       "      <td>...</td>\n",
       "      <td>40200.25</td>\n",
       "      <td>2566.40</td>\n",
       "      <td>601.5</td>\n",
       "      <td>401.0</td>\n",
       "      <td>163.84</td>\n",
       "      <td>38.4</td>\n",
       "      <td>25.6</td>\n",
       "      <td>9.0</td>\n",
       "      <td>6.0</td>\n",
       "      <td>4.0</td>\n",
       "    </tr>\n",
       "  </tbody>\n",
       "</table>\n",
       "<p>5 rows × 91 columns</p>\n",
       "</div>"
      ],
      "text/plain": [
       "    0         1      2    3    4      5      6      7      8      9   ...  \\\n",
       "0  1.0  0.147541   97.0  0.0  0.0  225.1   90.0  279.5  127.0  233.8  ...   \n",
       "1  1.0  0.100000  115.0  0.0  1.0  192.3   86.0   88.7   90.0  229.4  ...   \n",
       "2  1.0  0.250000   88.0  0.0  0.0  138.3  116.0  236.0  138.0  179.1  ...   \n",
       "3  1.0  0.209677   36.0  0.0  1.0  152.8  110.0  242.8   67.0  147.4  ...   \n",
       "4  1.0  0.180723   60.0  0.0  1.0  191.8   75.0  267.8  135.0  200.5  ...   \n",
       "\n",
       "         81       82     83     84      85    86    87    88    89   90  \n",
       "0  54662.44  2057.44  935.2    0.0   77.44  35.2   0.0  16.0   0.0  0.0  \n",
       "1  52624.36  2408.70  688.2  458.8  110.25  31.5  21.0   9.0   6.0  4.0  \n",
       "2  32076.81  1719.36  716.4  537.3   92.16  38.4  28.8  16.0  12.0  9.0  \n",
       "3  21726.76  1341.34  294.8  147.4   82.81  18.2   9.1   4.0   2.0  1.0  \n",
       "4  40200.25  2566.40  601.5  401.0  163.84  38.4  25.6   9.0   6.0  4.0  \n",
       "\n",
       "[5 rows x 91 columns]"
      ]
     },
     "execution_count": 29,
     "metadata": {},
     "output_type": "execute_result"
    }
   ],
   "source": [
    "from sklearn.preprocessing import PolynomialFeatures \n",
    "\n",
    "poly = PolynomialFeatures(2)\n",
    "x_train = poly.fit_transform(X_train)\n",
    "x_test = poly.transform(X_test)\n",
    "pd.DataFrame(x_train).head()"
   ]
  },
  {
   "cell_type": "markdown",
   "metadata": {},
   "source": [
    "90 признаков получилось после добавления полиномиальных"
   ]
  },
  {
   "cell_type": "code",
   "execution_count": 30,
   "metadata": {},
   "outputs": [],
   "source": [
    "scaler = StandardScaler()\n",
    "x_train = scaler.fit_transform(x_train)\n",
    "x_test = scaler.transform(x_test)"
   ]
  },
  {
   "cell_type": "markdown",
   "metadata": {},
   "source": [
    "Логистическая регрессия"
   ]
  },
  {
   "cell_type": "code",
   "execution_count": 31,
   "metadata": {},
   "outputs": [
    {
     "data": {
      "text/plain": [
       "{'mean_fit_time': array([0.0195116 , 0.04072242, 0.0358779 , 0.05521178, 0.08937397,\n",
       "        0.0926363 , 0.84616036, 0.1564641 ]),\n",
       " 'std_fit_time': array([0.00241633, 0.00262287, 0.00454269, 0.00821641, 0.01786046,\n",
       "        0.00676659, 0.10962545, 0.00933487]),\n",
       " 'mean_score_time': array([0.00273819, 0.00199485, 0.00186081, 0.0011116 , 0.00163369,\n",
       "        0.00113516, 0.00199275, 0.00122333]),\n",
       " 'std_score_time': array([1.15839943e-03, 1.86515877e-06, 4.49522849e-04, 4.72654177e-04,\n",
       "        7.72138074e-04, 2.73325929e-04, 2.84146138e-05, 3.86966883e-04]),\n",
       " 'param_C': masked_array(data=[0.001, 0.001, 0.01, 0.01, 0.1, 0.1, 1, 1],\n",
       "              mask=[False, False, False, False, False, False, False, False],\n",
       "        fill_value='?',\n",
       "             dtype=object),\n",
       " 'param_penalty': masked_array(data=['l1', 'l2', 'l1', 'l2', 'l1', 'l2', 'l1', 'l2'],\n",
       "              mask=[False, False, False, False, False, False, False, False],\n",
       "        fill_value='?',\n",
       "             dtype=object),\n",
       " 'params': [{'C': 0.001, 'penalty': 'l1'},\n",
       "  {'C': 0.001, 'penalty': 'l2'},\n",
       "  {'C': 0.01, 'penalty': 'l1'},\n",
       "  {'C': 0.01, 'penalty': 'l2'},\n",
       "  {'C': 0.1, 'penalty': 'l1'},\n",
       "  {'C': 0.1, 'penalty': 'l2'},\n",
       "  {'C': 1, 'penalty': 'l1'},\n",
       "  {'C': 1, 'penalty': 'l2'}],\n",
       " 'split0_test_score': array([0.85010707, 0.8137045 , 0.85224839, 0.85224839, 0.88436831,\n",
       "        0.87794433, 0.92077088, 0.91648822]),\n",
       " 'split1_test_score': array([0.85010707, 0.83940043, 0.85438972, 0.87794433, 0.88865096,\n",
       "        0.89507495, 0.91220557, 0.90792291]),\n",
       " 'split2_test_score': array([0.85224839, 0.84796574, 0.85653105, 0.88436831, 0.90149893,\n",
       "        0.91006424, 0.9143469 , 0.91862955]),\n",
       " 'split3_test_score': array([0.85193133, 0.83690987, 0.86266094, 0.87553648, 0.87982833,\n",
       "        0.89484979, 0.90772532, 0.90772532]),\n",
       " 'split4_test_score': array([0.85193133, 0.86051502, 0.85622318, 0.87124464, 0.88841202,\n",
       "        0.89484979, 0.91630901, 0.91630901]),\n",
       " 'mean_test_score': array([0.85126504, 0.83969911, 0.85641066, 0.87226843, 0.88855171,\n",
       "        0.89455662, 0.91427154, 0.913415  ]),\n",
       " 'std_test_score': array([0.00095254, 0.01539629, 0.00347921, 0.01087339, 0.00722853,\n",
       "        0.01016755, 0.0043248 , 0.00463782]),\n",
       " 'rank_test_score': array([7, 8, 6, 5, 4, 3, 1, 2])}"
      ]
     },
     "execution_count": 31,
     "metadata": {},
     "output_type": "execute_result"
    }
   ],
   "source": [
    "param_grid = {'penalty': ['l1', 'l2'], 'C': [0.001, 0.01, 0.1, 1]}\n",
    "gridsearch = GridSearchCV(LogisticRegression(solver='liblinear'), param_grid, scoring='accuracy', cv=5)\n",
    "\n",
    "gridsearch.fit(x_train, y_train)\n",
    "gridsearch.cv_results_"
   ]
  },
  {
   "cell_type": "code",
   "execution_count": 32,
   "metadata": {},
   "outputs": [
    {
     "name": "stdout",
     "output_type": "stream",
     "text": [
      "Logistic regression \n",
      "best parameters: LogisticRegression(C=1, penalty='l1', solver='liblinear') \n",
      "best score: 0.9142715350470081\n"
     ]
    }
   ],
   "source": [
    "print('Logistic regression','\\nbest parameters:', gridsearch.best_estimator_, '\\nbest score:', gridsearch.best_score_)"
   ]
  },
  {
   "cell_type": "code",
   "execution_count": 33,
   "metadata": {},
   "outputs": [
    {
     "data": {
      "text/html": [
       "<div>\n",
       "<style scoped>\n",
       "    .dataframe tbody tr th:only-of-type {\n",
       "        vertical-align: middle;\n",
       "    }\n",
       "\n",
       "    .dataframe tbody tr th {\n",
       "        vertical-align: top;\n",
       "    }\n",
       "\n",
       "    .dataframe thead th {\n",
       "        text-align: right;\n",
       "    }\n",
       "</style>\n",
       "<table border=\"1\" class=\"dataframe\">\n",
       "  <thead>\n",
       "    <tr style=\"text-align: right;\">\n",
       "      <th></th>\n",
       "      <th>Train</th>\n",
       "      <th>Test</th>\n",
       "    </tr>\n",
       "  </thead>\n",
       "  <tbody>\n",
       "    <tr>\n",
       "      <th>Accuracy</th>\n",
       "      <td>0.930990</td>\n",
       "      <td>0.922000</td>\n",
       "    </tr>\n",
       "    <tr>\n",
       "      <th>F1-score</th>\n",
       "      <td>0.734761</td>\n",
       "      <td>0.660870</td>\n",
       "    </tr>\n",
       "    <tr>\n",
       "      <th>ROC-AUC</th>\n",
       "      <td>0.812010</td>\n",
       "      <td>0.768995</td>\n",
       "    </tr>\n",
       "  </tbody>\n",
       "</table>\n",
       "</div>"
      ],
      "text/plain": [
       "             Train      Test\n",
       "Accuracy  0.930990  0.922000\n",
       "F1-score  0.734761  0.660870\n",
       "ROC-AUC   0.812010  0.768995"
      ]
     },
     "execution_count": 33,
     "metadata": {},
     "output_type": "execute_result"
    }
   ],
   "source": [
    "clf3 = LogisticRegression(C=1, penalty='l1', solver='liblinear')\n",
    "clf3.fit(x_train, y_train)\n",
    "y_pred_train = clf3.predict(x_train)\n",
    "y_pred_test = clf3.predict(x_test)\n",
    "\n",
    "train = []\n",
    "test = []\n",
    "\n",
    "acc_train = accuracy_score(y_train, y_pred_train) \n",
    "acc_test = accuracy_score(y_test, y_pred_test)\n",
    "train.append(acc_train)\n",
    "test.append(acc_test)\n",
    "\n",
    "f1_train = f1_score(y_train, y_pred_train)\n",
    "f1_test = f1_score(y_test, y_pred_test)\n",
    "train.append(f1_train)\n",
    "test.append(f1_test)\n",
    "\n",
    "roc_auc_train = roc_auc_score(y_train, y_pred_train)\n",
    "roc_auc_test = roc_auc_score(y_test, y_pred_test)\n",
    "train.append(roc_auc_train)\n",
    "test.append(roc_auc_test)\n",
    "\n",
    "metrics_dict = {\"Train\": train, \"Test\": test,}\n",
    "pd.DataFrame(metrics_dict, index=['Accuracy', 'F1-score', 'ROC-AUC'])"
   ]
  },
  {
   "cell_type": "markdown",
   "metadata": {},
   "source": [
    "**Выводы**\n",
    "\n",
    "Accuracy  стала выше аж почти на 0,1. Другие метрики тоже увеличились (даже еще сильнее). Кажется, что эта модель сильнее переобучается, чем все предыдущие (из-за полиномиальных признаков, в том числе). Здесь по всем метрикам видим, что на трейне качество выше, чем на тесте. Тем не менее, качество сильно улучшилось по сравнению с предыдущими моделями."
   ]
  },
  {
   "cell_type": "markdown",
   "metadata": {},
   "source": [
    "SVM"
   ]
  },
  {
   "cell_type": "code",
   "execution_count": 34,
   "metadata": {},
   "outputs": [
    {
     "name": "stderr",
     "output_type": "stream",
     "text": [
      "C:\\miniconsa\\lib\\site-packages\\sklearn\\svm\\_base.py:985: ConvergenceWarning: Liblinear failed to converge, increase the number of iterations.\n",
      "  warnings.warn(\"Liblinear failed to converge, increase \"\n",
      "C:\\miniconsa\\lib\\site-packages\\sklearn\\svm\\_base.py:985: ConvergenceWarning: Liblinear failed to converge, increase the number of iterations.\n",
      "  warnings.warn(\"Liblinear failed to converge, increase \"\n",
      "C:\\miniconsa\\lib\\site-packages\\sklearn\\svm\\_base.py:985: ConvergenceWarning: Liblinear failed to converge, increase the number of iterations.\n",
      "  warnings.warn(\"Liblinear failed to converge, increase \"\n",
      "C:\\miniconsa\\lib\\site-packages\\sklearn\\svm\\_base.py:985: ConvergenceWarning: Liblinear failed to converge, increase the number of iterations.\n",
      "  warnings.warn(\"Liblinear failed to converge, increase \"\n",
      "C:\\miniconsa\\lib\\site-packages\\sklearn\\svm\\_base.py:985: ConvergenceWarning: Liblinear failed to converge, increase the number of iterations.\n",
      "  warnings.warn(\"Liblinear failed to converge, increase \"\n",
      "C:\\miniconsa\\lib\\site-packages\\sklearn\\svm\\_base.py:985: ConvergenceWarning: Liblinear failed to converge, increase the number of iterations.\n",
      "  warnings.warn(\"Liblinear failed to converge, increase \"\n",
      "C:\\miniconsa\\lib\\site-packages\\sklearn\\svm\\_base.py:985: ConvergenceWarning: Liblinear failed to converge, increase the number of iterations.\n",
      "  warnings.warn(\"Liblinear failed to converge, increase \"\n",
      "C:\\miniconsa\\lib\\site-packages\\sklearn\\svm\\_base.py:985: ConvergenceWarning: Liblinear failed to converge, increase the number of iterations.\n",
      "  warnings.warn(\"Liblinear failed to converge, increase \"\n",
      "C:\\miniconsa\\lib\\site-packages\\sklearn\\svm\\_base.py:985: ConvergenceWarning: Liblinear failed to converge, increase the number of iterations.\n",
      "  warnings.warn(\"Liblinear failed to converge, increase \"\n",
      "C:\\miniconsa\\lib\\site-packages\\sklearn\\svm\\_base.py:985: ConvergenceWarning: Liblinear failed to converge, increase the number of iterations.\n",
      "  warnings.warn(\"Liblinear failed to converge, increase \"\n"
     ]
    },
    {
     "data": {
      "text/plain": [
       "{'mean_fit_time': array([0.02379875, 0.13398271, 0.80659933, 0.71402469]),\n",
       " 'std_fit_time': array([0.00277279, 0.02210824, 0.20218618, 0.1127941 ]),\n",
       " 'mean_score_time': array([0.00119243, 0.00262241, 0.00300593, 0.00278511]),\n",
       " 'std_score_time': array([0.00038457, 0.00101333, 0.00109223, 0.00039713]),\n",
       " 'param_C': masked_array(data=[0.001, 0.01, 0.1, 1],\n",
       "              mask=[False, False, False, False],\n",
       "        fill_value='?',\n",
       "             dtype=object),\n",
       " 'params': [{'C': 0.001}, {'C': 0.01}, {'C': 0.1}, {'C': 1}],\n",
       " 'split0_test_score': array([0.85224839, 0.88222698, 0.91220557, 0.9143469 ]),\n",
       " 'split1_test_score': array([0.87152034, 0.89079229, 0.8993576 , 0.90364026]),\n",
       " 'split2_test_score': array([0.87794433, 0.90364026, 0.91862955, 0.91862955]),\n",
       " 'split3_test_score': array([0.88197425, 0.89484979, 0.9055794 , 0.9055794 ]),\n",
       " 'split4_test_score': array([0.87124464, 0.89270386, 0.90987124, 0.91630901]),\n",
       " 'mean_test_score': array([0.87098639, 0.89284264, 0.90912867, 0.91170102]),\n",
       " 'std_test_score': array([0.01020402, 0.0068925 , 0.00645533, 0.00597811]),\n",
       " 'rank_test_score': array([4, 3, 2, 1])}"
      ]
     },
     "execution_count": 34,
     "metadata": {},
     "output_type": "execute_result"
    }
   ],
   "source": [
    "param_grid = {'C': [0.001, 0.01, 0.1, 1]}\n",
    "gridsearch = GridSearchCV(LinearSVC(), param_grid, scoring='accuracy', cv=5)\n",
    "\n",
    "gridsearch.fit(x_train, y_train)\n",
    "gridsearch.cv_results_"
   ]
  },
  {
   "cell_type": "code",
   "execution_count": 35,
   "metadata": {},
   "outputs": [
    {
     "name": "stdout",
     "output_type": "stream",
     "text": [
      "SVM classifier \n",
      "best parameters: LinearSVC(C=1) \n",
      "best score: 0.9117010228745256\n"
     ]
    }
   ],
   "source": [
    "print('SVM classifier','\\nbest parameters:', gridsearch.best_estimator_, '\\nbest score:', gridsearch.best_score_)"
   ]
  },
  {
   "cell_type": "code",
   "execution_count": 36,
   "metadata": {},
   "outputs": [
    {
     "data": {
      "text/html": [
       "<div>\n",
       "<style scoped>\n",
       "    .dataframe tbody tr th:only-of-type {\n",
       "        vertical-align: middle;\n",
       "    }\n",
       "\n",
       "    .dataframe tbody tr th {\n",
       "        vertical-align: top;\n",
       "    }\n",
       "\n",
       "    .dataframe thead th {\n",
       "        text-align: right;\n",
       "    }\n",
       "</style>\n",
       "<table border=\"1\" class=\"dataframe\">\n",
       "  <thead>\n",
       "    <tr style=\"text-align: right;\">\n",
       "      <th></th>\n",
       "      <th>Train</th>\n",
       "      <th>Test</th>\n",
       "    </tr>\n",
       "  </thead>\n",
       "  <tbody>\n",
       "    <tr>\n",
       "      <th>Accuracy</th>\n",
       "      <td>0.929276</td>\n",
       "      <td>0.921000</td>\n",
       "    </tr>\n",
       "    <tr>\n",
       "      <th>F1-score</th>\n",
       "      <td>0.728171</td>\n",
       "      <td>0.663830</td>\n",
       "    </tr>\n",
       "    <tr>\n",
       "      <th>ROC-AUC</th>\n",
       "      <td>0.808625</td>\n",
       "      <td>0.774612</td>\n",
       "    </tr>\n",
       "  </tbody>\n",
       "</table>\n",
       "</div>"
      ],
      "text/plain": [
       "             Train      Test\n",
       "Accuracy  0.929276  0.921000\n",
       "F1-score  0.728171  0.663830\n",
       "ROC-AUC   0.808625  0.774612"
      ]
     },
     "execution_count": 36,
     "metadata": {},
     "output_type": "execute_result"
    }
   ],
   "source": [
    "clf4 = SVC(C=1,kernel='linear') # а щас SVC норм \n",
    "clf4.fit(x_train, y_train)\n",
    "y_pred_train = clf4.predict(x_train)\n",
    "y_pred_test = clf4.predict(x_test)\n",
    "\n",
    "train = []\n",
    "test = []\n",
    "\n",
    "acc_train = accuracy_score(y_train, y_pred_train) \n",
    "acc_test = accuracy_score(y_test, y_pred_test)\n",
    "train.append(acc_train)\n",
    "test.append(acc_test)\n",
    "\n",
    "f1_train = f1_score(y_train, y_pred_train)\n",
    "f1_test = f1_score(y_test, y_pred_test)\n",
    "train.append(f1_train)\n",
    "test.append(f1_test)\n",
    "\n",
    "roc_auc_train = roc_auc_score(y_train, y_pred_train)\n",
    "roc_auc_test = roc_auc_score(y_test, y_pred_test)\n",
    "train.append(roc_auc_train)\n",
    "test.append(roc_auc_test)\n",
    "\n",
    "metrics_dict = {\"Train\": train, \"Test\": test,}\n",
    "pd.DataFrame(metrics_dict, index=['Accuracy', 'F1-score', 'ROC-AUC'])"
   ]
  },
  {
   "cell_type": "markdown",
   "metadata": {},
   "source": [
    "**Выводы**\n",
    "\n",
    "новый SVM по качеству лучше первого SVM. хуже новой лог регрессии по Accuracy на тесте, лучше лог регрессии по F1 и ROC-AUC."
   ]
  },
  {
   "cell_type": "code",
   "execution_count": 37,
   "metadata": {},
   "outputs": [
    {
     "name": "stderr",
     "output_type": "stream",
     "text": [
      "C:\\miniconsa\\lib\\site-packages\\sklearn\\svm\\_base.py:985: ConvergenceWarning: Liblinear failed to converge, increase the number of iterations.\n",
      "  warnings.warn(\"Liblinear failed to converge, increase \"\n"
     ]
    },
    {
     "data": {
      "text/html": [
       "<div>\n",
       "<style scoped>\n",
       "    .dataframe tbody tr th:only-of-type {\n",
       "        vertical-align: middle;\n",
       "    }\n",
       "\n",
       "    .dataframe tbody tr th {\n",
       "        vertical-align: top;\n",
       "    }\n",
       "\n",
       "    .dataframe thead th {\n",
       "        text-align: right;\n",
       "    }\n",
       "</style>\n",
       "<table border=\"1\" class=\"dataframe\">\n",
       "  <thead>\n",
       "    <tr style=\"text-align: right;\">\n",
       "      <th></th>\n",
       "      <th>Train</th>\n",
       "      <th>Test</th>\n",
       "    </tr>\n",
       "  </thead>\n",
       "  <tbody>\n",
       "    <tr>\n",
       "      <th>Accuracy</th>\n",
       "      <td>0.927132</td>\n",
       "      <td>0.921000</td>\n",
       "    </tr>\n",
       "    <tr>\n",
       "      <th>F1-score</th>\n",
       "      <td>0.713805</td>\n",
       "      <td>0.663830</td>\n",
       "    </tr>\n",
       "    <tr>\n",
       "      <th>ROC-AUC</th>\n",
       "      <td>0.796664</td>\n",
       "      <td>0.774612</td>\n",
       "    </tr>\n",
       "  </tbody>\n",
       "</table>\n",
       "</div>"
      ],
      "text/plain": [
       "             Train      Test\n",
       "Accuracy  0.927132  0.921000\n",
       "F1-score  0.713805  0.663830\n",
       "ROC-AUC   0.796664  0.774612"
      ]
     },
     "execution_count": 37,
     "metadata": {},
     "output_type": "execute_result"
    }
   ],
   "source": [
    "clf4 = LinearSVC(C=1)\n",
    "clf4.fit(x_train, y_train)\n",
    "y_pred_train = clf4.predict(x_train)\n",
    "y_pred_test = clf4.predict(x_test)\n",
    "\n",
    "train = []\n",
    "test = []\n",
    "\n",
    "acc_train = accuracy_score(y_train, y_pred_train) \n",
    "acc_test = accuracy_score(y_test, y_pred_test)\n",
    "train.append(acc_train)\n",
    "test.append(acc_test)\n",
    "\n",
    "f1_train = f1_score(y_train, y_pred_train)\n",
    "f1_test = f1_score(y_test, y_pred_test)\n",
    "train.append(f1_train)\n",
    "test.append(f1_test)\n",
    "\n",
    "roc_auc_train = roc_auc_score(y_train, y_pred_train)\n",
    "roc_auc_test = roc_auc_score(y_test, y_pred_test)\n",
    "train.append(roc_auc_train)\n",
    "test.append(roc_auc_test)\n",
    "\n",
    "metrics_dict = {\"Train\": train, \"Test\": test,}\n",
    "pd.DataFrame(metrics_dict, index=['Accuracy', 'F1-score', 'ROC-AUC'])"
   ]
  },
  {
   "cell_type": "markdown",
   "metadata": {},
   "source": [
    "По идее, Linear SVC и SVC с параметром kernel='Linear' - это одно и то же(?). Просто на первой модели до feature selection SVC у меня выдавал странные предсказания, всегда = 0, поэтому был заменен на LinearSVC. Сейчас все ок, обучила оба, качество примерно одинаковое у обоих."
   ]
  },
  {
   "cell_type": "markdown",
   "metadata": {},
   "source": [
    "**Общие выводы:**\n",
    "1) Сначала построили два классификатора: лог регрессию и SVM - у обоих accuracy примерно 0,866. Не было видно, что они как-то сильно переобучены или недообучены. Метрики F1 и ROC-AUC давали сильно низкие результаты (около 0,3 и 0,6, соотвественно).\n",
    "\n",
    "2) На этом этапе лучше справилась лог регрессия.\n",
    "\n",
    "3) Потом провели feature selection. Убрали по одному признаку из каждой пары таких, которые сильно коррелируют между собой. Потом убрали два признака, которые слабее всего коррелируют с таргетом. \n",
    "\n",
    "4) Сгенерировали на основе оставшихся полиномиальные признаки второй степени. \n",
    "\n",
    "5) Запустили снова те же модели. \n",
    "\n",
    "6) Новые модели сильно улучшили качество.\n",
    "\n",
    "7) Но у меня есть подозрение, что они переобучаются сильнее первых двух.\n",
    "\n",
    "8) Выбор лучшей из двух последних моделей (лог регрессия и svm с полиномиальными признаками) будет осуществляться за счет того, какая метрика для нас важнее. Если accuracy - выигрывает логистическая регрессия. Если F1 или ROC-AUC - SVM показал лучшее качество на тестовой выборке. \n"
   ]
  },
  {
   "cell_type": "markdown",
   "metadata": {},
   "source": [
    "## Часть 2. Оценка качества моделей классификации (5 баллов).\n",
    "\n",
    "* Колонки 0, 1, ..., 13 - анонимизированные характеристики клиентов (некоторые числовые, некоторые категориальные). \n",
    "* Target - целевая переменная: 1 - выдать кредит, 0 - не выдать кредит.\n",
    "\n",
    "На этих данных было обучено три различных алгоритма классификации и получены предсказания:\n",
    "* pred1_probs - предсказанные вероятности положительного класса, полученные алгоритмом 1.\n",
    "* pred1_classes - предсказанные алгоритмом 1 классы\n",
    "* pred2_probs, pred2_classes, pred3_probs, pred3_classes - аналогичные величины для алгоритмов 2 и 3\n",
    "\n",
    "Наша задача - оценить качество каждого из трех алгоритмов и разобраться, какой из алгоритмов лучше всего работает в данной задаче."
   ]
  },
  {
   "cell_type": "code",
   "execution_count": 38,
   "metadata": {},
   "outputs": [
    {
     "data": {
      "text/html": [
       "<div>\n",
       "<style scoped>\n",
       "    .dataframe tbody tr th:only-of-type {\n",
       "        vertical-align: middle;\n",
       "    }\n",
       "\n",
       "    .dataframe tbody tr th {\n",
       "        vertical-align: top;\n",
       "    }\n",
       "\n",
       "    .dataframe thead th {\n",
       "        text-align: right;\n",
       "    }\n",
       "</style>\n",
       "<table border=\"1\" class=\"dataframe\">\n",
       "  <thead>\n",
       "    <tr style=\"text-align: right;\">\n",
       "      <th></th>\n",
       "      <th>0</th>\n",
       "      <th>1</th>\n",
       "      <th>2</th>\n",
       "      <th>3</th>\n",
       "      <th>4</th>\n",
       "      <th>5</th>\n",
       "      <th>6</th>\n",
       "      <th>7</th>\n",
       "      <th>8</th>\n",
       "      <th>9</th>\n",
       "      <th>...</th>\n",
       "      <th>11</th>\n",
       "      <th>12</th>\n",
       "      <th>13</th>\n",
       "      <th>target</th>\n",
       "      <th>pred1_probs</th>\n",
       "      <th>pred1_classes</th>\n",
       "      <th>pred2_probs</th>\n",
       "      <th>pred2_classes</th>\n",
       "      <th>pred3_probs</th>\n",
       "      <th>pred3_classes</th>\n",
       "    </tr>\n",
       "  </thead>\n",
       "  <tbody>\n",
       "    <tr>\n",
       "      <th>0</th>\n",
       "      <td>1</td>\n",
       "      <td>22.08</td>\n",
       "      <td>11.46</td>\n",
       "      <td>2</td>\n",
       "      <td>4</td>\n",
       "      <td>4</td>\n",
       "      <td>1.585</td>\n",
       "      <td>0</td>\n",
       "      <td>0</td>\n",
       "      <td>0</td>\n",
       "      <td>...</td>\n",
       "      <td>2</td>\n",
       "      <td>100</td>\n",
       "      <td>1213</td>\n",
       "      <td>0</td>\n",
       "      <td>0.506772</td>\n",
       "      <td>1</td>\n",
       "      <td>0.610853</td>\n",
       "      <td>1</td>\n",
       "      <td>0.375494</td>\n",
       "      <td>0</td>\n",
       "    </tr>\n",
       "    <tr>\n",
       "      <th>1</th>\n",
       "      <td>0</td>\n",
       "      <td>22.67</td>\n",
       "      <td>7.00</td>\n",
       "      <td>2</td>\n",
       "      <td>8</td>\n",
       "      <td>4</td>\n",
       "      <td>0.165</td>\n",
       "      <td>0</td>\n",
       "      <td>0</td>\n",
       "      <td>0</td>\n",
       "      <td>...</td>\n",
       "      <td>2</td>\n",
       "      <td>160</td>\n",
       "      <td>1</td>\n",
       "      <td>0</td>\n",
       "      <td>0.358519</td>\n",
       "      <td>0</td>\n",
       "      <td>0.185941</td>\n",
       "      <td>0</td>\n",
       "      <td>0.200975</td>\n",
       "      <td>0</td>\n",
       "    </tr>\n",
       "    <tr>\n",
       "      <th>2</th>\n",
       "      <td>0</td>\n",
       "      <td>29.58</td>\n",
       "      <td>1.75</td>\n",
       "      <td>1</td>\n",
       "      <td>4</td>\n",
       "      <td>4</td>\n",
       "      <td>1.250</td>\n",
       "      <td>0</td>\n",
       "      <td>0</td>\n",
       "      <td>0</td>\n",
       "      <td>...</td>\n",
       "      <td>2</td>\n",
       "      <td>280</td>\n",
       "      <td>1</td>\n",
       "      <td>0</td>\n",
       "      <td>0.358753</td>\n",
       "      <td>0</td>\n",
       "      <td>0.523009</td>\n",
       "      <td>1</td>\n",
       "      <td>0.160465</td>\n",
       "      <td>0</td>\n",
       "    </tr>\n",
       "    <tr>\n",
       "      <th>3</th>\n",
       "      <td>0</td>\n",
       "      <td>21.67</td>\n",
       "      <td>11.50</td>\n",
       "      <td>1</td>\n",
       "      <td>5</td>\n",
       "      <td>3</td>\n",
       "      <td>0.000</td>\n",
       "      <td>1</td>\n",
       "      <td>1</td>\n",
       "      <td>11</td>\n",
       "      <td>...</td>\n",
       "      <td>2</td>\n",
       "      <td>0</td>\n",
       "      <td>1</td>\n",
       "      <td>1</td>\n",
       "      <td>0.408729</td>\n",
       "      <td>0</td>\n",
       "      <td>0.185941</td>\n",
       "      <td>0</td>\n",
       "      <td>0.357771</td>\n",
       "      <td>0</td>\n",
       "    </tr>\n",
       "    <tr>\n",
       "      <th>4</th>\n",
       "      <td>1</td>\n",
       "      <td>20.17</td>\n",
       "      <td>8.17</td>\n",
       "      <td>2</td>\n",
       "      <td>6</td>\n",
       "      <td>4</td>\n",
       "      <td>1.960</td>\n",
       "      <td>1</td>\n",
       "      <td>1</td>\n",
       "      <td>14</td>\n",
       "      <td>...</td>\n",
       "      <td>2</td>\n",
       "      <td>60</td>\n",
       "      <td>159</td>\n",
       "      <td>1</td>\n",
       "      <td>0.480904</td>\n",
       "      <td>0</td>\n",
       "      <td>0.526646</td>\n",
       "      <td>1</td>\n",
       "      <td>0.260169</td>\n",
       "      <td>0</td>\n",
       "    </tr>\n",
       "  </tbody>\n",
       "</table>\n",
       "<p>5 rows × 21 columns</p>\n",
       "</div>"
      ],
      "text/plain": [
       "   0      1      2  3  4  5      6  7  8   9  ...  11   12    13  target  \\\n",
       "0  1  22.08  11.46  2  4  4  1.585  0  0   0  ...   2  100  1213       0   \n",
       "1  0  22.67   7.00  2  8  4  0.165  0  0   0  ...   2  160     1       0   \n",
       "2  0  29.58   1.75  1  4  4  1.250  0  0   0  ...   2  280     1       0   \n",
       "3  0  21.67  11.50  1  5  3  0.000  1  1  11  ...   2    0     1       1   \n",
       "4  1  20.17   8.17  2  6  4  1.960  1  1  14  ...   2   60   159       1   \n",
       "\n",
       "   pred1_probs  pred1_classes  pred2_probs  pred2_classes  pred3_probs  \\\n",
       "0     0.506772              1     0.610853              1     0.375494   \n",
       "1     0.358519              0     0.185941              0     0.200975   \n",
       "2     0.358753              0     0.523009              1     0.160465   \n",
       "3     0.408729              0     0.185941              0     0.357771   \n",
       "4     0.480904              0     0.526646              1     0.260169   \n",
       "\n",
       "   pred3_classes  \n",
       "0              0  \n",
       "1              0  \n",
       "2              0  \n",
       "3              0  \n",
       "4              0  \n",
       "\n",
       "[5 rows x 21 columns]"
      ]
     },
     "execution_count": 38,
     "metadata": {},
     "output_type": "execute_result"
    }
   ],
   "source": [
    "df = pd.read_csv(\"credit_scoring_example1.csv\")\n",
    "df.head()"
   ]
  },
  {
   "cell_type": "code",
   "execution_count": 39,
   "metadata": {},
   "outputs": [
    {
     "data": {
      "text/plain": [
       "(689, 21)"
      ]
     },
     "execution_count": 39,
     "metadata": {},
     "output_type": "execute_result"
    }
   ],
   "source": [
    "df.shape"
   ]
  },
  {
   "cell_type": "markdown",
   "metadata": {},
   "source": [
    "**Задание 1.** Проверьте target на сбалансированность по классам, сделайте вывод."
   ]
  },
  {
   "cell_type": "code",
   "execution_count": 40,
   "metadata": {},
   "outputs": [
    {
     "data": {
      "text/plain": [
       "0    382\n",
       "1    307\n",
       "Name: target, dtype: int64"
      ]
     },
     "execution_count": 40,
     "metadata": {},
     "output_type": "execute_result"
    }
   ],
   "source": [
    "df.target.value_counts()"
   ]
  },
  {
   "cell_type": "code",
   "execution_count": 41,
   "metadata": {},
   "outputs": [
    {
     "name": "stdout",
     "output_type": "stream",
     "text": [
      "доля класса 0: 0.5544267053701016 \n",
      "доля класса 1: 0.4455732946298984\n"
     ]
    }
   ],
   "source": [
    "print('доля класса 0:', len(df[df['target']==0])/df.shape[0], '\\nдоля класса 1:', len(df[df['target']==1])/df.shape[0])"
   ]
  },
  {
   "cell_type": "markdown",
   "metadata": {},
   "source": [
    "Классы почти идеально сбалансированы. Доля каждого класса около 50%. Наблюдений в классе 0 немного больше, чем в классе 1."
   ]
  },
  {
   "cell_type": "markdown",
   "metadata": {},
   "source": [
    "**Задание 2.** Вычислите accuracy - долю правильных ответов каждого из алгоритмов. Какой алгоритм имеет наибольшую accuracy?"
   ]
  },
  {
   "cell_type": "code",
   "execution_count": 42,
   "metadata": {},
   "outputs": [
    {
     "name": "stdout",
     "output_type": "stream",
     "text": [
      "Accuracy 1: 0.6618287373004355 \n",
      "Accuracy 2: 0.6719883889695211 \n",
      "Accuracy 3: 0.6400580551523948\n"
     ]
    }
   ],
   "source": [
    "acc_1 = accuracy_score(df['target'],df['pred1_classes'])\n",
    "acc_2 = accuracy_score(df['target'],df['pred2_classes'])\n",
    "acc_3 = accuracy_score(df['target'],df['pred3_classes'])\n",
    "print('Accuracy 1:', acc_1, '\\nAccuracy 2:', acc_2, '\\nAccuracy 3:', acc_3)"
   ]
  },
  {
   "cell_type": "markdown",
   "metadata": {},
   "source": [
    "Второй алгоритм лучший по accuracy."
   ]
  },
  {
   "cell_type": "markdown",
   "metadata": {},
   "source": [
    "**Задание 3.** Теперь вычислите точность и полноту каждого из алгоритмов."
   ]
  },
  {
   "cell_type": "code",
   "execution_count": 43,
   "metadata": {},
   "outputs": [
    {
     "data": {
      "text/html": [
       "<div>\n",
       "<style scoped>\n",
       "    .dataframe tbody tr th:only-of-type {\n",
       "        vertical-align: middle;\n",
       "    }\n",
       "\n",
       "    .dataframe tbody tr th {\n",
       "        vertical-align: top;\n",
       "    }\n",
       "\n",
       "    .dataframe thead th {\n",
       "        text-align: right;\n",
       "    }\n",
       "</style>\n",
       "<table border=\"1\" class=\"dataframe\">\n",
       "  <thead>\n",
       "    <tr style=\"text-align: right;\">\n",
       "      <th></th>\n",
       "      <th>Recall</th>\n",
       "      <th>Precision</th>\n",
       "    </tr>\n",
       "  </thead>\n",
       "  <tbody>\n",
       "    <tr>\n",
       "      <th>1</th>\n",
       "      <td>0.436482</td>\n",
       "      <td>0.690722</td>\n",
       "    </tr>\n",
       "    <tr>\n",
       "      <th>2</th>\n",
       "      <td>0.729642</td>\n",
       "      <td>0.610354</td>\n",
       "    </tr>\n",
       "    <tr>\n",
       "      <th>3</th>\n",
       "      <td>0.348534</td>\n",
       "      <td>0.690323</td>\n",
       "    </tr>\n",
       "  </tbody>\n",
       "</table>\n",
       "</div>"
      ],
      "text/plain": [
       "     Recall  Precision\n",
       "1  0.436482   0.690722\n",
       "2  0.729642   0.610354\n",
       "3  0.348534   0.690323"
      ]
     },
     "execution_count": 43,
     "metadata": {},
     "output_type": "execute_result"
    }
   ],
   "source": [
    "from sklearn.metrics import recall_score\n",
    "from sklearn.metrics import precision_score\n",
    "\n",
    "clf = [1,2,3]\n",
    "recall = []\n",
    "precision = []\n",
    "for column in ['pred1_classes', 'pred2_classes', 'pred3_classes']:\n",
    "    rec = recall_score(df['target'],df[column])\n",
    "    recall.append(rec)\n",
    "    prec = precision_score(df['target'],df[column])\n",
    "    precision.append(prec)\n",
    "    \n",
    "metrics_dict = {\"Recall\": recall, \"Precision\": precision,}\n",
    "pd.DataFrame(metrics_dict, index=clf)"
   ]
  },
  {
   "cell_type": "markdown",
   "metadata": {},
   "source": [
    "Лучшая полнота - у второго алгоритма. Лучшая точность - у первого."
   ]
  },
  {
   "cell_type": "markdown",
   "metadata": {},
   "source": [
    "Самым полезным инструментом в практических задачах является ***матрица ошибок***. Смотря на неё и регулируя порог, определяющий классы, мы можем достичь оптимального решения нашей задачи.\n",
    "\n",
    "**Задание 4.** Используя функцию plot_confusion_matrix для визуализации матрицы ошибок, нарисуйте матрицы ошибок всех трех алгоритмов."
   ]
  },
  {
   "cell_type": "code",
   "execution_count": 44,
   "metadata": {},
   "outputs": [],
   "source": [
    "import itertools\n",
    "from sklearn.metrics import confusion_matrix\n",
    "\n",
    "def plot_confusion_matrix(cm, classes,\n",
    "                          normalize=False,\n",
    "                          title='Confusion matrix',\n",
    "                          cmap=plt.cm.Blues):\n",
    " \n",
    "    plt.imshow(cm, interpolation='nearest', cmap=cmap)\n",
    "    plt.title(title)\n",
    "    plt.colorbar()\n",
    "    tick_marks = np.arange(len(classes))\n",
    "    plt.xticks(tick_marks, classes, rotation=45)\n",
    "    plt.yticks(tick_marks, classes)\n",
    " \n",
    "    fmt = '.2f' if normalize else 'd'\n",
    "    thresh = cm.max() / 2.\n",
    "    for i, j in itertools.product(range(cm.shape[0]), range(cm.shape[1])):\n",
    "        plt.text(j, i, format(cm[i, j], fmt),\n",
    "                 horizontalalignment=\"center\",\n",
    "                 color=\"white\" if cm[i, j] > thresh else \"black\")\n",
    " \n",
    "    plt.tight_layout()\n",
    "    plt.ylabel('True label')\n",
    "    plt.xlabel('Predicted label')"
   ]
  },
  {
   "cell_type": "code",
   "execution_count": 45,
   "metadata": {},
   "outputs": [
    {
     "data": {
      "image/png": "[encoded data removed]",
      "text/plain": [
       "<Figure size 432x288 with 2 Axes>"
      ]
     },
     "metadata": {
      "needs_background": "light"
     },
     "output_type": "display_data"
    }
   ],
   "source": [
    "plot_confusion_matrix(confusion_matrix(df['target'],df['pred1_classes']), [1,0])"
   ]
  },
  {
   "cell_type": "code",
   "execution_count": 46,
   "metadata": {},
   "outputs": [
    {
     "data": {
      "image/png": "[encoded data removed]",
      "text/plain": [
       "<Figure size 432x288 with 2 Axes>"
      ]
     },
     "metadata": {
      "needs_background": "light"
     },
     "output_type": "display_data"
    }
   ],
   "source": [
    "plot_confusion_matrix(confusion_matrix(df['target'],df['pred2_classes']), [1,0])"
   ]
  },
  {
   "cell_type": "code",
   "execution_count": 47,
   "metadata": {},
   "outputs": [
    {
     "data": {
      "image/png": "[encoded data removed]",
      "text/plain": [
       "<Figure size 432x288 with 2 Axes>"
      ]
     },
     "metadata": {
      "needs_background": "light"
     },
     "output_type": "display_data"
    }
   ],
   "source": [
    "plot_confusion_matrix(confusion_matrix(df['target'],df['pred3_classes']), [1,0])"
   ]
  },
  {
   "cell_type": "markdown",
   "metadata": {},
   "source": [
    "Давайте определимся с целями нашего предсказания:\n",
    "    \n",
    "* **Вариант 1**: хотим выдать кредит максимальному числу людей среди тех, кто мог бы его вернуть. При этом не хотим много ошибаться (общее число ошибок не более 35%).\n",
    "  \n",
    "1) Мы не хотим, чтобы алгоритм много ошибался: accuracy $\\geq$ 0.65.\n",
    "\n",
    "2) Кроме того полнота должна быть как можно больше (число в левом нижнем квадрате матрицы ошибок минимально).\n",
    "\n",
    "**Задание 5.** Для каждого алгоритма найдите такой порог принятия решения, чтобы выполнялись перечисленные выше условия. Какой максимальной полноты можно добиться у каждой из моделей при условии, что accuracy $\\geq$ 0.65?\n",
    "\n",
    "**Комментарий:** порог можно искать в цикле с небольшим шагом."
   ]
  },
  {
   "cell_type": "markdown",
   "metadata": {},
   "source": [
    "Первый классификатор:"
   ]
  },
  {
   "cell_type": "markdown",
   "metadata": {},
   "source": [
    "Я ищу так: сначала перебираю числа от 0 до 1 с шагом 0.1. Нахожу среди них такое, которое максимизирует нужную метрику (при этом, чтобы соблюдалось условие на accuracy). Потом ищу более точное значение порога (с шагом 0.01) рядом с тем, которое получили на предыдущем шаге."
   ]
  },
  {
   "cell_type": "code",
   "execution_count": 48,
   "metadata": {},
   "outputs": [
    {
     "name": "stdout",
     "output_type": "stream",
     "text": [
      "[0.4, 0.5] [0.6579804560260586, 0.4364820846905538]\n",
      "Порог для max полноты: 0.4\n"
     ]
    }
   ],
   "source": [
    "thres_list = []\n",
    "recall_list = []\n",
    "for threshold in [n * 1/10 for n in range(0,11)]:\n",
    "    y_pred_1 = np.where(df.pred1_probs >= threshold, 1, 0)\n",
    "    acc = accuracy_score(df['target'], y_pred_1)\n",
    "    rec = recall_score(df['target'], y_pred_1)\n",
    "    if acc >= 0.65:\n",
    "        thres_list.append(threshold)\n",
    "        recall_list.append(rec)\n",
    "print(thres_list, recall_list)\n",
    "print('Порог для max полноты:', thres_list[recall_list.index(max(recall_list))])"
   ]
  },
  {
   "cell_type": "code",
   "execution_count": 49,
   "metadata": {},
   "outputs": [
    {
     "name": "stdout",
     "output_type": "stream",
     "text": [
      "[0.36, 0.37, 0.38, 0.39, 0.4] [0.742671009771987, 0.7296416938110749, 0.7035830618892508, 0.6807817589576547, 0.6579804560260586]\n",
      "Порог для max полноты: 0.36\n"
     ]
    }
   ],
   "source": [
    "thres_list = []\n",
    "recall_list = []\n",
    "for threshold in [0.3 + n * 1/100 for n in range(0,11)]:\n",
    "    y_pred_1 = np.where(df.pred1_probs >= threshold, 1, 0)\n",
    "    acc = accuracy_score(df['target'], y_pred_1)\n",
    "    rec = recall_score(df['target'], y_pred_1)\n",
    "    if acc >= 0.65:\n",
    "        thres_list.append(threshold)\n",
    "        recall_list.append(rec)\n",
    "print(thres_list, recall_list)\n",
    "print('Порог для max полноты:', thres_list[recall_list.index(max(recall_list))])"
   ]
  },
  {
   "cell_type": "code",
   "execution_count": 50,
   "metadata": {},
   "outputs": [
    {
     "name": "stdout",
     "output_type": "stream",
     "text": [
      "[0.359, 0.36] [0.745928338762215, 0.742671009771987]\n",
      "Порог для max полноты: 0.359\n"
     ]
    }
   ],
   "source": [
    "thres_list = []\n",
    "recall_list = []\n",
    "for threshold in [0.35 + n * 1/1000 for n in range(0,11)]:\n",
    "    y_pred_1 = np.where(df.pred1_probs >= threshold, 1, 0)\n",
    "    acc = accuracy_score(df['target'], y_pred_1)\n",
    "    rec = recall_score(df['target'], y_pred_1)\n",
    "    if acc >= 0.65:\n",
    "        thres_list.append(threshold)\n",
    "        recall_list.append(rec)\n",
    "print(thres_list, recall_list)\n",
    "print('Порог для max полноты:', thres_list[recall_list.index(max(recall_list))])"
   ]
  },
  {
   "cell_type": "markdown",
   "metadata": {},
   "source": [
    "0.359 порог. Остановимся на этом?"
   ]
  },
  {
   "cell_type": "code",
   "execution_count": 51,
   "metadata": {},
   "outputs": [],
   "source": [
    "y_pred_1 = np.where(df.pred1_probs >= 0.359, 1, 0)"
   ]
  },
  {
   "cell_type": "markdown",
   "metadata": {},
   "source": [
    "Второй классификатор"
   ]
  },
  {
   "cell_type": "code",
   "execution_count": 52,
   "metadata": {},
   "outputs": [
    {
     "name": "stdout",
     "output_type": "stream",
     "text": [
      "[0.3, 0.4, 0.5, 0.6, 0.7] [0.8371335504885994, 0.7980456026058632, 0.7296416938110749, 0.5179153094462541, 0.2964169381107492]\n",
      "Порог для max полноты: 0.3\n"
     ]
    }
   ],
   "source": [
    "thres_list = []\n",
    "recall_list = []\n",
    "for threshold in [n * 1/10 for n in range(0,11)]:\n",
    "    y_pred_2 = np.where(df.pred2_probs >= threshold, 1, 0)\n",
    "    acc = accuracy_score(df['target'], y_pred_2)\n",
    "    rec = recall_score(df['target'], y_pred_2)\n",
    "    if acc >= 0.65:\n",
    "        thres_list.append(threshold)\n",
    "        recall_list.append(rec)\n",
    "print(thres_list, recall_list)\n",
    "print('Порог для max полноты:', thres_list[recall_list.index(max(recall_list))])"
   ]
  },
  {
   "cell_type": "code",
   "execution_count": 53,
   "metadata": {},
   "outputs": [
    {
     "name": "stdout",
     "output_type": "stream",
     "text": [
      "[0.27, 0.28, 0.29000000000000004, 0.30000000000000004] [0.8371335504885994, 0.8371335504885994, 0.8371335504885994, 0.8371335504885994]\n",
      "Порог для max полноты: 0.27\n"
     ]
    }
   ],
   "source": [
    "thres_list = []\n",
    "recall_list = []\n",
    "for threshold in [0.2 + n * 1/100 for n in range(0,11)]:\n",
    "    y_pred_2 = np.where(df.pred2_probs >= threshold, 1, 0)\n",
    "    acc = accuracy_score(df['target'], y_pred_2)\n",
    "    rec = recall_score(df['target'], y_pred_2)\n",
    "    if acc >= 0.65:\n",
    "        thres_list.append(threshold)\n",
    "        recall_list.append(rec)\n",
    "print(thres_list, recall_list)\n",
    "print('Порог для max полноты:', thres_list[recall_list.index(max(recall_list))])"
   ]
  },
  {
   "cell_type": "markdown",
   "metadata": {},
   "source": [
    "0,27 порог "
   ]
  },
  {
   "cell_type": "code",
   "execution_count": 54,
   "metadata": {},
   "outputs": [],
   "source": [
    "y_pred_2 = np.where(df.pred2_probs >= 0.27, 1, 0)"
   ]
  },
  {
   "cell_type": "markdown",
   "metadata": {},
   "source": [
    "третий классификатор "
   ]
  },
  {
   "cell_type": "code",
   "execution_count": 55,
   "metadata": {},
   "outputs": [
    {
     "name": "stdout",
     "output_type": "stream",
     "text": [
      "[] []\n"
     ]
    }
   ],
   "source": [
    "thres_list = []\n",
    "recall_list = []\n",
    "for threshold in [n * 1/10 for n in range(0,11)]:\n",
    "    y_pred_3 = np.where(df.pred3_probs >= threshold, 1, 0)\n",
    "    acc = accuracy_score(df['target'], y_pred_3)\n",
    "    rec = recall_score(df['target'], y_pred_3)\n",
    "    if acc >= 0.65:\n",
    "        thres_list.append(threshold)\n",
    "        recall_list.append(rec)\n",
    "print(thres_list, recall_list)\n",
    "# print('Порог для max полноты:', thres_list[recall_list.index(max(recall_list))])"
   ]
  },
  {
   "cell_type": "markdown",
   "metadata": {},
   "source": [
    "Тут не достигается accuracy 0.65. Поэтому оба списка оказались пустыми и мы не нашли порога, который удовлетворял бы условию задачи."
   ]
  },
  {
   "cell_type": "markdown",
   "metadata": {},
   "source": [
    "**Задание 6.** Визуализируйте матрицу ошибок для каждого из трех алгоритмов с подобранным порогом."
   ]
  },
  {
   "cell_type": "code",
   "execution_count": 56,
   "metadata": {},
   "outputs": [
    {
     "data": {
      "image/png": "[encoded data removed]",
      "text/plain": [
       "<Figure size 432x288 with 2 Axes>"
      ]
     },
     "metadata": {
      "needs_background": "light"
     },
     "output_type": "display_data"
    }
   ],
   "source": [
    "plot_confusion_matrix(confusion_matrix(df['target'] ,y_pred_1), [1,0])"
   ]
  },
  {
   "cell_type": "code",
   "execution_count": 57,
   "metadata": {},
   "outputs": [
    {
     "data": {
      "image/png": "[encoded data removed]",
      "text/plain": [
       "<Figure size 432x288 with 2 Axes>"
      ]
     },
     "metadata": {
      "needs_background": "light"
     },
     "output_type": "display_data"
    }
   ],
   "source": [
    "plot_confusion_matrix(confusion_matrix(df['target'] ,y_pred_2), [1,0])"
   ]
  },
  {
   "cell_type": "markdown",
   "metadata": {},
   "source": [
    "**Выводы:** здесь напишите, какая модель лучше всего справилась с поставленной задачей."
   ]
  },
  {
   "cell_type": "markdown",
   "metadata": {},
   "source": [
    "Второй классификатор лучше справился. У него полнота при оптимальном пороге - 0.837. У первого - 0.746."
   ]
  },
  {
   "cell_type": "markdown",
   "metadata": {},
   "source": [
    "Наша цель может звучать и по-другому:\n",
    "    \n",
    "* **Вариант 2**: среди тех, кому модель выдает кредит, должно быть меньше всего ошибок (мало людей, кто его на самом деле не вернет - на них будем терять деньги). \n",
    "    При этом не хотим много ошибаться (общее число ошибок не более 35%).\n",
    "  \n",
    "1) Мы не хотим, чтобы алгоритм много ошибался: accuracy $\\geq$ 0.65.\n",
    "\n",
    "2) Кроме того точность должна быть как можно больше (число в правом верхнем квадрате матрицы ошибок минимально).\n",
    "\n",
    "**Задание 7.** Для каждого алгоритма найдите порог принятия решения, чтобы выполнялись перечисленные выше условия. Какой максимальной точности можно добиться у каждой из моделей при условии, что accuracy $\\geq$ 0.65? "
   ]
  },
  {
   "cell_type": "markdown",
   "metadata": {},
   "source": [
    "первый классификатор"
   ]
  },
  {
   "cell_type": "code",
   "execution_count": 58,
   "metadata": {},
   "outputs": [
    {
     "name": "stdout",
     "output_type": "stream",
     "text": [
      "[0.4, 0.5] [0.6196319018404908, 0.6907216494845361]\n",
      "Порог для max точности: 0.5\n"
     ]
    },
    {
     "name": "stderr",
     "output_type": "stream",
     "text": [
      "C:\\miniconsa\\lib\\site-packages\\sklearn\\metrics\\_classification.py:1245: UndefinedMetricWarning: Precision is ill-defined and being set to 0.0 due to no predicted samples. Use `zero_division` parameter to control this behavior.\n",
      "  _warn_prf(average, modifier, msg_start, len(result))\n"
     ]
    }
   ],
   "source": [
    "thres_list = []\n",
    "precision_list = []\n",
    "for threshold in [n * 1/10 for n in range(0,11)]:\n",
    "    y_pred_1 = np.where(df.pred1_probs >= threshold, 1, 0)\n",
    "    acc = accuracy_score(df['target'], y_pred_1)\n",
    "    prec = precision_score(df['target'], y_pred_1)\n",
    "    if acc >= 0.65:\n",
    "        thres_list.append(threshold)\n",
    "        precision_list.append(prec)\n",
    "print(thres_list, precision_list)\n",
    "print('Порог для max точности:', thres_list[precision_list.index(max(precision_list))])"
   ]
  },
  {
   "cell_type": "code",
   "execution_count": 59,
   "metadata": {},
   "outputs": [
    {
     "name": "stdout",
     "output_type": "stream",
     "text": [
      "[0.4, 0.41000000000000003, 0.42000000000000004, 0.43000000000000005, 0.44, 0.45, 0.46, 0.47000000000000003, 0.48000000000000004, 0.49, 0.5] [0.6196319018404908, 0.6210191082802548, 0.6326530612244898, 0.6363636363636364, 0.6486486486486487, 0.6544715447154471, 0.6609442060085837, 0.6712962962962963, 0.6778846153846154, 0.6919191919191919, 0.6907216494845361]\n",
      "Порог для max точности: 0.49\n"
     ]
    }
   ],
   "source": [
    "thres_list = []\n",
    "precision_list = []\n",
    "for threshold in [0.4 + n * 1/100 for n in range(0,11)]:\n",
    "    y_pred_1 = np.where(df.pred1_probs >= threshold, 1, 0)\n",
    "    acc = accuracy_score(df['target'], y_pred_1)\n",
    "    prec = precision_score(df['target'], y_pred_1)\n",
    "    if acc >= 0.65:\n",
    "        thres_list.append(threshold)\n",
    "        precision_list.append(prec)\n",
    "print(thres_list, precision_list)\n",
    "print('Порог для max точности:', thres_list[precision_list.index(max(precision_list))])"
   ]
  },
  {
   "cell_type": "code",
   "execution_count": 60,
   "metadata": {},
   "outputs": [
    {
     "name": "stdout",
     "output_type": "stream",
     "text": [
      "[0.5, 0.51, 0.52, 0.53, 0.54, 0.55] [0.6907216494845361, 0.7158469945355191, 0.7102272727272727, 0.7272727272727273, 0.7371794871794872, 0.7328767123287672]\n",
      "Порог для max точности: 0.54\n"
     ]
    }
   ],
   "source": [
    "thres_list = []\n",
    "precision_list = []\n",
    "for threshold in [0.5 + n * 1/100 for n in range(0,11)]:\n",
    "    y_pred_1 = np.where(df.pred1_probs >= threshold, 1, 0)\n",
    "    acc = accuracy_score(df['target'], y_pred_1)\n",
    "    prec = precision_score(df['target'], y_pred_1)\n",
    "    if acc >= 0.65:\n",
    "        thres_list.append(threshold)\n",
    "        precision_list.append(prec)\n",
    "print(thres_list, precision_list)\n",
    "print('Порог для max точности:', thres_list[precision_list.index(max(precision_list))])"
   ]
  },
  {
   "cell_type": "code",
   "execution_count": 61,
   "metadata": {},
   "outputs": [
    {
     "name": "stdout",
     "output_type": "stream",
     "text": [
      "[0.54, 0.541, 0.542, 0.543, 0.544, 0.545, 0.546, 0.547, 0.548, 0.549, 0.55] [0.7371794871794872, 0.7337662337662337, 0.7302631578947368, 0.7284768211920529, 0.7284768211920529, 0.7284768211920529, 0.7284768211920529, 0.7333333333333333, 0.7364864864864865, 0.7364864864864865, 0.7328767123287672]\n",
      "Порог для max точности: 0.54\n"
     ]
    }
   ],
   "source": [
    "thres_list = []\n",
    "precision_list = []\n",
    "for threshold in [0.54 + n * 1/1000 for n in range(0,11)]:\n",
    "    y_pred_1 = np.where(df.pred1_probs >= threshold, 1, 0)\n",
    "    acc = accuracy_score(df['target'], y_pred_1)\n",
    "    prec = precision_score(df['target'], y_pred_1)\n",
    "    if acc >= 0.65:\n",
    "        thres_list.append(threshold)\n",
    "        precision_list.append(prec)\n",
    "print(thres_list, precision_list)\n",
    "print('Порог для max точности:', thres_list[precision_list.index(max(precision_list))])"
   ]
  },
  {
   "cell_type": "markdown",
   "metadata": {},
   "source": [
    "порог 0.54. максимальная точность 0.737"
   ]
  },
  {
   "cell_type": "code",
   "execution_count": 62,
   "metadata": {},
   "outputs": [],
   "source": [
    "y_pred_1 = np.where(df.pred1_probs >= 0.54, 1, 0)"
   ]
  },
  {
   "cell_type": "markdown",
   "metadata": {},
   "source": [
    "второй классификатор"
   ]
  },
  {
   "cell_type": "code",
   "execution_count": 63,
   "metadata": {},
   "outputs": [
    {
     "name": "stdout",
     "output_type": "stream",
     "text": [
      "[0.3, 0.4, 0.5, 0.6, 0.7] [0.5962877030162413, 0.6109725685785536, 0.6103542234332425, 0.673728813559322, 0.8125]\n",
      "Порог для max точности: 0.7\n"
     ]
    },
    {
     "name": "stderr",
     "output_type": "stream",
     "text": [
      "C:\\miniconsa\\lib\\site-packages\\sklearn\\metrics\\_classification.py:1245: UndefinedMetricWarning: Precision is ill-defined and being set to 0.0 due to no predicted samples. Use `zero_division` parameter to control this behavior.\n",
      "  _warn_prf(average, modifier, msg_start, len(result))\n"
     ]
    }
   ],
   "source": [
    "thres_list = []\n",
    "precision_list = []\n",
    "for threshold in [n * 1/10 for n in range(0,11)]:\n",
    "    y_pred_2 = np.where(df.pred2_probs >= threshold, 1, 0)\n",
    "    acc = accuracy_score(df['target'], y_pred_2)\n",
    "    prec = precision_score(df['target'], y_pred_2)\n",
    "    if acc >= 0.65:\n",
    "        thres_list.append(threshold)\n",
    "        precision_list.append(prec)\n",
    "print(thres_list, precision_list)\n",
    "print('Порог для max точности:', thres_list[precision_list.index(max(precision_list))])"
   ]
  },
  {
   "cell_type": "code",
   "execution_count": 64,
   "metadata": {},
   "outputs": [
    {
     "name": "stdout",
     "output_type": "stream",
     "text": [
      "[0.7, 0.71, 0.72, 0.73, 0.74, 0.75] [0.8125, 0.8125, 0.8125, 0.8367346938775511, 0.8367346938775511, 0.8367346938775511]\n",
      "Порог для max точности: 0.73\n"
     ]
    }
   ],
   "source": [
    "thres_list = []\n",
    "precision_list = []\n",
    "for threshold in [0.7 + n * 1/100 for n in range(0,11)]:\n",
    "    y_pred_2 = np.where(df.pred2_probs >= threshold, 1, 0)\n",
    "    acc = accuracy_score(df['target'], y_pred_2)\n",
    "    prec = precision_score(df['target'], y_pred_2)\n",
    "    if acc >= 0.65:\n",
    "        thres_list.append(threshold)\n",
    "        precision_list.append(prec)\n",
    "print(thres_list, precision_list)\n",
    "print('Порог для max точности:', thres_list[precision_list.index(max(precision_list))])"
   ]
  },
  {
   "cell_type": "code",
   "execution_count": 65,
   "metadata": {},
   "outputs": [
    {
     "name": "stdout",
     "output_type": "stream",
     "text": [
      "[0.75, 0.751, 0.752, 0.753, 0.754, 0.755, 0.756] [0.8367346938775511, 0.8367346938775511, 0.8367346938775511, 0.8367346938775511, 0.8367346938775511, 0.8367346938775511, 0.8367346938775511]\n",
      "Порог для max точности: 0.75\n"
     ]
    }
   ],
   "source": [
    "thres_list = []\n",
    "precision_list = []\n",
    "for threshold in [0.75 + n * 1/1000 for n in range(0,11)]:\n",
    "    y_pred_2 = np.where(df.pred2_probs >= threshold, 1, 0)\n",
    "    acc = accuracy_score(df['target'], y_pred_2)\n",
    "    prec = precision_score(df['target'], y_pred_2)\n",
    "    if acc >= 0.65:\n",
    "        thres_list.append(threshold)\n",
    "        precision_list.append(prec)\n",
    "print(thres_list, precision_list)\n",
    "print('Порог для max точности:', thres_list[precision_list.index(max(precision_list))])"
   ]
  },
  {
   "cell_type": "markdown",
   "metadata": {},
   "source": [
    "порог 0.75. Максимальная точность 0.837."
   ]
  },
  {
   "cell_type": "code",
   "execution_count": 66,
   "metadata": {},
   "outputs": [],
   "source": [
    "y_pred_2 = np.where(df.pred2_probs >= 0.75, 1, 0)"
   ]
  },
  {
   "cell_type": "code",
   "execution_count": 67,
   "metadata": {},
   "outputs": [
    {
     "name": "stdout",
     "output_type": "stream",
     "text": [
      "[] []\n"
     ]
    }
   ],
   "source": [
    "thres_list = []\n",
    "precision_list = []\n",
    "for threshold in [n * 1/10 for n in range(0,11)]:\n",
    "    y_pred_3 = np.where(df.pred3_probs >= threshold, 1, 0)\n",
    "    acc = accuracy_score(df['target'], y_pred_3)\n",
    "    prec = precision_score(df['target'], y_pred_3)\n",
    "    if acc >= 0.65:\n",
    "        thres_list.append(threshold)\n",
    "        precision_list.append(prec)\n",
    "print(thres_list, precision_list)\n",
    "# print('Порог для max точности:', thres_list[precision_list.index(max(precision_list))])"
   ]
  },
  {
   "cell_type": "markdown",
   "metadata": {},
   "source": [
    "Не достигается accuracy 0.65"
   ]
  },
  {
   "cell_type": "markdown",
   "metadata": {},
   "source": [
    "**Задание 8.** Нарисуйте матрицы ошибок для каждого из алгоритмов с найденными значениями порога. Какая модель лучше всех справилась с этой задачей?"
   ]
  },
  {
   "cell_type": "code",
   "execution_count": 68,
   "metadata": {},
   "outputs": [
    {
     "data": {
      "image/png": "[encoded data removed]",
      "text/plain": [
       "<Figure size 432x288 with 2 Axes>"
      ]
     },
     "metadata": {
      "needs_background": "light"
     },
     "output_type": "display_data"
    }
   ],
   "source": [
    "plot_confusion_matrix(confusion_matrix(df['target'] ,y_pred_1), [1,0])"
   ]
  },
  {
   "cell_type": "code",
   "execution_count": 69,
   "metadata": {},
   "outputs": [
    {
     "data": {
      "image/png": "[encoded data removed]",
      "text/plain": [
       "<Figure size 432x288 with 2 Axes>"
      ]
     },
     "metadata": {
      "needs_background": "light"
     },
     "output_type": "display_data"
    }
   ],
   "source": [
    "plot_confusion_matrix(confusion_matrix(df['target'] ,y_pred_2), [1,0])"
   ]
  },
  {
   "cell_type": "markdown",
   "metadata": {},
   "source": [
    "Лучше всего справилась вторая модель."
   ]
  },
  {
   "cell_type": "markdown",
   "metadata": {},
   "source": [
    "Также (**Вариант 3**) можно потребовать, чтобы и точность, и полнота были высокими, то есть обе ошибки в матрице ошибок были маленькие. Как вариант - можно максимизировать F1-score (среднее гармоническое между точностью и полнотой).\n",
    "\n",
    "**Задание 9.** Найдите пороги для достижения максимального F1-score для каждой из трех моделей и нарисуйте матрицы ошибок. Какая модель решает поставленную задачу лучше остальных?"
   ]
  },
  {
   "cell_type": "markdown",
   "metadata": {},
   "source": [
    "Здесь нужно условие на accuracy?"
   ]
  },
  {
   "cell_type": "markdown",
   "metadata": {},
   "source": [
    "Первый классификатор:"
   ]
  },
  {
   "cell_type": "code",
   "execution_count": 70,
   "metadata": {},
   "outputs": [
    {
     "name": "stdout",
     "output_type": "stream",
     "text": [
      "[0.4, 0.5] [0.6382306477093207, 0.5349301397205589]\n",
      "Порог для max f1: 0.4\n"
     ]
    }
   ],
   "source": [
    "thres_list = []\n",
    "f1_list = []\n",
    "for threshold in [n * 1/10 for n in range(0,11)]:\n",
    "    y_pred_1 = np.where(df.pred1_probs >= threshold, 1, 0)\n",
    "    acc = accuracy_score(df['target'], y_pred_1)\n",
    "    f1 = f1_score(df['target'], y_pred_1)\n",
    "    if acc >= 0.65:\n",
    "        thres_list.append(threshold)\n",
    "        f1_list.append(f1)\n",
    "print(thres_list, f1_list)\n",
    "print('Порог для max f1:', thres_list[f1_list.index(max(f1_list))])"
   ]
  },
  {
   "cell_type": "code",
   "execution_count": 71,
   "metadata": {},
   "outputs": [
    {
     "name": "stdout",
     "output_type": "stream",
     "text": [
      "[0.36, 0.37, 0.38, 0.39, 0.4] [0.6551724137931035, 0.6530612244897959, 0.6428571428571428, 0.6401225114854517, 0.6382306477093207]\n",
      "Порог для max f1: 0.36\n"
     ]
    }
   ],
   "source": [
    "thres_list = []\n",
    "f1_list = []\n",
    "for threshold in [0.3 + n * 1/100 for n in range(0,11)]:\n",
    "    y_pred_1 = np.where(df.pred1_probs >= threshold, 1, 0)\n",
    "    acc = accuracy_score(df['target'], y_pred_1)\n",
    "    f1 = f1_score(df['target'], y_pred_1)\n",
    "    if acc >= 0.65:\n",
    "        thres_list.append(threshold)\n",
    "        f1_list.append(f1)\n",
    "print(thres_list, f1_list)\n",
    "print('Порог для max f1:', thres_list[f1_list.index(max(f1_list))])"
   ]
  },
  {
   "cell_type": "code",
   "execution_count": 72,
   "metadata": {},
   "outputs": [
    {
     "name": "stdout",
     "output_type": "stream",
     "text": [
      "[0.0, 0.1, 0.2, 0.3, 0.4, 0.5, 0.6, 0.7, 0.8, 0.9, 1.0] [0.6164658634538153, 0.6164658634538153, 0.6164658634538153, 0.6527777777777777, 0.6382306477093207, 0.5349301397205589, 0.4141176470588236, 0.3341902313624679, 0.21468926553672318, 0.12650602409638553, 0.0]\n",
      "Порог для max f1: 0.3\n"
     ]
    }
   ],
   "source": [
    "# без условия на accuracy\n",
    "thres_list = []\n",
    "f1_list = []\n",
    "for threshold in [n * 1/10 for n in range(0,11)]:\n",
    "    y_pred_1 = np.where(df.pred1_probs >= threshold, 1, 0)\n",
    "    acc = accuracy_score(df['target'], y_pred_1)\n",
    "    f1 = f1_score(df['target'], y_pred_1)\n",
    "    thres_list.append(threshold)\n",
    "    f1_list.append(f1)\n",
    "print(thres_list, f1_list)\n",
    "print('Порог для max f1:', thres_list[f1_list.index(max(f1_list))])"
   ]
  },
  {
   "cell_type": "code",
   "execution_count": 73,
   "metadata": {},
   "outputs": [
    {
     "name": "stdout",
     "output_type": "stream",
     "text": [
      "[0.3, 0.31, 0.32, 0.32999999999999996, 0.33999999999999997, 0.35, 0.36, 0.37, 0.38, 0.39, 0.4] [0.6527777777777777, 0.6529126213592232, 0.6582914572864321, 0.6657997399219766, 0.672, 0.6648351648351648, 0.6551724137931035, 0.6530612244897959, 0.6428571428571428, 0.6401225114854517, 0.6382306477093207]\n",
      "Порог для max f1: 0.33999999999999997\n"
     ]
    }
   ],
   "source": [
    "# без условия на accuracy\n",
    "thres_list = []\n",
    "f1_list = []\n",
    "for threshold in [0.3 + n * 1/100 for n in range(0,11)]:\n",
    "    y_pred_1 = np.where(df.pred1_probs >= threshold, 1, 0)\n",
    "    acc = accuracy_score(df['target'], y_pred_1)\n",
    "    f1 = f1_score(df['target'], y_pred_1)\n",
    "    thres_list.append(threshold)\n",
    "    f1_list.append(f1)\n",
    "print(thres_list, f1_list)\n",
    "print('Порог для max f1:', thres_list[f1_list.index(max(f1_list))])"
   ]
  },
  {
   "cell_type": "markdown",
   "metadata": {},
   "source": [
    "максимальное значение f1 тут: 0.672"
   ]
  },
  {
   "cell_type": "code",
   "execution_count": 74,
   "metadata": {},
   "outputs": [
    {
     "data": {
      "image/png": "[encoded data removed]",
      "text/plain": [
       "<Figure size 432x288 with 2 Axes>"
      ]
     },
     "metadata": {
      "needs_background": "light"
     },
     "output_type": "display_data"
    }
   ],
   "source": [
    "y_pred_1 = np.where(df.pred1_probs >= 0.34, 1, 0)\n",
    "plot_confusion_matrix(confusion_matrix(df['target'] ,y_pred_1), [1,0])"
   ]
  },
  {
   "cell_type": "markdown",
   "metadata": {},
   "source": [
    "Второй классификатор:"
   ]
  },
  {
   "cell_type": "code",
   "execution_count": 75,
   "metadata": {},
   "outputs": [
    {
     "name": "stdout",
     "output_type": "stream",
     "text": [
      "[0.0, 0.1, 0.2, 0.3, 0.4, 0.5, 0.6, 0.7, 0.8, 0.9, 1.0] [0.6164658634538153, 0.6300518134715025, 0.653061224489796, 0.6964769647696478, 0.6920903954802259, 0.6646884272997032, 0.5856353591160222, 0.43436754176610975, 0.3970223325062035, 0.07523510971786833, 0.0]\n",
      "Порог для max f1: 0.3\n"
     ]
    }
   ],
   "source": [
    "thres_list = []\n",
    "f1_list = []\n",
    "for threshold in [n * 1/10 for n in range(0,11)]:\n",
    "    y_pred_2 = np.where(df.pred2_probs >= threshold, 1, 0)\n",
    "    acc = accuracy_score(df['target'], y_pred_2)\n",
    "    f1 = f1_score(df['target'], y_pred_2)\n",
    "    thres_list.append(threshold)\n",
    "    f1_list.append(f1)\n",
    "print(thres_list, f1_list)\n",
    "print('Порог для max f1:', thres_list[f1_list.index(max(f1_list))])"
   ]
  },
  {
   "cell_type": "code",
   "execution_count": 76,
   "metadata": {},
   "outputs": [
    {
     "name": "stdout",
     "output_type": "stream",
     "text": [
      "[0.2, 0.21000000000000002, 0.22, 0.23, 0.24000000000000002, 0.25, 0.26, 0.27, 0.28, 0.29000000000000004, 0.30000000000000004] [0.653061224489796, 0.653061224489796, 0.653061224489796, 0.653061224489796, 0.65375854214123, 0.65375854214123, 0.6529680365296803, 0.6964769647696478, 0.6964769647696478, 0.6964769647696478, 0.6964769647696478]\n",
      "Порог для max f1: 0.27\n"
     ]
    }
   ],
   "source": [
    "thres_list = []\n",
    "f1_list = []\n",
    "for threshold in [0.2 + n * 1/100 for n in range(0,11)]:\n",
    "    y_pred_2 = np.where(df.pred2_probs >= threshold, 1, 0)\n",
    "    acc = accuracy_score(df['target'], y_pred_2)\n",
    "    f1 = f1_score(df['target'], y_pred_2)\n",
    "    thres_list.append(threshold)\n",
    "    f1_list.append(f1)\n",
    "print(thres_list, f1_list)\n",
    "print('Порог для max f1:', thres_list[f1_list.index(max(f1_list))])"
   ]
  },
  {
   "cell_type": "markdown",
   "metadata": {},
   "source": [
    "максимальное значение f1 тут: 0.696"
   ]
  },
  {
   "cell_type": "code",
   "execution_count": 77,
   "metadata": {},
   "outputs": [
    {
     "data": {
      "image/png": "[encoded data removed]",
      "text/plain": [
       "<Figure size 432x288 with 2 Axes>"
      ]
     },
     "metadata": {
      "needs_background": "light"
     },
     "output_type": "display_data"
    }
   ],
   "source": [
    "y_pred_2 = np.where(df.pred2_probs >= 0.27, 1, 0)\n",
    "plot_confusion_matrix(confusion_matrix(df['target'] ,y_pred_2), [1,0])"
   ]
  },
  {
   "cell_type": "markdown",
   "metadata": {},
   "source": [
    "Третий классификатор:"
   ]
  },
  {
   "cell_type": "code",
   "execution_count": 78,
   "metadata": {},
   "outputs": [
    {
     "name": "stdout",
     "output_type": "stream",
     "text": [
      "[0.0, 0.1, 0.2, 0.3, 0.4, 0.5, 0.6, 0.7, 0.8, 0.9, 1.0] [0.6164658634538153, 0.6164658634538153, 0.6253602305475504, 0.5543859649122808, 0.5100401606425703, 0.4632034632034632, 0.4328018223234624, 0.3846153846153846, 0.34975369458128075, 0.3144329896907217, 0.012944983818770227]\n",
      "Порог для max f1: 0.2\n"
     ]
    }
   ],
   "source": [
    "thres_list = []\n",
    "f1_list = []\n",
    "for threshold in [n * 1/10 for n in range(0,11)]:\n",
    "    y_pred_3 = np.where(df.pred3_probs >= threshold, 1, 0)\n",
    "    acc = accuracy_score(df['target'], y_pred_3)\n",
    "    f1 = f1_score(df['target'], y_pred_3)\n",
    "    thres_list.append(threshold)\n",
    "    f1_list.append(f1)\n",
    "print(thres_list, f1_list)\n",
    "print('Порог для max f1:', thres_list[f1_list.index(max(f1_list))])"
   ]
  },
  {
   "cell_type": "markdown",
   "metadata": {},
   "source": [
    "максимальное значение f1 тут: 0.625"
   ]
  },
  {
   "cell_type": "code",
   "execution_count": 79,
   "metadata": {},
   "outputs": [
    {
     "data": {
      "image/png": "[encoded data removed]",
      "text/plain": [
       "<Figure size 432x288 with 2 Axes>"
      ]
     },
     "metadata": {
      "needs_background": "light"
     },
     "output_type": "display_data"
    }
   ],
   "source": [
    "y_pred_3 = np.where(df.pred3_probs >= 0.2, 1, 0)\n",
    "plot_confusion_matrix(confusion_matrix(df['target'] ,y_pred_3), [1,0])"
   ]
  },
  {
   "cell_type": "markdown",
   "metadata": {},
   "source": [
    "Лучше всего справилась вторая модель"
   ]
  },
  {
   "cell_type": "markdown",
   "metadata": {},
   "source": [
    "#### Кстати\n",
    "\n",
    "В python есть удобная функция classification_report, которая выводит значения нескольких метрик."
   ]
  },
  {
   "cell_type": "code",
   "execution_count": 80,
   "metadata": {},
   "outputs": [
    {
     "name": "stdout",
     "output_type": "stream",
     "text": [
      "              precision    recall  f1-score   support\n",
      "\n",
      "           0       0.65      0.84      0.73       382\n",
      "           1       0.69      0.44      0.53       307\n",
      "\n",
      "    accuracy                           0.66       689\n",
      "   macro avg       0.67      0.64      0.63       689\n",
      "weighted avg       0.67      0.66      0.65       689\n",
      "\n"
     ]
    }
   ],
   "source": [
    "from sklearn.metrics import classification_report\n",
    "\n",
    "print(classification_report(df['target'],df['pred1_classes']))"
   ]
  },
  {
   "cell_type": "markdown",
   "metadata": {},
   "source": [
    "### Обучим свою модель для предсказания target.\n",
    "\n",
    "**Задание 10.** Отнормируйте признаки в задаче и обучите логистическую регрессию предсказывать target."
   ]
  },
  {
   "cell_type": "code",
   "execution_count": 81,
   "metadata": {},
   "outputs": [],
   "source": [
    "X = df.iloc[:, 0:14]\n",
    "scaler = StandardScaler()\n",
    "X_standard = scaler.fit_transform(X)\n",
    "\n",
    "y = df.target"
   ]
  },
  {
   "cell_type": "code",
   "execution_count": 82,
   "metadata": {},
   "outputs": [
    {
     "name": "stdout",
     "output_type": "stream",
     "text": [
      "Accuracy 0.8780841799709724\n"
     ]
    }
   ],
   "source": [
    "clf = LogisticRegression()\n",
    "clf.fit(X_standard, y)\n",
    "\n",
    "y_pred = clf.predict(X_standard)\n",
    "pred_probs = clf.predict_proba(X_standard)\n",
    "acc = accuracy_score(y, y_pred)\n",
    "\n",
    "print('Accuracy', acc)"
   ]
  },
  {
   "cell_type": "code",
   "execution_count": 83,
   "metadata": {},
   "outputs": [
    {
     "data": {
      "text/plain": [
       "array([0, 0, 0, 1, 1, 1, 0, 1, 0, 1, 1, 1, 1, 1, 0, 1, 1, 0, 1, 0, 0, 0,\n",
       "       1, 0, 1, 0, 1, 1, 1, 1, 0, 1, 1, 0, 0, 0, 1, 1, 1, 1, 0, 1, 1, 0,\n",
       "       1, 0, 0, 0, 1, 0, 0, 0, 0, 0, 1, 1, 0, 1, 1, 0, 0, 1, 0, 1, 1, 0,\n",
       "       0, 0, 1, 0, 0, 0, 1, 1, 0, 0, 0, 0, 1, 1, 0, 0, 0, 0, 0, 0, 1, 0,\n",
       "       0, 0, 0, 0, 1, 0, 0, 0, 0, 0, 1, 0, 0, 1, 1, 0, 1, 1, 0, 1, 0, 0,\n",
       "       0, 1, 1, 0, 1, 1, 1, 1, 1, 1, 0, 0, 1, 1, 0, 1, 0, 1, 1, 1, 0, 0,\n",
       "       0, 0, 0, 0, 1, 1, 1, 0, 0, 0, 1, 0, 1, 1, 0, 1, 1, 0, 1, 0, 0, 1,\n",
       "       0, 0, 0, 1, 0, 0, 0, 1, 1, 1, 0, 0, 0, 0, 0, 0, 1, 0, 1, 1, 1, 0,\n",
       "       0, 1, 1, 0, 1, 1, 0, 0, 0, 1, 0, 0, 0, 0, 1, 0, 0, 1, 1, 1, 0, 0,\n",
       "       0, 1, 0, 1, 1, 1, 1, 0, 0, 0, 0, 1, 0, 0, 1, 0, 1, 0, 0, 0, 1, 1,\n",
       "       0, 1, 0, 0, 0, 0, 1, 1, 1, 1, 0, 1, 1, 0, 1, 0, 0, 0, 1, 1, 1, 1,\n",
       "       1, 0, 0, 0, 1, 1, 0, 0, 0, 1, 0, 1, 1, 0, 1, 0, 0, 0, 1, 0, 0, 1,\n",
       "       0, 0, 1, 0, 0, 0, 1, 0, 0, 1, 0, 1, 1, 1, 1, 0, 0, 1, 0, 0, 1, 1,\n",
       "       1, 0, 0, 0, 0, 1, 1, 1, 0, 0, 0, 1, 0, 1, 0, 0, 0, 0, 1, 0, 1, 0,\n",
       "       0, 0, 1, 1, 1, 1, 0, 1, 1, 0, 1, 1, 1, 1, 1, 1, 1, 0, 0, 0, 0, 1,\n",
       "       1, 1, 0, 0, 0, 1, 0, 1, 1, 0, 1, 1, 1, 0, 1, 1, 1, 1, 0, 1, 0, 1,\n",
       "       0, 0, 0, 0, 0, 1, 0, 1, 1, 0, 0, 0, 0, 0, 1, 0, 1, 1, 0, 0, 0, 0,\n",
       "       1, 1, 0, 0, 1, 1, 0, 0, 0, 1, 1, 0, 1, 1, 1, 0, 0, 0, 1, 0, 0, 1,\n",
       "       0, 0, 0, 0, 1, 0, 0, 0, 1, 1, 0, 1, 0, 0, 0, 1, 1, 1, 0, 1, 1, 0,\n",
       "       1, 1, 0, 0, 1, 0, 1, 1, 0, 0, 1, 1, 0, 0, 1, 1, 1, 1, 1, 1, 0, 1,\n",
       "       0, 0, 1, 0, 1, 1, 0, 0, 0, 0, 1, 0, 1, 1, 0, 0, 1, 0, 1, 0, 1, 0,\n",
       "       1, 0, 1, 1, 1, 1, 0, 1, 1, 1, 0, 0, 1, 0, 0, 1, 1, 1, 1, 0, 0, 1,\n",
       "       1, 1, 1, 1, 1, 1, 1, 0, 0, 0, 0, 1, 1, 0, 1, 1, 0, 1, 1, 1, 1, 0,\n",
       "       0, 0, 1, 0, 0, 0, 1, 0, 0, 1, 1, 1, 0, 1, 0, 1, 1, 1, 0, 1, 0, 0,\n",
       "       0, 0, 0, 0, 1, 1, 1, 0, 0, 1, 1, 0, 0, 1, 0, 1, 0, 0, 0, 0, 0, 1,\n",
       "       1, 0, 0, 0, 0, 0, 1, 0, 1, 0, 1, 0, 0, 1, 1, 1, 1, 0, 0, 0, 0, 1,\n",
       "       0, 1, 1, 0, 0, 1, 0, 0, 1, 1, 1, 0, 1, 1, 1, 1, 0, 0, 1, 0, 1, 0,\n",
       "       0, 0, 1, 0, 1, 0, 1, 1, 1, 1, 0, 0, 1, 0, 1, 1, 0, 1, 0, 1, 1, 0,\n",
       "       0, 0, 1, 0, 1, 1, 0, 1, 0, 1, 0, 0, 0, 0, 0, 1, 0, 0, 0, 0, 0, 0,\n",
       "       1, 0, 1, 1, 0, 1, 0, 1, 0, 1, 1, 1, 0, 0, 1, 0, 0, 1, 0, 0, 0, 1,\n",
       "       0, 1, 1, 0, 0, 0, 0, 0, 0, 1, 1, 0, 1, 1, 0, 0, 0, 0, 1, 0, 1, 1,\n",
       "       0, 1, 1, 0, 1, 1, 0], dtype=int64)"
      ]
     },
     "execution_count": 83,
     "metadata": {},
     "output_type": "execute_result"
    }
   ],
   "source": [
    "y_pred"
   ]
  },
  {
   "cell_type": "code",
   "execution_count": 84,
   "metadata": {},
   "outputs": [
    {
     "data": {
      "text/plain": [
       "array([0.04137856, 0.0726862 , 0.01234364, 0.71635774, 0.94415657,\n",
       "       0.87116521, 0.03678063, 0.96492212, 0.02132443, 0.7774679 ,\n",
       "       0.96141499, 0.89950216, 0.71316902, 0.98355539, 0.10472723,\n",
       "       0.83032884, 0.77969304, 0.01959725, 0.97792155, 0.06808037,\n",
       "       0.36633471, 0.02984886, 0.54111563, 0.06273357, 0.96058371,\n",
       "       0.01861643, 0.99704739, 0.75417233, 0.96329489, 0.83683834,\n",
       "       0.07847741, 0.64869302, 0.91835184, 0.16654762, 0.01704122,\n",
       "       0.46663386, 0.91491864, 0.94350261, 0.96101118, 0.89911612,\n",
       "       0.02349363, 0.98427723, 0.81596126, 0.07928465, 0.85793752,\n",
       "       0.04081676, 0.11512181, 0.06190486, 0.98195514, 0.02781385,\n",
       "       0.01769482, 0.03252606, 0.03782389, 0.1018394 , 0.90378132,\n",
       "       0.83661723, 0.03591569, 0.67809419, 0.74252037, 0.03099012,\n",
       "       0.11403582, 0.69703029, 0.00353532, 0.85280568, 0.9855309 ,\n",
       "       0.07873841, 0.38046999, 0.057139  , 0.96032524, 0.10912639,\n",
       "       0.28042184, 0.10779204, 0.77954979, 0.9911215 , 0.10473207,\n",
       "       0.03553317, 0.07479117, 0.19290963, 0.98602352, 0.99581011,\n",
       "       0.08535944, 0.02635249, 0.01674807, 0.03504431, 0.13596281,\n",
       "       0.10386462, 0.82654347, 0.05788314, 0.01089213, 0.0244814 ,\n",
       "       0.06461722, 0.02871961, 0.9291776 , 0.04364834, 0.11327231,\n",
       "       0.08972376, 0.04594764, 0.22800506, 0.91641263, 0.05648   ,\n",
       "       0.42579676, 0.59326558, 0.84235547, 0.029571  , 0.97601615,\n",
       "       0.99548558, 0.06379861, 0.63550569, 0.05745176, 0.01481035,\n",
       "       0.08859223, 0.53228487, 0.90460435, 0.01479725, 0.64215024,\n",
       "       0.89402911, 0.98165492, 0.93652555, 0.97658592, 0.97437096,\n",
       "       0.01863676, 0.0253447 , 0.96143207, 0.96016845, 0.1177485 ,\n",
       "       0.98846006, 0.08496021, 0.64983626, 0.51873444, 0.89424571,\n",
       "       0.04756129, 0.00628672, 0.02686087, 0.38905657, 0.07998848,\n",
       "       0.0413511 , 0.98664331, 0.81736134, 0.950175  , 0.26869906,\n",
       "       0.00952105, 0.00649344, 0.99150231, 0.24036711, 0.98951538,\n",
       "       0.91526377, 0.14309404, 0.57278117, 0.99999997, 0.13319478,\n",
       "       0.70316746, 0.05122352, 0.06227451, 0.99823201, 0.00888188,\n",
       "       0.15422186, 0.13364179, 0.85409044, 0.10233929, 0.05395172,\n",
       "       0.03058432, 0.74502176, 0.6521576 , 0.59535088, 0.01146787,\n",
       "       0.05875409, 0.10670653, 0.06181916, 0.39773488, 0.48819151,\n",
       "       0.68749425, 0.03291555, 0.59102198, 0.93349925, 0.76449163,\n",
       "       0.01319631, 0.0130857 , 0.97205744, 0.9077183 , 0.06893688,\n",
       "       0.66109504, 0.99996507, 0.18065707, 0.45116132, 0.09671775,\n",
       "       0.55756077, 0.11321603, 0.06441532, 0.07322467, 0.03073558,\n",
       "       0.76828397, 0.41238763, 0.13538257, 0.73845012, 0.97302153,\n",
       "       0.99996519, 0.30075687, 0.03754175, 0.03543196, 0.91400382,\n",
       "       0.02117631, 0.99998611, 0.63676337, 0.99274111, 0.84205322,\n",
       "       0.02239397, 0.02845885, 0.09780281, 0.02884305, 0.69804234,\n",
       "       0.46727612, 0.03579702, 0.60167765, 0.00681015, 0.92942852,\n",
       "       0.15467624, 0.05097222, 0.03933361, 0.89124959, 0.96274051,\n",
       "       0.09817962, 0.97251672, 0.05747365, 0.3314882 , 0.36912046,\n",
       "       0.03376139, 0.77196029, 0.97748281, 0.96996832, 0.90850049,\n",
       "       0.1605451 , 0.85340301, 0.99913267, 0.48995282, 0.91518924,\n",
       "       0.02236532, 0.01637716, 0.03260974, 0.75837614, 0.98754186,\n",
       "       0.89160638, 0.98435563, 0.78435192, 0.02187856, 0.07156754,\n",
       "       0.07004781, 0.95156661, 0.7115775 , 0.04265927, 0.04984328,\n",
       "       0.01782487, 0.96556663, 0.11918884, 0.87792412, 0.84717055,\n",
       "       0.00684062, 0.56614878, 0.02731904, 0.16096909, 0.11139614,\n",
       "       0.8226654 , 0.0472829 , 0.26673761, 0.79138873, 0.12859136,\n",
       "       0.11104018, 0.99999991, 0.02577109, 0.04938327, 0.04730612,\n",
       "       0.55170184, 0.09306953, 0.24900246, 0.84246904, 0.00669782,\n",
       "       0.58004896, 0.53558901, 0.98079525, 0.79622789, 0.02991344,\n",
       "       0.05813131, 0.64265063, 0.02624531, 0.02046847, 0.87693484,\n",
       "       0.98037974, 0.91402335, 0.04135283, 0.01968047, 0.49826799,\n",
       "       0.03392192, 0.90870511, 0.55945379, 0.92471462, 0.01019727,\n",
       "       0.0297324 , 0.16545438, 0.90190189, 0.15688732, 0.97545636,\n",
       "       0.05923984, 0.02978601, 0.02820381, 0.19496297, 0.9826307 ,\n",
       "       0.10281214, 0.69775831, 0.14127219, 0.0889382 , 0.04579599,\n",
       "       0.5377436 , 0.86848354, 0.97375763, 0.5005905 , 0.04311703,\n",
       "       0.712612  , 0.70365591, 0.09864811, 0.863312  , 0.68711518,\n",
       "       0.84537513, 0.89169718, 0.54427652, 0.58263175, 0.92476467,\n",
       "       0.02255701, 0.035458  , 0.03435177, 0.04408902, 0.87643817,\n",
       "       0.65548657, 0.64324795, 0.02968788, 0.03080483, 0.0284877 ,\n",
       "       0.96330462, 0.04816399, 0.54095608, 0.5556911 , 0.02330912,\n",
       "       0.72822733, 0.91663761, 0.86771521, 0.06376196, 0.7997104 ,\n",
       "       0.9041042 , 0.98672678, 0.93772345, 0.06721887, 0.86060634,\n",
       "       0.01281144, 0.9626159 , 0.39627613, 0.04131624, 0.13652404,\n",
       "       0.49037433, 0.19528802, 0.9755621 , 0.18246741, 0.94656823,\n",
       "       0.90022302, 0.09135143, 0.00247289, 0.01909726, 0.04501032,\n",
       "       0.02953674, 0.95006855, 0.1015105 , 0.88607824, 0.63586047,\n",
       "       0.12705758, 0.02376726, 0.16992696, 0.0733481 , 0.98809931,\n",
       "       0.70225475, 0.05259634, 0.02083415, 0.96972183, 0.86360784,\n",
       "       0.0264981 , 0.03836833, 0.03409759, 0.86790233, 0.97718271,\n",
       "       0.02945222, 0.96996797, 0.86927411, 0.92961288, 0.27652958,\n",
       "       0.08273508, 0.0440428 , 0.96091329, 0.13211684, 0.00806392,\n",
       "       0.96913906, 0.14741903, 0.4662287 , 0.09997344, 0.02252103,\n",
       "       0.53314469, 0.09194852, 0.16237851, 0.15258718, 0.67898785,\n",
       "       0.68085979, 0.02874009, 0.95282315, 0.05886548, 0.01785178,\n",
       "       0.01124219, 0.92054399, 0.93019672, 0.68848742, 0.02845022,\n",
       "       0.5878417 , 0.92750926, 0.06659592, 0.99037406, 0.77031312,\n",
       "       0.03210703, 0.01722619, 0.93923275, 0.04077009, 0.63975189,\n",
       "       0.78863258, 0.49092084, 0.05419325, 0.68153466, 0.91069047,\n",
       "       0.08241952, 0.44073166, 0.90160199, 0.9827948 , 0.83532213,\n",
       "       0.58375222, 0.9664632 , 0.96212189, 0.02725103, 0.85605793,\n",
       "       0.02441981, 0.19175478, 0.77245603, 0.13790736, 0.89587561,\n",
       "       0.96927497, 0.16674238, 0.02771794, 0.05723894, 0.24823182,\n",
       "       0.51966163, 0.14106172, 0.52019645, 0.51380687, 0.2086245 ,\n",
       "       0.48453201, 0.89661993, 0.06141895, 0.86011612, 0.06107615,\n",
       "       0.59102106, 0.16959671, 0.74970549, 0.07556782, 0.74365834,\n",
       "       0.78978337, 0.65686372, 0.78495494, 0.01917592, 0.8160817 ,\n",
       "       0.99023542, 0.93048873, 0.01248767, 0.0972525 , 0.79571612,\n",
       "       0.01113845, 0.09999843, 0.99259291, 0.61830366, 0.93914633,\n",
       "       0.66431639, 0.13267197, 0.00888893, 0.82021519, 0.92918444,\n",
       "       0.92242234, 0.96953992, 0.90054139, 0.51024168, 0.52178033,\n",
       "       0.96645399, 0.01171163, 0.44153595, 0.0351463 , 0.16777243,\n",
       "       0.65220104, 0.8795967 , 0.26617326, 0.87414402, 1.        ,\n",
       "       0.02863544, 0.94432037, 0.94417455, 0.73520169, 0.78573123,\n",
       "       0.02655373, 0.15530031, 0.03289808, 0.81187656, 0.07747206,\n",
       "       0.06201508, 0.06398073, 0.94568041, 0.03521879, 0.34592449,\n",
       "       0.65074074, 0.6276553 , 0.9157445 , 0.01534861, 0.99063495,\n",
       "       0.14203831, 0.88581794, 0.84847458, 0.95156447, 0.06274805,\n",
       "       0.57196587, 0.09790471, 0.01074657, 0.13681186, 0.04620108,\n",
       "       0.09771839, 0.062968  , 0.84592567, 0.51897403, 0.96196932,\n",
       "       0.03411017, 0.09410103, 0.99731967, 0.9491848 , 0.03628786,\n",
       "       0.01803838, 0.81988074, 0.04148   , 0.95376148, 0.05137493,\n",
       "       0.02080788, 0.06203495, 0.01437745, 0.1917997 , 0.89822733,\n",
       "       0.99691231, 0.05996174, 0.3982893 , 0.15702408, 0.01078496,\n",
       "       0.04041617, 0.67149473, 0.04750702, 0.99993766, 0.04600555,\n",
       "       0.98120983, 0.42005952, 0.15349364, 0.94955315, 0.93330755,\n",
       "       0.80685379, 0.70317127, 0.0197558 , 0.01740422, 0.12776558,\n",
       "       0.10823292, 0.56821211, 0.08249086, 0.98182915, 0.99256211,\n",
       "       0.08855743, 0.09724353, 0.89369668, 0.01778068, 0.09905666,\n",
       "       0.75549858, 0.8975676 , 0.54139568, 0.04001431, 0.95172595,\n",
       "       0.58921907, 0.52221555, 0.88781007, 0.13561294, 0.22162543,\n",
       "       0.99339849, 0.03771516, 0.96481481, 0.08265053, 0.00972811,\n",
       "       0.42353197, 0.66875816, 0.22542993, 0.9414279 , 0.03328115,\n",
       "       0.90338904, 0.97335577, 0.98195954, 0.95566076, 0.01379574,\n",
       "       0.01564152, 0.98212083, 0.07687097, 0.8388112 , 0.98489872,\n",
       "       0.01209598, 0.50963099, 0.01338598, 0.91992579, 0.98138058,\n",
       "       0.1103722 , 0.08413695, 0.10120053, 0.91937087, 0.03706499,\n",
       "       0.92604834, 0.96572489, 0.07084129, 0.83871168, 0.47315916,\n",
       "       0.69559536, 0.05059989, 0.362438  , 0.06532498, 0.47334614,\n",
       "       0.04182576, 0.58707156, 0.15596826, 0.01942464, 0.49430142,\n",
       "       0.09519582, 0.0311923 , 0.0266492 , 0.52722326, 0.02850645,\n",
       "       0.97407777, 0.78882083, 0.05218195, 0.91103113, 0.01399101,\n",
       "       0.85065526, 0.23113126, 0.56456456, 0.92909307, 0.7511607 ,\n",
       "       0.01918978, 0.08825158, 0.95263593, 0.0882873 , 0.02194447,\n",
       "       0.81496659, 0.13539566, 0.02355115, 0.09777727, 0.85579932,\n",
       "       0.01758128, 0.68298019, 0.60350185, 0.03209566, 0.0070277 ,\n",
       "       0.05771534, 0.39847615, 0.04809726, 0.05707973, 0.72135338,\n",
       "       0.65849269, 0.02187174, 0.76576455, 0.55869199, 0.01737263,\n",
       "       0.06192341, 0.42253618, 0.03457285, 0.82881306, 0.05894796,\n",
       "       0.51062096, 0.88663091, 0.05619107, 0.95183253, 0.925494  ,\n",
       "       0.11662397, 0.58741759, 0.93022083, 0.06753015])"
      ]
     },
     "execution_count": 84,
     "metadata": {},
     "output_type": "execute_result"
    }
   ],
   "source": [
    "pred_probs.T[1] # это вероятности принадлежности к классам, по ним буду искать оптимальные пороги"
   ]
  },
  {
   "cell_type": "markdown",
   "metadata": {},
   "source": [
    "**Задание 11.** Подберите порог для перевода предсказания в классы, чтобы максимизировать:\n",
    "    а) точность \n",
    "    б) полноту \n",
    "    в) f1-score. \n",
    "Лучше ли логистическая регрессия справилась с задачей, чем три готовые модели, предсказания которых мы анализировали выше?"
   ]
  },
  {
   "cell_type": "markdown",
   "metadata": {},
   "source": [
    "Уже исходя из полученного выше значения accuracy, можно предположить, что обученная лог регрессия справляется лучше, чем три готовых классификатора. Мне кажется логичным оставить в этой задаче условие на accuracy, потому что мы хотим чтобы модель выдавала адекватные предсказания (а не всегда 0 или всегда 1 - в крайних случаях на порогах 1 и 0). Поскольку accuracy здесь сильно выше, чем у классификаторов из прошлой части задания, я поставила условие, что доля правильных ответов должна быть выше 0.8."
   ]
  },
  {
   "cell_type": "markdown",
   "metadata": {},
   "source": [
    "Ищу порог для max полноты:"
   ]
  },
  {
   "cell_type": "code",
   "execution_count": 85,
   "metadata": {},
   "outputs": [
    {
     "name": "stdout",
     "output_type": "stream",
     "text": [
      "[0.2, 0.3, 0.4, 0.5, 0.6, 0.7, 0.8] [0.9315960912052117, 0.9185667752442996, 0.9185667752442996, 0.8925081433224755, 0.8208469055374593, 0.742671009771987, 0.6482084690553745]\n",
      "Порог для max полноты: 0.2\n"
     ]
    }
   ],
   "source": [
    "thres_list = []\n",
    "recall_list = []\n",
    "for threshold in [n * 1/10 for n in range(0,11)]:\n",
    "    y_pred = np.where(pred_probs.T[1] >= threshold, 1, 0)\n",
    "    acc = accuracy_score(df['target'], y_pred)\n",
    "    rec = recall_score(df['target'], y_pred)\n",
    "    if acc >= 0.8:\n",
    "        thres_list.append(threshold)\n",
    "        recall_list.append(rec)\n",
    "print(thres_list, recall_list)\n",
    "print('Порог для max полноты:', thres_list[recall_list.index(max(recall_list))])"
   ]
  },
  {
   "cell_type": "markdown",
   "metadata": {},
   "source": [
    "Увеличиваем порог - полнота падает. Оптимальное значение порога будет минимальным - 0.2 в нашем случае (или 0.0, если бы я решила не накладывать ограничение на accuracy и не отсеивать крайние значения в цикле)"
   ]
  },
  {
   "cell_type": "markdown",
   "metadata": {},
   "source": [
    "Ищу порог для max точности:"
   ]
  },
  {
   "cell_type": "code",
   "execution_count": 86,
   "metadata": {},
   "outputs": [
    {
     "name": "stdout",
     "output_type": "stream",
     "text": [
      "[0.2, 0.3, 0.4, 0.5, 0.6, 0.7, 0.8] [0.772972972972973, 0.7899159663865546, 0.8173913043478261, 0.8430769230769231, 0.8873239436619719, 0.9156626506024096, 0.9476190476190476]\n",
      "Порог для max точности: 0.8\n"
     ]
    },
    {
     "name": "stderr",
     "output_type": "stream",
     "text": [
      "C:\\miniconsa\\lib\\site-packages\\sklearn\\metrics\\_classification.py:1245: UndefinedMetricWarning: Precision is ill-defined and being set to 0.0 due to no predicted samples. Use `zero_division` parameter to control this behavior.\n",
      "  _warn_prf(average, modifier, msg_start, len(result))\n"
     ]
    }
   ],
   "source": [
    "thres_list = []\n",
    "precision_list = []\n",
    "for threshold in [n * 1/10 for n in range(0,11)]:\n",
    "    y_pred = np.where(pred_probs.T[1] >= threshold, 1, 0)\n",
    "    acc = accuracy_score(df['target'], y_pred)\n",
    "    prec = precision_score(df['target'], y_pred)\n",
    "    if acc >= 0.8:\n",
    "        thres_list.append(threshold)\n",
    "        precision_list.append(prec)\n",
    "print(thres_list, precision_list)\n",
    "print('Порог для max точности:', thres_list[precision_list.index(max(precision_list))])"
   ]
  },
  {
   "cell_type": "markdown",
   "metadata": {},
   "source": [
    "Здесь все наоборот. Выше порог - выше точность."
   ]
  },
  {
   "cell_type": "markdown",
   "metadata": {},
   "source": [
    "max F1:"
   ]
  },
  {
   "cell_type": "code",
   "execution_count": 87,
   "metadata": {},
   "outputs": [
    {
     "name": "stdout",
     "output_type": "stream",
     "text": [
      "[0.2, 0.3, 0.4, 0.5, 0.6, 0.7, 0.8] [0.8449039881831609, 0.8493975903614458, 0.8650306748466258, 0.8670886075949367, 0.8527918781725888, 0.8201438848920863, 0.769825918762089]\n",
      "Порог для max f1: 0.5\n"
     ]
    }
   ],
   "source": [
    "thres_list = []\n",
    "f1_list = []\n",
    "for threshold in [n * 1/10 for n in range(0,11)]:\n",
    "    y_pred = np.where(pred_probs.T[1] >= threshold, 1, 0)\n",
    "    acc = accuracy_score(df['target'], y_pred)\n",
    "    f1 = f1_score(df['target'], y_pred)\n",
    "    if acc >= 0.8:\n",
    "        thres_list.append(threshold)\n",
    "        f1_list.append(f1)\n",
    "print(thres_list, f1_list)\n",
    "print('Порог для max f1:', thres_list[f1_list.index(max(f1_list))])"
   ]
  },
  {
   "cell_type": "markdown",
   "metadata": {},
   "source": [
    "F1 - копромисс между точностью и полнотой. Логично, что оптимальный порог будет где-то около 0.5."
   ]
  },
  {
   "cell_type": "markdown",
   "metadata": {},
   "source": [
    "Логистическая регрессия справилась лучше каждого из трех приведенных классификаторов. Значение accuracy выше и значения каждой из метрик при оптимальных порогах тоже выше."
   ]
  }
 ],
 "metadata": {
  "kernelspec": {
   "display_name": "Python 3",
   "language": "python",
   "name": "python3"
  },
  "language_info": {
   "codemirror_mode": {
    "name": "ipython",
    "version": 3
   },
   "file_extension": ".py",
   "mimetype": "text/x-python",
   "name": "python",
   "nbconvert_exporter": "python",
   "pygments_lexer": "ipython3",
   "version": "3.8.5"
  }
 },
 "nbformat": 4,
 "nbformat_minor": 2
}
