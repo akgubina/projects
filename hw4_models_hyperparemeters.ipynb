{
 "cells": [
  {
   "cell_type": "markdown",
   "metadata": {},
   "source": [
    "## Домашняя работа 4. \n",
    "\n",
    "Максимальный балл за задание - 10."
   ]
  },
  {
   "cell_type": "code",
   "execution_count": 39,
   "metadata": {},
   "outputs": [
    {
     "name": "stdout",
     "output_type": "stream",
     "text": [
      "Populating the interactive namespace from numpy and matplotlib\n"
     ]
    },
    {
     "name": "stderr",
     "output_type": "stream",
     "text": [
      "C:\\miniconsa\\lib\\site-packages\\IPython\\core\\magics\\pylab.py:159: UserWarning: pylab import has clobbered these variables: ['random', 'clf', 'shape']\n",
      "`%matplotlib` prevents importing * from pylab and numpy\n",
      "  warn(\"pylab import has clobbered these variables: %s\"  % clobbered +\n"
     ]
    }
   ],
   "source": [
    "import pandas as pd\n",
    "import matplotlib.pyplot as plt\n",
    "import numpy as np\n",
    "from tqdm import tqdm\n",
    "\n",
    "from sklearn.neighbors import KNeighborsClassifier\n",
    "from sklearn.tree import DecisionTreeClassifier\n",
    "from sklearn.linear_model import SGDClassifier\n",
    "from sklearn.ensemble import RandomForestClassifier\n",
    "from sklearn.ensemble import GradientBoostingClassifier\n",
    "\n",
    "from sklearn.metrics import roc_auc_score\n",
    "from sklearn.metrics import log_loss\n",
    "\n",
    "from sklearn.model_selection import GridSearchCV\n",
    "from sklearn.model_selection import train_test_split\n",
    "from sklearn.model_selection import cross_val_score\n",
    "\n",
    "from sklearn.preprocessing import StandardScaler\n",
    "from sklearn.preprocessing import PolynomialFeatures\n",
    "\n",
    "from sklearn.feature_selection import SelectKBest\n",
    "from sklearn.feature_selection import mutual_info_classif\n",
    "from sklearn.feature_selection import RFE\n",
    "from sklearn.feature_selection import SelectFromModel\n",
    "\n",
    "%pylab inline"
   ]
  },
  {
   "cell_type": "code",
   "execution_count": 16,
   "metadata": {},
   "outputs": [],
   "source": [
    "import random\n",
    "\n",
    "random.seed(690)"
   ]
  },
  {
   "cell_type": "markdown",
   "metadata": {},
   "source": [
    "## Данные\n",
    "\n",
    "\n",
    "В этой домашней работе мы будем обучать модели машинного обучения, ставить эксперименты, подбирать гиперпараметры, сравнивать и смешивать модели. Вам предлагается решить задачу бинарной классификации, а именно построить алгоритм, определяющий превысит ли средний заработок человека порог $50k. Каждый объект выборки — человек, для которого известны следующие признаки:\n",
    " - age\n",
    " - workclass\n",
    " - fnlwgt\n",
    " - education\n",
    " - education-num\n",
    " - marital-status\n",
    " - occupation\n",
    " - relationship\n",
    " - race\n",
    " - sex\n",
    " - capital-gain\n",
    " - capital-loss\n",
    " - hours-per-week\n",
    " \n",
    "Более подробно про признаки можно почитать [здесь](http://archive.ics.uci.edu/ml/machine-learning-databases/adult/adult.names). Целевой признак записан в переменной *>50K,<=50K*."
   ]
  },
  {
   "cell_type": "markdown",
   "metadata": {},
   "source": [
    "## Метрика качества\n",
    "\n",
    "В задании мы будем оценивать качество моделей с помощью метрики AUC-ROC."
   ]
  },
  {
   "cell_type": "markdown",
   "metadata": {},
   "source": [
    "## Подбор гиперпараметров модели\n",
    "\n",
    "В задачах машинного обучения следует различать параметры модели и гиперпараметры (структурные параметры). Обычно параметры модели настраиваются в ходе обучения (например, веса в линейной модели или структура решающего дерева), в то время как гиперпараметры задаются заранее (например, регуляризация в линейной модели или максимальная глубина решающего дерева). Каждая модель обычно имеет множество гиперпараметров, и нет универсальных наборов гиперпараметров, оптимально работающих во всех задачах, для каждой задачи нужно подбирать свой набор.\n",
    "\n",
    "Для оптимизации гиперпараметров модели часто используют _перебор по сетке (grid search)_: для каждого гиперпараметра выбирается несколько значений, перебираются все комбинации значений и выбирается комбинация, на которой модель показывает лучшее качество (с точки зрения метрики, которая оптимизируется). Однако в этом случае нужно грамотно оценивать построенную модель, а именно делать разбиение на обучающую и тестовую выборку. Есть несколько схем, как это можно реализовать: \n",
    "\n",
    " - Разбить имеющуюся выборку на обучающую и тестовую. В этом случае сравнение большого числа моделей при переборе параметров приводит к ситуации, когда лучшая на тестовой подвыборке модель не сохраняет свои качества на новых данных. Можно сказать, что происходит _переобучение_ на тестовую выборку.\n",
    " - Для устранения описанной выше проблемы, можно разбить данные на 3 непересекающихся подвыборки: обучение (`train`), валидация (`validation`) и контроль (`test`). Валидационную подвыборку используют для сравнения моделей, а `test` — для окончательной оценки качества и сравнения семейств моделей с подобранными параметрами.\n",
    " - Другой способ сравнения моделей — [кросс-валидация](http://en.wikipedia.org/wiki/Cross-validation_(statistics). Существуют различные схемы кросс-валидации:\n",
    "  - Leave-One-Out\n",
    "  - K-Fold\n",
    "  - Многократное случайное разбиение выборки\n",
    "  \n",
    "Кросс-валидация вычислительно затратна, особенно если вы делаете перебор по сетке с очень большим числом комбинации. С учетом конечности времени на выполнение задания, возникает ряд компромиссов: \n",
    "  - сетку можно делать более разреженной, перебирая меньше значений каждого параметра; однако, надо не забывать, что в таком случае можно пропустить хорошую комбинацию параметров;\n",
    "  - кросс-валидацию можно делать с меньшим числом разбиений или фолдов, но в таком случае оценка качества кросс-валидации становится более шумной и увеличивается риск выбрать неоптимальный набор параметров из-за случайности разбиения;\n",
    "  - параметры можно оптимизировать последовательно (жадно) — один за другим, а не перебирать все комбинации; такая стратегия не всегда приводит к оптимальному набору;\n",
    "  - перебирать не все комбинации параметров, а небольшое число случайно выбранных."
   ]
  },
  {
   "cell_type": "markdown",
   "metadata": {},
   "source": [
    "## Задание "
   ]
  },
  {
   "cell_type": "markdown",
   "metadata": {},
   "source": [
    "Загрузите набор данных *data.adult.csv*. Чтобы лучше понимать, с чем вы работаете/корректно ли вы загрузили данные можно вывести несколько первых строк на экран."
   ]
  },
  {
   "cell_type": "code",
   "execution_count": 2,
   "metadata": {},
   "outputs": [
    {
     "data": {
      "text/html": [
       "<div>\n",
       "<style scoped>\n",
       "    .dataframe tbody tr th:only-of-type {\n",
       "        vertical-align: middle;\n",
       "    }\n",
       "\n",
       "    .dataframe tbody tr th {\n",
       "        vertical-align: top;\n",
       "    }\n",
       "\n",
       "    .dataframe thead th {\n",
       "        text-align: right;\n",
       "    }\n",
       "</style>\n",
       "<table border=\"1\" class=\"dataframe\">\n",
       "  <thead>\n",
       "    <tr style=\"text-align: right;\">\n",
       "      <th></th>\n",
       "      <th>age</th>\n",
       "      <th>workclass</th>\n",
       "      <th>fnlwgt</th>\n",
       "      <th>education</th>\n",
       "      <th>education-num</th>\n",
       "      <th>marital-status</th>\n",
       "      <th>occupation</th>\n",
       "      <th>relationship</th>\n",
       "      <th>race</th>\n",
       "      <th>sex</th>\n",
       "      <th>capital-gain</th>\n",
       "      <th>capital-loss</th>\n",
       "      <th>hours-per-week</th>\n",
       "      <th>&gt;50K,&lt;=50K</th>\n",
       "    </tr>\n",
       "  </thead>\n",
       "  <tbody>\n",
       "    <tr>\n",
       "      <th>0</th>\n",
       "      <td>34</td>\n",
       "      <td>Local-gov</td>\n",
       "      <td>284843</td>\n",
       "      <td>HS-grad</td>\n",
       "      <td>9</td>\n",
       "      <td>Never-married</td>\n",
       "      <td>Farming-fishing</td>\n",
       "      <td>Not-in-family</td>\n",
       "      <td>Black</td>\n",
       "      <td>Male</td>\n",
       "      <td>594</td>\n",
       "      <td>0</td>\n",
       "      <td>60</td>\n",
       "      <td>&lt;=50K</td>\n",
       "    </tr>\n",
       "    <tr>\n",
       "      <th>1</th>\n",
       "      <td>40</td>\n",
       "      <td>Private</td>\n",
       "      <td>190290</td>\n",
       "      <td>Some-college</td>\n",
       "      <td>10</td>\n",
       "      <td>Divorced</td>\n",
       "      <td>Sales</td>\n",
       "      <td>Not-in-family</td>\n",
       "      <td>White</td>\n",
       "      <td>Male</td>\n",
       "      <td>0</td>\n",
       "      <td>0</td>\n",
       "      <td>40</td>\n",
       "      <td>&lt;=50K</td>\n",
       "    </tr>\n",
       "    <tr>\n",
       "      <th>2</th>\n",
       "      <td>36</td>\n",
       "      <td>Local-gov</td>\n",
       "      <td>177858</td>\n",
       "      <td>Bachelors</td>\n",
       "      <td>13</td>\n",
       "      <td>Married-civ-spouse</td>\n",
       "      <td>Prof-specialty</td>\n",
       "      <td>Own-child</td>\n",
       "      <td>White</td>\n",
       "      <td>Male</td>\n",
       "      <td>0</td>\n",
       "      <td>0</td>\n",
       "      <td>40</td>\n",
       "      <td>&lt;=50K</td>\n",
       "    </tr>\n",
       "    <tr>\n",
       "      <th>3</th>\n",
       "      <td>22</td>\n",
       "      <td>Private</td>\n",
       "      <td>184756</td>\n",
       "      <td>Some-college</td>\n",
       "      <td>10</td>\n",
       "      <td>Never-married</td>\n",
       "      <td>Sales</td>\n",
       "      <td>Own-child</td>\n",
       "      <td>White</td>\n",
       "      <td>Female</td>\n",
       "      <td>0</td>\n",
       "      <td>0</td>\n",
       "      <td>30</td>\n",
       "      <td>&lt;=50K</td>\n",
       "    </tr>\n",
       "    <tr>\n",
       "      <th>4</th>\n",
       "      <td>47</td>\n",
       "      <td>Private</td>\n",
       "      <td>149700</td>\n",
       "      <td>Bachelors</td>\n",
       "      <td>13</td>\n",
       "      <td>Married-civ-spouse</td>\n",
       "      <td>Tech-support</td>\n",
       "      <td>Husband</td>\n",
       "      <td>White</td>\n",
       "      <td>Male</td>\n",
       "      <td>15024</td>\n",
       "      <td>0</td>\n",
       "      <td>40</td>\n",
       "      <td>&gt;50K</td>\n",
       "    </tr>\n",
       "  </tbody>\n",
       "</table>\n",
       "</div>"
      ],
      "text/plain": [
       "   age  workclass  fnlwgt     education  education-num      marital-status  \\\n",
       "0   34  Local-gov  284843       HS-grad              9       Never-married   \n",
       "1   40    Private  190290  Some-college             10            Divorced   \n",
       "2   36  Local-gov  177858     Bachelors             13  Married-civ-spouse   \n",
       "3   22    Private  184756  Some-college             10       Never-married   \n",
       "4   47    Private  149700     Bachelors             13  Married-civ-spouse   \n",
       "\n",
       "        occupation   relationship   race     sex  capital-gain  capital-loss  \\\n",
       "0  Farming-fishing  Not-in-family  Black    Male           594             0   \n",
       "1            Sales  Not-in-family  White    Male             0             0   \n",
       "2   Prof-specialty      Own-child  White    Male             0             0   \n",
       "3            Sales      Own-child  White  Female             0             0   \n",
       "4     Tech-support        Husband  White    Male         15024             0   \n",
       "\n",
       "   hours-per-week >50K,<=50K  \n",
       "0              60      <=50K  \n",
       "1              40      <=50K  \n",
       "2              40      <=50K  \n",
       "3              30      <=50K  \n",
       "4              40       >50K  "
      ]
     },
     "execution_count": 2,
     "metadata": {},
     "output_type": "execute_result"
    }
   ],
   "source": [
    "data = pd.read_csv(\"data.adult.csv\")\n",
    "data.head()"
   ]
  },
  {
   "cell_type": "code",
   "execution_count": 3,
   "metadata": {},
   "outputs": [
    {
     "data": {
      "text/plain": [
       "(16280, 14)"
      ]
     },
     "execution_count": 3,
     "metadata": {},
     "output_type": "execute_result"
    }
   ],
   "source": [
    "shape = data.shape\n",
    "shape"
   ]
  },
  {
   "cell_type": "markdown",
   "metadata": {},
   "source": [
    "Иногда в данных встречаются пропуски. Как задаются пропуски обычно либо прописывается в описании к данным, либо просто на месте пропуска после чтения данных оказывается значение numpy.nan. Более подробно о работе с пропусками в Pandas можно прочитать например [здесь](http://pandas.pydata.org/pandas-docs/stable/missing_data.html). \n",
    "\n",
    "В данном датасете пропущенные значения обозначены как \"?\". \n",
    "\n",
    "**Задание 1 (0.5 балла)** Найдите все признаки, имеющие пропущенные значения. Удалите из выборки все объекты с пропусками."
   ]
  },
  {
   "cell_type": "code",
   "execution_count": 4,
   "metadata": {},
   "outputs": [
    {
     "data": {
      "text/plain": [
       "age               0\n",
       "workclass         0\n",
       "fnlwgt            0\n",
       "education         0\n",
       "education-num     0\n",
       "marital-status    0\n",
       "occupation        0\n",
       "relationship      0\n",
       "race              0\n",
       "sex               0\n",
       "capital-gain      0\n",
       "capital-loss      0\n",
       "hours-per-week    0\n",
       ">50K,<=50K        0\n",
       "dtype: int64"
      ]
     },
     "execution_count": 4,
     "metadata": {},
     "output_type": "execute_result"
    }
   ],
   "source": [
    "pd.isnull(data).sum()"
   ]
  },
  {
   "cell_type": "code",
   "execution_count": 5,
   "metadata": {},
   "outputs": [],
   "source": [
    "data = data.replace(\"?\", np.nan)"
   ]
  },
  {
   "cell_type": "code",
   "execution_count": 6,
   "metadata": {},
   "outputs": [
    {
     "data": {
      "text/plain": [
       "age                 0\n",
       "workclass         929\n",
       "fnlwgt              0\n",
       "education           0\n",
       "education-num       0\n",
       "marital-status      0\n",
       "occupation        933\n",
       "relationship        0\n",
       "race                0\n",
       "sex                 0\n",
       "capital-gain        0\n",
       "capital-loss        0\n",
       "hours-per-week      0\n",
       ">50K,<=50K          0\n",
       "dtype: int64"
      ]
     },
     "execution_count": 6,
     "metadata": {},
     "output_type": "execute_result"
    }
   ],
   "source": [
    "pd.isna(data).sum()"
   ]
  },
  {
   "cell_type": "code",
   "execution_count": 7,
   "metadata": {},
   "outputs": [
    {
     "data": {
      "text/html": [
       "<div>\n",
       "<style scoped>\n",
       "    .dataframe tbody tr th:only-of-type {\n",
       "        vertical-align: middle;\n",
       "    }\n",
       "\n",
       "    .dataframe tbody tr th {\n",
       "        vertical-align: top;\n",
       "    }\n",
       "\n",
       "    .dataframe thead th {\n",
       "        text-align: right;\n",
       "    }\n",
       "</style>\n",
       "<table border=\"1\" class=\"dataframe\">\n",
       "  <thead>\n",
       "    <tr style=\"text-align: right;\">\n",
       "      <th></th>\n",
       "      <th>age</th>\n",
       "      <th>workclass</th>\n",
       "      <th>fnlwgt</th>\n",
       "      <th>education</th>\n",
       "      <th>education-num</th>\n",
       "      <th>marital-status</th>\n",
       "      <th>occupation</th>\n",
       "      <th>relationship</th>\n",
       "      <th>race</th>\n",
       "      <th>sex</th>\n",
       "      <th>capital-gain</th>\n",
       "      <th>capital-loss</th>\n",
       "      <th>hours-per-week</th>\n",
       "      <th>&gt;50K,&lt;=50K</th>\n",
       "    </tr>\n",
       "  </thead>\n",
       "  <tbody>\n",
       "    <tr>\n",
       "      <th>0</th>\n",
       "      <td>34</td>\n",
       "      <td>Local-gov</td>\n",
       "      <td>284843</td>\n",
       "      <td>HS-grad</td>\n",
       "      <td>9</td>\n",
       "      <td>Never-married</td>\n",
       "      <td>Farming-fishing</td>\n",
       "      <td>Not-in-family</td>\n",
       "      <td>Black</td>\n",
       "      <td>Male</td>\n",
       "      <td>594</td>\n",
       "      <td>0</td>\n",
       "      <td>60</td>\n",
       "      <td>&lt;=50K</td>\n",
       "    </tr>\n",
       "    <tr>\n",
       "      <th>1</th>\n",
       "      <td>40</td>\n",
       "      <td>Private</td>\n",
       "      <td>190290</td>\n",
       "      <td>Some-college</td>\n",
       "      <td>10</td>\n",
       "      <td>Divorced</td>\n",
       "      <td>Sales</td>\n",
       "      <td>Not-in-family</td>\n",
       "      <td>White</td>\n",
       "      <td>Male</td>\n",
       "      <td>0</td>\n",
       "      <td>0</td>\n",
       "      <td>40</td>\n",
       "      <td>&lt;=50K</td>\n",
       "    </tr>\n",
       "    <tr>\n",
       "      <th>2</th>\n",
       "      <td>36</td>\n",
       "      <td>Local-gov</td>\n",
       "      <td>177858</td>\n",
       "      <td>Bachelors</td>\n",
       "      <td>13</td>\n",
       "      <td>Married-civ-spouse</td>\n",
       "      <td>Prof-specialty</td>\n",
       "      <td>Own-child</td>\n",
       "      <td>White</td>\n",
       "      <td>Male</td>\n",
       "      <td>0</td>\n",
       "      <td>0</td>\n",
       "      <td>40</td>\n",
       "      <td>&lt;=50K</td>\n",
       "    </tr>\n",
       "    <tr>\n",
       "      <th>3</th>\n",
       "      <td>22</td>\n",
       "      <td>Private</td>\n",
       "      <td>184756</td>\n",
       "      <td>Some-college</td>\n",
       "      <td>10</td>\n",
       "      <td>Never-married</td>\n",
       "      <td>Sales</td>\n",
       "      <td>Own-child</td>\n",
       "      <td>White</td>\n",
       "      <td>Female</td>\n",
       "      <td>0</td>\n",
       "      <td>0</td>\n",
       "      <td>30</td>\n",
       "      <td>&lt;=50K</td>\n",
       "    </tr>\n",
       "    <tr>\n",
       "      <th>4</th>\n",
       "      <td>47</td>\n",
       "      <td>Private</td>\n",
       "      <td>149700</td>\n",
       "      <td>Bachelors</td>\n",
       "      <td>13</td>\n",
       "      <td>Married-civ-spouse</td>\n",
       "      <td>Tech-support</td>\n",
       "      <td>Husband</td>\n",
       "      <td>White</td>\n",
       "      <td>Male</td>\n",
       "      <td>15024</td>\n",
       "      <td>0</td>\n",
       "      <td>40</td>\n",
       "      <td>&gt;50K</td>\n",
       "    </tr>\n",
       "    <tr>\n",
       "      <th>...</th>\n",
       "      <td>...</td>\n",
       "      <td>...</td>\n",
       "      <td>...</td>\n",
       "      <td>...</td>\n",
       "      <td>...</td>\n",
       "      <td>...</td>\n",
       "      <td>...</td>\n",
       "      <td>...</td>\n",
       "      <td>...</td>\n",
       "      <td>...</td>\n",
       "      <td>...</td>\n",
       "      <td>...</td>\n",
       "      <td>...</td>\n",
       "      <td>...</td>\n",
       "    </tr>\n",
       "    <tr>\n",
       "      <th>16275</th>\n",
       "      <td>25</td>\n",
       "      <td>Local-gov</td>\n",
       "      <td>514716</td>\n",
       "      <td>Bachelors</td>\n",
       "      <td>13</td>\n",
       "      <td>Never-married</td>\n",
       "      <td>Adm-clerical</td>\n",
       "      <td>Own-child</td>\n",
       "      <td>Black</td>\n",
       "      <td>Female</td>\n",
       "      <td>0</td>\n",
       "      <td>0</td>\n",
       "      <td>40</td>\n",
       "      <td>&lt;=50K</td>\n",
       "    </tr>\n",
       "    <tr>\n",
       "      <th>16276</th>\n",
       "      <td>32</td>\n",
       "      <td>Private</td>\n",
       "      <td>207668</td>\n",
       "      <td>Bachelors</td>\n",
       "      <td>13</td>\n",
       "      <td>Married-civ-spouse</td>\n",
       "      <td>Exec-managerial</td>\n",
       "      <td>Husband</td>\n",
       "      <td>White</td>\n",
       "      <td>Male</td>\n",
       "      <td>15024</td>\n",
       "      <td>0</td>\n",
       "      <td>45</td>\n",
       "      <td>&gt;50K</td>\n",
       "    </tr>\n",
       "    <tr>\n",
       "      <th>16277</th>\n",
       "      <td>27</td>\n",
       "      <td>Private</td>\n",
       "      <td>104457</td>\n",
       "      <td>Bachelors</td>\n",
       "      <td>13</td>\n",
       "      <td>Never-married</td>\n",
       "      <td>Machine-op-inspct</td>\n",
       "      <td>Not-in-family</td>\n",
       "      <td>Asian-Pac-Islander</td>\n",
       "      <td>Male</td>\n",
       "      <td>0</td>\n",
       "      <td>0</td>\n",
       "      <td>40</td>\n",
       "      <td>&lt;=50K</td>\n",
       "    </tr>\n",
       "    <tr>\n",
       "      <th>16278</th>\n",
       "      <td>59</td>\n",
       "      <td>State-gov</td>\n",
       "      <td>268700</td>\n",
       "      <td>HS-grad</td>\n",
       "      <td>9</td>\n",
       "      <td>Married-civ-spouse</td>\n",
       "      <td>Other-service</td>\n",
       "      <td>Husband</td>\n",
       "      <td>White</td>\n",
       "      <td>Male</td>\n",
       "      <td>0</td>\n",
       "      <td>0</td>\n",
       "      <td>40</td>\n",
       "      <td>&lt;=50K</td>\n",
       "    </tr>\n",
       "    <tr>\n",
       "      <th>16279</th>\n",
       "      <td>33</td>\n",
       "      <td>Private</td>\n",
       "      <td>59083</td>\n",
       "      <td>Bachelors</td>\n",
       "      <td>13</td>\n",
       "      <td>Married-civ-spouse</td>\n",
       "      <td>Adm-clerical</td>\n",
       "      <td>Husband</td>\n",
       "      <td>White</td>\n",
       "      <td>Male</td>\n",
       "      <td>0</td>\n",
       "      <td>1902</td>\n",
       "      <td>45</td>\n",
       "      <td>&gt;50K</td>\n",
       "    </tr>\n",
       "  </tbody>\n",
       "</table>\n",
       "<p>15347 rows × 14 columns</p>\n",
       "</div>"
      ],
      "text/plain": [
       "       age  workclass  fnlwgt     education  education-num  \\\n",
       "0       34  Local-gov  284843       HS-grad              9   \n",
       "1       40    Private  190290  Some-college             10   \n",
       "2       36  Local-gov  177858     Bachelors             13   \n",
       "3       22    Private  184756  Some-college             10   \n",
       "4       47    Private  149700     Bachelors             13   \n",
       "...    ...        ...     ...           ...            ...   \n",
       "16275   25  Local-gov  514716     Bachelors             13   \n",
       "16276   32    Private  207668     Bachelors             13   \n",
       "16277   27    Private  104457     Bachelors             13   \n",
       "16278   59  State-gov  268700       HS-grad              9   \n",
       "16279   33    Private   59083     Bachelors             13   \n",
       "\n",
       "           marital-status         occupation   relationship  \\\n",
       "0           Never-married    Farming-fishing  Not-in-family   \n",
       "1                Divorced              Sales  Not-in-family   \n",
       "2      Married-civ-spouse     Prof-specialty      Own-child   \n",
       "3           Never-married              Sales      Own-child   \n",
       "4      Married-civ-spouse       Tech-support        Husband   \n",
       "...                   ...                ...            ...   \n",
       "16275       Never-married       Adm-clerical      Own-child   \n",
       "16276  Married-civ-spouse    Exec-managerial        Husband   \n",
       "16277       Never-married  Machine-op-inspct  Not-in-family   \n",
       "16278  Married-civ-spouse      Other-service        Husband   \n",
       "16279  Married-civ-spouse       Adm-clerical        Husband   \n",
       "\n",
       "                     race     sex  capital-gain  capital-loss  hours-per-week  \\\n",
       "0                   Black    Male           594             0              60   \n",
       "1                   White    Male             0             0              40   \n",
       "2                   White    Male             0             0              40   \n",
       "3                   White  Female             0             0              30   \n",
       "4                   White    Male         15024             0              40   \n",
       "...                   ...     ...           ...           ...             ...   \n",
       "16275               Black  Female             0             0              40   \n",
       "16276               White    Male         15024             0              45   \n",
       "16277  Asian-Pac-Islander    Male             0             0              40   \n",
       "16278               White    Male             0             0              40   \n",
       "16279               White    Male             0          1902              45   \n",
       "\n",
       "      >50K,<=50K  \n",
       "0          <=50K  \n",
       "1          <=50K  \n",
       "2          <=50K  \n",
       "3          <=50K  \n",
       "4           >50K  \n",
       "...          ...  \n",
       "16275      <=50K  \n",
       "16276       >50K  \n",
       "16277      <=50K  \n",
       "16278      <=50K  \n",
       "16279       >50K  \n",
       "\n",
       "[15347 rows x 14 columns]"
      ]
     },
     "execution_count": 7,
     "metadata": {},
     "output_type": "execute_result"
    }
   ],
   "source": [
    "data = data.dropna(axis=0)\n",
    "data"
   ]
  },
  {
   "cell_type": "code",
   "execution_count": 8,
   "metadata": {},
   "outputs": [
    {
     "data": {
      "text/plain": [
       "933"
      ]
     },
     "execution_count": 8,
     "metadata": {},
     "output_type": "execute_result"
    }
   ],
   "source": [
    "shape[0] - data.shape[0]"
   ]
  },
  {
   "cell_type": "code",
   "execution_count": 9,
   "metadata": {},
   "outputs": [
    {
     "data": {
      "text/plain": [
       "age               0\n",
       "workclass         0\n",
       "fnlwgt            0\n",
       "education         0\n",
       "education-num     0\n",
       "marital-status    0\n",
       "occupation        0\n",
       "relationship      0\n",
       "race              0\n",
       "sex               0\n",
       "capital-gain      0\n",
       "capital-loss      0\n",
       "hours-per-week    0\n",
       ">50K,<=50K        0\n",
       "dtype: int64"
      ]
     },
     "execution_count": 9,
     "metadata": {},
     "output_type": "execute_result"
    }
   ],
   "source": [
    "pd.isna(data).sum()"
   ]
  },
  {
   "cell_type": "markdown",
   "metadata": {},
   "source": [
    "Обычно после загрузки датасета всегда необходима его некоторая предобработка. В данном случае она будет заключаться в следующем: \n",
    "\n",
    " - Выделите целевую переменную в отдельную переменную, удалите ее из датасета и преобразуйте к бинарному формату.\n",
    " - Обратите внимание, что не все признаки являются вещественными. В начале мы будем работать только с вещественными признаками. Выделите их отдельно."
   ]
  },
  {
   "cell_type": "code",
   "execution_count": 10,
   "metadata": {},
   "outputs": [],
   "source": [
    "y = data['>50K,<=50K'] # target\n",
    "X = data.drop('>50K,<=50K', 1)"
   ]
  },
  {
   "cell_type": "code",
   "execution_count": 11,
   "metadata": {},
   "outputs": [
    {
     "data": {
      "text/plain": [
       "0        <=50K\n",
       "1        <=50K\n",
       "2        <=50K\n",
       "3        <=50K\n",
       "4         >50K\n",
       "         ...  \n",
       "16275    <=50K\n",
       "16276     >50K\n",
       "16277    <=50K\n",
       "16278    <=50K\n",
       "16279     >50K\n",
       "Name: >50K,<=50K, Length: 15347, dtype: object"
      ]
     },
     "execution_count": 11,
     "metadata": {},
     "output_type": "execute_result"
    }
   ],
   "source": [
    "y"
   ]
  },
  {
   "cell_type": "code",
   "execution_count": 12,
   "metadata": {},
   "outputs": [
    {
     "data": {
      "text/plain": [
       "array([0, 0, 0, ..., 0, 0, 1])"
      ]
     },
     "execution_count": 12,
     "metadata": {},
     "output_type": "execute_result"
    }
   ],
   "source": [
    "y = (y == '>50K').astype('int')\n",
    "y = y.to_numpy() # if necessary \n",
    "y"
   ]
  },
  {
   "cell_type": "code",
   "execution_count": 13,
   "metadata": {},
   "outputs": [
    {
     "data": {
      "text/html": [
       "<div>\n",
       "<style scoped>\n",
       "    .dataframe tbody tr th:only-of-type {\n",
       "        vertical-align: middle;\n",
       "    }\n",
       "\n",
       "    .dataframe tbody tr th {\n",
       "        vertical-align: top;\n",
       "    }\n",
       "\n",
       "    .dataframe thead th {\n",
       "        text-align: right;\n",
       "    }\n",
       "</style>\n",
       "<table border=\"1\" class=\"dataframe\">\n",
       "  <thead>\n",
       "    <tr style=\"text-align: right;\">\n",
       "      <th></th>\n",
       "      <th>age</th>\n",
       "      <th>fnlwgt</th>\n",
       "      <th>education-num</th>\n",
       "      <th>capital-gain</th>\n",
       "      <th>capital-loss</th>\n",
       "      <th>hours-per-week</th>\n",
       "    </tr>\n",
       "  </thead>\n",
       "  <tbody>\n",
       "    <tr>\n",
       "      <th>0</th>\n",
       "      <td>34</td>\n",
       "      <td>284843</td>\n",
       "      <td>9</td>\n",
       "      <td>594</td>\n",
       "      <td>0</td>\n",
       "      <td>60</td>\n",
       "    </tr>\n",
       "    <tr>\n",
       "      <th>1</th>\n",
       "      <td>40</td>\n",
       "      <td>190290</td>\n",
       "      <td>10</td>\n",
       "      <td>0</td>\n",
       "      <td>0</td>\n",
       "      <td>40</td>\n",
       "    </tr>\n",
       "    <tr>\n",
       "      <th>2</th>\n",
       "      <td>36</td>\n",
       "      <td>177858</td>\n",
       "      <td>13</td>\n",
       "      <td>0</td>\n",
       "      <td>0</td>\n",
       "      <td>40</td>\n",
       "    </tr>\n",
       "    <tr>\n",
       "      <th>3</th>\n",
       "      <td>22</td>\n",
       "      <td>184756</td>\n",
       "      <td>10</td>\n",
       "      <td>0</td>\n",
       "      <td>0</td>\n",
       "      <td>30</td>\n",
       "    </tr>\n",
       "    <tr>\n",
       "      <th>4</th>\n",
       "      <td>47</td>\n",
       "      <td>149700</td>\n",
       "      <td>13</td>\n",
       "      <td>15024</td>\n",
       "      <td>0</td>\n",
       "      <td>40</td>\n",
       "    </tr>\n",
       "    <tr>\n",
       "      <th>...</th>\n",
       "      <td>...</td>\n",
       "      <td>...</td>\n",
       "      <td>...</td>\n",
       "      <td>...</td>\n",
       "      <td>...</td>\n",
       "      <td>...</td>\n",
       "    </tr>\n",
       "    <tr>\n",
       "      <th>16275</th>\n",
       "      <td>25</td>\n",
       "      <td>514716</td>\n",
       "      <td>13</td>\n",
       "      <td>0</td>\n",
       "      <td>0</td>\n",
       "      <td>40</td>\n",
       "    </tr>\n",
       "    <tr>\n",
       "      <th>16276</th>\n",
       "      <td>32</td>\n",
       "      <td>207668</td>\n",
       "      <td>13</td>\n",
       "      <td>15024</td>\n",
       "      <td>0</td>\n",
       "      <td>45</td>\n",
       "    </tr>\n",
       "    <tr>\n",
       "      <th>16277</th>\n",
       "      <td>27</td>\n",
       "      <td>104457</td>\n",
       "      <td>13</td>\n",
       "      <td>0</td>\n",
       "      <td>0</td>\n",
       "      <td>40</td>\n",
       "    </tr>\n",
       "    <tr>\n",
       "      <th>16278</th>\n",
       "      <td>59</td>\n",
       "      <td>268700</td>\n",
       "      <td>9</td>\n",
       "      <td>0</td>\n",
       "      <td>0</td>\n",
       "      <td>40</td>\n",
       "    </tr>\n",
       "    <tr>\n",
       "      <th>16279</th>\n",
       "      <td>33</td>\n",
       "      <td>59083</td>\n",
       "      <td>13</td>\n",
       "      <td>0</td>\n",
       "      <td>1902</td>\n",
       "      <td>45</td>\n",
       "    </tr>\n",
       "  </tbody>\n",
       "</table>\n",
       "<p>15347 rows × 6 columns</p>\n",
       "</div>"
      ],
      "text/plain": [
       "       age  fnlwgt  education-num  capital-gain  capital-loss  hours-per-week\n",
       "0       34  284843              9           594             0              60\n",
       "1       40  190290             10             0             0              40\n",
       "2       36  177858             13             0             0              40\n",
       "3       22  184756             10             0             0              30\n",
       "4       47  149700             13         15024             0              40\n",
       "...    ...     ...            ...           ...           ...             ...\n",
       "16275   25  514716             13             0             0              40\n",
       "16276   32  207668             13         15024             0              45\n",
       "16277   27  104457             13             0             0              40\n",
       "16278   59  268700              9             0             0              40\n",
       "16279   33   59083             13             0          1902              45\n",
       "\n",
       "[15347 rows x 6 columns]"
      ]
     },
     "execution_count": 13,
     "metadata": {},
     "output_type": "execute_result"
    }
   ],
   "source": [
    "# https://stackoverflow.com/questions/25039626/how-do-i-find-numeric-columns-in-pandas\n",
    "data_num = data.select_dtypes(include=np.number)\n",
    "X = data_num\n",
    "X"
   ]
  },
  {
   "cell_type": "markdown",
   "metadata": {},
   "source": [
    "## Обучение классификаторов на вещественных признаках\n",
    "\n",
    "В данном разделе необходимо будет работать только с вещественными признаками и целевой переменной.\n",
    "\n",
    "В начале посмотрим как работает подбор параметров по сетке и как влияет на качество разбиение выборки. Сейчас и далее будем рассматривать 5 алгоритмов:\n",
    " - [kNN](http://scikit-learn.org/stable/modules/generated/sklearn.neighbors.KNeighborsClassifier.html)\n",
    " - [DecisonTree](http://scikit-learn.org/stable/modules/generated/sklearn.tree.DecisionTreeClassifier.html#sklearn.tree.DecisionTreeClassifier)\n",
    " - [SGD Linear Classifier](http://scikit-learn.org/stable/modules/generated/sklearn.linear_model.SGDClassifier.html)\n",
    " - [RandomForest](http://scikit-learn.org/stable/modules/generated/sklearn.ensemble.RandomForestClassifier.html)\n",
    " - [GradientBoosting](https://scikit-learn.org/stable/modules/generated/sklearn.ensemble.GradientBoostingClassifier.html)\n",
    "\n",
    "Для начала у первых трёх алгоритмов выберем один гиперпараметр, который будем оптимизировать:\n",
    " - kNN — число соседей (*n_neighbors*)\n",
    " - DecisonTree — глубина дерева (*max_depth*)\n",
    " - SGD Linear Classifier — оптимизируемая функция (*loss*)\n",
    " \n",
    "Остальные параметры оставляйте в значениях по умолчанию. Для подбора гиперпараметров воспользуйтесь перебором по сетке, который реализован в классе [GridSearchCV](https://scikit-learn.org/stable/modules/generated/sklearn.model_selection.GridSearchCV.html). В качестве схемы кросс-валидации используйте 5-fold cv, которую можно задать с помощью класса [KFold](https://scikit-learn.org/stable/modules/generated/sklearn.model_selection.KFold.html).\n",
    "\n",
    "**Задание 2 (1 балл)** Для каждого из первых трех алгоритмов подберите оптимальные значения указанных гиперпараметров. Для каждого из этих алгоритмов постройте график среднего качества по кросс-валидации при заданном значении гиперпараметра, на котором также отобразите доверительный интервал [m-std, m+std], где m - среднее, std - стандартное отклонение."
   ]
  },
  {
   "cell_type": "markdown",
   "metadata": {},
   "source": [
    "**kNN**"
   ]
  },
  {
   "cell_type": "code",
   "execution_count": 17,
   "metadata": {},
   "outputs": [
    {
     "name": "stderr",
     "output_type": "stream",
     "text": [
      "C:\\miniconsa\\lib\\site-packages\\sklearn\\model_selection\\_validation.py:683: UserWarning: Scoring failed. The score on this train-test partition for these parameters will be set to nan. Details: \n",
      "Traceback (most recent call last):\n",
      "  File \"C:\\miniconsa\\lib\\site-packages\\sklearn\\metrics\\_scorer.py\", line 334, in _score\n",
      "    y_pred = method_caller(clf, \"decision_function\", X)\n",
      "  File \"C:\\miniconsa\\lib\\site-packages\\sklearn\\metrics\\_scorer.py\", line 53, in _cached_call\n",
      "    return getattr(estimator, method)(*args, **kwargs)\n",
      "AttributeError: 'KNeighborsClassifier' object has no attribute 'decision_function'\n",
      "\n",
      "During handling of the above exception, another exception occurred:\n",
      "\n",
      "Traceback (most recent call last):\n",
      "  File \"C:\\miniconsa\\lib\\site-packages\\sklearn\\model_selection\\_validation.py\", line 674, in _score\n",
      "    scores = scorer(estimator, X_test, y_test)\n",
      "  File \"C:\\miniconsa\\lib\\site-packages\\sklearn\\metrics\\_scorer.py\", line 199, in __call__\n",
      "    return self._score(partial(_cached_call, None), estimator, X, y_true,\n",
      "  File \"C:\\miniconsa\\lib\\site-packages\\sklearn\\metrics\\_scorer.py\", line 350, in _score\n",
      "    y_pred = method_caller(clf, \"predict_proba\", X)\n",
      "  File \"C:\\miniconsa\\lib\\site-packages\\sklearn\\metrics\\_scorer.py\", line 53, in _cached_call\n",
      "    return getattr(estimator, method)(*args, **kwargs)\n",
      "  File \"C:\\miniconsa\\lib\\site-packages\\sklearn\\neighbors\\_classification.py\", line 241, in predict_proba\n",
      "    neigh_dist, neigh_ind = self.kneighbors(X)\n",
      "  File \"C:\\miniconsa\\lib\\site-packages\\sklearn\\neighbors\\_base.py\", line 680, in kneighbors\n",
      "    raise ValueError(\n",
      "ValueError: Expected n_neighbors <= n_samples,  but n_samples = 12277, n_neighbors = 15346\n",
      "\n",
      "  warnings.warn(\n",
      "C:\\miniconsa\\lib\\site-packages\\sklearn\\model_selection\\_validation.py:683: UserWarning: Scoring failed. The score on this train-test partition for these parameters will be set to nan. Details: \n",
      "Traceback (most recent call last):\n",
      "  File \"C:\\miniconsa\\lib\\site-packages\\sklearn\\metrics\\_scorer.py\", line 334, in _score\n",
      "    y_pred = method_caller(clf, \"decision_function\", X)\n",
      "  File \"C:\\miniconsa\\lib\\site-packages\\sklearn\\metrics\\_scorer.py\", line 53, in _cached_call\n",
      "    return getattr(estimator, method)(*args, **kwargs)\n",
      "AttributeError: 'KNeighborsClassifier' object has no attribute 'decision_function'\n",
      "\n",
      "During handling of the above exception, another exception occurred:\n",
      "\n",
      "Traceback (most recent call last):\n",
      "  File \"C:\\miniconsa\\lib\\site-packages\\sklearn\\model_selection\\_validation.py\", line 674, in _score\n",
      "    scores = scorer(estimator, X_test, y_test)\n",
      "  File \"C:\\miniconsa\\lib\\site-packages\\sklearn\\metrics\\_scorer.py\", line 199, in __call__\n",
      "    return self._score(partial(_cached_call, None), estimator, X, y_true,\n",
      "  File \"C:\\miniconsa\\lib\\site-packages\\sklearn\\metrics\\_scorer.py\", line 350, in _score\n",
      "    y_pred = method_caller(clf, \"predict_proba\", X)\n",
      "  File \"C:\\miniconsa\\lib\\site-packages\\sklearn\\metrics\\_scorer.py\", line 53, in _cached_call\n",
      "    return getattr(estimator, method)(*args, **kwargs)\n",
      "  File \"C:\\miniconsa\\lib\\site-packages\\sklearn\\neighbors\\_classification.py\", line 241, in predict_proba\n",
      "    neigh_dist, neigh_ind = self.kneighbors(X)\n",
      "  File \"C:\\miniconsa\\lib\\site-packages\\sklearn\\neighbors\\_base.py\", line 680, in kneighbors\n",
      "    raise ValueError(\n",
      "ValueError: Expected n_neighbors <= n_samples,  but n_samples = 12277, n_neighbors = 15346\n",
      "\n",
      "  warnings.warn(\n",
      "C:\\miniconsa\\lib\\site-packages\\sklearn\\model_selection\\_validation.py:683: UserWarning: Scoring failed. The score on this train-test partition for these parameters will be set to nan. Details: \n",
      "Traceback (most recent call last):\n",
      "  File \"C:\\miniconsa\\lib\\site-packages\\sklearn\\metrics\\_scorer.py\", line 334, in _score\n",
      "    y_pred = method_caller(clf, \"decision_function\", X)\n",
      "  File \"C:\\miniconsa\\lib\\site-packages\\sklearn\\metrics\\_scorer.py\", line 53, in _cached_call\n",
      "    return getattr(estimator, method)(*args, **kwargs)\n",
      "AttributeError: 'KNeighborsClassifier' object has no attribute 'decision_function'\n",
      "\n",
      "During handling of the above exception, another exception occurred:\n",
      "\n",
      "Traceback (most recent call last):\n",
      "  File \"C:\\miniconsa\\lib\\site-packages\\sklearn\\model_selection\\_validation.py\", line 674, in _score\n",
      "    scores = scorer(estimator, X_test, y_test)\n",
      "  File \"C:\\miniconsa\\lib\\site-packages\\sklearn\\metrics\\_scorer.py\", line 199, in __call__\n",
      "    return self._score(partial(_cached_call, None), estimator, X, y_true,\n",
      "  File \"C:\\miniconsa\\lib\\site-packages\\sklearn\\metrics\\_scorer.py\", line 350, in _score\n",
      "    y_pred = method_caller(clf, \"predict_proba\", X)\n",
      "  File \"C:\\miniconsa\\lib\\site-packages\\sklearn\\metrics\\_scorer.py\", line 53, in _cached_call\n",
      "    return getattr(estimator, method)(*args, **kwargs)\n",
      "  File \"C:\\miniconsa\\lib\\site-packages\\sklearn\\neighbors\\_classification.py\", line 241, in predict_proba\n",
      "    neigh_dist, neigh_ind = self.kneighbors(X)\n",
      "  File \"C:\\miniconsa\\lib\\site-packages\\sklearn\\neighbors\\_base.py\", line 680, in kneighbors\n",
      "    raise ValueError(\n",
      "ValueError: Expected n_neighbors <= n_samples,  but n_samples = 12278, n_neighbors = 15346\n",
      "\n",
      "  warnings.warn(\n",
      "C:\\miniconsa\\lib\\site-packages\\sklearn\\model_selection\\_validation.py:683: UserWarning: Scoring failed. The score on this train-test partition for these parameters will be set to nan. Details: \n",
      "Traceback (most recent call last):\n",
      "  File \"C:\\miniconsa\\lib\\site-packages\\sklearn\\metrics\\_scorer.py\", line 334, in _score\n",
      "    y_pred = method_caller(clf, \"decision_function\", X)\n",
      "  File \"C:\\miniconsa\\lib\\site-packages\\sklearn\\metrics\\_scorer.py\", line 53, in _cached_call\n",
      "    return getattr(estimator, method)(*args, **kwargs)\n",
      "AttributeError: 'KNeighborsClassifier' object has no attribute 'decision_function'\n",
      "\n",
      "During handling of the above exception, another exception occurred:\n",
      "\n",
      "Traceback (most recent call last):\n",
      "  File \"C:\\miniconsa\\lib\\site-packages\\sklearn\\model_selection\\_validation.py\", line 674, in _score\n",
      "    scores = scorer(estimator, X_test, y_test)\n",
      "  File \"C:\\miniconsa\\lib\\site-packages\\sklearn\\metrics\\_scorer.py\", line 199, in __call__\n",
      "    return self._score(partial(_cached_call, None), estimator, X, y_true,\n",
      "  File \"C:\\miniconsa\\lib\\site-packages\\sklearn\\metrics\\_scorer.py\", line 350, in _score\n",
      "    y_pred = method_caller(clf, \"predict_proba\", X)\n",
      "  File \"C:\\miniconsa\\lib\\site-packages\\sklearn\\metrics\\_scorer.py\", line 53, in _cached_call\n",
      "    return getattr(estimator, method)(*args, **kwargs)\n",
      "  File \"C:\\miniconsa\\lib\\site-packages\\sklearn\\neighbors\\_classification.py\", line 241, in predict_proba\n",
      "    neigh_dist, neigh_ind = self.kneighbors(X)\n",
      "  File \"C:\\miniconsa\\lib\\site-packages\\sklearn\\neighbors\\_base.py\", line 680, in kneighbors\n",
      "    raise ValueError(\n",
      "ValueError: Expected n_neighbors <= n_samples,  but n_samples = 12278, n_neighbors = 15346\n",
      "\n",
      "  warnings.warn(\n",
      "C:\\miniconsa\\lib\\site-packages\\sklearn\\model_selection\\_validation.py:683: UserWarning: Scoring failed. The score on this train-test partition for these parameters will be set to nan. Details: \n",
      "Traceback (most recent call last):\n",
      "  File \"C:\\miniconsa\\lib\\site-packages\\sklearn\\metrics\\_scorer.py\", line 334, in _score\n",
      "    y_pred = method_caller(clf, \"decision_function\", X)\n",
      "  File \"C:\\miniconsa\\lib\\site-packages\\sklearn\\metrics\\_scorer.py\", line 53, in _cached_call\n",
      "    return getattr(estimator, method)(*args, **kwargs)\n",
      "AttributeError: 'KNeighborsClassifier' object has no attribute 'decision_function'\n",
      "\n",
      "During handling of the above exception, another exception occurred:\n",
      "\n",
      "Traceback (most recent call last):\n",
      "  File \"C:\\miniconsa\\lib\\site-packages\\sklearn\\model_selection\\_validation.py\", line 674, in _score\n",
      "    scores = scorer(estimator, X_test, y_test)\n",
      "  File \"C:\\miniconsa\\lib\\site-packages\\sklearn\\metrics\\_scorer.py\", line 199, in __call__\n",
      "    return self._score(partial(_cached_call, None), estimator, X, y_true,\n",
      "  File \"C:\\miniconsa\\lib\\site-packages\\sklearn\\metrics\\_scorer.py\", line 350, in _score\n",
      "    y_pred = method_caller(clf, \"predict_proba\", X)\n",
      "  File \"C:\\miniconsa\\lib\\site-packages\\sklearn\\metrics\\_scorer.py\", line 53, in _cached_call\n",
      "    return getattr(estimator, method)(*args, **kwargs)\n",
      "  File \"C:\\miniconsa\\lib\\site-packages\\sklearn\\neighbors\\_classification.py\", line 241, in predict_proba\n",
      "    neigh_dist, neigh_ind = self.kneighbors(X)\n",
      "  File \"C:\\miniconsa\\lib\\site-packages\\sklearn\\neighbors\\_base.py\", line 680, in kneighbors\n",
      "    raise ValueError(\n",
      "ValueError: Expected n_neighbors <= n_samples,  but n_samples = 12278, n_neighbors = 15346\n",
      "\n",
      "  warnings.warn(\n",
      "C:\\miniconsa\\lib\\site-packages\\sklearn\\model_selection\\_search.py:918: UserWarning: One or more of the test scores are non-finite: [0.6150689  0.63493223 0.64044012 0.63535991 0.62787913 0.61723387\n",
      " 0.61079118 0.5862634  0.56874498 0.53223878 0.49931255        nan]\n",
      "  warnings.warn(\n"
     ]
    },
    {
     "data": {
      "text/plain": [
       "{'mean_fit_time': array([0.04278593, 0.04449415, 0.04477181, 0.04334211, 0.04648352,\n",
       "        0.04332132, 0.04431667, 0.0391417 , 0.04091945, 0.0401958 ,\n",
       "        0.00162106, 0.00645146]),\n",
       " 'std_fit_time': array([0.0020054 , 0.0028823 , 0.00200104, 0.00317139, 0.00820635,\n",
       "        0.00192334, 0.00620958, 0.00339159, 0.00314816, 0.00023938,\n",
       "        0.00149542, 0.00547723]),\n",
       " 'mean_score_time': array([0.0190938 , 0.02074895, 0.02380829, 0.02149477, 0.02892089,\n",
       "        0.04912038, 0.07889833, 0.33010769, 0.73387256, 3.42755299,\n",
       "        5.82982264, 0.        ]),\n",
       " 'std_score_time': array([0.00107773, 0.00146578, 0.00092212, 0.00378721, 0.00670872,\n",
       "        0.00284294, 0.00477873, 0.00473792, 0.04706099, 0.10087502,\n",
       "        0.20671342, 0.        ]),\n",
       " 'param_n_neighbors': masked_array(data=[1, 2, 5, 10, 20, 50, 100, 500, 1000, 5000, 10000,\n",
       "                    15346],\n",
       "              mask=[False, False, False, False, False, False, False, False,\n",
       "                    False, False, False, False],\n",
       "        fill_value='?',\n",
       "             dtype=object),\n",
       " 'params': [{'n_neighbors': 1},\n",
       "  {'n_neighbors': 2},\n",
       "  {'n_neighbors': 5},\n",
       "  {'n_neighbors': 10},\n",
       "  {'n_neighbors': 20},\n",
       "  {'n_neighbors': 50},\n",
       "  {'n_neighbors': 100},\n",
       "  {'n_neighbors': 500},\n",
       "  {'n_neighbors': 1000},\n",
       "  {'n_neighbors': 5000},\n",
       "  {'n_neighbors': 10000},\n",
       "  {'n_neighbors': 15346}],\n",
       " 'split0_test_score': array([0.61166067, 0.62736262, 0.62227869, 0.61222039, 0.61186198,\n",
       "        0.60583767, 0.60438401, 0.59022776, 0.57625725, 0.52862837,\n",
       "        0.49762987,        nan]),\n",
       " 'split1_test_score': array([0.61126806, 0.63485004, 0.6403694 , 0.64036384, 0.61832394,\n",
       "        0.61341268, 0.60588884, 0.58268918, 0.57316029, 0.52921117,\n",
       "        0.50137414,        nan]),\n",
       " 'split2_test_score': array([0.62285193, 0.63876717, 0.64859649, 0.6416538 , 0.63861362,\n",
       "        0.63678879, 0.62520502, 0.59758583, 0.57044566, 0.54637877,\n",
       "        0.4968747 ,        nan]),\n",
       " 'split3_test_score': array([0.61512227, 0.63360646, 0.64469787, 0.64136561, 0.63392748,\n",
       "        0.61503576, 0.60539921, 0.57823345, 0.55994315, 0.526672  ,\n",
       "        0.49677094,        nan]),\n",
       " 'split4_test_score': array([0.61444158, 0.64007487, 0.64625815, 0.64119592, 0.63666862,\n",
       "        0.61509446, 0.6130788 , 0.58258078, 0.56391855, 0.53030358,\n",
       "        0.50391309,        nan]),\n",
       " 'mean_test_score': array([0.6150689 , 0.63493223, 0.64044012, 0.63535991, 0.62787913,\n",
       "        0.61723387, 0.61079118, 0.5862634 , 0.56874498, 0.53223878,\n",
       "        0.49931255,        nan]),\n",
       " 'std_test_score': array([0.00417216, 0.00447699, 0.00946939, 0.01157771, 0.01074167,\n",
       "        0.01035643, 0.00783773, 0.00685172, 0.00599313, 0.00716763,\n",
       "        0.00285129,        nan]),\n",
       " 'rank_test_score': array([ 6,  3,  1,  2,  4,  5,  7,  8,  9, 10, 11, 12])}"
      ]
     },
     "execution_count": 17,
     "metadata": {},
     "output_type": "execute_result"
    }
   ],
   "source": [
    "param_grid = {'n_neighbors': [1, 2, 5, 10, 20, 50, 100, 500, 1000, 5000, 10000, 15346]}\n",
    "gridsearch = GridSearchCV(KNeighborsClassifier(), param_grid, scoring='roc_auc', cv=5)\n",
    "\n",
    "gridsearch.fit(X, y)\n",
    "gridsearch.cv_results_"
   ]
  },
  {
   "cell_type": "code",
   "execution_count": 18,
   "metadata": {},
   "outputs": [
    {
     "name": "stdout",
     "output_type": "stream",
     "text": [
      "kNN \n",
      "best parameters: {'n_neighbors': 5} \n",
      "best score: 0.6404401214740305\n"
     ]
    }
   ],
   "source": [
    "print('kNN','\\nbest parameters:', gridsearch.best_params_, '\\nbest score:', gridsearch.best_score_)"
   ]
  },
  {
   "cell_type": "markdown",
   "metadata": {},
   "source": [
    "Лучшие значения скора лежат среди первых 5 параметров, поэтому увеличим точность и будем искать от 1 до 20."
   ]
  },
  {
   "cell_type": "code",
   "execution_count": 19,
   "metadata": {},
   "outputs": [
    {
     "data": {
      "text/plain": [
       "{'mean_fit_time': array([0.0410337 , 0.04325986, 0.04664907, 0.04358735, 0.04457397,\n",
       "        0.04142017, 0.04442244, 0.0394712 , 0.04052558, 0.04402833,\n",
       "        0.03922272, 0.03913808, 0.03851681, 0.03881054, 0.04049792,\n",
       "        0.0419692 , 0.04033904, 0.04446068, 0.04324141, 0.04457159]),\n",
       " 'std_fit_time': array([6.16988296e-03, 7.80697904e-03, 2.75988010e-03, 7.14267788e-03,\n",
       "        3.47950982e-03, 7.75923261e-03, 4.46052973e-03, 3.34989089e-03,\n",
       "        1.02032411e-04, 3.38508417e-03, 1.57168965e-03, 4.22925617e-03,\n",
       "        3.12567977e-03, 3.22834669e-03, 1.27890766e-04, 3.19191771e-03,\n",
       "        4.38092177e-05, 5.32929018e-03, 4.44414686e-03, 6.00936291e-03]),\n",
       " 'mean_score_time': array([0.01941252, 0.01693506, 0.02111878, 0.01802816, 0.01879487,\n",
       "        0.02403545, 0.01624756, 0.02484303, 0.02232661, 0.02090955,\n",
       "        0.02469897, 0.02453356, 0.02630477, 0.02629657, 0.02626967,\n",
       "        0.02622075, 0.02988758, 0.02385178, 0.02946167, 0.02943296]),\n",
       " 'std_score_time': array([0.00832959, 0.00262561, 0.00293321, 0.00386478, 0.00350663,\n",
       "        0.00708135, 0.00394471, 0.00352676, 0.00310243, 0.00514014,\n",
       "        0.00474276, 0.00366425, 0.0042256 , 0.00495347, 0.00421885,\n",
       "        0.00445578, 0.00152232, 0.00470273, 0.00362451, 0.00363531]),\n",
       " 'param_n_neighbors': masked_array(data=[1, 2, 3, 4, 5, 6, 7, 8, 9, 10, 11, 12, 13, 14, 15, 16,\n",
       "                    17, 18, 19, 20],\n",
       "              mask=[False, False, False, False, False, False, False, False,\n",
       "                    False, False, False, False, False, False, False, False,\n",
       "                    False, False, False, False],\n",
       "        fill_value='?',\n",
       "             dtype=object),\n",
       " 'params': [{'n_neighbors': 1},\n",
       "  {'n_neighbors': 2},\n",
       "  {'n_neighbors': 3},\n",
       "  {'n_neighbors': 4},\n",
       "  {'n_neighbors': 5},\n",
       "  {'n_neighbors': 6},\n",
       "  {'n_neighbors': 7},\n",
       "  {'n_neighbors': 8},\n",
       "  {'n_neighbors': 9},\n",
       "  {'n_neighbors': 10},\n",
       "  {'n_neighbors': 11},\n",
       "  {'n_neighbors': 12},\n",
       "  {'n_neighbors': 13},\n",
       "  {'n_neighbors': 14},\n",
       "  {'n_neighbors': 15},\n",
       "  {'n_neighbors': 16},\n",
       "  {'n_neighbors': 17},\n",
       "  {'n_neighbors': 18},\n",
       "  {'n_neighbors': 19},\n",
       "  {'n_neighbors': 20}],\n",
       " 'split0_test_score': array([0.61166067, 0.62736262, 0.62157494, 0.62413192, 0.62227869,\n",
       "        0.62297522, 0.61759238, 0.61554341, 0.61624771, 0.61222039,\n",
       "        0.61044279, 0.60964728, 0.61279596, 0.61469757, 0.61342464,\n",
       "        0.61179942, 0.61297252, 0.61530734, 0.61235246, 0.61186198]),\n",
       " 'split1_test_score': array([0.61126806, 0.63485004, 0.64295835, 0.6418011 , 0.6403694 ,\n",
       "        0.63964312, 0.63799927, 0.63788388, 0.63455892, 0.64036384,\n",
       "        0.64165595, 0.64430441, 0.63789028, 0.63574676, 0.6317136 ,\n",
       "        0.62977946, 0.62855769, 0.62510761, 0.62112505, 0.61832394]),\n",
       " 'split2_test_score': array([0.62285193, 0.63876717, 0.64379797, 0.65190678, 0.64859649,\n",
       "        0.65109924, 0.648989  , 0.64583255, 0.64453597, 0.6416538 ,\n",
       "        0.6504917 , 0.65144918, 0.64750855, 0.64258513, 0.641251  ,\n",
       "        0.64192224, 0.64030409, 0.64082122, 0.63854129, 0.63861362]),\n",
       " 'split3_test_score': array([0.61512227, 0.63360646, 0.63047866, 0.63761135, 0.64469787,\n",
       "        0.63708004, 0.64262157, 0.6411108 , 0.64137423, 0.64136561,\n",
       "        0.63662022, 0.63383679, 0.63777548, 0.63286012, 0.63238806,\n",
       "        0.63625024, 0.63443348, 0.63301061, 0.63438563, 0.63392748]),\n",
       " 'split4_test_score': array([0.61444158, 0.64007487, 0.64220458, 0.64813417, 0.64625815,\n",
       "        0.64322243, 0.64254813, 0.64077365, 0.64567371, 0.64119592,\n",
       "        0.6425064 , 0.63860221, 0.63763249, 0.63446519, 0.63100024,\n",
       "        0.63209152, 0.63578764, 0.63547052, 0.63731927, 0.63666862]),\n",
       " 'mean_test_score': array([0.6150689 , 0.63493223, 0.6362029 , 0.64071706, 0.64044012,\n",
       "        0.63880401, 0.63795007, 0.63622886, 0.63647811, 0.63535991,\n",
       "        0.63634341, 0.63556798, 0.63472055, 0.63207095, 0.62995551,\n",
       "        0.63036858, 0.63041108, 0.62994346, 0.62874474, 0.62787913]),\n",
       " 'std_test_score': array([0.00417216, 0.00447699, 0.00878733, 0.00965516, 0.00946939,\n",
       "        0.0092187 , 0.01076347, 0.0106522 , 0.0108297 , 0.01157771,\n",
       "        0.01369159, 0.01423112, 0.01159379, 0.00929784, 0.00906595,\n",
       "        0.01016081, 0.00949207, 0.00889812, 0.01027698, 0.01074167]),\n",
       " 'rank_test_score': array([20, 11,  8,  1,  2,  3,  4,  7,  5, 10,  6,  9, 12, 13, 16, 15, 14,\n",
       "        17, 18, 19])}"
      ]
     },
     "execution_count": 19,
     "metadata": {},
     "output_type": "execute_result"
    }
   ],
   "source": [
    "param_grid = {'n_neighbors': [i for i in range(1, 21)]}\n",
    "gridsearch = GridSearchCV(KNeighborsClassifier(), param_grid, scoring='roc_auc', cv=5)\n",
    "\n",
    "gridsearch.fit(X, y)\n",
    "gridsearch.cv_results_"
   ]
  },
  {
   "cell_type": "code",
   "execution_count": 20,
   "metadata": {},
   "outputs": [
    {
     "name": "stdout",
     "output_type": "stream",
     "text": [
      "KNN \n",
      "best parameters: {'n_neighbors': 4} \n",
      "best score: 0.6407170629127037\n"
     ]
    }
   ],
   "source": [
    "print('KNN','\\nbest parameters:', gridsearch.best_params_, '\\nbest score:', gridsearch.best_score_)"
   ]
  },
  {
   "cell_type": "code",
   "execution_count": 21,
   "metadata": {},
   "outputs": [
    {
     "data": {
      "text/plain": [
       "array([0.6150689 , 0.63493223, 0.6362029 , 0.64071706, 0.64044012,\n",
       "       0.63880401, 0.63795007, 0.63622886, 0.63647811, 0.63535991,\n",
       "       0.63634341, 0.63556798, 0.63472055, 0.63207095, 0.62995551,\n",
       "       0.63036858, 0.63041108, 0.62994346, 0.62874474, 0.62787913])"
      ]
     },
     "execution_count": 21,
     "metadata": {},
     "output_type": "execute_result"
    }
   ],
   "source": [
    "gridsearch.cv_results_['mean_test_score'] # will be used in graph later"
   ]
  },
  {
   "cell_type": "code",
   "execution_count": 22,
   "metadata": {},
   "outputs": [
    {
     "data": {
      "text/plain": [
       "Text(0, 0.5, 'mean CV roc-auc score')"
      ]
     },
     "execution_count": 22,
     "metadata": {},
     "output_type": "execute_result"
    },
    {
     "data": {
      "image/png": "[encoded data removed]",
      "text/plain": [
       "<Figure size 432x288 with 1 Axes>"
      ]
     },
     "metadata": {
      "needs_background": "light"
     },
     "output_type": "display_data"
    }
   ],
   "source": [
    "# https://stackoverflow.com/questions/59747313/how-to-plot-confidence-interval-in-python\n",
    "\n",
    "x0 = [i for i in range(1, 21)]\n",
    "x1 = gridsearch.cv_results_['mean_test_score']\n",
    "# confidence interval\n",
    "ci = gridsearch.cv_results_['std_test_score']\n",
    "\n",
    "fig, ax = plt.subplots()\n",
    "ax.plot(x0,x1)\n",
    "ax.fill_between(x0, (x1-ci), (x1+ci), color='b', alpha=.1)\n",
    "\n",
    "ax.grid(color='grey', alpha=0.2, linestyle='-')\n",
    "\n",
    "plt.title('kNN', weight='bold')\n",
    "plt.xticks(x0)\n",
    "plt.xlabel('n_neighbors', weight='bold')\n",
    "plt.ylabel('mean CV roc-auc score', weight='bold')"
   ]
  },
  {
   "cell_type": "markdown",
   "metadata": {},
   "source": [
    "**Decision Tree**"
   ]
  },
  {
   "cell_type": "code",
   "execution_count": 23,
   "metadata": {},
   "outputs": [
    {
     "data": {
      "text/plain": [
       "{'mean_fit_time': array([0.00579271, 0.00877109, 0.01497893, 0.02398715, 0.03252325,\n",
       "        0.038025  , 0.04139638, 0.03736291, 0.03703995, 0.03679042,\n",
       "        0.03734808, 0.04251003]),\n",
       " 'std_fit_time': array([0.00040316, 0.00145626, 0.00489227, 0.00554901, 0.00443893,\n",
       "        0.00306658, 0.00065458, 0.00624502, 0.00337093, 0.00079753,\n",
       "        0.00808918, 0.00275299]),\n",
       " 'mean_score_time': array([0.00318999, 0.00280199, 0.00205159, 0.00405178, 0.00405569,\n",
       "        0.0031898 , 0.00556369, 0.00198503, 0.00591106, 0.00380516,\n",
       "        0.0013947 , 0.00079145]),\n",
       " 'std_score_time': array([0.00039904, 0.00037806, 0.00313912, 0.00513593, 0.00512722,\n",
       "        0.00159508, 0.00161583, 0.00166307, 0.00488475, 0.00075498,\n",
       "        0.00173766, 0.00158291]),\n",
       " 'param_max_depth': masked_array(data=[1, 2, 5, 10, 20, 50, 100, 500, 1000, 5000, 10000,\n",
       "                    15346],\n",
       "              mask=[False, False, False, False, False, False, False, False,\n",
       "                    False, False, False, False],\n",
       "        fill_value='?',\n",
       "             dtype=object),\n",
       " 'params': [{'max_depth': 1},\n",
       "  {'max_depth': 2},\n",
       "  {'max_depth': 5},\n",
       "  {'max_depth': 10},\n",
       "  {'max_depth': 20},\n",
       "  {'max_depth': 50},\n",
       "  {'max_depth': 100},\n",
       "  {'max_depth': 500},\n",
       "  {'max_depth': 1000},\n",
       "  {'max_depth': 5000},\n",
       "  {'max_depth': 10000},\n",
       "  {'max_depth': 15346}],\n",
       " 'split0_test_score': array([0.58791046, 0.71913719, 0.82568446, 0.8278744 , 0.73500569,\n",
       "        0.68616785, 0.68351577, 0.68536483, 0.68183133, 0.68030898,\n",
       "        0.68558393, 0.68143871]),\n",
       " 'split1_test_score': array([0.59134776, 0.7161584 , 0.82784882, 0.82138241, 0.72087975,\n",
       "        0.67855614, 0.6748558 , 0.68094378, 0.68052225, 0.67644738,\n",
       "        0.67885921, 0.67483133]),\n",
       " 'split2_test_score': array([0.59130129, 0.71075921, 0.82140564, 0.82175586, 0.73764512,\n",
       "        0.67719013, 0.68061586, 0.67977549, 0.67923054, 0.68162285,\n",
       "        0.68133244, 0.67872454]),\n",
       " 'split3_test_score': array([0.59298564, 0.72628584, 0.82559134, 0.82143123, 0.73001339,\n",
       "        0.68121393, 0.6789877 , 0.67830561, 0.67987591, 0.67917129,\n",
       "        0.6786486 , 0.68117722]),\n",
       " 'split4_test_score': array([0.599377  , 0.71791777, 0.83239718, 0.82670349, 0.72981338,\n",
       "        0.69611328, 0.69140349, 0.69418553, 0.69499474, 0.69287031,\n",
       "        0.69738343, 0.69157763]),\n",
       " 'mean_test_score': array([0.59258443, 0.71805168, 0.82658549, 0.82382948, 0.73067147,\n",
       "        0.68384827, 0.68187573, 0.68371505, 0.68329095, 0.68208416,\n",
       "        0.68436152, 0.68154989]),\n",
       " 'std_test_score': array([0.00377682, 0.00501522, 0.00357779, 0.0028517 , 0.00573523,\n",
       "        0.00685694, 0.00552586, 0.00574134, 0.0059148 , 0.0056562 ,\n",
       "        0.00697356, 0.00554668]),\n",
       " 'rank_test_score': array([12,  4,  1,  2,  3,  6, 10,  7,  8,  9,  5, 11])}"
      ]
     },
     "execution_count": 23,
     "metadata": {},
     "output_type": "execute_result"
    }
   ],
   "source": [
    "param_grid = {'max_depth': [1, 2, 5, 10, 20, 50, 100, 500, 1000, 5000, 10000, 15346]}\n",
    "gridsearch = GridSearchCV(DecisionTreeClassifier(), param_grid, scoring='roc_auc', cv=5)\n",
    "\n",
    "gridsearch.fit(X, y)\n",
    "gridsearch.cv_results_"
   ]
  },
  {
   "cell_type": "code",
   "execution_count": 24,
   "metadata": {},
   "outputs": [
    {
     "name": "stdout",
     "output_type": "stream",
     "text": [
      "Decision tree \n",
      "best parameters: {'max_depth': 5} \n",
      "best score: 0.8265854894633483\n"
     ]
    }
   ],
   "source": [
    "print('Decision tree','\\nbest parameters:', gridsearch.best_params_, '\\nbest score:', gridsearch.best_score_)"
   ]
  },
  {
   "cell_type": "markdown",
   "metadata": {},
   "source": [
    "Лучшие параметры: 2, 5, 10, 20, найдем более точную оценку "
   ]
  },
  {
   "cell_type": "code",
   "execution_count": 25,
   "metadata": {},
   "outputs": [
    {
     "data": {
      "text/plain": [
       "{'mean_fit_time': array([0.00897541, 0.00978861, 0.01540055, 0.01562219, 0.01562219,\n",
       "        0.01692638, 0.02318101, 0.01976542, 0.02821813, 0.02864132,\n",
       "        0.02515445, 0.02173729, 0.02688379, 0.02993789, 0.0307548 ,\n",
       "        0.03215132, 0.03113708, 0.03259006, 0.03466706]),\n",
       " 'std_fit_time': array([6.31130008e-04, 4.08034888e-03, 4.46046706e-04, 2.24366958e-06,\n",
       "        1.98561314e-06, 2.60050756e-03, 7.00129657e-03, 6.06782289e-03,\n",
       "        3.66046710e-03, 1.09802443e-03, 4.76109912e-03, 7.44300749e-03,\n",
       "        5.65056289e-03, 6.40033465e-03, 4.97630832e-03, 3.48132441e-03,\n",
       "        1.00001832e-03, 1.94279862e-03, 3.21533250e-03]),\n",
       " 'mean_score_time': array([0.00299225, 0.00239491, 0.        , 0.00442505, 0.003124  ,\n",
       "        0.00312142, 0.00312414, 0.00317526, 0.00219455, 0.00318408,\n",
       "        0.00571437, 0.00822134, 0.0063158 , 0.00313826, 0.00624251,\n",
       "        0.00360975, 0.00364575, 0.00201812, 0.00181017]),\n",
       " 'std_score_time': array([7.62939453e-07, 1.35335361e-03, 0.00000000e+00, 6.13835795e-03,\n",
       "        6.24799728e-03, 6.24284744e-03, 6.24828339e-03, 6.35051727e-03,\n",
       "        1.82848039e-03, 4.03353421e-04, 4.96581971e-03, 6.97203732e-03,\n",
       "        4.65293752e-03, 6.27651215e-03, 7.64550015e-03, 2.60242716e-03,\n",
       "        4.51421952e-03, 1.09242362e-03, 1.59745536e-03]),\n",
       " 'param_max_depth': masked_array(data=[2, 3, 4, 5, 6, 7, 8, 9, 10, 11, 12, 13, 14, 15, 16, 17,\n",
       "                    18, 19, 20],\n",
       "              mask=[False, False, False, False, False, False, False, False,\n",
       "                    False, False, False, False, False, False, False, False,\n",
       "                    False, False, False],\n",
       "        fill_value='?',\n",
       "             dtype=object),\n",
       " 'params': [{'max_depth': 2},\n",
       "  {'max_depth': 3},\n",
       "  {'max_depth': 4},\n",
       "  {'max_depth': 5},\n",
       "  {'max_depth': 6},\n",
       "  {'max_depth': 7},\n",
       "  {'max_depth': 8},\n",
       "  {'max_depth': 9},\n",
       "  {'max_depth': 10},\n",
       "  {'max_depth': 11},\n",
       "  {'max_depth': 12},\n",
       "  {'max_depth': 13},\n",
       "  {'max_depth': 14},\n",
       "  {'max_depth': 15},\n",
       "  {'max_depth': 16},\n",
       "  {'max_depth': 17},\n",
       "  {'max_depth': 18},\n",
       "  {'max_depth': 19},\n",
       "  {'max_depth': 20}],\n",
       " 'split0_test_score': array([0.71913719, 0.78971214, 0.81019994, 0.82568446, 0.83328004,\n",
       "        0.84431987, 0.84089175, 0.83721672, 0.82750459, 0.82299262,\n",
       "        0.81278445, 0.80233103, 0.78305443, 0.77917336, 0.77091517,\n",
       "        0.76025433, 0.75323988, 0.73969534, 0.73334711]),\n",
       " 'split1_test_score': array([0.7161584 , 0.7868037 , 0.80925234, 0.82784882, 0.83589485,\n",
       "        0.83820075, 0.83397629, 0.83009605, 0.82138241, 0.81203649,\n",
       "        0.80917559, 0.79375781, 0.78047715, 0.76198771, 0.75679785,\n",
       "        0.74545828, 0.73462726, 0.72945297, 0.71764265]),\n",
       " 'split2_test_score': array([0.71075921, 0.78597112, 0.8120495 , 0.82310752, 0.83411018,\n",
       "        0.83784997, 0.83561984, 0.83269872, 0.82474653, 0.81709309,\n",
       "        0.81057461, 0.80175395, 0.78814284, 0.77258199, 0.75723423,\n",
       "        0.7526282 , 0.74337804, 0.73973784, 0.73800536]),\n",
       " 'split3_test_score': array([0.72628584, 0.80025264, 0.807656  , 0.82559134, 0.83642043,\n",
       "        0.84223763, 0.83527268, 0.82746458, 0.82020003, 0.8121246 ,\n",
       "        0.80292841, 0.79470944, 0.77512173, 0.76611219, 0.75321153,\n",
       "        0.75089127, 0.747043  , 0.74285145, 0.73017918]),\n",
       " 'split4_test_score': array([0.71791777, 0.79367212, 0.8079325 , 0.83239718, 0.83910287,\n",
       "        0.84371585, 0.84013435, 0.83998997, 0.82678249, 0.82510537,\n",
       "        0.81328738, 0.80390119, 0.79354166, 0.78467371, 0.76574305,\n",
       "        0.76019679, 0.75806041, 0.74731728, 0.73138284]),\n",
       " 'mean_test_score': array([0.71805168, 0.79128234, 0.80941805, 0.82692586, 0.83576168,\n",
       "        0.84126482, 0.83717898, 0.83349321, 0.82412321, 0.81787043,\n",
       "        0.80975009, 0.79929068, 0.78406756, 0.77290579, 0.76078037,\n",
       "        0.75388577, 0.74726972, 0.73981098, 0.73011143]),\n",
       " 'std_test_score': array([0.00501522, 0.00523278, 0.00160468, 0.00312054, 0.00202491,\n",
       "        0.00273265, 0.00278715, 0.00457359, 0.00289127, 0.00540805,\n",
       "        0.00372196, 0.00419925, 0.00632948, 0.00828527, 0.00652787,\n",
       "        0.00569137, 0.00808839, 0.00588041, 0.00678049]),\n",
       " 'rank_test_score': array([19, 11,  9,  5,  3,  1,  2,  4,  6,  7,  8, 10, 12, 13, 14, 15, 16,\n",
       "        17, 18])}"
      ]
     },
     "execution_count": 25,
     "metadata": {},
     "output_type": "execute_result"
    }
   ],
   "source": [
    "param_grid = {'max_depth': [i for i in range(2, 21)]}\n",
    "gridsearch = GridSearchCV(DecisionTreeClassifier(), param_grid, scoring='roc_auc', cv=5)\n",
    "\n",
    "gridsearch.fit(X, y)\n",
    "gridsearch.cv_results_"
   ]
  },
  {
   "cell_type": "code",
   "execution_count": 26,
   "metadata": {},
   "outputs": [
    {
     "name": "stdout",
     "output_type": "stream",
     "text": [
      "Decision tree \n",
      "best parameters: {'max_depth': 7} \n",
      "best score: 0.8412648154753455\n"
     ]
    }
   ],
   "source": [
    "print('Decision tree','\\nbest parameters:', gridsearch.best_params_, '\\nbest score:', gridsearch.best_score_)"
   ]
  },
  {
   "cell_type": "code",
   "execution_count": 27,
   "metadata": {},
   "outputs": [
    {
     "data": {
      "text/plain": [
       "Text(0, 0.5, 'mean CV roc-auc score')"
      ]
     },
     "execution_count": 27,
     "metadata": {},
     "output_type": "execute_result"
    },
    {
     "data": {
      "image/png": "[encoded data removed]",
      "text/plain": [
       "<Figure size 432x288 with 1 Axes>"
      ]
     },
     "metadata": {
      "needs_background": "light"
     },
     "output_type": "display_data"
    }
   ],
   "source": [
    "x0 = [i for i in range(2, 21)]\n",
    "x1 = gridsearch.cv_results_['mean_test_score']\n",
    "# confidence interval\n",
    "ci = gridsearch.cv_results_['std_test_score']\n",
    "\n",
    "fig, ax = plt.subplots()\n",
    "ax.plot(x0,x1)\n",
    "ax.fill_between(x0, (x1-ci), (x1+ci), color='b', alpha=.1)\n",
    "\n",
    "ax.grid(color='grey', alpha=0.2, linestyle='-')\n",
    "\n",
    "plt.title('Decision Tree', weight='bold')\n",
    "plt.xticks(x0)\n",
    "plt.xlabel('Max_depth', weight='bold')\n",
    "plt.ylabel('mean CV roc-auc score', weight='bold')"
   ]
  },
  {
   "cell_type": "markdown",
   "metadata": {},
   "source": [
    "**SGD Linear Classifier**"
   ]
  },
  {
   "cell_type": "code",
   "execution_count": 28,
   "metadata": {},
   "outputs": [
    {
     "data": {
      "text/plain": [
       "{'mean_fit_time': array([0.11605291, 0.30163159, 0.11127429, 0.08694992, 0.11623325]),\n",
       " 'std_fit_time': array([0.01326172, 0.04618892, 0.02720671, 0.02518318, 0.01622427]),\n",
       " 'mean_score_time': array([0.00202293, 0.00159545, 0.00059848, 0.00392218, 0.00372248]),\n",
       " 'std_score_time': array([0.00404587, 0.00134512, 0.00119696, 0.00605043, 0.006061  ]),\n",
       " 'param_loss': masked_array(data=['hinge', 'log', 'modified_huber', 'squared_hinge',\n",
       "                    'perceptron'],\n",
       "              mask=[False, False, False, False, False],\n",
       "        fill_value='?',\n",
       "             dtype=object),\n",
       " 'params': [{'loss': 'hinge'},\n",
       "  {'loss': 'log'},\n",
       "  {'loss': 'modified_huber'},\n",
       "  {'loss': 'squared_hinge'},\n",
       "  {'loss': 'perceptron'}],\n",
       " 'split0_test_score': array([0.61285991, 0.61294945, 0.62175039, 0.63061139, 0.59468801]),\n",
       " 'split1_test_score': array([0.62229176, 0.59831578, 0.61096442, 0.62850514, 0.62834832]),\n",
       " 'split2_test_score': array([0.65250124, 0.62836064, 0.60034616, 0.60119515, 0.58015509]),\n",
       " 'split3_test_score': array([0.57741005, 0.61867847, 0.58329012, 0.61053572, 0.61917418]),\n",
       " 'split4_test_score': array([0.62384724, 0.61169488, 0.63028589, 0.61827929, 0.63000493]),\n",
       " 'mean_test_score': array([0.61778204, 0.61399984, 0.6093274 , 0.61782534, 0.6104741 ]),\n",
       " 'std_test_score': array([0.02415232, 0.00980335, 0.01646129, 0.01102224, 0.01972346]),\n",
       " 'rank_test_score': array([2, 3, 5, 1, 4])}"
      ]
     },
     "execution_count": 28,
     "metadata": {},
     "output_type": "execute_result"
    }
   ],
   "source": [
    "param_grid = {'loss': ['hinge', 'log', 'modified_huber', 'squared_hinge', 'perceptron']}\n",
    "gridsearch = GridSearchCV(SGDClassifier(), param_grid, scoring='roc_auc', cv=5)\n",
    "\n",
    "gridsearch.fit(X, y)\n",
    "gridsearch.cv_results_"
   ]
  },
  {
   "cell_type": "code",
   "execution_count": 29,
   "metadata": {},
   "outputs": [
    {
     "name": "stdout",
     "output_type": "stream",
     "text": [
      "SGD Classifier \n",
      "best parameters: {'loss': 'squared_hinge'} \n",
      "best score: 0.6178253388920197\n"
     ]
    }
   ],
   "source": [
    "print('SGD Classifier','\\nbest parameters:', gridsearch.best_params_, '\\nbest score:', gridsearch.best_score_)"
   ]
  },
  {
   "cell_type": "code",
   "execution_count": 30,
   "metadata": {},
   "outputs": [
    {
     "data": {
      "text/plain": [
       "Text(0, 0.5, 'mean CV roc-auc score')"
      ]
     },
     "execution_count": 30,
     "metadata": {},
     "output_type": "execute_result"
    },
    {
     "data": {
      "image/png": "[encoded data removed]",
      "text/plain": [
       "<Figure size 432x288 with 1 Axes>"
      ]
     },
     "metadata": {
      "needs_background": "light"
     },
     "output_type": "display_data"
    }
   ],
   "source": [
    "x0 = [i for i in range(1, 6)]\n",
    "x1 = gridsearch.cv_results_['mean_test_score']\n",
    "# confidence interval\n",
    "ci = gridsearch.cv_results_['std_test_score']\n",
    "\n",
    "fig, ax = plt.subplots()\n",
    "ax.plot(x0,x1)\n",
    "ax.fill_between(x0, (x1-ci), (x1+ci), color='b', alpha=.1)\n",
    "\n",
    "ax.grid(color='grey', alpha=0.2, linestyle='-')\n",
    "\n",
    "plt.title('SGD Classifier', weight='bold')\n",
    "plt.xticks(x0, labels = ['hinge', 'log', 'modified_huber', 'squared_hinge', 'perceptron'], rotation=20)\n",
    "plt.xlabel('loss', weight='bold')\n",
    "plt.ylabel('mean CV roc-auc score', weight='bold')"
   ]
  },
  {
   "cell_type": "markdown",
   "metadata": {},
   "source": [
    "**Выводы по графикам:**\n",
    "\n",
    "На первых двух графиках видим, что они выпуклые: т.е с увеличением значения параметра качество сначала растет, затем достигает максимального значения, затем начинает убывать. Возможно, это говорит о переобучении (в дереве) или недообучении (в kNN) и о том, что на тестовой выборке алгоритм постепенно снижает качество. Т.е оптимальное значение параметра скорее всего не будет лежать на границах интервала.\n",
    "По форме графика для SGD никаких выводов о переобучении сделать нельзя (т.к параметр нечисловой), поэтому на него можно просто посмотреть и сказать, что оптимальный параметр это лосс=squared hinge."
   ]
  },
  {
   "cell_type": "markdown",
   "metadata": {},
   "source": [
    "Что вы можете сказать о получившихся графиках?\n",
    "\n",
    "**Задание 3 (0.5 балла)** Также подберём число деревьев (*n_estimators*) в алгоритме RandomForest. Как известно, в общем случае Random Forest не переобучается с увеличением количества деревьев, так что при увеличении этого гиперпараметра его качество не будет становиться хуже. Поэтому подберите такое количество деревьев, при котором качество на кросс-валидации стабилизируется. Обратите внимание, что для проведения этого эксперимента не нужно с нуля обучать много случайных лесов с различными количествами деревьев. Обучите один случайный лес с максимальным интересным количеством деревьев, а затем рассмотрите подмножества разных размеров, состоящие из деревьев построенного леса (поле [*estimators_*](http://scikit-learn.org/stable/modules/generated/sklearn.ensemble.RandomForestClassifier.html)). В дальнейших экспериментах используйте это количество деревьев."
   ]
  },
  {
   "cell_type": "code",
   "execution_count": 31,
   "metadata": {},
   "outputs": [
    {
     "data": {
      "text/plain": [
       "{'mean_fit_time': array([0.01592813, 0.02726293, 0.03485084, 0.04937229, 0.06065474,\n",
       "        0.06839519, 0.08138747, 0.09069452, 0.10788851, 0.11773882,\n",
       "        0.12599635, 0.14078369, 0.14893093, 0.16068015, 0.17158723,\n",
       "        0.17552233, 0.18825512, 0.19968038, 0.21448803, 0.22700081,\n",
       "        0.23576331, 0.24895391, 0.25283608, 0.27161307, 0.28237443,\n",
       "        0.2944315 , 0.31189504, 0.3173173 , 0.32093801, 0.33257604,\n",
       "        0.36107569, 0.35932574, 0.36780968, 0.3802495 , 0.39346094,\n",
       "        0.4064405 , 0.41355419, 0.42676167, 0.43803453, 0.44993792,\n",
       "        0.44877481, 0.47227936, 0.47698407, 0.49812846, 0.49363289,\n",
       "        0.51237073, 0.51568928, 0.53889093, 0.54694877, 0.58190565]),\n",
       " 'std_fit_time': array([0.00091551, 0.00701851, 0.00468521, 0.00402965, 0.0024333 ,\n",
       "        0.00495176, 0.00379465, 0.00379841, 0.00703669, 0.01243899,\n",
       "        0.00287077, 0.00946989, 0.00193592, 0.00612902, 0.00424483,\n",
       "        0.00581109, 0.00432285, 0.00372882, 0.00661771, 0.00371127,\n",
       "        0.01081897, 0.00866122, 0.00883979, 0.00587001, 0.00540165,\n",
       "        0.00559669, 0.00952038, 0.00384906, 0.00438938, 0.00889108,\n",
       "        0.00797101, 0.00518981, 0.01443844, 0.00497197, 0.00943015,\n",
       "        0.00667511, 0.00577659, 0.00708794, 0.00919917, 0.01247762,\n",
       "        0.00655847, 0.00499152, 0.00834901, 0.00543871, 0.01003882,\n",
       "        0.00489915, 0.00580348, 0.00642184, 0.0101131 , 0.01197176]),\n",
       " 'mean_score_time': array([0.00401139, 0.0012177 , 0.00566535, 0.00664039, 0.00582857,\n",
       "        0.0080574 , 0.00659018, 0.00762324, 0.0094759 , 0.01225109,\n",
       "        0.01007457, 0.01343789, 0.01081696, 0.01429858, 0.01096258,\n",
       "        0.01456752, 0.01622758, 0.0149456 , 0.01740546, 0.01772418,\n",
       "        0.0167531 , 0.01544867, 0.01872821, 0.01736031, 0.02467999,\n",
       "        0.01853466, 0.02180634, 0.01734853, 0.02481275, 0.02647214,\n",
       "        0.02851562, 0.02645106, 0.0275579 , 0.02652488, 0.02550168,\n",
       "        0.02615843, 0.02855134, 0.02824178, 0.02856932, 0.03097553,\n",
       "        0.02973804, 0.02608705, 0.03203082, 0.03395553, 0.03335733,\n",
       "        0.03273306, 0.03175001, 0.03457198, 0.0367095 , 0.03579073]),\n",
       " 'std_score_time': array([1.45235863e-05, 1.61789236e-03, 4.68615689e-03, 3.59184687e-03,\n",
       "        2.03285307e-03, 1.31480733e-03, 3.43603233e-03, 2.86099495e-03,\n",
       "        1.33483331e-03, 3.04011898e-03, 5.89194566e-03, 2.25812385e-03,\n",
       "        1.10986489e-03, 3.07076566e-03, 5.49603468e-03, 4.83897467e-03,\n",
       "        5.13445625e-03, 4.72863624e-03, 1.91136538e-03, 3.54292031e-03,\n",
       "        8.90284244e-03, 2.92571280e-03, 3.48156440e-03, 2.13318401e-03,\n",
       "        7.43006262e-03, 3.45522591e-03, 1.13334651e-03, 3.34568320e-03,\n",
       "        5.42037884e-03, 2.90956875e-03, 4.40151754e-03, 7.27350426e-03,\n",
       "        3.11322621e-03, 6.44453021e-03, 6.67838741e-03, 2.57361745e-03,\n",
       "        6.69670230e-03, 8.05589824e-03, 3.19990219e-03, 6.83643959e-03,\n",
       "        8.09288421e-04, 6.36343772e-03, 1.55122725e-03, 9.14003334e-03,\n",
       "        1.71732805e-03, 2.69786952e-03, 7.54755643e-04, 1.36400783e-03,\n",
       "        5.07807140e-03, 5.95688564e-03]),\n",
       " 'param_n_estimators': masked_array(data=[1, 2, 3, 4, 5, 6, 7, 8, 9, 10, 11, 12, 13, 14, 15, 16,\n",
       "                    17, 18, 19, 20, 21, 22, 23, 24, 25, 26, 27, 28, 29, 30,\n",
       "                    31, 32, 33, 34, 35, 36, 37, 38, 39, 40, 41, 42, 43, 44,\n",
       "                    45, 46, 47, 48, 49, 50],\n",
       "              mask=[False, False, False, False, False, False, False, False,\n",
       "                    False, False, False, False, False, False, False, False,\n",
       "                    False, False, False, False, False, False, False, False,\n",
       "                    False, False, False, False, False, False, False, False,\n",
       "                    False, False, False, False, False, False, False, False,\n",
       "                    False, False, False, False, False, False, False, False,\n",
       "                    False, False],\n",
       "        fill_value='?',\n",
       "             dtype=object),\n",
       " 'params': [{'n_estimators': 1},\n",
       "  {'n_estimators': 2},\n",
       "  {'n_estimators': 3},\n",
       "  {'n_estimators': 4},\n",
       "  {'n_estimators': 5},\n",
       "  {'n_estimators': 6},\n",
       "  {'n_estimators': 7},\n",
       "  {'n_estimators': 8},\n",
       "  {'n_estimators': 9},\n",
       "  {'n_estimators': 10},\n",
       "  {'n_estimators': 11},\n",
       "  {'n_estimators': 12},\n",
       "  {'n_estimators': 13},\n",
       "  {'n_estimators': 14},\n",
       "  {'n_estimators': 15},\n",
       "  {'n_estimators': 16},\n",
       "  {'n_estimators': 17},\n",
       "  {'n_estimators': 18},\n",
       "  {'n_estimators': 19},\n",
       "  {'n_estimators': 20},\n",
       "  {'n_estimators': 21},\n",
       "  {'n_estimators': 22},\n",
       "  {'n_estimators': 23},\n",
       "  {'n_estimators': 24},\n",
       "  {'n_estimators': 25},\n",
       "  {'n_estimators': 26},\n",
       "  {'n_estimators': 27},\n",
       "  {'n_estimators': 28},\n",
       "  {'n_estimators': 29},\n",
       "  {'n_estimators': 30},\n",
       "  {'n_estimators': 31},\n",
       "  {'n_estimators': 32},\n",
       "  {'n_estimators': 33},\n",
       "  {'n_estimators': 34},\n",
       "  {'n_estimators': 35},\n",
       "  {'n_estimators': 36},\n",
       "  {'n_estimators': 37},\n",
       "  {'n_estimators': 38},\n",
       "  {'n_estimators': 39},\n",
       "  {'n_estimators': 40},\n",
       "  {'n_estimators': 41},\n",
       "  {'n_estimators': 42},\n",
       "  {'n_estimators': 43},\n",
       "  {'n_estimators': 44},\n",
       "  {'n_estimators': 45},\n",
       "  {'n_estimators': 46},\n",
       "  {'n_estimators': 47},\n",
       "  {'n_estimators': 48},\n",
       "  {'n_estimators': 49},\n",
       "  {'n_estimators': 50}],\n",
       " 'split0_test_score': array([0.67332623, 0.74294273, 0.74890503, 0.76693401, 0.77292689,\n",
       "        0.78218384, 0.78466324, 0.78444664, 0.79357291, 0.79020679,\n",
       "        0.79589799, 0.79954327, 0.80733405, 0.80650239, 0.80622795,\n",
       "        0.8033818 , 0.80577333, 0.80533262, 0.80814457, 0.79879558,\n",
       "        0.80641369, 0.81001226, 0.80700733, 0.81369368, 0.81036816,\n",
       "        0.81016407, 0.81366198, 0.81224503, 0.80950342, 0.81360443,\n",
       "        0.80965162, 0.81314647, 0.8133831 , 0.81751219, 0.81484899,\n",
       "        0.81238683, 0.81072352, 0.8130967 , 0.811888  , 0.81163803,\n",
       "        0.8126774 , 0.81468244, 0.81437908, 0.815191  , 0.81648534,\n",
       "        0.81652816, 0.81840196, 0.81837972, 0.8154279 , 0.81512204]),\n",
       " 'split1_test_score': array([0.68632105, 0.7278005 , 0.7422843 , 0.77122993, 0.77682853,\n",
       "        0.77747501, 0.78596036, 0.78354158, 0.78683512, 0.7915117 ,\n",
       "        0.79800786, 0.80042748, 0.79577175, 0.80009938, 0.80296889,\n",
       "        0.8054608 , 0.80448734, 0.80618207, 0.80387534, 0.80326307,\n",
       "        0.80841623, 0.80689278, 0.80345993, 0.80502398, 0.81403958,\n",
       "        0.80884276, 0.81125988, 0.81123514, 0.81001782, 0.80745361,\n",
       "        0.80882747, 0.81163108, 0.80922286, 0.81118453, 0.81594897,\n",
       "        0.81319625, 0.81576323, 0.81072824, 0.80851327, 0.81304054,\n",
       "        0.81465102, 0.81383799, 0.81792009, 0.81627819, 0.81212324,\n",
       "        0.81697249, 0.81755445, 0.81433988, 0.81767374, 0.81574071]),\n",
       " 'split2_test_score': array([0.68092269, 0.72267624, 0.75067346, 0.76681514, 0.77299313,\n",
       "        0.77775327, 0.77841588, 0.78620534, 0.79217999, 0.784679  ,\n",
       "        0.7964714 , 0.79712873, 0.80355291, 0.8037532 , 0.800819  ,\n",
       "        0.79883784, 0.7998109 , 0.80349255, 0.80200125, 0.80266803,\n",
       "        0.80492404, 0.80533796, 0.80953451, 0.80440079, 0.81204198,\n",
       "        0.808515  , 0.80963632, 0.81359726, 0.80927525, 0.80790552,\n",
       "        0.80863962, 0.80918679, 0.81451997, 0.81293632, 0.81533808,\n",
       "        0.81156213, 0.80756392, 0.80901599, 0.80825574, 0.81410632,\n",
       "        0.81005053, 0.81179691, 0.8079453 , 0.81132568, 0.80848774,\n",
       "        0.81668751, 0.81158466, 0.81131372, 0.81147367, 0.81243143]),\n",
       " 'split3_test_score': array([0.67133871, 0.71729605, 0.75156557, 0.75651792, 0.77019636,\n",
       "        0.76191703, 0.77503021, 0.78231033, 0.79294414, 0.78203411,\n",
       "        0.79017657, 0.7957181 , 0.79141362, 0.79563715, 0.79884785,\n",
       "        0.79784948, 0.80039868, 0.79660465, 0.79509833, 0.7994017 ,\n",
       "        0.79948654, 0.79067312, 0.80413652, 0.79779218, 0.80377378,\n",
       "        0.80245467, 0.8004966 , 0.80199123, 0.80279321, 0.80242574,\n",
       "        0.80170889, 0.80298376, 0.80346584, 0.80080148, 0.80227469,\n",
       "        0.80781511, 0.80335735, 0.80354985, 0.80569764, 0.80534603,\n",
       "        0.80748881, 0.80587567, 0.80788076, 0.80750439, 0.80534241,\n",
       "        0.80426726, 0.80409368, 0.8052712 , 0.80962603, 0.80689519]),\n",
       " 'split4_test_score': array([0.67892984, 0.73810467, 0.75427555, 0.76996019, 0.77522299,\n",
       "        0.7864991 , 0.7990028 , 0.79218723, 0.79527608, 0.79353693,\n",
       "        0.80348504, 0.80324608, 0.81419367, 0.80439244, 0.81036014,\n",
       "        0.81621712, 0.81175519, 0.81529914, 0.82448282, 0.81350435,\n",
       "        0.81814765, 0.81963839, 0.81208594, 0.81461594, 0.81993076,\n",
       "        0.81855212, 0.82015803, 0.81430689, 0.81642491, 0.81980363,\n",
       "        0.81819327, 0.81879691, 0.82312504, 0.81574088, 0.81962087,\n",
       "        0.82317484, 0.81861638, 0.81994411, 0.81989126, 0.81858467,\n",
       "        0.82060811, 0.81921223, 0.82115584, 0.8252261 , 0.82422133,\n",
       "        0.81854767, 0.82738252, 0.82335009, 0.82047987, 0.81763164]),\n",
       " 'mean_test_score': array([0.6781677 , 0.72976404, 0.74954078, 0.76629144, 0.77363358,\n",
       "        0.77716565, 0.7846145 , 0.78573822, 0.79216165, 0.78839371,\n",
       "        0.79680777, 0.79921273, 0.8024532 , 0.80207691, 0.80384477,\n",
       "        0.80434941, 0.80444509, 0.8053822 , 0.80672046, 0.80352655,\n",
       "        0.80747763, 0.8065109 , 0.80724485, 0.80710531, 0.81203085,\n",
       "        0.80970573, 0.81104256, 0.81067511, 0.80960292, 0.81023859,\n",
       "        0.80940418, 0.81114901, 0.81274336, 0.81163508, 0.81360632,\n",
       "        0.81362703, 0.81120488, 0.81126698, 0.81084918, 0.81254312,\n",
       "        0.81309517, 0.81308105, 0.81385622, 0.81510507, 0.81333201,\n",
       "        0.81460062, 0.81580346, 0.81453092, 0.81493624, 0.8135642 ]),\n",
       " 'std_test_score': array([0.00538002, 0.00951617, 0.00402148, 0.00517798, 0.00225646,\n",
       "        0.00830972, 0.00823551, 0.00346559, 0.00285222, 0.0043291 ,\n",
       "        0.00426473, 0.00262329, 0.00811646, 0.00382459, 0.00407483,\n",
       "        0.0065672 , 0.00431399, 0.0059934 , 0.00982821, 0.00528695,\n",
       "        0.00610312, 0.00934824, 0.00324723, 0.00629598, 0.0052419 ,\n",
       "        0.00516157, 0.00637487, 0.00447027, 0.00431743, 0.00595078,\n",
       "        0.00524298, 0.00516206, 0.00647783, 0.00584228, 0.00590951,\n",
       "        0.00511716, 0.00549146, 0.0053582 , 0.0049307 , 0.00428506,\n",
       "        0.00446633, 0.0043427 , 0.00530505, 0.00593082, 0.00659216,\n",
       "        0.00521639, 0.00773059, 0.00614362, 0.00396624, 0.00372739]),\n",
       " 'rank_test_score': array([50, 49, 48, 47, 46, 45, 44, 43, 41, 42, 40, 39, 37, 38, 35, 34, 33,\n",
       "        32, 30, 36, 27, 31, 28, 29, 15, 24, 20, 22, 25, 23, 26, 19, 13, 16,\n",
       "         8,  7, 18, 17, 21, 14, 11, 12,  6,  2, 10,  4,  1,  5,  3,  9])}"
      ]
     },
     "execution_count": 31,
     "metadata": {},
     "output_type": "execute_result"
    }
   ],
   "source": [
    "param_grid = {'n_estimators': [i for i in range (1, 51)]}\n",
    "gridsearch = GridSearchCV(RandomForestClassifier(), param_grid, scoring='roc_auc', cv=5)\n",
    "\n",
    "gridsearch.fit(X, y)\n",
    "gridsearch.cv_results_"
   ]
  },
  {
   "cell_type": "markdown",
   "metadata": {},
   "source": [
    "Рэндом форест у меня обучается некритично долго, поэтому обучу леса с количеством деревьев от 1 до 50 и посмотрю, на каком значении качество +- стабилизируется."
   ]
  },
  {
   "cell_type": "code",
   "execution_count": 32,
   "metadata": {},
   "outputs": [
    {
     "data": {
      "text/plain": [
       "Text(0, 0.5, 'mean CV roc-auc score')"
      ]
     },
     "execution_count": 32,
     "metadata": {},
     "output_type": "execute_result"
    },
    {
     "data": {
      "image/png": "[encoded data removed]",
      "text/plain": [
       "<Figure size 432x288 with 1 Axes>"
      ]
     },
     "metadata": {
      "needs_background": "light"
     },
     "output_type": "display_data"
    }
   ],
   "source": [
    "x0 = [i for i in range (1, 51)]\n",
    "x1 = gridsearch.cv_results_['mean_test_score']\n",
    "# confidence interval\n",
    "ci = gridsearch.cv_results_['std_test_score']\n",
    "\n",
    "fig, ax = plt.subplots()\n",
    "ax.plot(x0,x1)\n",
    "ax.fill_between(x0, (x1-ci), (x1+ci), color='b', alpha=.1)\n",
    "\n",
    "ax.grid(color='grey', alpha=0.2, linestyle='-')\n",
    "\n",
    "plt.title('Random Forest', weight='bold')\n",
    "plt.xticks()\n",
    "plt.xlabel('n_estimators', weight='bold')\n",
    "plt.ylabel('mean CV roc-auc score', weight='bold')"
   ]
  },
  {
   "cell_type": "markdown",
   "metadata": {},
   "source": [
    "Видим, что с 20 деревьев качество начинает расти очень медленно, поэтому найдем оптимальное значение количества деревьев в промежутке от 20 до 30."
   ]
  },
  {
   "cell_type": "code",
   "execution_count": 33,
   "metadata": {},
   "outputs": [
    {
     "name": "stdout",
     "output_type": "stream",
     "text": [
      "Random Forest \n",
      "best n_estimators parameter: 24 \n",
      "best score: 0.8120308537194125\n"
     ]
    }
   ],
   "source": [
    "best_score = max(gridsearch.cv_results_['mean_test_score'][20:30])\n",
    "best_n = 20 + argmax(gridsearch.cv_results_['mean_test_score'][20:30])\n",
    "print('Random Forest','\\nbest n_estimators parameter:', best_n, '\\nbest score:', best_score)"
   ]
  },
  {
   "cell_type": "markdown",
   "metadata": {},
   "source": [
    "**Задание 4 (0.5 балла)** Подберём число деревьев (*n_estimators*) в алгоритме GradientBoosting. Мы знаем, что ошибка бустинга на тестовых данных, как правило, имеет U-образную форму, то есть сначала уменьшается, а при достижении некоторого числа деревьев начинает расти. Нарисуйте график ошибки в зависимости от числа деревьев. Подберите n_estimators, соответствующий минимуму ошибки."
   ]
  },
  {
   "cell_type": "code",
   "execution_count": 34,
   "metadata": {},
   "outputs": [],
   "source": [
    "X_train, X_test, y_train, y_test = train_test_split(X, y, test_size=0.3, random_state=690)"
   ]
  },
  {
   "cell_type": "code",
   "execution_count": 35,
   "metadata": {},
   "outputs": [
    {
     "name": "stderr",
     "output_type": "stream",
     "text": [
      "100%|████████████████████████████████████████████████████████████████████████████████| 499/499 [16:12<00:00,  1.95s/it]\n"
     ]
    }
   ],
   "source": [
    "loss=[]\n",
    "\n",
    "# tqdm here to track learning progress\n",
    "for n_estimators in tqdm([i for i in range (1, 500)]):\n",
    "    clf = GradientBoostingClassifier(n_estimators=n_estimators)\n",
    "    clf.fit(X_train, y_train)\n",
    "    y_pred = clf.predict(X_test)\n",
    "    log_loss_n = log_loss(y_test, y_pred)\n",
    "    loss.append(log_loss_n)\n",
    "min_loss = min(loss[0:500])\n",
    "best_n = argmin(loss[0:500])"
   ]
  },
  {
   "cell_type": "code",
   "execution_count": 36,
   "metadata": {},
   "outputs": [
    {
     "data": {
      "text/plain": [
       "Text(0, 0.5, 'loss')"
      ]
     },
     "execution_count": 36,
     "metadata": {},
     "output_type": "execute_result"
    },
    {
     "data": {
      "image/png": "[encoded data removed]",
      "text/plain": [
       "<Figure size 432x288 with 1 Axes>"
      ]
     },
     "metadata": {
      "needs_background": "light"
     },
     "output_type": "display_data"
    }
   ],
   "source": [
    "x0 = [i for i in range (1, 500)]\n",
    "x1 = loss\n",
    "# confidence interval\n",
    "ci = gridsearch.cv_results_['std_test_score']\n",
    "\n",
    "fig, ax = plt.subplots()\n",
    "ax.plot(x0,x1)\n",
    "plt.axvline(x=best_n, linestyle='--', color='red',  linewidth=1.3)\n",
    "\n",
    "ax.grid(color='grey', alpha=0.2, linestyle='-')\n",
    "\n",
    "plt.title('grad boosting', weight='bold')\n",
    "plt.xticks()\n",
    "plt.xlabel('n_estimators', weight='bold')\n",
    "plt.ylabel('loss', weight='bold')"
   ]
  },
  {
   "cell_type": "code",
   "execution_count": 40,
   "metadata": {},
   "outputs": [],
   "source": [
    "best_score = mean(cross_val_score(GradientBoostingClassifier(n_estimators=best_n), X, y, scoring='roc_auc', cv=5))"
   ]
  },
  {
   "cell_type": "code",
   "execution_count": 41,
   "metadata": {},
   "outputs": [
    {
     "name": "stdout",
     "output_type": "stream",
     "text": [
      "Gradient Boosting \n",
      "best n_estimators parameter: 305 \n",
      "best score: 0.865756314051292\n"
     ]
    }
   ],
   "source": [
    "print('Gradient Boosting','\\nbest n_estimators parameter:', best_n, '\\nbest score:', best_score)"
   ]
  },
  {
   "cell_type": "markdown",
   "metadata": {},
   "source": [
    "При обучении алгоритмов стоит обращать внимание не только на качество, но и каким образом они работают с данными. В этой задаче получилось так, что некоторые из используемых алгоритмов чувствительны к масштабу признаков. Чтобы убедиться, что это как-то могло повлиять на качество давайте посмотрим на сами признаки.\n",
    "\n",
    "**Задание 5 (0.5 балла)** Постройте гистограммы для признаков *age*, *fnlwgt*, *capital-gain*. Глядя на получившиеся графики в чем заключается особенность данных? На какие алгоритмы это может повлиять? Может ли масшитабирование повлиять на работу этих алгоритмов?"
   ]
  },
  {
   "cell_type": "code",
   "execution_count": 42,
   "metadata": {},
   "outputs": [
    {
     "data": {
      "image/png": "[encoded data removed]",
      "text/plain": [
       "<Figure size 432x288 with 1 Axes>"
      ]
     },
     "metadata": {
      "needs_background": "light"
     },
     "output_type": "display_data"
    },
    {
     "data": {
      "image/png": "[encoded data removed]",
      "text/plain": [
       "<Figure size 432x288 with 1 Axes>"
      ]
     },
     "metadata": {
      "needs_background": "light"
     },
     "output_type": "display_data"
    },
    {
     "data": {
      "image/png": "[encoded data removed]",
      "text/plain": [
       "<Figure size 432x288 with 1 Axes>"
      ]
     },
     "metadata": {
      "needs_background": "light"
     },
     "output_type": "display_data"
    }
   ],
   "source": [
    "for column in ['age', 'fnlwgt', 'capital-gain']:\n",
    "    fig, ax = plt.subplots()\n",
    "    plt.hist(X[column], rwidth=0.9)\n",
    "    plt.xlabel(column+' histogram', weight='bold')\n"
   ]
  },
  {
   "cell_type": "markdown",
   "metadata": {},
   "source": [
    "Признаки имеют разный масштаб. Это должно сильно отразиться на качестве линейных моделей и kNN (тк он работает с вычислением расстояний между объектами). На деревья и их композиции, полагаю, масштабирование повлияет не так сильно. В целом, ожидаю, что поднимется качество при масштабировании."
   ]
  },
  {
   "cell_type": "markdown",
   "metadata": {},
   "source": [
    "Масштабирование признаков можно выполнить, например, одним из следующих способов способами:\n",
    " - $x_{new} = \\dfrac{x - \\mu}{\\sigma}$, где $\\mu, \\sigma$ — среднее и стандартное отклонение значения признака по всей выборке (см. функцию [scale](http://scikit-learn.org/stable/modules/generated/sklearn.preprocessing.scale.html))\n",
    " - $x_{new} = \\dfrac{x - x_{min}}{x_{max} - x_{min}}$, где $[x_{min}, x_{max}]$ — минимальный интервал значений признака\n",
    "\n",
    "Похожие схемы масштабирования приведены в классах [StandardScaler](http://scikit-learn.org/stable/modules/generated/sklearn.preprocessing.StandardScaler.html#sklearn.preprocessing.StandardScaler) и [MinMaxScaler](http://scikit-learn.org/stable/modules/generated/sklearn.preprocessing.MinMaxScaler.html#sklearn.preprocessing.MinMaxScaler).\n",
    " \n",
    "**Задание 6 (1 балл)** Масштабируйте все вещественные признаки одним из указанных способов и подберите оптимальные значения гиперпараметров аналогично пункту выше."
   ]
  },
  {
   "cell_type": "code",
   "execution_count": 43,
   "metadata": {
    "scrolled": true
   },
   "outputs": [
    {
     "data": {
      "text/html": [
       "<div>\n",
       "<style scoped>\n",
       "    .dataframe tbody tr th:only-of-type {\n",
       "        vertical-align: middle;\n",
       "    }\n",
       "\n",
       "    .dataframe tbody tr th {\n",
       "        vertical-align: top;\n",
       "    }\n",
       "\n",
       "    .dataframe thead th {\n",
       "        text-align: right;\n",
       "    }\n",
       "</style>\n",
       "<table border=\"1\" class=\"dataframe\">\n",
       "  <thead>\n",
       "    <tr style=\"text-align: right;\">\n",
       "      <th></th>\n",
       "      <th>0</th>\n",
       "      <th>1</th>\n",
       "      <th>2</th>\n",
       "      <th>3</th>\n",
       "      <th>4</th>\n",
       "      <th>5</th>\n",
       "    </tr>\n",
       "  </thead>\n",
       "  <tbody>\n",
       "    <tr>\n",
       "      <th>0</th>\n",
       "      <td>-0.342919</td>\n",
       "      <td>0.900258</td>\n",
       "      <td>-0.450788</td>\n",
       "      <td>-0.065600</td>\n",
       "      <td>-0.218740</td>\n",
       "      <td>1.588223</td>\n",
       "    </tr>\n",
       "    <tr>\n",
       "      <th>1</th>\n",
       "      <td>0.114760</td>\n",
       "      <td>0.010683</td>\n",
       "      <td>-0.059086</td>\n",
       "      <td>-0.150439</td>\n",
       "      <td>-0.218740</td>\n",
       "      <td>-0.074178</td>\n",
       "    </tr>\n",
       "    <tr>\n",
       "      <th>2</th>\n",
       "      <td>-0.190359</td>\n",
       "      <td>-0.106280</td>\n",
       "      <td>1.116020</td>\n",
       "      <td>-0.150439</td>\n",
       "      <td>-0.218740</td>\n",
       "      <td>-0.074178</td>\n",
       "    </tr>\n",
       "    <tr>\n",
       "      <th>3</th>\n",
       "      <td>-1.258276</td>\n",
       "      <td>-0.041382</td>\n",
       "      <td>-0.059086</td>\n",
       "      <td>-0.150439</td>\n",
       "      <td>-0.218740</td>\n",
       "      <td>-0.905379</td>\n",
       "    </tr>\n",
       "    <tr>\n",
       "      <th>4</th>\n",
       "      <td>0.648719</td>\n",
       "      <td>-0.371197</td>\n",
       "      <td>1.116020</td>\n",
       "      <td>1.995391</td>\n",
       "      <td>-0.218740</td>\n",
       "      <td>-0.074178</td>\n",
       "    </tr>\n",
       "    <tr>\n",
       "      <th>...</th>\n",
       "      <td>...</td>\n",
       "      <td>...</td>\n",
       "      <td>...</td>\n",
       "      <td>...</td>\n",
       "      <td>...</td>\n",
       "      <td>...</td>\n",
       "    </tr>\n",
       "    <tr>\n",
       "      <th>15342</th>\n",
       "      <td>-1.029436</td>\n",
       "      <td>3.062953</td>\n",
       "      <td>1.116020</td>\n",
       "      <td>-0.150439</td>\n",
       "      <td>-0.218740</td>\n",
       "      <td>-0.074178</td>\n",
       "    </tr>\n",
       "    <tr>\n",
       "      <th>15343</th>\n",
       "      <td>-0.495478</td>\n",
       "      <td>0.174179</td>\n",
       "      <td>1.116020</td>\n",
       "      <td>1.995391</td>\n",
       "      <td>-0.218740</td>\n",
       "      <td>0.341422</td>\n",
       "    </tr>\n",
       "    <tr>\n",
       "      <th>15344</th>\n",
       "      <td>-0.876877</td>\n",
       "      <td>-0.796853</td>\n",
       "      <td>1.116020</td>\n",
       "      <td>-0.150439</td>\n",
       "      <td>-0.218740</td>\n",
       "      <td>-0.074178</td>\n",
       "    </tr>\n",
       "    <tr>\n",
       "      <th>15345</th>\n",
       "      <td>1.564076</td>\n",
       "      <td>0.748381</td>\n",
       "      <td>-0.450788</td>\n",
       "      <td>-0.150439</td>\n",
       "      <td>-0.218740</td>\n",
       "      <td>-0.074178</td>\n",
       "    </tr>\n",
       "    <tr>\n",
       "      <th>15346</th>\n",
       "      <td>-0.419198</td>\n",
       "      <td>-1.223741</td>\n",
       "      <td>1.116020</td>\n",
       "      <td>-0.150439</td>\n",
       "      <td>4.473444</td>\n",
       "      <td>0.341422</td>\n",
       "    </tr>\n",
       "  </tbody>\n",
       "</table>\n",
       "<p>15347 rows × 6 columns</p>\n",
       "</div>"
      ],
      "text/plain": [
       "              0         1         2         3         4         5\n",
       "0     -0.342919  0.900258 -0.450788 -0.065600 -0.218740  1.588223\n",
       "1      0.114760  0.010683 -0.059086 -0.150439 -0.218740 -0.074178\n",
       "2     -0.190359 -0.106280  1.116020 -0.150439 -0.218740 -0.074178\n",
       "3     -1.258276 -0.041382 -0.059086 -0.150439 -0.218740 -0.905379\n",
       "4      0.648719 -0.371197  1.116020  1.995391 -0.218740 -0.074178\n",
       "...         ...       ...       ...       ...       ...       ...\n",
       "15342 -1.029436  3.062953  1.116020 -0.150439 -0.218740 -0.074178\n",
       "15343 -0.495478  0.174179  1.116020  1.995391 -0.218740  0.341422\n",
       "15344 -0.876877 -0.796853  1.116020 -0.150439 -0.218740 -0.074178\n",
       "15345  1.564076  0.748381 -0.450788 -0.150439 -0.218740 -0.074178\n",
       "15346 -0.419198 -1.223741  1.116020 -0.150439  4.473444  0.341422\n",
       "\n",
       "[15347 rows x 6 columns]"
      ]
     },
     "execution_count": 43,
     "metadata": {},
     "output_type": "execute_result"
    }
   ],
   "source": [
    "scaler = StandardScaler()\n",
    "X = scaler.fit_transform(X)\n",
    "pd.DataFrame(X)"
   ]
  },
  {
   "cell_type": "markdown",
   "metadata": {},
   "source": [
    "**kNN best parameters**"
   ]
  },
  {
   "cell_type": "code",
   "execution_count": 44,
   "metadata": {},
   "outputs": [
    {
     "name": "stderr",
     "output_type": "stream",
     "text": [
      "C:\\miniconsa\\lib\\site-packages\\sklearn\\model_selection\\_validation.py:683: UserWarning: Scoring failed. The score on this train-test partition for these parameters will be set to nan. Details: \n",
      "Traceback (most recent call last):\n",
      "  File \"C:\\miniconsa\\lib\\site-packages\\sklearn\\metrics\\_scorer.py\", line 334, in _score\n",
      "    y_pred = method_caller(clf, \"decision_function\", X)\n",
      "  File \"C:\\miniconsa\\lib\\site-packages\\sklearn\\metrics\\_scorer.py\", line 53, in _cached_call\n",
      "    return getattr(estimator, method)(*args, **kwargs)\n",
      "AttributeError: 'KNeighborsClassifier' object has no attribute 'decision_function'\n",
      "\n",
      "During handling of the above exception, another exception occurred:\n",
      "\n",
      "Traceback (most recent call last):\n",
      "  File \"C:\\miniconsa\\lib\\site-packages\\sklearn\\model_selection\\_validation.py\", line 674, in _score\n",
      "    scores = scorer(estimator, X_test, y_test)\n",
      "  File \"C:\\miniconsa\\lib\\site-packages\\sklearn\\metrics\\_scorer.py\", line 199, in __call__\n",
      "    return self._score(partial(_cached_call, None), estimator, X, y_true,\n",
      "  File \"C:\\miniconsa\\lib\\site-packages\\sklearn\\metrics\\_scorer.py\", line 350, in _score\n",
      "    y_pred = method_caller(clf, \"predict_proba\", X)\n",
      "  File \"C:\\miniconsa\\lib\\site-packages\\sklearn\\metrics\\_scorer.py\", line 53, in _cached_call\n",
      "    return getattr(estimator, method)(*args, **kwargs)\n",
      "  File \"C:\\miniconsa\\lib\\site-packages\\sklearn\\neighbors\\_classification.py\", line 241, in predict_proba\n",
      "    neigh_dist, neigh_ind = self.kneighbors(X)\n",
      "  File \"C:\\miniconsa\\lib\\site-packages\\sklearn\\neighbors\\_base.py\", line 680, in kneighbors\n",
      "    raise ValueError(\n",
      "ValueError: Expected n_neighbors <= n_samples,  but n_samples = 12277, n_neighbors = 15346\n",
      "\n",
      "  warnings.warn(\n",
      "C:\\miniconsa\\lib\\site-packages\\sklearn\\model_selection\\_validation.py:683: UserWarning: Scoring failed. The score on this train-test partition for these parameters will be set to nan. Details: \n",
      "Traceback (most recent call last):\n",
      "  File \"C:\\miniconsa\\lib\\site-packages\\sklearn\\metrics\\_scorer.py\", line 334, in _score\n",
      "    y_pred = method_caller(clf, \"decision_function\", X)\n",
      "  File \"C:\\miniconsa\\lib\\site-packages\\sklearn\\metrics\\_scorer.py\", line 53, in _cached_call\n",
      "    return getattr(estimator, method)(*args, **kwargs)\n",
      "AttributeError: 'KNeighborsClassifier' object has no attribute 'decision_function'\n",
      "\n",
      "During handling of the above exception, another exception occurred:\n",
      "\n",
      "Traceback (most recent call last):\n",
      "  File \"C:\\miniconsa\\lib\\site-packages\\sklearn\\model_selection\\_validation.py\", line 674, in _score\n",
      "    scores = scorer(estimator, X_test, y_test)\n",
      "  File \"C:\\miniconsa\\lib\\site-packages\\sklearn\\metrics\\_scorer.py\", line 199, in __call__\n",
      "    return self._score(partial(_cached_call, None), estimator, X, y_true,\n",
      "  File \"C:\\miniconsa\\lib\\site-packages\\sklearn\\metrics\\_scorer.py\", line 350, in _score\n",
      "    y_pred = method_caller(clf, \"predict_proba\", X)\n",
      "  File \"C:\\miniconsa\\lib\\site-packages\\sklearn\\metrics\\_scorer.py\", line 53, in _cached_call\n",
      "    return getattr(estimator, method)(*args, **kwargs)\n",
      "  File \"C:\\miniconsa\\lib\\site-packages\\sklearn\\neighbors\\_classification.py\", line 241, in predict_proba\n",
      "    neigh_dist, neigh_ind = self.kneighbors(X)\n",
      "  File \"C:\\miniconsa\\lib\\site-packages\\sklearn\\neighbors\\_base.py\", line 680, in kneighbors\n",
      "    raise ValueError(\n",
      "ValueError: Expected n_neighbors <= n_samples,  but n_samples = 12277, n_neighbors = 15346\n",
      "\n",
      "  warnings.warn(\n",
      "C:\\miniconsa\\lib\\site-packages\\sklearn\\model_selection\\_validation.py:683: UserWarning: Scoring failed. The score on this train-test partition for these parameters will be set to nan. Details: \n",
      "Traceback (most recent call last):\n",
      "  File \"C:\\miniconsa\\lib\\site-packages\\sklearn\\metrics\\_scorer.py\", line 334, in _score\n",
      "    y_pred = method_caller(clf, \"decision_function\", X)\n",
      "  File \"C:\\miniconsa\\lib\\site-packages\\sklearn\\metrics\\_scorer.py\", line 53, in _cached_call\n",
      "    return getattr(estimator, method)(*args, **kwargs)\n",
      "AttributeError: 'KNeighborsClassifier' object has no attribute 'decision_function'\n",
      "\n",
      "During handling of the above exception, another exception occurred:\n",
      "\n",
      "Traceback (most recent call last):\n",
      "  File \"C:\\miniconsa\\lib\\site-packages\\sklearn\\model_selection\\_validation.py\", line 674, in _score\n",
      "    scores = scorer(estimator, X_test, y_test)\n",
      "  File \"C:\\miniconsa\\lib\\site-packages\\sklearn\\metrics\\_scorer.py\", line 199, in __call__\n",
      "    return self._score(partial(_cached_call, None), estimator, X, y_true,\n",
      "  File \"C:\\miniconsa\\lib\\site-packages\\sklearn\\metrics\\_scorer.py\", line 350, in _score\n",
      "    y_pred = method_caller(clf, \"predict_proba\", X)\n",
      "  File \"C:\\miniconsa\\lib\\site-packages\\sklearn\\metrics\\_scorer.py\", line 53, in _cached_call\n",
      "    return getattr(estimator, method)(*args, **kwargs)\n",
      "  File \"C:\\miniconsa\\lib\\site-packages\\sklearn\\neighbors\\_classification.py\", line 241, in predict_proba\n",
      "    neigh_dist, neigh_ind = self.kneighbors(X)\n",
      "  File \"C:\\miniconsa\\lib\\site-packages\\sklearn\\neighbors\\_base.py\", line 680, in kneighbors\n",
      "    raise ValueError(\n",
      "ValueError: Expected n_neighbors <= n_samples,  but n_samples = 12278, n_neighbors = 15346\n",
      "\n",
      "  warnings.warn(\n",
      "C:\\miniconsa\\lib\\site-packages\\sklearn\\model_selection\\_validation.py:683: UserWarning: Scoring failed. The score on this train-test partition for these parameters will be set to nan. Details: \n",
      "Traceback (most recent call last):\n",
      "  File \"C:\\miniconsa\\lib\\site-packages\\sklearn\\metrics\\_scorer.py\", line 334, in _score\n",
      "    y_pred = method_caller(clf, \"decision_function\", X)\n",
      "  File \"C:\\miniconsa\\lib\\site-packages\\sklearn\\metrics\\_scorer.py\", line 53, in _cached_call\n",
      "    return getattr(estimator, method)(*args, **kwargs)\n",
      "AttributeError: 'KNeighborsClassifier' object has no attribute 'decision_function'\n",
      "\n",
      "During handling of the above exception, another exception occurred:\n",
      "\n",
      "Traceback (most recent call last):\n",
      "  File \"C:\\miniconsa\\lib\\site-packages\\sklearn\\model_selection\\_validation.py\", line 674, in _score\n",
      "    scores = scorer(estimator, X_test, y_test)\n",
      "  File \"C:\\miniconsa\\lib\\site-packages\\sklearn\\metrics\\_scorer.py\", line 199, in __call__\n",
      "    return self._score(partial(_cached_call, None), estimator, X, y_true,\n",
      "  File \"C:\\miniconsa\\lib\\site-packages\\sklearn\\metrics\\_scorer.py\", line 350, in _score\n",
      "    y_pred = method_caller(clf, \"predict_proba\", X)\n",
      "  File \"C:\\miniconsa\\lib\\site-packages\\sklearn\\metrics\\_scorer.py\", line 53, in _cached_call\n",
      "    return getattr(estimator, method)(*args, **kwargs)\n",
      "  File \"C:\\miniconsa\\lib\\site-packages\\sklearn\\neighbors\\_classification.py\", line 241, in predict_proba\n",
      "    neigh_dist, neigh_ind = self.kneighbors(X)\n",
      "  File \"C:\\miniconsa\\lib\\site-packages\\sklearn\\neighbors\\_base.py\", line 680, in kneighbors\n",
      "    raise ValueError(\n",
      "ValueError: Expected n_neighbors <= n_samples,  but n_samples = 12278, n_neighbors = 15346\n",
      "\n",
      "  warnings.warn(\n",
      "C:\\miniconsa\\lib\\site-packages\\sklearn\\model_selection\\_validation.py:683: UserWarning: Scoring failed. The score on this train-test partition for these parameters will be set to nan. Details: \n",
      "Traceback (most recent call last):\n",
      "  File \"C:\\miniconsa\\lib\\site-packages\\sklearn\\metrics\\_scorer.py\", line 334, in _score\n",
      "    y_pred = method_caller(clf, \"decision_function\", X)\n",
      "  File \"C:\\miniconsa\\lib\\site-packages\\sklearn\\metrics\\_scorer.py\", line 53, in _cached_call\n",
      "    return getattr(estimator, method)(*args, **kwargs)\n",
      "AttributeError: 'KNeighborsClassifier' object has no attribute 'decision_function'\n",
      "\n",
      "During handling of the above exception, another exception occurred:\n",
      "\n",
      "Traceback (most recent call last):\n",
      "  File \"C:\\miniconsa\\lib\\site-packages\\sklearn\\model_selection\\_validation.py\", line 674, in _score\n",
      "    scores = scorer(estimator, X_test, y_test)\n",
      "  File \"C:\\miniconsa\\lib\\site-packages\\sklearn\\metrics\\_scorer.py\", line 199, in __call__\n",
      "    return self._score(partial(_cached_call, None), estimator, X, y_true,\n",
      "  File \"C:\\miniconsa\\lib\\site-packages\\sklearn\\metrics\\_scorer.py\", line 350, in _score\n",
      "    y_pred = method_caller(clf, \"predict_proba\", X)\n",
      "  File \"C:\\miniconsa\\lib\\site-packages\\sklearn\\metrics\\_scorer.py\", line 53, in _cached_call\n",
      "    return getattr(estimator, method)(*args, **kwargs)\n",
      "  File \"C:\\miniconsa\\lib\\site-packages\\sklearn\\neighbors\\_classification.py\", line 241, in predict_proba\n",
      "    neigh_dist, neigh_ind = self.kneighbors(X)\n",
      "  File \"C:\\miniconsa\\lib\\site-packages\\sklearn\\neighbors\\_base.py\", line 680, in kneighbors\n",
      "    raise ValueError(\n",
      "ValueError: Expected n_neighbors <= n_samples,  but n_samples = 12278, n_neighbors = 15346\n",
      "\n",
      "  warnings.warn(\n",
      "C:\\miniconsa\\lib\\site-packages\\sklearn\\model_selection\\_search.py:918: UserWarning: One or more of the test scores are non-finite: [0.66617587 0.72470477 0.77805549 0.80831785 0.82735609 0.83380885\n",
      " 0.83309231 0.82242889 0.82044154 0.80934947 0.80318868        nan]\n",
      "  warnings.warn(\n"
     ]
    },
    {
     "data": {
      "text/plain": [
       "{'mean_fit_time': array([0.10951686, 0.11296673, 0.11270385, 0.10489554, 0.10829706,\n",
       "        0.12323895, 0.10996156, 0.11196451, 0.10896716, 0.11634655,\n",
       "        0.00099626, 0.00138125]),\n",
       " 'std_fit_time': array([0.00734938, 0.00574667, 0.00787377, 0.00434365, 0.00677599,\n",
       "        0.00773914, 0.00554493, 0.00576765, 0.00761628, 0.00636042,\n",
       "        0.00063068, 0.00050117]),\n",
       " 'mean_score_time': array([7.43679047e-02, 8.83355141e-02, 1.04159451e-01, 1.25404644e-01,\n",
       "        1.70742655e-01, 2.51764011e-01, 3.30351686e-01, 8.92994452e-01,\n",
       "        1.46947913e+00, 4.59902191e+00, 5.88409896e+00, 1.01222992e-03]),\n",
       " 'std_score_time': array([0.00930661, 0.0064243 , 0.00696995, 0.00436592, 0.00889155,\n",
       "        0.00910639, 0.01351235, 0.04046986, 0.04654519, 0.14102691,\n",
       "        0.13733436, 0.00064226]),\n",
       " 'param_n_neighbors': masked_array(data=[1, 2, 5, 10, 20, 50, 100, 500, 1000, 5000, 10000,\n",
       "                    15346],\n",
       "              mask=[False, False, False, False, False, False, False, False,\n",
       "                    False, False, False, False],\n",
       "        fill_value='?',\n",
       "             dtype=object),\n",
       " 'params': [{'n_neighbors': 1},\n",
       "  {'n_neighbors': 2},\n",
       "  {'n_neighbors': 5},\n",
       "  {'n_neighbors': 10},\n",
       "  {'n_neighbors': 20},\n",
       "  {'n_neighbors': 50},\n",
       "  {'n_neighbors': 100},\n",
       "  {'n_neighbors': 500},\n",
       "  {'n_neighbors': 1000},\n",
       "  {'n_neighbors': 5000},\n",
       "  {'n_neighbors': 10000},\n",
       "  {'n_neighbors': 15346}],\n",
       " 'split0_test_score': array([0.66945128, 0.72580213, 0.77585563, 0.81193444, 0.82944568,\n",
       "        0.83768357, 0.83821521, 0.82636652, 0.82316529, 0.80925845,\n",
       "        0.80325806,        nan]),\n",
       " 'split1_test_score': array([0.67148274, 0.72818783, 0.79255662, 0.8153912 , 0.83429827,\n",
       "        0.84076051, 0.83786292, 0.82581987, 0.82339107, 0.81066624,\n",
       "        0.80451514,        nan]),\n",
       " 'split2_test_score': array([0.66822593, 0.72800913, 0.77308215, 0.8073806 , 0.82419073,\n",
       "        0.83181719, 0.83084246, 0.81935521, 0.81615592, 0.80226385,\n",
       "        0.79763835,        nan]),\n",
       " 'split3_test_score': array([0.64793277, 0.70940728, 0.76429793, 0.79606833, 0.81963533,\n",
       "        0.82738947, 0.82586841, 0.81533947, 0.81629278, 0.81067364,\n",
       "        0.80325916,        nan]),\n",
       " 'split4_test_score': array([0.67378666, 0.7321175 , 0.78448511, 0.81081468, 0.82921041,\n",
       "        0.83139352, 0.83267257, 0.82526338, 0.82320265, 0.81388517,\n",
       "        0.80727267,        nan]),\n",
       " 'mean_test_score': array([0.66617587, 0.72470477, 0.77805549, 0.80831785, 0.82735609,\n",
       "        0.83380885, 0.83309231, 0.82242889, 0.82044154, 0.80934947,\n",
       "        0.80318868,        nan]),\n",
       " 'std_test_score': array([0.00931481, 0.00791475, 0.00970017, 0.0066374 , 0.00501255,\n",
       "        0.00478222, 0.00461358, 0.00435305, 0.00344445, 0.0038542 ,\n",
       "        0.00313861,        nan]),\n",
       " 'rank_test_score': array([11, 10,  9,  7,  3,  1,  2,  4,  5,  6,  8, 12])}"
      ]
     },
     "execution_count": 44,
     "metadata": {},
     "output_type": "execute_result"
    }
   ],
   "source": [
    "param_grid = {'n_neighbors': [1, 2, 5, 10, 20, 50, 100, 500, 1000, 5000, 10000, 15346]}\n",
    "gridsearch = GridSearchCV(KNeighborsClassifier(), param_grid, scoring='roc_auc', cv=5)\n",
    "\n",
    "gridsearch.fit(X, y)\n",
    "gridsearch.cv_results_"
   ]
  },
  {
   "cell_type": "code",
   "execution_count": 45,
   "metadata": {},
   "outputs": [
    {
     "name": "stdout",
     "output_type": "stream",
     "text": [
      "kNN \n",
      "best parameters: {'n_neighbors': 50} \n",
      "best score: 0.8338088519890483\n"
     ]
    }
   ],
   "source": [
    "print('kNN','\\nbest parameters:', gridsearch.best_params_, '\\nbest score:', gridsearch.best_score_)"
   ]
  },
  {
   "cell_type": "code",
   "execution_count": 46,
   "metadata": {},
   "outputs": [
    {
     "data": {
      "text/plain": [
       "{'mean_fit_time': array([0.1063509 , 0.11055565, 0.11897545, 0.11058092, 0.10363531,\n",
       "        0.109902  , 0.10708632, 0.10656614, 0.12328386, 0.10936575,\n",
       "        0.11164451, 0.1035728 , 0.11484303, 0.10650115, 0.10268245,\n",
       "        0.10304551, 0.10413547, 0.10031404, 0.10897641, 0.10315166,\n",
       "        0.1085526 , 0.1135139 , 0.11262736, 0.10373969, 0.11078992,\n",
       "        0.10910406, 0.11051078, 0.11268539, 0.10433617, 0.10672507,\n",
       "        0.10798917, 0.10851202, 0.10810919, 0.10929785, 0.10951538,\n",
       "        0.10554991, 0.10193243, 0.10591383, 0.11049337, 0.10790248,\n",
       "        0.10671606, 0.1102973 , 0.10808578, 0.10750442, 0.10712085,\n",
       "        0.10930681, 0.10591989, 0.10751295, 0.1069191 ]),\n",
       " 'std_fit_time': array([0.00564979, 0.00443605, 0.00534781, 0.00640307, 0.00717192,\n",
       "        0.00599086, 0.00587017, 0.00398295, 0.01276227, 0.00455652,\n",
       "        0.00913762, 0.00456625, 0.00802436, 0.00600414, 0.00400845,\n",
       "        0.00480092, 0.0034469 , 0.00366016, 0.0046403 , 0.00627597,\n",
       "        0.00677637, 0.0024931 , 0.00509878, 0.00517322, 0.00958071,\n",
       "        0.00306174, 0.00452356, 0.00208899, 0.00338449, 0.00374106,\n",
       "        0.00423769, 0.00460868, 0.00183858, 0.00337795, 0.00130094,\n",
       "        0.0038104 , 0.00348761, 0.00417431, 0.0023042 , 0.00351607,\n",
       "        0.00432446, 0.00354779, 0.00190537, 0.00614718, 0.00376135,\n",
       "        0.00600426, 0.00348025, 0.00428638, 0.004576  ]),\n",
       " 'mean_score_time': array([0.16683145, 0.18140073, 0.20393915, 0.23156438, 0.23910341,\n",
       "        0.26297922, 0.28247857, 0.30393672, 0.32308931, 0.32409449,\n",
       "        0.34601979, 0.35835085, 0.37605944, 0.39021111, 0.41187773,\n",
       "        0.42304416, 0.4449595 , 0.4422576 , 0.46611733, 0.47390924,\n",
       "        0.49239793, 0.52181792, 0.52875533, 0.54657393, 0.56599183,\n",
       "        0.56289954, 0.58614931, 0.60001187, 0.58858495, 0.60746183,\n",
       "        0.62359886, 0.6364965 , 0.64148693, 0.65494962, 0.66841316,\n",
       "        0.68066115, 0.68860364, 0.69953623, 0.71807961, 0.72806196,\n",
       "        0.73822536, 0.74931068, 0.75660281, 0.77274537, 0.78270745,\n",
       "        0.79675102, 0.81127629, 0.82222948, 0.82936177]),\n",
       " 'std_score_time': array([0.00547935, 0.00651748, 0.00967457, 0.00957916, 0.00675647,\n",
       "        0.00717985, 0.00921935, 0.01517481, 0.01868325, 0.00595964,\n",
       "        0.00747377, 0.00758093, 0.01138092, 0.00804705, 0.00868701,\n",
       "        0.00420419, 0.00492639, 0.00488615, 0.00593063, 0.00916071,\n",
       "        0.00916397, 0.02075868, 0.02796636, 0.01190927, 0.01542558,\n",
       "        0.01689433, 0.01501008, 0.01133066, 0.00926018, 0.01146648,\n",
       "        0.00851573, 0.01238989, 0.00796798, 0.00882185, 0.00746638,\n",
       "        0.01211711, 0.01110623, 0.0131959 , 0.00643187, 0.01216413,\n",
       "        0.01419242, 0.01128461, 0.01115747, 0.0098826 , 0.01261254,\n",
       "        0.00982293, 0.00819364, 0.01114606, 0.00987941]),\n",
       " 'param_n_neighbors': masked_array(data=[20, 30, 40, 50, 60, 70, 80, 90, 100, 110, 120, 130,\n",
       "                    140, 150, 160, 170, 180, 190, 200, 210, 220, 230, 240,\n",
       "                    250, 260, 270, 280, 290, 300, 310, 320, 330, 340, 350,\n",
       "                    360, 370, 380, 390, 400, 410, 420, 430, 440, 450, 460,\n",
       "                    470, 480, 490, 500],\n",
       "              mask=[False, False, False, False, False, False, False, False,\n",
       "                    False, False, False, False, False, False, False, False,\n",
       "                    False, False, False, False, False, False, False, False,\n",
       "                    False, False, False, False, False, False, False, False,\n",
       "                    False, False, False, False, False, False, False, False,\n",
       "                    False, False, False, False, False, False, False, False,\n",
       "                    False],\n",
       "        fill_value='?',\n",
       "             dtype=object),\n",
       " 'params': [{'n_neighbors': 20},\n",
       "  {'n_neighbors': 30},\n",
       "  {'n_neighbors': 40},\n",
       "  {'n_neighbors': 50},\n",
       "  {'n_neighbors': 60},\n",
       "  {'n_neighbors': 70},\n",
       "  {'n_neighbors': 80},\n",
       "  {'n_neighbors': 90},\n",
       "  {'n_neighbors': 100},\n",
       "  {'n_neighbors': 110},\n",
       "  {'n_neighbors': 120},\n",
       "  {'n_neighbors': 130},\n",
       "  {'n_neighbors': 140},\n",
       "  {'n_neighbors': 150},\n",
       "  {'n_neighbors': 160},\n",
       "  {'n_neighbors': 170},\n",
       "  {'n_neighbors': 180},\n",
       "  {'n_neighbors': 190},\n",
       "  {'n_neighbors': 200},\n",
       "  {'n_neighbors': 210},\n",
       "  {'n_neighbors': 220},\n",
       "  {'n_neighbors': 230},\n",
       "  {'n_neighbors': 240},\n",
       "  {'n_neighbors': 250},\n",
       "  {'n_neighbors': 260},\n",
       "  {'n_neighbors': 270},\n",
       "  {'n_neighbors': 280},\n",
       "  {'n_neighbors': 290},\n",
       "  {'n_neighbors': 300},\n",
       "  {'n_neighbors': 310},\n",
       "  {'n_neighbors': 320},\n",
       "  {'n_neighbors': 330},\n",
       "  {'n_neighbors': 340},\n",
       "  {'n_neighbors': 350},\n",
       "  {'n_neighbors': 360},\n",
       "  {'n_neighbors': 370},\n",
       "  {'n_neighbors': 380},\n",
       "  {'n_neighbors': 390},\n",
       "  {'n_neighbors': 400},\n",
       "  {'n_neighbors': 410},\n",
       "  {'n_neighbors': 420},\n",
       "  {'n_neighbors': 430},\n",
       "  {'n_neighbors': 440},\n",
       "  {'n_neighbors': 450},\n",
       "  {'n_neighbors': 460},\n",
       "  {'n_neighbors': 470},\n",
       "  {'n_neighbors': 480},\n",
       "  {'n_neighbors': 490},\n",
       "  {'n_neighbors': 500}],\n",
       " 'split0_test_score': array([0.82944568, 0.83358117, 0.83628746, 0.83768357, 0.83891868,\n",
       "        0.83840039, 0.83801835, 0.83777255, 0.83821521, 0.83682105,\n",
       "        0.83548139, 0.83507599, 0.83435333, 0.83330367, 0.83296556,\n",
       "        0.83203214, 0.8320566 , 0.83187726, 0.83226431, 0.83241363,\n",
       "        0.83301366, 0.83258268, 0.83183472, 0.83097637, 0.8309797 ,\n",
       "        0.83099055, 0.83072668, 0.83085041, 0.83047504, 0.83069136,\n",
       "        0.83014165, 0.8301803 , 0.82978519, 0.82916791, 0.82923853,\n",
       "        0.8289438 , 0.82872608, 0.82876584, 0.82847278, 0.82812966,\n",
       "        0.82765085, 0.82725518, 0.82686062, 0.82669768, 0.82646384,\n",
       "        0.8266949 , 0.82662845, 0.82654503, 0.82636652]),\n",
       " 'split1_test_score': array([0.83429827, 0.8396622 , 0.84078053, 0.84076051, 0.84003674,\n",
       "        0.83950927, 0.83912889, 0.83870375, 0.83786292, 0.83690085,\n",
       "        0.83692949, 0.83646375, 0.83547221, 0.83506737, 0.83574415,\n",
       "        0.83541354, 0.83502399, 0.8339571 , 0.83346411, 0.83289049,\n",
       "        0.83233077, 0.83254181, 0.83228211, 0.83170598, 0.83131337,\n",
       "        0.83107063, 0.83088544, 0.83026872, 0.82980993, 0.8293656 ,\n",
       "        0.8293517 , 0.82908088, 0.82895575, 0.82884676, 0.82867742,\n",
       "        0.82865045, 0.82836795, 0.82804374, 0.82818833, 0.82773176,\n",
       "        0.82736529, 0.82713701, 0.82694515, 0.82654142, 0.82626058,\n",
       "        0.82640934, 0.82601729, 0.82573645, 0.82581987]),\n",
       " 'split2_test_score': array([0.82419073, 0.82978678, 0.83149061, 0.83181719, 0.83090727,\n",
       "        0.82976008, 0.83089003, 0.83072563, 0.83084246, 0.83037512,\n",
       "        0.83015731, 0.82966077, 0.82880149, 0.82901207, 0.82884961,\n",
       "        0.82835808, 0.8275063 , 0.82716359, 0.82689627, 0.82634103,\n",
       "        0.82631766, 0.82603949, 0.8260189 , 0.82541359, 0.8254709 ,\n",
       "        0.82531373, 0.82522193, 0.82492984, 0.82463136, 0.82403412,\n",
       "        0.82387083, 0.82338208, 0.82292615, 0.82282906, 0.82242015,\n",
       "        0.82222765, 0.82174196, 0.82157783, 0.82093859, 0.82079282,\n",
       "        0.82092801, 0.82053022, 0.82056527, 0.8202743 , 0.82029322,\n",
       "        0.81987123, 0.81959389, 0.8193694 , 0.81935521]),\n",
       " 'split3_test_score': array([0.81963533, 0.82887687, 0.82857923, 0.82738947, 0.82670544,\n",
       "        0.82557688, 0.82532291, 0.82528229, 0.82586841, 0.82473735,\n",
       "        0.82516296, 0.82410227, 0.82369502, 0.8238202 , 0.8236341 ,\n",
       "        0.82324939, 0.82280681, 0.82246855, 0.82202403, 0.82159758,\n",
       "        0.82125459, 0.82075137, 0.82018751, 0.81996692, 0.81984174,\n",
       "        0.81992881, 0.81933713, 0.81880748, 0.81861972, 0.8188289 ,\n",
       "        0.81844502, 0.81797991, 0.81778936, 0.81738351, 0.81748671,\n",
       "        0.81742217, 0.81741438, 0.81727029, 0.8171949 , 0.8168227 ,\n",
       "        0.81661046, 0.81639459, 0.81605744, 0.81574867, 0.81554532,\n",
       "        0.81519037, 0.81519705, 0.81533335, 0.81533947]),\n",
       " 'split4_test_score': array([0.82921041, 0.83231734, 0.83306341, 0.83139352, 0.83179104,\n",
       "        0.83291292, 0.83362505, 0.83388264, 0.83267257, 0.83393187,\n",
       "        0.83346259, 0.83409906, 0.83281778, 0.83304394, 0.83294825,\n",
       "        0.83274156, 0.83106111, 0.83111062, 0.83041574, 0.82996176,\n",
       "        0.82950221, 0.82969638, 0.82961209, 0.82933002, 0.82923516,\n",
       "        0.82913279, 0.82898341, 0.82875475, 0.82882513, 0.82855808,\n",
       "        0.82818561, 0.82826044, 0.82819256, 0.82810215, 0.82765401,\n",
       "        0.82721923, 0.82686956, 0.82681059, 0.82665036, 0.82681393,\n",
       "        0.82634103, 0.82609901, 0.8259182 , 0.82572237, 0.82578023,\n",
       "        0.82551318, 0.82554016, 0.82559663, 0.82526338]),\n",
       " 'mean_test_score': array([0.82735609, 0.83284487, 0.83404025, 0.83380885, 0.83367183,\n",
       "        0.83323191, 0.83339704, 0.83327337, 0.83309231, 0.83255325,\n",
       "        0.83223875, 0.83188037, 0.83102797, 0.83084945, 0.83082833,\n",
       "        0.83035894, 0.82969096, 0.82931542, 0.82901289, 0.8286409 ,\n",
       "        0.82848378, 0.82832235, 0.82798707, 0.82747858, 0.82736817,\n",
       "        0.8272873 , 0.82703092, 0.82672224, 0.82647224, 0.82629562,\n",
       "        0.82599896, 0.82577672, 0.8255298 , 0.82526588, 0.82509537,\n",
       "        0.82489266, 0.82462399, 0.82449366, 0.82428899, 0.82405817,\n",
       "        0.82377913, 0.8234832 , 0.82326934, 0.82299689, 0.82286864,\n",
       "        0.8227358 , 0.82259537, 0.82251617, 0.82242889]),\n",
       " 'std_test_score': array([0.00501255, 0.00380508, 0.00418949, 0.00478222, 0.00505475,\n",
       "        0.00523208, 0.00501477, 0.00490818, 0.00461358, 0.00457928,\n",
       "        0.00420511, 0.00450705, 0.00430679, 0.00403525, 0.00421662,\n",
       "        0.00420891, 0.00419712, 0.0040704 , 0.0041395 , 0.00421746,\n",
       "        0.00431994, 0.00448048, 0.00448551, 0.00434102, 0.00429745,\n",
       "        0.00423027, 0.00435419, 0.00446333, 0.00442153, 0.00435275,\n",
       "        0.00435374, 0.00453877, 0.00455256, 0.00456427, 0.0045076 ,\n",
       "        0.00444648, 0.00438569, 0.00440232, 0.00446847, 0.00448734,\n",
       "        0.00433435, 0.00432178, 0.00430694, 0.00432751, 0.00431675,\n",
       "        0.00451713, 0.00448087, 0.00441783, 0.00435305]),\n",
       " 'rank_test_score': array([25,  8,  1,  2,  3,  6,  4,  5,  7,  9, 10, 11, 12, 13, 14, 15, 16,\n",
       "        17, 18, 19, 20, 21, 22, 23, 24, 26, 27, 28, 29, 30, 31, 32, 33, 34,\n",
       "        35, 36, 37, 38, 39, 40, 41, 42, 43, 44, 45, 46, 47, 48, 49])}"
      ]
     },
     "execution_count": 46,
     "metadata": {},
     "output_type": "execute_result"
    }
   ],
   "source": [
    "param_grid = {'n_neighbors': [i for i in range(20, 501, 10)]}\n",
    "gridsearch = GridSearchCV(KNeighborsClassifier(), param_grid, scoring='roc_auc', cv=5)\n",
    "\n",
    "gridsearch.fit(X, y)\n",
    "gridsearch.cv_results_"
   ]
  },
  {
   "cell_type": "code",
   "execution_count": 47,
   "metadata": {},
   "outputs": [
    {
     "name": "stdout",
     "output_type": "stream",
     "text": [
      "KNN \n",
      "best parameters: {'n_neighbors': 40} \n",
      "best score: 0.8340402475560282\n"
     ]
    }
   ],
   "source": [
    "print('KNN','\\nbest parameters:', gridsearch.best_params_, '\\nbest score:', gridsearch.best_score_)"
   ]
  },
  {
   "cell_type": "code",
   "execution_count": 48,
   "metadata": {},
   "outputs": [
    {
     "data": {
      "text/plain": [
       "{'mean_fit_time': array([0.11129942, 0.11108494, 0.10631652, 0.10631499, 0.1099194 ,\n",
       "        0.11010132, 0.10251412, 0.10909901, 0.10790343, 0.10671339,\n",
       "        0.10882587]),\n",
       " 'std_fit_time': array([3.86739317e-03, 1.35003647e-03, 4.21197465e-03, 2.86240840e-03,\n",
       "        2.47232182e-03, 1.94769806e-03, 3.27988830e-03, 4.98554388e-03,\n",
       "        2.79712260e-03, 8.74056949e-07, 3.05896136e-03]),\n",
       " 'mean_score_time': array([0.21044726, 0.21185241, 0.20765648, 0.20942874, 0.21521487,\n",
       "        0.21782131, 0.22002254, 0.21982217, 0.22340064, 0.22041154,\n",
       "        0.22619462]),\n",
       " 'std_score_time': array([0.01059821, 0.00549749, 0.00514132, 0.00372241, 0.00402236,\n",
       "        0.00528032, 0.00761302, 0.00530953, 0.00710891, 0.00432459,\n",
       "        0.0060624 ]),\n",
       " 'param_n_neighbors': masked_array(data=[40, 41, 42, 43, 44, 45, 46, 47, 48, 49, 50],\n",
       "              mask=[False, False, False, False, False, False, False, False,\n",
       "                    False, False, False],\n",
       "        fill_value='?',\n",
       "             dtype=object),\n",
       " 'params': [{'n_neighbors': 40},\n",
       "  {'n_neighbors': 41},\n",
       "  {'n_neighbors': 42},\n",
       "  {'n_neighbors': 43},\n",
       "  {'n_neighbors': 44},\n",
       "  {'n_neighbors': 45},\n",
       "  {'n_neighbors': 46},\n",
       "  {'n_neighbors': 47},\n",
       "  {'n_neighbors': 48},\n",
       "  {'n_neighbors': 49},\n",
       "  {'n_neighbors': 50}],\n",
       " 'split0_test_score': array([0.83628746, 0.83576556, 0.8359285 , 0.83632584, 0.83686053,\n",
       "        0.83704544, 0.83770192, 0.8376135 , 0.83745473, 0.83770248,\n",
       "        0.83768357]),\n",
       " 'split1_test_score': array([0.84078053, 0.84113672, 0.84113727, 0.84116897, 0.8417273 ,\n",
       "        0.84114228, 0.84150458, 0.84113143, 0.84112087, 0.84060202,\n",
       "        0.84076051]),\n",
       " 'split2_test_score': array([0.83149061, 0.83018402, 0.83032728, 0.83120854, 0.83122829,\n",
       "        0.8313212 , 0.83114817, 0.83103774, 0.8312319 , 0.83094761,\n",
       "        0.83181719]),\n",
       " 'split3_test_score': array([0.82857923, 0.82900316, 0.82864209, 0.82804068, 0.82804235,\n",
       "        0.82774053, 0.82759671, 0.82739309, 0.82698111, 0.8264943 ,\n",
       "        0.82738947]),\n",
       " 'split4_test_score': array([0.83306341, 0.833474  , 0.83295353, 0.83255463, 0.83326175,\n",
       "        0.83260247, 0.83241026, 0.83174959, 0.83132927, 0.83148922,\n",
       "        0.83139352]),\n",
       " 'mean_test_score': array([0.83404025, 0.83391269, 0.83379773, 0.83385973, 0.83422404,\n",
       "        0.83397038, 0.83407233, 0.83378507, 0.83362358, 0.83344713,\n",
       "        0.83380885]),\n",
       " 'std_test_score': array([0.00418949, 0.00433171, 0.00442146, 0.00451885, 0.0047194 ,\n",
       "        0.00466031, 0.00493273, 0.00492289, 0.00501983, 0.00505417,\n",
       "        0.00478222]),\n",
       " 'rank_test_score': array([ 3,  5,  8,  6,  1,  4,  2,  9, 10, 11,  7])}"
      ]
     },
     "execution_count": 48,
     "metadata": {},
     "output_type": "execute_result"
    }
   ],
   "source": [
    "param_grid = {'n_neighbors': [i for i in range(40, 51)]}\n",
    "gridsearch = GridSearchCV(KNeighborsClassifier(), param_grid, scoring='roc_auc', cv=5)\n",
    "\n",
    "gridsearch.fit(X, y)\n",
    "gridsearch.cv_results_"
   ]
  },
  {
   "cell_type": "code",
   "execution_count": 49,
   "metadata": {},
   "outputs": [
    {
     "name": "stdout",
     "output_type": "stream",
     "text": [
      "KNN \n",
      "best parameters: {'n_neighbors': 44} \n",
      "best score: 0.8342240437766663\n"
     ]
    }
   ],
   "source": [
    "print('KNN','\\nbest parameters:', gridsearch.best_params_, '\\nbest score:', gridsearch.best_score_)"
   ]
  },
  {
   "cell_type": "markdown",
   "metadata": {},
   "source": [
    "Качество улучшилось! Было 0.6407"
   ]
  },
  {
   "cell_type": "markdown",
   "metadata": {},
   "source": [
    "**Decision Tree best parameters**"
   ]
  },
  {
   "cell_type": "code",
   "execution_count": 50,
   "metadata": {},
   "outputs": [
    {
     "data": {
      "text/plain": [
       "{'mean_fit_time': array([0.00397038, 0.00736432, 0.01337924, 0.02233682, 0.03191624,\n",
       "        0.03450518, 0.03489852, 0.03431058, 0.03469763, 0.03471022,\n",
       "        0.03450975, 0.03430133]),\n",
       " 'std_fit_time': array([2.09211454e-05, 7.78412751e-04, 4.92480446e-04, 4.87228760e-04,\n",
       "        6.26231487e-04, 4.83537223e-04, 6.31579177e-04, 4.85622068e-04,\n",
       "        7.38790027e-04, 4.00950968e-04, 4.90761549e-04, 4.97291902e-04]),\n",
       " 'mean_score_time': array([0.00200315, 0.00200787, 0.00198045, 0.00199666, 0.00219221,\n",
       "        0.00239596, 0.00218263, 0.00241561, 0.00219984, 0.00219498,\n",
       "        0.00198035, 0.00220203]),\n",
       " 'std_score_time': array([2.86964865e-05, 6.41005553e-04, 6.31284507e-04, 5.92238661e-06,\n",
       "        3.95443312e-04, 4.84383348e-04, 4.06762153e-04, 4.90288673e-04,\n",
       "        3.91271443e-04, 3.99304433e-04, 2.35329645e-05, 4.18359243e-04]),\n",
       " 'param_max_depth': masked_array(data=[1, 2, 5, 10, 20, 50, 100, 500, 1000, 5000, 10000,\n",
       "                    15346],\n",
       "              mask=[False, False, False, False, False, False, False, False,\n",
       "                    False, False, False, False],\n",
       "        fill_value='?',\n",
       "             dtype=object),\n",
       " 'params': [{'max_depth': 1},\n",
       "  {'max_depth': 2},\n",
       "  {'max_depth': 5},\n",
       "  {'max_depth': 10},\n",
       "  {'max_depth': 20},\n",
       "  {'max_depth': 50},\n",
       "  {'max_depth': 100},\n",
       "  {'max_depth': 500},\n",
       "  {'max_depth': 1000},\n",
       "  {'max_depth': 5000},\n",
       "  {'max_depth': 10000},\n",
       "  {'max_depth': 15346}],\n",
       " 'split0_test_score': array([0.58791046, 0.71913719, 0.82568446, 0.82777903, 0.7332851 ,\n",
       "        0.6774809 , 0.68420785, 0.6808498 , 0.68473003, 0.6847976 ,\n",
       "        0.68257985, 0.6830898 ]),\n",
       " 'split1_test_score': array([0.59134776, 0.7161584 , 0.82784882, 0.82243957, 0.72068734,\n",
       "        0.68194922, 0.67347777, 0.67449628, 0.67620464, 0.67900992,\n",
       "        0.67855614, 0.68175264]),\n",
       " 'split2_test_score': array([0.59130129, 0.71075921, 0.82267245, 0.82277343, 0.73803401,\n",
       "        0.68740778, 0.68365353, 0.68216418, 0.68106817, 0.67975296,\n",
       "        0.68297339, 0.68153384]),\n",
       " 'split3_test_score': array([0.59298564, 0.72628584, 0.82559134, 0.81942058, 0.72692258,\n",
       "        0.68088096, 0.68108319, 0.68374088, 0.68396064, 0.68062643,\n",
       "        0.67938632, 0.67823301]),\n",
       " 'split4_test_score': array([0.599377  , 0.71791777, 0.83239718, 0.82737083, 0.7342219 ,\n",
       "        0.69442726, 0.69271871, 0.69597809, 0.69885025, 0.69302192,\n",
       "        0.69974959, 0.69420806]),\n",
       " 'mean_test_score': array([0.59258443, 0.71805168, 0.82683885, 0.82395669, 0.73063019,\n",
       "        0.68442923, 0.68302821, 0.68344584, 0.68496274, 0.68344176,\n",
       "        0.68464906, 0.68376347]),\n",
       " 'std_test_score': array([0.00377682, 0.00501522, 0.00322995, 0.00317946, 0.00612164,\n",
       "        0.00593047, 0.00617547, 0.00700887, 0.00756033, 0.00519215,\n",
       "        0.00774513, 0.00546157]),\n",
       " 'rank_test_score': array([12,  4,  1,  2,  3,  7, 11,  9,  5, 10,  6,  8])}"
      ]
     },
     "execution_count": 50,
     "metadata": {},
     "output_type": "execute_result"
    }
   ],
   "source": [
    "param_grid = {'max_depth': [1, 2, 5, 10, 20, 50, 100, 500, 1000, 5000, 10000, 15346]}\n",
    "gridsearch = GridSearchCV(DecisionTreeClassifier(), param_grid, scoring='roc_auc', cv=5)\n",
    "\n",
    "gridsearch.fit(X, y)\n",
    "gridsearch.cv_results_"
   ]
  },
  {
   "cell_type": "code",
   "execution_count": 51,
   "metadata": {},
   "outputs": [
    {
     "name": "stdout",
     "output_type": "stream",
     "text": [
      "Decision tree \n",
      "best parameters: {'max_depth': 5} \n",
      "best score: 0.8268388514895324\n"
     ]
    }
   ],
   "source": [
    "print('Decision tree','\\nbest parameters:', gridsearch.best_params_, '\\nbest score:', gridsearch.best_score_)"
   ]
  },
  {
   "cell_type": "code",
   "execution_count": 52,
   "metadata": {},
   "outputs": [
    {
     "data": {
      "text/plain": [
       "{'mean_fit_time': array([0.00718064, 0.00917659, 0.01177411, 0.01324172, 0.01535783,\n",
       "        0.01775713, 0.01933661, 0.02114644, 0.02233915, 0.02432628,\n",
       "        0.02531939, 0.02692723, 0.0283247 , 0.03092642, 0.02951341,\n",
       "        0.03013811, 0.03131423, 0.03211775, 0.03312011]),\n",
       " 'std_fit_time': array([0.00074586, 0.00039681, 0.00073801, 0.00040396, 0.00048713,\n",
       "        0.00074119, 0.00050841, 0.00043154, 0.00048916, 0.00049584,\n",
       "        0.00049049, 0.0006309 , 0.00049049, 0.00063249, 0.00048244,\n",
       "        0.00041128, 0.00078396, 0.00042552, 0.00074438]),\n",
       " 'mean_score_time': array([0.00199461, 0.00259213, 0.00239706, 0.00200281, 0.00218825,\n",
       "        0.00199342, 0.00219541, 0.00199256, 0.00219479, 0.00221496,\n",
       "        0.00239573, 0.00199571, 0.00219493, 0.00239353, 0.00239329,\n",
       "        0.00277715, 0.00259495, 0.00198388, 0.0023931 ]),\n",
       " 'std_score_time': array([6.21719590e-07, 7.95806238e-04, 7.97420099e-04, 1.44045868e-05,\n",
       "        3.84789310e-04, 2.41220226e-05, 3.71668532e-04, 3.82541106e-06,\n",
       "        3.99041187e-04, 3.89934658e-04, 4.88928709e-04, 7.77697870e-07,\n",
       "        3.99208097e-04, 4.85087296e-04, 4.73600715e-04, 4.11657730e-04,\n",
       "        4.86334701e-04, 2.11282450e-05, 5.15226656e-04]),\n",
       " 'param_max_depth': masked_array(data=[2, 3, 4, 5, 6, 7, 8, 9, 10, 11, 12, 13, 14, 15, 16, 17,\n",
       "                    18, 19, 20],\n",
       "              mask=[False, False, False, False, False, False, False, False,\n",
       "                    False, False, False, False, False, False, False, False,\n",
       "                    False, False, False],\n",
       "        fill_value='?',\n",
       "             dtype=object),\n",
       " 'params': [{'max_depth': 2},\n",
       "  {'max_depth': 3},\n",
       "  {'max_depth': 4},\n",
       "  {'max_depth': 5},\n",
       "  {'max_depth': 6},\n",
       "  {'max_depth': 7},\n",
       "  {'max_depth': 8},\n",
       "  {'max_depth': 9},\n",
       "  {'max_depth': 10},\n",
       "  {'max_depth': 11},\n",
       "  {'max_depth': 12},\n",
       "  {'max_depth': 13},\n",
       "  {'max_depth': 14},\n",
       "  {'max_depth': 15},\n",
       "  {'max_depth': 16},\n",
       "  {'max_depth': 17},\n",
       "  {'max_depth': 18},\n",
       "  {'max_depth': 19},\n",
       "  {'max_depth': 20}],\n",
       " 'split0_test_score': array([0.71913719, 0.78971214, 0.81019994, 0.82568446, 0.83328004,\n",
       "        0.84469496, 0.84089175, 0.83752647, 0.83220703, 0.81990929,\n",
       "        0.81316622, 0.79957803, 0.78864024, 0.77576971, 0.76721679,\n",
       "        0.75845115, 0.74811174, 0.74005709, 0.73316303]),\n",
       " 'split1_test_score': array([0.7161584 , 0.7868037 , 0.80925234, 0.82784882, 0.83589485,\n",
       "        0.83867455, 0.83395376, 0.8280746 , 0.82175612, 0.81526496,\n",
       "        0.80780257, 0.79571392, 0.78180152, 0.76121028, 0.756113  ,\n",
       "        0.74402352, 0.73622551, 0.73022318, 0.7117913 ]),\n",
       " 'split2_test_score': array([0.71075921, 0.78597112, 0.8120495 , 0.82267245, 0.83284421,\n",
       "        0.83769475, 0.83714229, 0.82950277, 0.82504501, 0.81666192,\n",
       "        0.80859039, 0.79846314, 0.78573412, 0.76672723, 0.75764648,\n",
       "        0.75352837, 0.74572723, 0.742183  , 0.73570318]),\n",
       " 'split3_test_score': array([0.72628584, 0.80025264, 0.807656  , 0.82559134, 0.83642043,\n",
       "        0.84223763, 0.83527268, 0.82695858, 0.82005482, 0.81383761,\n",
       "        0.80252227, 0.79626082, 0.78097676, 0.76223999, 0.75784009,\n",
       "        0.75462466, 0.7466733 , 0.74286397, 0.73158424]),\n",
       " 'split4_test_score': array([0.71791777, 0.79367212, 0.8079325 , 0.83239718, 0.83910287,\n",
       "        0.84371585, 0.84154164, 0.83936241, 0.82554072, 0.82491983,\n",
       "        0.82024176, 0.80697363, 0.79921087, 0.78727437, 0.77171992,\n",
       "        0.76951288, 0.7617721 , 0.74140438, 0.73339266]),\n",
       " 'mean_test_score': array([0.71805168, 0.79128234, 0.80941805, 0.82683885, 0.83550848,\n",
       "        0.84140355, 0.83776042, 0.83228497, 0.82492074, 0.81811872,\n",
       "        0.81046464, 0.79939791, 0.7872727 , 0.77064432, 0.76210726,\n",
       "        0.75602812, 0.74770198, 0.73934632, 0.72912688]),\n",
       " 'std_test_score': array([0.00501522, 0.00523278, 0.00160468, 0.00322995, 0.00227881,\n",
       "        0.00275965, 0.00300548, 0.00512644, 0.00417569, 0.00395109,\n",
       "        0.00594258, 0.00404255, 0.00657769, 0.00977554, 0.00620563,\n",
       "        0.00824668, 0.00818295, 0.00465603, 0.00876694]),\n",
       " 'rank_test_score': array([19, 11,  9,  5,  3,  1,  2,  4,  6,  7,  8, 10, 12, 13, 14, 15, 16,\n",
       "        17, 18])}"
      ]
     },
     "execution_count": 52,
     "metadata": {},
     "output_type": "execute_result"
    }
   ],
   "source": [
    "param_grid = {'max_depth': [i for i in range(2, 21)]}\n",
    "gridsearch = GridSearchCV(DecisionTreeClassifier(), param_grid, scoring='roc_auc', cv=5)\n",
    "\n",
    "gridsearch.fit(X, y)\n",
    "gridsearch.cv_results_"
   ]
  },
  {
   "cell_type": "code",
   "execution_count": 53,
   "metadata": {},
   "outputs": [
    {
     "name": "stdout",
     "output_type": "stream",
     "text": [
      "Decision tree \n",
      "best parameters: {'max_depth': 7} \n",
      "best score: 0.8414035504977482\n"
     ]
    }
   ],
   "source": [
    "print('Decision tree','\\nbest parameters:', gridsearch.best_params_, '\\nbest score:', gridsearch.best_score_)"
   ]
  },
  {
   "cell_type": "markdown",
   "metadata": {},
   "source": [
    "Качество улучшилось, но не сильно. Было 0.8413"
   ]
  },
  {
   "cell_type": "markdown",
   "metadata": {},
   "source": [
    "**SGD Linear Classifier best parameters**"
   ]
  },
  {
   "cell_type": "code",
   "execution_count": 55,
   "metadata": {},
   "outputs": [
    {
     "data": {
      "text/plain": [
       "{'mean_fit_time': array([0.04148035, 0.03709993, 0.05744634, 0.07998357, 0.03410859]),\n",
       " 'std_fit_time': array([0.01540912, 0.00486057, 0.00771487, 0.0147954 , 0.00644457]),\n",
       " 'mean_score_time': array([0.00199537, 0.00199485, 0.00239377, 0.00199537, 0.00179644]),\n",
       " 'std_score_time': array([1.09292812e-03, 6.30675630e-04, 4.88869803e-04, 4.62310777e-07,\n",
       "        7.46533633e-04]),\n",
       " 'param_loss': masked_array(data=['hinge', 'log', 'modified_huber', 'squared_hinge',\n",
       "                    'perceptron'],\n",
       "              mask=[False, False, False, False, False],\n",
       "        fill_value='?',\n",
       "             dtype=object),\n",
       " 'params': [{'loss': 'hinge'},\n",
       "  {'loss': 'log'},\n",
       "  {'loss': 'modified_huber'},\n",
       "  {'loss': 'squared_hinge'},\n",
       "  {'loss': 'perceptron'}],\n",
       " 'split0_test_score': array([0.81427231, 0.81680371, 0.81275637, 0.7882771 , 0.73531517]),\n",
       " 'split1_test_score': array([0.82158373, 0.82324704, 0.82168438, 0.81215716, 0.67562406]),\n",
       " 'split2_test_score': array([0.81096545, 0.81994494, 0.78738453, 0.79918751, 0.77401543]),\n",
       " 'split3_test_score': array([0.81313744, 0.81995496, 0.81909317, 0.79811152, 0.60535443]),\n",
       " 'split4_test_score': array([0.81202724, 0.82625201, 0.81121219, 0.81498258, 0.44114284]),\n",
       " 'mean_test_score': array([0.81439723, 0.82124053, 0.81042613, 0.80254317, 0.64629039]),\n",
       " 'std_test_score': array([0.00375879, 0.00322979, 0.0121559 , 0.00981416, 0.11735487]),\n",
       " 'rank_test_score': array([2, 1, 3, 4, 5])}"
      ]
     },
     "execution_count": 55,
     "metadata": {},
     "output_type": "execute_result"
    }
   ],
   "source": [
    "param_grid = {'loss': ['hinge', 'log', 'modified_huber', 'squared_hinge', 'perceptron']}\n",
    "gridsearch = GridSearchCV(SGDClassifier(), param_grid, scoring='roc_auc', cv=5)\n",
    "\n",
    "gridsearch.fit(X, y)\n",
    "gridsearch.cv_results_"
   ]
  },
  {
   "cell_type": "code",
   "execution_count": 56,
   "metadata": {},
   "outputs": [
    {
     "name": "stdout",
     "output_type": "stream",
     "text": [
      "SGD Classifier \n",
      "best parameters: {'loss': 'log'} \n",
      "best score: 0.8212405325841997\n"
     ]
    }
   ],
   "source": [
    "print('SGD Classifier','\\nbest parameters:', gridsearch.best_params_, '\\nbest score:', gridsearch.best_score_)"
   ]
  },
  {
   "cell_type": "markdown",
   "metadata": {},
   "source": [
    "Качество сильно улучшилось. Было 0.6178"
   ]
  },
  {
   "cell_type": "markdown",
   "metadata": {},
   "source": [
    "**Random Forest best parameters**"
   ]
  },
  {
   "cell_type": "code",
   "execution_count": 57,
   "metadata": {},
   "outputs": [
    {
     "data": {
      "text/plain": [
       "{'mean_fit_time': array([0.01377077, 0.02493205, 0.03501296, 0.04486804, 0.06143513,\n",
       "        0.06981988, 0.08338523, 0.09196649, 0.10291553, 0.11688657,\n",
       "        0.12425013, 0.13781829, 0.15557179, 0.15817809, 0.17453284,\n",
       "        0.18031278, 0.19907069, 0.20646424, 0.20525093, 0.22042265,\n",
       "        0.22959366, 0.24572124, 0.26348948, 0.27505665, 0.28903074,\n",
       "        0.28742657, 0.29959197, 0.31035457, 0.32114344, 0.33171554,\n",
       "        0.34647117, 0.35661612, 0.36184716, 0.37895122, 0.38616686,\n",
       "        0.40411744, 0.40690308, 0.423873  , 0.4326303 , 0.44003177,\n",
       "        0.45837355, 0.46168094, 0.47591724, 0.48232946, 0.49606853,\n",
       "        0.5092463 , 0.51701083, 0.5337966 , 0.53776178, 0.55490408]),\n",
       " 'std_fit_time': array([0.00182067, 0.00177112, 0.00066341, 0.00064954, 0.00205361,\n",
       "        0.00126753, 0.00364437, 0.00116111, 0.00347895, 0.00416598,\n",
       "        0.00256505, 0.00575449, 0.00907544, 0.00887423, 0.01046041,\n",
       "        0.00400267, 0.0092137 , 0.00858671, 0.00263124, 0.00482077,\n",
       "        0.00460688, 0.00344872, 0.0097937 , 0.00993859, 0.00938318,\n",
       "        0.0068447 , 0.01321751, 0.00200706, 0.00177188, 0.00173372,\n",
       "        0.00284494, 0.002694  , 0.00324553, 0.00700918, 0.00353456,\n",
       "        0.00769773, 0.00521918, 0.00630428, 0.00565312, 0.00886456,\n",
       "        0.0066328 , 0.00759738, 0.00895587, 0.00803639, 0.00870118,\n",
       "        0.00733256, 0.00453932, 0.0167034 , 0.005371  , 0.00954422]),\n",
       " 'mean_score_time': array([0.00318394, 0.00339823, 0.00398378, 0.00478802, 0.00558558,\n",
       "        0.00618467, 0.00737462, 0.00736985, 0.00818806, 0.0087676 ,\n",
       "        0.00946651, 0.01015878, 0.01138105, 0.01137886, 0.01296568,\n",
       "        0.0127707 , 0.01356325, 0.014715  , 0.01476269, 0.01514754,\n",
       "        0.01575718, 0.01656165, 0.01775064, 0.01776023, 0.01875587,\n",
       "        0.02073946, 0.01935897, 0.0209568 , 0.02213178, 0.02113295,\n",
       "        0.02332988, 0.0229393 , 0.02393184, 0.02415967, 0.02513361,\n",
       "        0.02572155, 0.0259387 , 0.02672791, 0.02752032, 0.0285399 ,\n",
       "        0.02912383, 0.02912903, 0.03070931, 0.03071823, 0.03111162,\n",
       "        0.03233161, 0.03231211, 0.03330731, 0.03371201, 0.03471866]),\n",
       " 'std_score_time': array([4.03272509e-04, 4.82268948e-04, 1.08173744e-05, 3.98802939e-04,\n",
       "        7.98118515e-04, 7.46072629e-04, 1.02516993e-03, 4.72706513e-04,\n",
       "        4.18168310e-04, 7.35137591e-04, 4.26915975e-04, 3.85223221e-04,\n",
       "        1.20234808e-03, 4.99042666e-04, 1.26146435e-03, 9.82474723e-04,\n",
       "        7.98038244e-04, 1.15753001e-03, 7.44461017e-04, 3.74985075e-04,\n",
       "        3.98466471e-04, 4.81873301e-04, 1.16395679e-03, 7.38528808e-04,\n",
       "        1.31296206e-03, 2.20882390e-03, 4.93178282e-04, 6.29559152e-04,\n",
       "        2.89705386e-03, 3.74556362e-04, 2.30381678e-03, 3.87384339e-07,\n",
       "        6.31242094e-04, 7.27429471e-04, 3.98993588e-04, 7.38372709e-04,\n",
       "        1.54912644e-05, 7.44640378e-04, 4.97513542e-04, 7.84157322e-04,\n",
       "        9.78830273e-04, 7.59000160e-04, 7.43874379e-04, 7.44418016e-04,\n",
       "        4.00860485e-04, 1.50495426e-03, 4.87493447e-04, 7.97576866e-04,\n",
       "        7.44661609e-04, 4.05423530e-04]),\n",
       " 'param_n_estimators': masked_array(data=[1, 2, 3, 4, 5, 6, 7, 8, 9, 10, 11, 12, 13, 14, 15, 16,\n",
       "                    17, 18, 19, 20, 21, 22, 23, 24, 25, 26, 27, 28, 29, 30,\n",
       "                    31, 32, 33, 34, 35, 36, 37, 38, 39, 40, 41, 42, 43, 44,\n",
       "                    45, 46, 47, 48, 49, 50],\n",
       "              mask=[False, False, False, False, False, False, False, False,\n",
       "                    False, False, False, False, False, False, False, False,\n",
       "                    False, False, False, False, False, False, False, False,\n",
       "                    False, False, False, False, False, False, False, False,\n",
       "                    False, False, False, False, False, False, False, False,\n",
       "                    False, False, False, False, False, False, False, False,\n",
       "                    False, False],\n",
       "        fill_value='?',\n",
       "             dtype=object),\n",
       " 'params': [{'n_estimators': 1},\n",
       "  {'n_estimators': 2},\n",
       "  {'n_estimators': 3},\n",
       "  {'n_estimators': 4},\n",
       "  {'n_estimators': 5},\n",
       "  {'n_estimators': 6},\n",
       "  {'n_estimators': 7},\n",
       "  {'n_estimators': 8},\n",
       "  {'n_estimators': 9},\n",
       "  {'n_estimators': 10},\n",
       "  {'n_estimators': 11},\n",
       "  {'n_estimators': 12},\n",
       "  {'n_estimators': 13},\n",
       "  {'n_estimators': 14},\n",
       "  {'n_estimators': 15},\n",
       "  {'n_estimators': 16},\n",
       "  {'n_estimators': 17},\n",
       "  {'n_estimators': 18},\n",
       "  {'n_estimators': 19},\n",
       "  {'n_estimators': 20},\n",
       "  {'n_estimators': 21},\n",
       "  {'n_estimators': 22},\n",
       "  {'n_estimators': 23},\n",
       "  {'n_estimators': 24},\n",
       "  {'n_estimators': 25},\n",
       "  {'n_estimators': 26},\n",
       "  {'n_estimators': 27},\n",
       "  {'n_estimators': 28},\n",
       "  {'n_estimators': 29},\n",
       "  {'n_estimators': 30},\n",
       "  {'n_estimators': 31},\n",
       "  {'n_estimators': 32},\n",
       "  {'n_estimators': 33},\n",
       "  {'n_estimators': 34},\n",
       "  {'n_estimators': 35},\n",
       "  {'n_estimators': 36},\n",
       "  {'n_estimators': 37},\n",
       "  {'n_estimators': 38},\n",
       "  {'n_estimators': 39},\n",
       "  {'n_estimators': 40},\n",
       "  {'n_estimators': 41},\n",
       "  {'n_estimators': 42},\n",
       "  {'n_estimators': 43},\n",
       "  {'n_estimators': 44},\n",
       "  {'n_estimators': 45},\n",
       "  {'n_estimators': 46},\n",
       "  {'n_estimators': 47},\n",
       "  {'n_estimators': 48},\n",
       "  {'n_estimators': 49},\n",
       "  {'n_estimators': 50}],\n",
       " 'split0_test_score': array([0.66739702, 0.73805511, 0.74888695, 0.77116542, 0.78089117,\n",
       "        0.7817562 , 0.78850288, 0.79090499, 0.79278157, 0.79802454,\n",
       "        0.7967074 , 0.80063324, 0.80201461, 0.80066243, 0.80621516,\n",
       "        0.80149242, 0.80511546, 0.802239  , 0.81075188, 0.81470274,\n",
       "        0.80765214, 0.81283255, 0.81061925, 0.81167863, 0.80654354,\n",
       "        0.81129269, 0.8110911 , 0.81436518, 0.81307057, 0.80902016,\n",
       "        0.81233261, 0.81336864, 0.81718937, 0.81482258, 0.81493408,\n",
       "        0.81028141, 0.81443553, 0.81295851, 0.81322794, 0.8123746 ,\n",
       "        0.81360387, 0.81170894, 0.81753555, 0.81216244, 0.81389611,\n",
       "        0.81332443, 0.81195835, 0.81454314, 0.81882738, 0.81731088]),\n",
       " 'split1_test_score': array([0.66686761, 0.7305396 , 0.75498299, 0.76655224, 0.77170818,\n",
       "        0.77234159, 0.77973475, 0.78683289, 0.79116079, 0.79801648,\n",
       "        0.79759356, 0.7992983 , 0.80587788, 0.80237802, 0.79468623,\n",
       "        0.79533632, 0.79929664, 0.8015953 , 0.79978935, 0.80993134,\n",
       "        0.80387701, 0.8035642 , 0.80763017, 0.81187966, 0.8058345 ,\n",
       "        0.80518553, 0.80849575, 0.80950592, 0.80856471, 0.80960964,\n",
       "        0.81214465, 0.80923955, 0.8153823 , 0.80587927, 0.80772694,\n",
       "        0.80891506, 0.8121288 , 0.81142282, 0.81036149, 0.81192137,\n",
       "        0.81444081, 0.81761507, 0.81321682, 0.81369146, 0.81217523,\n",
       "        0.81552744, 0.81026751, 0.80991077, 0.81811   , 0.81409436]),\n",
       " 'split2_test_score': array([0.67792841, 0.73438574, 0.75385328, 0.7514696 , 0.77512034,\n",
       "        0.77738246, 0.79412944, 0.78817149, 0.78594831, 0.79922895,\n",
       "        0.79009173, 0.80563783, 0.79050566, 0.79207373, 0.79079412,\n",
       "        0.79972856, 0.80235231, 0.80551627, 0.80801679, 0.80397156,\n",
       "        0.80607846, 0.8063291 , 0.80464586, 0.8049054 , 0.80994343,\n",
       "        0.80653161, 0.81072093, 0.80109857, 0.80935648, 0.81174768,\n",
       "        0.80763819, 0.81330601, 0.80599891, 0.81089312, 0.80955649,\n",
       "        0.81351131, 0.80945746, 0.81071704, 0.80849247, 0.81095627,\n",
       "        0.81152458, 0.8156986 , 0.81267233, 0.81904087, 0.81181833,\n",
       "        0.81240973, 0.81104528, 0.81305371, 0.81366681, 0.81261419]),\n",
       " 'split3_test_score': array([0.68246739, 0.72256163, 0.74247647, 0.76310567, 0.76654586,\n",
       "        0.7742363 , 0.77928351, 0.77487248, 0.78889168, 0.78895511,\n",
       "        0.7881114 , 0.7894714 , 0.78927223, 0.78802878, 0.79763334,\n",
       "        0.79389745, 0.79779746, 0.79819247, 0.79851182, 0.80373484,\n",
       "        0.79865369, 0.79857802, 0.79761748, 0.80128133, 0.80234034,\n",
       "        0.80024235, 0.80106908, 0.80255593, 0.80505561, 0.79937666,\n",
       "        0.80476826, 0.80485811, 0.80794363, 0.79925594, 0.80517578,\n",
       "        0.80174282, 0.80302632, 0.80546787, 0.80726154, 0.80553296,\n",
       "        0.8058409 , 0.80562698, 0.80813779, 0.80767908, 0.80474183,\n",
       "        0.8066949 , 0.80970281, 0.80896453, 0.80974064, 0.80982715]),\n",
       " 'split4_test_score': array([0.68751906, 0.73041952, 0.74444261, 0.77526165, 0.78337908,\n",
       "        0.78405227, 0.79617793, 0.80022454, 0.80561975, 0.79969601,\n",
       "        0.8006763 , 0.80595078, 0.80054667, 0.8045663 , 0.81375805,\n",
       "        0.80780176, 0.80668516, 0.81167507, 0.8131035 , 0.81080216,\n",
       "        0.81792734, 0.81417225, 0.81594673, 0.81350936, 0.81478757,\n",
       "        0.81557314, 0.81805669, 0.81973047, 0.81785585, 0.81855129,\n",
       "        0.81458784, 0.81837687, 0.82336845, 0.82157672, 0.8192776 ,\n",
       "        0.8225125 , 0.82310307, 0.82268831, 0.82103456, 0.82550956,\n",
       "        0.82379127, 0.82528702, 0.82373369, 0.82446668, 0.82367472,\n",
       "        0.82449033, 0.82382688, 0.82533737, 0.82373119, 0.82229246]),\n",
       " 'mean_test_score': array([0.6764359 , 0.73119232, 0.74892846, 0.76551092, 0.77552893,\n",
       "        0.77795376, 0.7875657 , 0.78820128, 0.79288042, 0.79678422,\n",
       "        0.79463608, 0.80019831, 0.79764341, 0.79754185, 0.80061738,\n",
       "        0.7996513 , 0.80224941, 0.80384362, 0.80603467, 0.80862853,\n",
       "        0.80683773, 0.80709522, 0.8072919 , 0.80865088, 0.80788988,\n",
       "        0.80776506, 0.80988671, 0.80945121, 0.81078064, 0.80966108,\n",
       "        0.81029431, 0.81182984, 0.81397653, 0.81048553, 0.81133418,\n",
       "        0.81139262, 0.81243024, 0.81265091, 0.8120756 , 0.81325895,\n",
       "        0.81384029, 0.81518732, 0.81505924, 0.81540811, 0.81326124,\n",
       "        0.81448937, 0.81336017, 0.8143619 , 0.8168152 , 0.81522781]),\n",
       " 'std_test_score': array([0.00818164, 0.00515379, 0.00495306, 0.0081373 , 0.00609654,\n",
       "        0.00441118, 0.00704344, 0.00814124, 0.00677084, 0.00397007,\n",
       "        0.00474855, 0.00597905, 0.00657825, 0.00636975, 0.00830171,\n",
       "        0.00493055, 0.00335974, 0.004554  , 0.00586083, 0.0042179 ,\n",
       "        0.00632398, 0.00580688, 0.00611044, 0.00472305, 0.00421022,\n",
       "        0.00525694, 0.00545125, 0.00703029, 0.00435928, 0.00615747,\n",
       "        0.00356665, 0.00453266, 0.00633317, 0.00760673, 0.00510207,\n",
       "        0.00676213, 0.0065619 , 0.00561584, 0.00491005, 0.0065976 ,\n",
       "        0.00581019, 0.00650628, 0.00526073, 0.00580472, 0.00607759,\n",
       "        0.00578848, 0.00528804, 0.00585063, 0.00476483, 0.00427858]),\n",
       " 'rank_test_score': array([50, 49, 48, 47, 46, 45, 44, 43, 42, 40, 41, 36, 38, 39, 35, 37, 34,\n",
       "        33, 32, 26, 31, 30, 29, 25, 27, 28, 22, 24, 19, 23, 21, 16,  8, 20,\n",
       "        18, 17, 14, 13, 15, 12,  9,  4,  5,  2, 11,  6, 10,  7,  1,  3])}"
      ]
     },
     "execution_count": 57,
     "metadata": {},
     "output_type": "execute_result"
    }
   ],
   "source": [
    "param_grid = {'n_estimators': [i for i in range (1, 51)]}\n",
    "gridsearch = GridSearchCV(RandomForestClassifier(), param_grid, scoring='roc_auc', cv=5)\n",
    "\n",
    "gridsearch.fit(X, y)\n",
    "gridsearch.cv_results_"
   ]
  },
  {
   "cell_type": "code",
   "execution_count": 58,
   "metadata": {},
   "outputs": [
    {
     "data": {
      "text/plain": [
       "Text(0, 0.5, 'mean CV roc-auc score')"
      ]
     },
     "execution_count": 58,
     "metadata": {},
     "output_type": "execute_result"
    },
    {
     "data": {
      "image/png": "[encoded data removed]",
      "text/plain": [
       "<Figure size 432x288 with 1 Axes>"
      ]
     },
     "metadata": {
      "needs_background": "light"
     },
     "output_type": "display_data"
    }
   ],
   "source": [
    "x0 = [i for i in range (1, 51)]\n",
    "x1 = gridsearch.cv_results_['mean_test_score']\n",
    "# confidence interval\n",
    "ci = gridsearch.cv_results_['std_test_score']\n",
    "\n",
    "fig, ax = plt.subplots()\n",
    "ax.plot(x0,x1)\n",
    "ax.fill_between(x0, (x1-ci), (x1+ci), color='b', alpha=.1)\n",
    "\n",
    "ax.grid(color='grey', alpha=0.2, linestyle='-')\n",
    "\n",
    "plt.title('Random Forest', weight='bold')\n",
    "plt.xticks()\n",
    "plt.xlabel('n_estimators', weight='bold')\n",
    "plt.ylabel('mean CV roc-auc score', weight='bold')"
   ]
  },
  {
   "cell_type": "code",
   "execution_count": 59,
   "metadata": {},
   "outputs": [
    {
     "name": "stdout",
     "output_type": "stream",
     "text": [
      "Random Forest \n",
      "best n_estimators parameter: 28 \n",
      "best score: 0.8107806433862474\n"
     ]
    }
   ],
   "source": [
    "best_score = max(gridsearch.cv_results_['mean_test_score'][20:30])\n",
    "best_n = 20 + argmax(gridsearch.cv_results_['mean_test_score'][20:30])\n",
    "print('Random Forest','\\nbest n_estimators parameter:', best_n, '\\nbest score:', best_score)"
   ]
  },
  {
   "cell_type": "code",
   "execution_count": 60,
   "metadata": {},
   "outputs": [
    {
     "data": {
      "text/plain": [
       "Text(0, 0.5, 'mean CV roc-auc score')"
      ]
     },
     "execution_count": 60,
     "metadata": {},
     "output_type": "execute_result"
    },
    {
     "data": {
      "image/png": "[encoded data removed]",
      "text/plain": [
       "<Figure size 432x288 with 1 Axes>"
      ]
     },
     "metadata": {
      "needs_background": "light"
     },
     "output_type": "display_data"
    }
   ],
   "source": [
    "x0 = [i for i in range (1, 51)]\n",
    "x1 = gridsearch.cv_results_['mean_test_score']\n",
    "# confidence interval\n",
    "ci = gridsearch.cv_results_['std_test_score']\n",
    "\n",
    "fig, ax = plt.subplots()\n",
    "ax.plot(x0,x1)\n",
    "plt.axvline(x=best_n, linestyle='--', color='red',  linewidth=1.3)\n",
    "ax.fill_between(x0, (x1-ci), (x1+ci), color='b', alpha=.1)\n",
    "\n",
    "ax.grid(color='grey', alpha=0.2, linestyle='-')\n",
    "\n",
    "plt.title('Random Forest', weight='bold')\n",
    "plt.xticks()\n",
    "plt.xlabel('n_estimators', weight='bold')\n",
    "plt.ylabel('mean CV roc-auc score', weight='bold')"
   ]
  },
  {
   "cell_type": "markdown",
   "metadata": {},
   "source": [
    "Качество упало, но не сильно"
   ]
  },
  {
   "cell_type": "markdown",
   "metadata": {},
   "source": [
    "**Gradient Boosting best parameters**"
   ]
  },
  {
   "cell_type": "code",
   "execution_count": 61,
   "metadata": {},
   "outputs": [],
   "source": [
    "X_train, X_test, y_train, y_test = train_test_split(X, y, test_size=0.3, random_state=690)"
   ]
  },
  {
   "cell_type": "code",
   "execution_count": 62,
   "metadata": {},
   "outputs": [
    {
     "name": "stderr",
     "output_type": "stream",
     "text": [
      "100%|████████████████████████████████████████████████████████████████████████████████| 499/499 [16:17<00:00,  1.96s/it]\n"
     ]
    }
   ],
   "source": [
    "loss=[]\n",
    "\n",
    "# tqdm here to track learning progress\n",
    "for n_estimators in tqdm([i for i in range (1, 500)]):\n",
    "    clf = GradientBoostingClassifier(n_estimators=n_estimators)\n",
    "    clf.fit(X_train, y_train)\n",
    "    y_pred = clf.predict(X_test)\n",
    "    log_loss_n = log_loss(y_test, y_pred)\n",
    "    loss.append(log_loss_n)\n",
    "min_loss = min(loss[0:500])\n",
    "best_n = argmin(loss[0:500])"
   ]
  },
  {
   "cell_type": "code",
   "execution_count": 63,
   "metadata": {},
   "outputs": [
    {
     "data": {
      "text/plain": [
       "Text(0, 0.5, 'loss')"
      ]
     },
     "execution_count": 63,
     "metadata": {},
     "output_type": "execute_result"
    },
    {
     "data": {
      "image/png": "[encoded data removed]",
      "text/plain": [
       "<Figure size 432x288 with 1 Axes>"
      ]
     },
     "metadata": {
      "needs_background": "light"
     },
     "output_type": "display_data"
    }
   ],
   "source": [
    "x0 = [i for i in range (1, 500)]\n",
    "x1 = loss\n",
    "# confidence interval\n",
    "ci = gridsearch.cv_results_['std_test_score']\n",
    "\n",
    "fig, ax = plt.subplots()\n",
    "ax.plot(x0,x1)\n",
    "plt.axvline(x=best_n, linestyle='--', color='red',  linewidth=1.3)\n",
    "\n",
    "ax.grid(color='grey', alpha=0.2, linestyle='-')\n",
    "\n",
    "plt.title('grad boosting', weight='bold')\n",
    "plt.xticks()\n",
    "plt.xlabel('n_estimators', weight='bold')\n",
    "plt.ylabel('loss', weight='bold')"
   ]
  },
  {
   "cell_type": "code",
   "execution_count": 65,
   "metadata": {},
   "outputs": [],
   "source": [
    "best_score = mean(cross_val_score(GradientBoostingClassifier(n_estimators=best_n), X, y, scoring='roc_auc', cv=5))\n",
    "#clf = GradientBoostingClassifier(n_estimators=best_n)\n",
    "#clf.fit(X_train, y_train)\n",
    "#y_pred = clf.predict(X_test)\n",
    "#best_score = roc_auc_score(y_test, y_pred)"
   ]
  },
  {
   "cell_type": "code",
   "execution_count": 66,
   "metadata": {},
   "outputs": [
    {
     "name": "stdout",
     "output_type": "stream",
     "text": [
      "Gradient Boosting \n",
      "best n_estimators parameter: 305 \n",
      "best score: 0.8658372073191808\n"
     ]
    }
   ],
   "source": [
    "print('Gradient Boosting','\\nbest n_estimators parameter:', best_n, '\\nbest score:', best_score)"
   ]
  },
  {
   "cell_type": "markdown",
   "metadata": {},
   "source": [
    "Качество поднялось немного"
   ]
  },
  {
   "cell_type": "markdown",
   "metadata": {},
   "source": [
    "Изменилось ли качество у некоторых алгоритмов?"
   ]
  },
  {
   "cell_type": "markdown",
   "metadata": {},
   "source": [
    "Подтвердили гипотезу: у линейной модели и KNN сильно поднялось качество. У деревьев и композиций - не сильно изменилось."
   ]
  },
  {
   "cell_type": "markdown",
   "metadata": {},
   "source": [
    "**Задание 7 (1.25 балла)** Теперь сделайте перебор нескольких гиперпараметров по сетке и найдите оптимальные комбинации (лучшее среднее значение качества) для каждого алгоритма в данном случае: \n",
    " - KNN — число соседей (*n_neighbors*) и метрика (*metric*)\n",
    " - DecisonTree — глубина дерева (*max_depth*) и критерий разбиения (*criterion*)\n",
    " - RandomForest — критерий разбиения в деревьях (*criterion*) и *max_features* (при фиксированном количестве деревьев, найденном ранее)\n",
    " - GradientBoosting — критерий разбиения в деревьях (*criterion*) и *max_features* (при фиксированном количестве деревьев, найденном ранее)\n",
    " - SGDClassifier — оптимизируемая функция (*loss*) и *penalty*\n",
    " \n",
    "Обратите внимание, что эта операция может быть ресурсо- и трудоемкой. Как оптимизировать подбор параметров по сетке сказано в разделе \"Подбор гиперпараметров модели\""
   ]
  },
  {
   "cell_type": "code",
   "execution_count": 68,
   "metadata": {},
   "outputs": [
    {
     "name": "stdout",
     "output_type": "stream",
     "text": [
      "kNN Classifier \n",
      "best parameters: {'metric': 'manhattan', 'n_neighbors': 40} \n",
      "best score: 0.8341041331495548 \n",
      "Время обучения: 3.2160448074340815 sec\n"
     ]
    }
   ],
   "source": [
    "param_grid = {'n_neighbors': [5, 10, 20, 40, 50, 60, 100, 500, 1000, 5000], 'metric':['euclidean','manhattan','chebyshev']}\n",
    "gridsearch = GridSearchCV(KNeighborsClassifier(), param_grid, scoring='roc_auc', cv=5)\n",
    "\n",
    "gridsearch.fit(X, y)\n",
    "print('kNN Classifier','\\nbest parameters:', gridsearch.best_params_, '\\nbest score:', gridsearch.best_score_,\n",
    "     '\\nВремя обучения:', gridsearch.cv_results_['mean_fit_time'].sum(), 'sec')"
   ]
  },
  {
   "cell_type": "code",
   "execution_count": 69,
   "metadata": {},
   "outputs": [
    {
     "name": "stdout",
     "output_type": "stream",
     "text": [
      "Desicion Tree Classifier \n",
      "best parameters: {'criterion': 'entropy', 'max_depth': 8} \n",
      "best score: 0.8420448080533858 \n",
      "Время обучения: 0.6301230430603025 sec\n"
     ]
    }
   ],
   "source": [
    "param_grid = {'max_depth': [i for i in range(1, 16)], 'criterion':['gini', 'entropy']}\n",
    "gridsearch = GridSearchCV(DecisionTreeClassifier(), param_grid, scoring='roc_auc', cv=5)\n",
    "\n",
    "gridsearch.fit(X, y)\n",
    "print('Desicion Tree Classifier','\\nbest parameters:', gridsearch.best_params_, '\\nbest score:', gridsearch.best_score_,\n",
    "      '\\nВремя обучения:', gridsearch.cv_results_['mean_fit_time'].sum(), 'sec')"
   ]
  },
  {
   "cell_type": "code",
   "execution_count": 70,
   "metadata": {},
   "outputs": [
    {
     "name": "stdout",
     "output_type": "stream",
     "text": [
      "SGD Classifier \n",
      "best parameters: {'loss': 'log', 'penalty': 'l2'} \n",
      "best score: 0.8229998095662397 \n",
      "Время обучения: 0.7828892707824706 sec\n"
     ]
    }
   ],
   "source": [
    "param_grid = {'loss': ['hinge', 'log', 'modified_huber', 'squared_hinge', 'perceptron'], 'penalty':['l2', 'l1', 'elasticnet']}\n",
    "gridsearch = GridSearchCV(SGDClassifier(), param_grid, scoring='roc_auc', cv=5)\n",
    "\n",
    "gridsearch.fit(X, y)\n",
    "print('SGD Classifier','\\nbest parameters:', gridsearch.best_params_, '\\nbest score:', gridsearch.best_score_,\n",
    "      '\\nВремя обучения:', gridsearch.cv_results_['mean_fit_time'].sum(), 'sec')"
   ]
  },
  {
   "cell_type": "code",
   "execution_count": 71,
   "metadata": {},
   "outputs": [
    {
     "name": "stdout",
     "output_type": "stream",
     "text": [
      "Random Forest Classifier \n",
      "best parameters: {'criterion': 'entropy', 'max_features': 'auto'} \n",
      "best score: 0.8127736271547752 \n",
      "Время обучения: 2.2462220191955566 sec\n"
     ]
    }
   ],
   "source": [
    "param_grid = {'criterion': ['gini', 'entropy'], 'max_features':['auto', 'sqrt', 'log2']}\n",
    "gridsearch = GridSearchCV(RandomForestClassifier(n_estimators=29), param_grid, scoring='roc_auc', cv=5)\n",
    "\n",
    "gridsearch.fit(X, y)\n",
    "print('Random Forest Classifier','\\nbest parameters:', gridsearch.best_params_, '\\nbest score:', gridsearch.best_score_,\n",
    "      '\\nВремя обучения:', gridsearch.cv_results_['mean_fit_time'].sum(), 'sec')"
   ]
  },
  {
   "cell_type": "code",
   "execution_count": 73,
   "metadata": {
    "scrolled": false
   },
   "outputs": [
    {
     "name": "stderr",
     "output_type": "stream",
     "text": [
      "C:\\miniconsa\\lib\\site-packages\\sklearn\\model_selection\\_validation.py:610: FitFailedWarning: Estimator fit failed. The score on this train-test partition for these parameters will be set to nan. Details: \n",
      "Traceback (most recent call last):\n",
      "  File \"C:\\miniconsa\\lib\\site-packages\\sklearn\\model_selection\\_validation.py\", line 593, in _fit_and_score\n",
      "    estimator.fit(X_train, y_train, **fit_params)\n",
      "  File \"C:\\miniconsa\\lib\\site-packages\\sklearn\\ensemble\\_gb.py\", line 504, in fit\n",
      "    n_stages = self._fit_stages(\n",
      "  File \"C:\\miniconsa\\lib\\site-packages\\sklearn\\ensemble\\_gb.py\", line 561, in _fit_stages\n",
      "    raw_predictions = self._fit_stage(\n",
      "  File \"C:\\miniconsa\\lib\\site-packages\\sklearn\\ensemble\\_gb.py\", line 214, in _fit_stage\n",
      "    tree.fit(X, residual, sample_weight=sample_weight,\n",
      "  File \"C:\\miniconsa\\lib\\site-packages\\sklearn\\tree\\_classes.py\", line 1247, in fit\n",
      "    super().fit(\n",
      "  File \"C:\\miniconsa\\lib\\site-packages\\sklearn\\tree\\_classes.py\", line 350, in fit\n",
      "    criterion = CRITERIA_REG[self.criterion](self.n_outputs_,\n",
      "KeyError: 'squared_error'\n",
      "\n",
      "  warnings.warn(\"Estimator fit failed. The score on this train-test\"\n",
      "C:\\miniconsa\\lib\\site-packages\\sklearn\\model_selection\\_validation.py:610: FitFailedWarning: Estimator fit failed. The score on this train-test partition for these parameters will be set to nan. Details: \n",
      "Traceback (most recent call last):\n",
      "  File \"C:\\miniconsa\\lib\\site-packages\\sklearn\\model_selection\\_validation.py\", line 593, in _fit_and_score\n",
      "    estimator.fit(X_train, y_train, **fit_params)\n",
      "  File \"C:\\miniconsa\\lib\\site-packages\\sklearn\\ensemble\\_gb.py\", line 504, in fit\n",
      "    n_stages = self._fit_stages(\n",
      "  File \"C:\\miniconsa\\lib\\site-packages\\sklearn\\ensemble\\_gb.py\", line 561, in _fit_stages\n",
      "    raw_predictions = self._fit_stage(\n",
      "  File \"C:\\miniconsa\\lib\\site-packages\\sklearn\\ensemble\\_gb.py\", line 214, in _fit_stage\n",
      "    tree.fit(X, residual, sample_weight=sample_weight,\n",
      "  File \"C:\\miniconsa\\lib\\site-packages\\sklearn\\tree\\_classes.py\", line 1247, in fit\n",
      "    super().fit(\n",
      "  File \"C:\\miniconsa\\lib\\site-packages\\sklearn\\tree\\_classes.py\", line 350, in fit\n",
      "    criterion = CRITERIA_REG[self.criterion](self.n_outputs_,\n",
      "KeyError: 'squared_error'\n",
      "\n",
      "  warnings.warn(\"Estimator fit failed. The score on this train-test\"\n",
      "C:\\miniconsa\\lib\\site-packages\\sklearn\\model_selection\\_validation.py:610: FitFailedWarning: Estimator fit failed. The score on this train-test partition for these parameters will be set to nan. Details: \n",
      "Traceback (most recent call last):\n",
      "  File \"C:\\miniconsa\\lib\\site-packages\\sklearn\\model_selection\\_validation.py\", line 593, in _fit_and_score\n",
      "    estimator.fit(X_train, y_train, **fit_params)\n",
      "  File \"C:\\miniconsa\\lib\\site-packages\\sklearn\\ensemble\\_gb.py\", line 504, in fit\n",
      "    n_stages = self._fit_stages(\n",
      "  File \"C:\\miniconsa\\lib\\site-packages\\sklearn\\ensemble\\_gb.py\", line 561, in _fit_stages\n",
      "    raw_predictions = self._fit_stage(\n",
      "  File \"C:\\miniconsa\\lib\\site-packages\\sklearn\\ensemble\\_gb.py\", line 214, in _fit_stage\n",
      "    tree.fit(X, residual, sample_weight=sample_weight,\n",
      "  File \"C:\\miniconsa\\lib\\site-packages\\sklearn\\tree\\_classes.py\", line 1247, in fit\n",
      "    super().fit(\n",
      "  File \"C:\\miniconsa\\lib\\site-packages\\sklearn\\tree\\_classes.py\", line 350, in fit\n",
      "    criterion = CRITERIA_REG[self.criterion](self.n_outputs_,\n",
      "KeyError: 'squared_error'\n",
      "\n",
      "  warnings.warn(\"Estimator fit failed. The score on this train-test\"\n",
      "C:\\miniconsa\\lib\\site-packages\\sklearn\\model_selection\\_validation.py:610: FitFailedWarning: Estimator fit failed. The score on this train-test partition for these parameters will be set to nan. Details: \n",
      "Traceback (most recent call last):\n",
      "  File \"C:\\miniconsa\\lib\\site-packages\\sklearn\\model_selection\\_validation.py\", line 593, in _fit_and_score\n",
      "    estimator.fit(X_train, y_train, **fit_params)\n",
      "  File \"C:\\miniconsa\\lib\\site-packages\\sklearn\\ensemble\\_gb.py\", line 504, in fit\n",
      "    n_stages = self._fit_stages(\n",
      "  File \"C:\\miniconsa\\lib\\site-packages\\sklearn\\ensemble\\_gb.py\", line 561, in _fit_stages\n",
      "    raw_predictions = self._fit_stage(\n",
      "  File \"C:\\miniconsa\\lib\\site-packages\\sklearn\\ensemble\\_gb.py\", line 214, in _fit_stage\n",
      "    tree.fit(X, residual, sample_weight=sample_weight,\n",
      "  File \"C:\\miniconsa\\lib\\site-packages\\sklearn\\tree\\_classes.py\", line 1247, in fit\n",
      "    super().fit(\n",
      "  File \"C:\\miniconsa\\lib\\site-packages\\sklearn\\tree\\_classes.py\", line 350, in fit\n",
      "    criterion = CRITERIA_REG[self.criterion](self.n_outputs_,\n",
      "KeyError: 'squared_error'\n",
      "\n",
      "  warnings.warn(\"Estimator fit failed. The score on this train-test\"\n",
      "C:\\miniconsa\\lib\\site-packages\\sklearn\\model_selection\\_validation.py:610: FitFailedWarning: Estimator fit failed. The score on this train-test partition for these parameters will be set to nan. Details: \n",
      "Traceback (most recent call last):\n",
      "  File \"C:\\miniconsa\\lib\\site-packages\\sklearn\\model_selection\\_validation.py\", line 593, in _fit_and_score\n",
      "    estimator.fit(X_train, y_train, **fit_params)\n",
      "  File \"C:\\miniconsa\\lib\\site-packages\\sklearn\\ensemble\\_gb.py\", line 504, in fit\n",
      "    n_stages = self._fit_stages(\n",
      "  File \"C:\\miniconsa\\lib\\site-packages\\sklearn\\ensemble\\_gb.py\", line 561, in _fit_stages\n",
      "    raw_predictions = self._fit_stage(\n",
      "  File \"C:\\miniconsa\\lib\\site-packages\\sklearn\\ensemble\\_gb.py\", line 214, in _fit_stage\n",
      "    tree.fit(X, residual, sample_weight=sample_weight,\n",
      "  File \"C:\\miniconsa\\lib\\site-packages\\sklearn\\tree\\_classes.py\", line 1247, in fit\n",
      "    super().fit(\n",
      "  File \"C:\\miniconsa\\lib\\site-packages\\sklearn\\tree\\_classes.py\", line 350, in fit\n",
      "    criterion = CRITERIA_REG[self.criterion](self.n_outputs_,\n",
      "KeyError: 'squared_error'\n",
      "\n",
      "  warnings.warn(\"Estimator fit failed. The score on this train-test\"\n",
      "C:\\miniconsa\\lib\\site-packages\\sklearn\\model_selection\\_validation.py:610: FitFailedWarning: Estimator fit failed. The score on this train-test partition for these parameters will be set to nan. Details: \n",
      "Traceback (most recent call last):\n",
      "  File \"C:\\miniconsa\\lib\\site-packages\\sklearn\\model_selection\\_validation.py\", line 593, in _fit_and_score\n",
      "    estimator.fit(X_train, y_train, **fit_params)\n",
      "  File \"C:\\miniconsa\\lib\\site-packages\\sklearn\\ensemble\\_gb.py\", line 504, in fit\n",
      "    n_stages = self._fit_stages(\n",
      "  File \"C:\\miniconsa\\lib\\site-packages\\sklearn\\ensemble\\_gb.py\", line 561, in _fit_stages\n",
      "    raw_predictions = self._fit_stage(\n",
      "  File \"C:\\miniconsa\\lib\\site-packages\\sklearn\\ensemble\\_gb.py\", line 214, in _fit_stage\n",
      "    tree.fit(X, residual, sample_weight=sample_weight,\n",
      "  File \"C:\\miniconsa\\lib\\site-packages\\sklearn\\tree\\_classes.py\", line 1247, in fit\n",
      "    super().fit(\n",
      "  File \"C:\\miniconsa\\lib\\site-packages\\sklearn\\tree\\_classes.py\", line 350, in fit\n",
      "    criterion = CRITERIA_REG[self.criterion](self.n_outputs_,\n",
      "KeyError: 'squared_error'\n",
      "\n",
      "  warnings.warn(\"Estimator fit failed. The score on this train-test\"\n",
      "C:\\miniconsa\\lib\\site-packages\\sklearn\\model_selection\\_validation.py:610: FitFailedWarning: Estimator fit failed. The score on this train-test partition for these parameters will be set to nan. Details: \n",
      "Traceback (most recent call last):\n",
      "  File \"C:\\miniconsa\\lib\\site-packages\\sklearn\\model_selection\\_validation.py\", line 593, in _fit_and_score\n",
      "    estimator.fit(X_train, y_train, **fit_params)\n",
      "  File \"C:\\miniconsa\\lib\\site-packages\\sklearn\\ensemble\\_gb.py\", line 504, in fit\n",
      "    n_stages = self._fit_stages(\n",
      "  File \"C:\\miniconsa\\lib\\site-packages\\sklearn\\ensemble\\_gb.py\", line 561, in _fit_stages\n",
      "    raw_predictions = self._fit_stage(\n",
      "  File \"C:\\miniconsa\\lib\\site-packages\\sklearn\\ensemble\\_gb.py\", line 214, in _fit_stage\n",
      "    tree.fit(X, residual, sample_weight=sample_weight,\n",
      "  File \"C:\\miniconsa\\lib\\site-packages\\sklearn\\tree\\_classes.py\", line 1247, in fit\n",
      "    super().fit(\n",
      "  File \"C:\\miniconsa\\lib\\site-packages\\sklearn\\tree\\_classes.py\", line 350, in fit\n",
      "    criterion = CRITERIA_REG[self.criterion](self.n_outputs_,\n",
      "KeyError: 'squared_error'\n",
      "\n",
      "  warnings.warn(\"Estimator fit failed. The score on this train-test\"\n",
      "C:\\miniconsa\\lib\\site-packages\\sklearn\\model_selection\\_validation.py:610: FitFailedWarning: Estimator fit failed. The score on this train-test partition for these parameters will be set to nan. Details: \n",
      "Traceback (most recent call last):\n",
      "  File \"C:\\miniconsa\\lib\\site-packages\\sklearn\\model_selection\\_validation.py\", line 593, in _fit_and_score\n",
      "    estimator.fit(X_train, y_train, **fit_params)\n",
      "  File \"C:\\miniconsa\\lib\\site-packages\\sklearn\\ensemble\\_gb.py\", line 504, in fit\n",
      "    n_stages = self._fit_stages(\n",
      "  File \"C:\\miniconsa\\lib\\site-packages\\sklearn\\ensemble\\_gb.py\", line 561, in _fit_stages\n",
      "    raw_predictions = self._fit_stage(\n",
      "  File \"C:\\miniconsa\\lib\\site-packages\\sklearn\\ensemble\\_gb.py\", line 214, in _fit_stage\n",
      "    tree.fit(X, residual, sample_weight=sample_weight,\n",
      "  File \"C:\\miniconsa\\lib\\site-packages\\sklearn\\tree\\_classes.py\", line 1247, in fit\n",
      "    super().fit(\n",
      "  File \"C:\\miniconsa\\lib\\site-packages\\sklearn\\tree\\_classes.py\", line 350, in fit\n",
      "    criterion = CRITERIA_REG[self.criterion](self.n_outputs_,\n",
      "KeyError: 'squared_error'\n",
      "\n",
      "  warnings.warn(\"Estimator fit failed. The score on this train-test\"\n",
      "C:\\miniconsa\\lib\\site-packages\\sklearn\\model_selection\\_validation.py:610: FitFailedWarning: Estimator fit failed. The score on this train-test partition for these parameters will be set to nan. Details: \n",
      "Traceback (most recent call last):\n",
      "  File \"C:\\miniconsa\\lib\\site-packages\\sklearn\\model_selection\\_validation.py\", line 593, in _fit_and_score\n",
      "    estimator.fit(X_train, y_train, **fit_params)\n",
      "  File \"C:\\miniconsa\\lib\\site-packages\\sklearn\\ensemble\\_gb.py\", line 504, in fit\n",
      "    n_stages = self._fit_stages(\n",
      "  File \"C:\\miniconsa\\lib\\site-packages\\sklearn\\ensemble\\_gb.py\", line 561, in _fit_stages\n",
      "    raw_predictions = self._fit_stage(\n",
      "  File \"C:\\miniconsa\\lib\\site-packages\\sklearn\\ensemble\\_gb.py\", line 214, in _fit_stage\n",
      "    tree.fit(X, residual, sample_weight=sample_weight,\n",
      "  File \"C:\\miniconsa\\lib\\site-packages\\sklearn\\tree\\_classes.py\", line 1247, in fit\n",
      "    super().fit(\n",
      "  File \"C:\\miniconsa\\lib\\site-packages\\sklearn\\tree\\_classes.py\", line 350, in fit\n",
      "    criterion = CRITERIA_REG[self.criterion](self.n_outputs_,\n",
      "KeyError: 'squared_error'\n",
      "\n",
      "  warnings.warn(\"Estimator fit failed. The score on this train-test\"\n",
      "C:\\miniconsa\\lib\\site-packages\\sklearn\\model_selection\\_validation.py:610: FitFailedWarning: Estimator fit failed. The score on this train-test partition for these parameters will be set to nan. Details: \n",
      "Traceback (most recent call last):\n",
      "  File \"C:\\miniconsa\\lib\\site-packages\\sklearn\\model_selection\\_validation.py\", line 593, in _fit_and_score\n",
      "    estimator.fit(X_train, y_train, **fit_params)\n",
      "  File \"C:\\miniconsa\\lib\\site-packages\\sklearn\\ensemble\\_gb.py\", line 504, in fit\n",
      "    n_stages = self._fit_stages(\n",
      "  File \"C:\\miniconsa\\lib\\site-packages\\sklearn\\ensemble\\_gb.py\", line 561, in _fit_stages\n",
      "    raw_predictions = self._fit_stage(\n",
      "  File \"C:\\miniconsa\\lib\\site-packages\\sklearn\\ensemble\\_gb.py\", line 214, in _fit_stage\n",
      "    tree.fit(X, residual, sample_weight=sample_weight,\n",
      "  File \"C:\\miniconsa\\lib\\site-packages\\sklearn\\tree\\_classes.py\", line 1247, in fit\n",
      "    super().fit(\n",
      "  File \"C:\\miniconsa\\lib\\site-packages\\sklearn\\tree\\_classes.py\", line 350, in fit\n",
      "    criterion = CRITERIA_REG[self.criterion](self.n_outputs_,\n",
      "KeyError: 'squared_error'\n",
      "\n",
      "  warnings.warn(\"Estimator fit failed. The score on this train-test\"\n",
      "C:\\miniconsa\\lib\\site-packages\\sklearn\\model_selection\\_search.py:918: UserWarning: One or more of the test scores are non-finite: [0.86608316 0.86565434        nan        nan]\n",
      "  warnings.warn(\n"
     ]
    },
    {
     "name": "stdout",
     "output_type": "stream",
     "text": [
      "Gradient Boosting Classifier \n",
      "best parameters: {'criterion': 'friedman_mse', 'max_features': 'sqrt'} \n",
      "best score: 0.8660831580835702 \n",
      "Время обучения: 2.668848514556885 sec\n"
     ]
    }
   ],
   "source": [
    "param_grid = {'criterion': ['friedman_mse', 'squared_error'], 'max_features':['sqrt', 'log2']}\n",
    "gridsearch = GridSearchCV(GradientBoostingClassifier(n_estimators=304), param_grid, scoring='roc_auc', cv=5)\n",
    "\n",
    "gridsearch.fit(X, y)\n",
    "print('Gradient Boosting Classifier','\\nbest parameters:', gridsearch.best_params_, '\\nbest score:', gridsearch.best_score_,\n",
    "      '\\nВремя обучения:', gridsearch.cv_results_['mean_fit_time'].sum(), 'sec')"
   ]
  },
  {
   "cell_type": "markdown",
   "metadata": {},
   "source": [
    "**Лучшее качество: Gradient Boosting Classifier**"
   ]
  },
  {
   "cell_type": "markdown",
   "metadata": {},
   "source": [
    "Какой из алгоритмов имеет наилучшее качество? \n",
    "\n",
    "**Задание 8 (0.5 балла)** Сравните алгоритмы с точки зрения времени обучения. Обучение какого из алгоритмов работает дольше всего и, как вы думаете, почему?"
   ]
  },
  {
   "cell_type": "markdown",
   "metadata": {},
   "source": [
    "Самый быстрый: Decision Tree \n",
    "\n",
    "Самый медленный: KNN\n",
    "\n",
    "KNN требуется много времени, чтобы рассчитать расстояния между всеми объектами"
   ]
  },
  {
   "cell_type": "markdown",
   "metadata": {},
   "source": [
    "## Добавление категориальных признаков в модели\n",
    "\n",
    "Пока мы не использовали нечисловые признаки, которые есть в датасете. Давайте посмотрим, правильно ли мы сделали и увеличится ли качество моделей после добавлениях этих признаков. \n",
    "\n",
    "**Задание 9 (0.5 балла)** Преобразуйте все категориальные признаки с помощью метода one-hot-encoding (например, это можно сделать с помощью функции [OneHotEncoder](https://scikit-learn.org/stable/modules/generated/sklearn.preprocessing.OneHotEncoder.html), [pandas.get_dummies](http://pandas.pydata.org/pandas-docs/stable/generated/pandas.get_dummies.html) или [DictVectorizer](http://scikit-learn.org/stable/modules/generated/sklearn.feature_extraction.DictVectorizer.html) из sklearn)."
   ]
  },
  {
   "cell_type": "code",
   "execution_count": 74,
   "metadata": {},
   "outputs": [
    {
     "data": {
      "text/plain": [
       "Index(['age', 'workclass', 'fnlwgt', 'education', 'education-num',\n",
       "       'marital-status', 'occupation', 'relationship', 'race', 'sex',\n",
       "       'capital-gain', 'capital-loss', 'hours-per-week', '>50K,<=50K'],\n",
       "      dtype='object')"
      ]
     },
     "execution_count": 74,
     "metadata": {},
     "output_type": "execute_result"
    }
   ],
   "source": [
    "data.columns "
   ]
  },
  {
   "cell_type": "code",
   "execution_count": 75,
   "metadata": {},
   "outputs": [
    {
     "data": {
      "text/plain": [
       "Index(['age', 'fnlwgt', 'education-num', 'capital-gain', 'capital-loss',\n",
       "       'hours-per-week'],\n",
       "      dtype='object')"
      ]
     },
     "execution_count": 75,
     "metadata": {},
     "output_type": "execute_result"
    }
   ],
   "source": [
    "data_num.columns"
   ]
  },
  {
   "cell_type": "code",
   "execution_count": 76,
   "metadata": {
    "scrolled": true
   },
   "outputs": [
    {
     "data": {
      "text/html": [
       "<div>\n",
       "<style scoped>\n",
       "    .dataframe tbody tr th:only-of-type {\n",
       "        vertical-align: middle;\n",
       "    }\n",
       "\n",
       "    .dataframe tbody tr th {\n",
       "        vertical-align: top;\n",
       "    }\n",
       "\n",
       "    .dataframe thead th {\n",
       "        text-align: right;\n",
       "    }\n",
       "</style>\n",
       "<table border=\"1\" class=\"dataframe\">\n",
       "  <thead>\n",
       "    <tr style=\"text-align: right;\">\n",
       "      <th></th>\n",
       "      <th>workclass_Local-gov</th>\n",
       "      <th>workclass_Private</th>\n",
       "      <th>workclass_Self-emp-inc</th>\n",
       "      <th>workclass_Self-emp-not-inc</th>\n",
       "      <th>workclass_State-gov</th>\n",
       "      <th>workclass_Without-pay</th>\n",
       "      <th>education_11th</th>\n",
       "      <th>education_12th</th>\n",
       "      <th>education_1st-4th</th>\n",
       "      <th>education_5th-6th</th>\n",
       "      <th>...</th>\n",
       "      <th>relationship_Not-in-family</th>\n",
       "      <th>relationship_Other-relative</th>\n",
       "      <th>relationship_Own-child</th>\n",
       "      <th>relationship_Unmarried</th>\n",
       "      <th>relationship_Wife</th>\n",
       "      <th>race_Asian-Pac-Islander</th>\n",
       "      <th>race_Black</th>\n",
       "      <th>race_Other</th>\n",
       "      <th>race_White</th>\n",
       "      <th>sex_Male</th>\n",
       "    </tr>\n",
       "  </thead>\n",
       "  <tbody>\n",
       "    <tr>\n",
       "      <th>0</th>\n",
       "      <td>1</td>\n",
       "      <td>0</td>\n",
       "      <td>0</td>\n",
       "      <td>0</td>\n",
       "      <td>0</td>\n",
       "      <td>0</td>\n",
       "      <td>0</td>\n",
       "      <td>0</td>\n",
       "      <td>0</td>\n",
       "      <td>0</td>\n",
       "      <td>...</td>\n",
       "      <td>1</td>\n",
       "      <td>0</td>\n",
       "      <td>0</td>\n",
       "      <td>0</td>\n",
       "      <td>0</td>\n",
       "      <td>0</td>\n",
       "      <td>1</td>\n",
       "      <td>0</td>\n",
       "      <td>0</td>\n",
       "      <td>1</td>\n",
       "    </tr>\n",
       "    <tr>\n",
       "      <th>1</th>\n",
       "      <td>0</td>\n",
       "      <td>1</td>\n",
       "      <td>0</td>\n",
       "      <td>0</td>\n",
       "      <td>0</td>\n",
       "      <td>0</td>\n",
       "      <td>0</td>\n",
       "      <td>0</td>\n",
       "      <td>0</td>\n",
       "      <td>0</td>\n",
       "      <td>...</td>\n",
       "      <td>1</td>\n",
       "      <td>0</td>\n",
       "      <td>0</td>\n",
       "      <td>0</td>\n",
       "      <td>0</td>\n",
       "      <td>0</td>\n",
       "      <td>0</td>\n",
       "      <td>0</td>\n",
       "      <td>1</td>\n",
       "      <td>1</td>\n",
       "    </tr>\n",
       "    <tr>\n",
       "      <th>2</th>\n",
       "      <td>1</td>\n",
       "      <td>0</td>\n",
       "      <td>0</td>\n",
       "      <td>0</td>\n",
       "      <td>0</td>\n",
       "      <td>0</td>\n",
       "      <td>0</td>\n",
       "      <td>0</td>\n",
       "      <td>0</td>\n",
       "      <td>0</td>\n",
       "      <td>...</td>\n",
       "      <td>0</td>\n",
       "      <td>0</td>\n",
       "      <td>1</td>\n",
       "      <td>0</td>\n",
       "      <td>0</td>\n",
       "      <td>0</td>\n",
       "      <td>0</td>\n",
       "      <td>0</td>\n",
       "      <td>1</td>\n",
       "      <td>1</td>\n",
       "    </tr>\n",
       "    <tr>\n",
       "      <th>3</th>\n",
       "      <td>0</td>\n",
       "      <td>1</td>\n",
       "      <td>0</td>\n",
       "      <td>0</td>\n",
       "      <td>0</td>\n",
       "      <td>0</td>\n",
       "      <td>0</td>\n",
       "      <td>0</td>\n",
       "      <td>0</td>\n",
       "      <td>0</td>\n",
       "      <td>...</td>\n",
       "      <td>0</td>\n",
       "      <td>0</td>\n",
       "      <td>1</td>\n",
       "      <td>0</td>\n",
       "      <td>0</td>\n",
       "      <td>0</td>\n",
       "      <td>0</td>\n",
       "      <td>0</td>\n",
       "      <td>1</td>\n",
       "      <td>0</td>\n",
       "    </tr>\n",
       "    <tr>\n",
       "      <th>4</th>\n",
       "      <td>0</td>\n",
       "      <td>1</td>\n",
       "      <td>0</td>\n",
       "      <td>0</td>\n",
       "      <td>0</td>\n",
       "      <td>0</td>\n",
       "      <td>0</td>\n",
       "      <td>0</td>\n",
       "      <td>0</td>\n",
       "      <td>0</td>\n",
       "      <td>...</td>\n",
       "      <td>0</td>\n",
       "      <td>0</td>\n",
       "      <td>0</td>\n",
       "      <td>0</td>\n",
       "      <td>0</td>\n",
       "      <td>0</td>\n",
       "      <td>0</td>\n",
       "      <td>0</td>\n",
       "      <td>1</td>\n",
       "      <td>1</td>\n",
       "    </tr>\n",
       "    <tr>\n",
       "      <th>...</th>\n",
       "      <td>...</td>\n",
       "      <td>...</td>\n",
       "      <td>...</td>\n",
       "      <td>...</td>\n",
       "      <td>...</td>\n",
       "      <td>...</td>\n",
       "      <td>...</td>\n",
       "      <td>...</td>\n",
       "      <td>...</td>\n",
       "      <td>...</td>\n",
       "      <td>...</td>\n",
       "      <td>...</td>\n",
       "      <td>...</td>\n",
       "      <td>...</td>\n",
       "      <td>...</td>\n",
       "      <td>...</td>\n",
       "      <td>...</td>\n",
       "      <td>...</td>\n",
       "      <td>...</td>\n",
       "      <td>...</td>\n",
       "      <td>...</td>\n",
       "    </tr>\n",
       "    <tr>\n",
       "      <th>16275</th>\n",
       "      <td>1</td>\n",
       "      <td>0</td>\n",
       "      <td>0</td>\n",
       "      <td>0</td>\n",
       "      <td>0</td>\n",
       "      <td>0</td>\n",
       "      <td>0</td>\n",
       "      <td>0</td>\n",
       "      <td>0</td>\n",
       "      <td>0</td>\n",
       "      <td>...</td>\n",
       "      <td>0</td>\n",
       "      <td>0</td>\n",
       "      <td>1</td>\n",
       "      <td>0</td>\n",
       "      <td>0</td>\n",
       "      <td>0</td>\n",
       "      <td>1</td>\n",
       "      <td>0</td>\n",
       "      <td>0</td>\n",
       "      <td>0</td>\n",
       "    </tr>\n",
       "    <tr>\n",
       "      <th>16276</th>\n",
       "      <td>0</td>\n",
       "      <td>1</td>\n",
       "      <td>0</td>\n",
       "      <td>0</td>\n",
       "      <td>0</td>\n",
       "      <td>0</td>\n",
       "      <td>0</td>\n",
       "      <td>0</td>\n",
       "      <td>0</td>\n",
       "      <td>0</td>\n",
       "      <td>...</td>\n",
       "      <td>0</td>\n",
       "      <td>0</td>\n",
       "      <td>0</td>\n",
       "      <td>0</td>\n",
       "      <td>0</td>\n",
       "      <td>0</td>\n",
       "      <td>0</td>\n",
       "      <td>0</td>\n",
       "      <td>1</td>\n",
       "      <td>1</td>\n",
       "    </tr>\n",
       "    <tr>\n",
       "      <th>16277</th>\n",
       "      <td>0</td>\n",
       "      <td>1</td>\n",
       "      <td>0</td>\n",
       "      <td>0</td>\n",
       "      <td>0</td>\n",
       "      <td>0</td>\n",
       "      <td>0</td>\n",
       "      <td>0</td>\n",
       "      <td>0</td>\n",
       "      <td>0</td>\n",
       "      <td>...</td>\n",
       "      <td>1</td>\n",
       "      <td>0</td>\n",
       "      <td>0</td>\n",
       "      <td>0</td>\n",
       "      <td>0</td>\n",
       "      <td>1</td>\n",
       "      <td>0</td>\n",
       "      <td>0</td>\n",
       "      <td>0</td>\n",
       "      <td>1</td>\n",
       "    </tr>\n",
       "    <tr>\n",
       "      <th>16278</th>\n",
       "      <td>0</td>\n",
       "      <td>0</td>\n",
       "      <td>0</td>\n",
       "      <td>0</td>\n",
       "      <td>1</td>\n",
       "      <td>0</td>\n",
       "      <td>0</td>\n",
       "      <td>0</td>\n",
       "      <td>0</td>\n",
       "      <td>0</td>\n",
       "      <td>...</td>\n",
       "      <td>0</td>\n",
       "      <td>0</td>\n",
       "      <td>0</td>\n",
       "      <td>0</td>\n",
       "      <td>0</td>\n",
       "      <td>0</td>\n",
       "      <td>0</td>\n",
       "      <td>0</td>\n",
       "      <td>1</td>\n",
       "      <td>1</td>\n",
       "    </tr>\n",
       "    <tr>\n",
       "      <th>16279</th>\n",
       "      <td>0</td>\n",
       "      <td>1</td>\n",
       "      <td>0</td>\n",
       "      <td>0</td>\n",
       "      <td>0</td>\n",
       "      <td>0</td>\n",
       "      <td>0</td>\n",
       "      <td>0</td>\n",
       "      <td>0</td>\n",
       "      <td>0</td>\n",
       "      <td>...</td>\n",
       "      <td>0</td>\n",
       "      <td>0</td>\n",
       "      <td>0</td>\n",
       "      <td>0</td>\n",
       "      <td>0</td>\n",
       "      <td>0</td>\n",
       "      <td>0</td>\n",
       "      <td>0</td>\n",
       "      <td>1</td>\n",
       "      <td>1</td>\n",
       "    </tr>\n",
       "  </tbody>\n",
       "</table>\n",
       "<p>15347 rows × 50 columns</p>\n",
       "</div>"
      ],
      "text/plain": [
       "       workclass_Local-gov  workclass_Private  workclass_Self-emp-inc  \\\n",
       "0                        1                  0                       0   \n",
       "1                        0                  1                       0   \n",
       "2                        1                  0                       0   \n",
       "3                        0                  1                       0   \n",
       "4                        0                  1                       0   \n",
       "...                    ...                ...                     ...   \n",
       "16275                    1                  0                       0   \n",
       "16276                    0                  1                       0   \n",
       "16277                    0                  1                       0   \n",
       "16278                    0                  0                       0   \n",
       "16279                    0                  1                       0   \n",
       "\n",
       "       workclass_Self-emp-not-inc  workclass_State-gov  workclass_Without-pay  \\\n",
       "0                               0                    0                      0   \n",
       "1                               0                    0                      0   \n",
       "2                               0                    0                      0   \n",
       "3                               0                    0                      0   \n",
       "4                               0                    0                      0   \n",
       "...                           ...                  ...                    ...   \n",
       "16275                           0                    0                      0   \n",
       "16276                           0                    0                      0   \n",
       "16277                           0                    0                      0   \n",
       "16278                           0                    1                      0   \n",
       "16279                           0                    0                      0   \n",
       "\n",
       "       education_11th  education_12th  education_1st-4th  education_5th-6th  \\\n",
       "0                   0               0                  0                  0   \n",
       "1                   0               0                  0                  0   \n",
       "2                   0               0                  0                  0   \n",
       "3                   0               0                  0                  0   \n",
       "4                   0               0                  0                  0   \n",
       "...               ...             ...                ...                ...   \n",
       "16275               0               0                  0                  0   \n",
       "16276               0               0                  0                  0   \n",
       "16277               0               0                  0                  0   \n",
       "16278               0               0                  0                  0   \n",
       "16279               0               0                  0                  0   \n",
       "\n",
       "       ...  relationship_Not-in-family  relationship_Other-relative  \\\n",
       "0      ...                           1                            0   \n",
       "1      ...                           1                            0   \n",
       "2      ...                           0                            0   \n",
       "3      ...                           0                            0   \n",
       "4      ...                           0                            0   \n",
       "...    ...                         ...                          ...   \n",
       "16275  ...                           0                            0   \n",
       "16276  ...                           0                            0   \n",
       "16277  ...                           1                            0   \n",
       "16278  ...                           0                            0   \n",
       "16279  ...                           0                            0   \n",
       "\n",
       "       relationship_Own-child  relationship_Unmarried  relationship_Wife  \\\n",
       "0                           0                       0                  0   \n",
       "1                           0                       0                  0   \n",
       "2                           1                       0                  0   \n",
       "3                           1                       0                  0   \n",
       "4                           0                       0                  0   \n",
       "...                       ...                     ...                ...   \n",
       "16275                       1                       0                  0   \n",
       "16276                       0                       0                  0   \n",
       "16277                       0                       0                  0   \n",
       "16278                       0                       0                  0   \n",
       "16279                       0                       0                  0   \n",
       "\n",
       "       race_Asian-Pac-Islander  race_Black  race_Other  race_White  sex_Male  \n",
       "0                            0           1           0           0         1  \n",
       "1                            0           0           0           1         1  \n",
       "2                            0           0           0           1         1  \n",
       "3                            0           0           0           1         0  \n",
       "4                            0           0           0           1         1  \n",
       "...                        ...         ...         ...         ...       ...  \n",
       "16275                        0           1           0           0         0  \n",
       "16276                        0           0           0           1         1  \n",
       "16277                        1           0           0           0         1  \n",
       "16278                        0           0           0           1         1  \n",
       "16279                        0           0           0           1         1  \n",
       "\n",
       "[15347 rows x 50 columns]"
      ]
     },
     "execution_count": 76,
     "metadata": {},
     "output_type": "execute_result"
    }
   ],
   "source": [
    "cat = ['workclass', 'education', 'marital-status', 'occupation', 'relationship', 'race', 'sex']\n",
    "data_cat = pd.get_dummies(data, columns=cat, drop_first=True).iloc[:, 7:]\n",
    "data_cat\n"
   ]
  },
  {
   "cell_type": "markdown",
   "metadata": {},
   "source": [
    "**Задание 10 (0.5 балла)** Добавьте к масштабированным вещественным признакам закодированные категориальные и обучите алгоритмы с наилучшими гиперпараметрами из предыдущего пункта. Дало ли добавление новых признаков прирост качества? Измеряйте качество как и раньше используя 5-Fold CV. Для этого удобно воспользоваться функцией [cross_val_score](https://scikit-learn.org/stable/modules/generated/sklearn.model_selection.cross_val_score.html)."
   ]
  },
  {
   "cell_type": "code",
   "execution_count": 77,
   "metadata": {},
   "outputs": [
    {
     "data": {
      "text/html": [
       "<div>\n",
       "<style scoped>\n",
       "    .dataframe tbody tr th:only-of-type {\n",
       "        vertical-align: middle;\n",
       "    }\n",
       "\n",
       "    .dataframe tbody tr th {\n",
       "        vertical-align: top;\n",
       "    }\n",
       "\n",
       "    .dataframe thead th {\n",
       "        text-align: right;\n",
       "    }\n",
       "</style>\n",
       "<table border=\"1\" class=\"dataframe\">\n",
       "  <thead>\n",
       "    <tr style=\"text-align: right;\">\n",
       "      <th></th>\n",
       "      <th>0</th>\n",
       "      <th>1</th>\n",
       "      <th>2</th>\n",
       "      <th>3</th>\n",
       "      <th>4</th>\n",
       "      <th>5</th>\n",
       "      <th>6</th>\n",
       "      <th>7</th>\n",
       "      <th>8</th>\n",
       "      <th>9</th>\n",
       "      <th>...</th>\n",
       "      <th>46</th>\n",
       "      <th>47</th>\n",
       "      <th>48</th>\n",
       "      <th>49</th>\n",
       "      <th>50</th>\n",
       "      <th>51</th>\n",
       "      <th>52</th>\n",
       "      <th>53</th>\n",
       "      <th>54</th>\n",
       "      <th>55</th>\n",
       "    </tr>\n",
       "  </thead>\n",
       "  <tbody>\n",
       "    <tr>\n",
       "      <th>0</th>\n",
       "      <td>1.0</td>\n",
       "      <td>0.0</td>\n",
       "      <td>0.0</td>\n",
       "      <td>0.0</td>\n",
       "      <td>0.0</td>\n",
       "      <td>0.0</td>\n",
       "      <td>0.0</td>\n",
       "      <td>0.0</td>\n",
       "      <td>0.0</td>\n",
       "      <td>0.0</td>\n",
       "      <td>...</td>\n",
       "      <td>1.0</td>\n",
       "      <td>0.0</td>\n",
       "      <td>0.0</td>\n",
       "      <td>1.0</td>\n",
       "      <td>-0.342919</td>\n",
       "      <td>0.900258</td>\n",
       "      <td>-0.450788</td>\n",
       "      <td>-0.065600</td>\n",
       "      <td>-0.218740</td>\n",
       "      <td>1.588223</td>\n",
       "    </tr>\n",
       "    <tr>\n",
       "      <th>1</th>\n",
       "      <td>0.0</td>\n",
       "      <td>1.0</td>\n",
       "      <td>0.0</td>\n",
       "      <td>0.0</td>\n",
       "      <td>0.0</td>\n",
       "      <td>0.0</td>\n",
       "      <td>0.0</td>\n",
       "      <td>0.0</td>\n",
       "      <td>0.0</td>\n",
       "      <td>0.0</td>\n",
       "      <td>...</td>\n",
       "      <td>0.0</td>\n",
       "      <td>0.0</td>\n",
       "      <td>1.0</td>\n",
       "      <td>1.0</td>\n",
       "      <td>0.114760</td>\n",
       "      <td>0.010683</td>\n",
       "      <td>-0.059086</td>\n",
       "      <td>-0.150439</td>\n",
       "      <td>-0.218740</td>\n",
       "      <td>-0.074178</td>\n",
       "    </tr>\n",
       "    <tr>\n",
       "      <th>2</th>\n",
       "      <td>1.0</td>\n",
       "      <td>0.0</td>\n",
       "      <td>0.0</td>\n",
       "      <td>0.0</td>\n",
       "      <td>0.0</td>\n",
       "      <td>0.0</td>\n",
       "      <td>0.0</td>\n",
       "      <td>0.0</td>\n",
       "      <td>0.0</td>\n",
       "      <td>0.0</td>\n",
       "      <td>...</td>\n",
       "      <td>0.0</td>\n",
       "      <td>0.0</td>\n",
       "      <td>1.0</td>\n",
       "      <td>1.0</td>\n",
       "      <td>-0.190359</td>\n",
       "      <td>-0.106280</td>\n",
       "      <td>1.116020</td>\n",
       "      <td>-0.150439</td>\n",
       "      <td>-0.218740</td>\n",
       "      <td>-0.074178</td>\n",
       "    </tr>\n",
       "    <tr>\n",
       "      <th>3</th>\n",
       "      <td>0.0</td>\n",
       "      <td>1.0</td>\n",
       "      <td>0.0</td>\n",
       "      <td>0.0</td>\n",
       "      <td>0.0</td>\n",
       "      <td>0.0</td>\n",
       "      <td>0.0</td>\n",
       "      <td>0.0</td>\n",
       "      <td>0.0</td>\n",
       "      <td>0.0</td>\n",
       "      <td>...</td>\n",
       "      <td>0.0</td>\n",
       "      <td>0.0</td>\n",
       "      <td>1.0</td>\n",
       "      <td>0.0</td>\n",
       "      <td>-1.258276</td>\n",
       "      <td>-0.041382</td>\n",
       "      <td>-0.059086</td>\n",
       "      <td>-0.150439</td>\n",
       "      <td>-0.218740</td>\n",
       "      <td>-0.905379</td>\n",
       "    </tr>\n",
       "    <tr>\n",
       "      <th>4</th>\n",
       "      <td>0.0</td>\n",
       "      <td>1.0</td>\n",
       "      <td>0.0</td>\n",
       "      <td>0.0</td>\n",
       "      <td>0.0</td>\n",
       "      <td>0.0</td>\n",
       "      <td>0.0</td>\n",
       "      <td>0.0</td>\n",
       "      <td>0.0</td>\n",
       "      <td>0.0</td>\n",
       "      <td>...</td>\n",
       "      <td>0.0</td>\n",
       "      <td>0.0</td>\n",
       "      <td>1.0</td>\n",
       "      <td>1.0</td>\n",
       "      <td>0.648719</td>\n",
       "      <td>-0.371197</td>\n",
       "      <td>1.116020</td>\n",
       "      <td>1.995391</td>\n",
       "      <td>-0.218740</td>\n",
       "      <td>-0.074178</td>\n",
       "    </tr>\n",
       "    <tr>\n",
       "      <th>...</th>\n",
       "      <td>...</td>\n",
       "      <td>...</td>\n",
       "      <td>...</td>\n",
       "      <td>...</td>\n",
       "      <td>...</td>\n",
       "      <td>...</td>\n",
       "      <td>...</td>\n",
       "      <td>...</td>\n",
       "      <td>...</td>\n",
       "      <td>...</td>\n",
       "      <td>...</td>\n",
       "      <td>...</td>\n",
       "      <td>...</td>\n",
       "      <td>...</td>\n",
       "      <td>...</td>\n",
       "      <td>...</td>\n",
       "      <td>...</td>\n",
       "      <td>...</td>\n",
       "      <td>...</td>\n",
       "      <td>...</td>\n",
       "      <td>...</td>\n",
       "    </tr>\n",
       "    <tr>\n",
       "      <th>15342</th>\n",
       "      <td>1.0</td>\n",
       "      <td>0.0</td>\n",
       "      <td>0.0</td>\n",
       "      <td>0.0</td>\n",
       "      <td>0.0</td>\n",
       "      <td>0.0</td>\n",
       "      <td>0.0</td>\n",
       "      <td>0.0</td>\n",
       "      <td>0.0</td>\n",
       "      <td>0.0</td>\n",
       "      <td>...</td>\n",
       "      <td>1.0</td>\n",
       "      <td>0.0</td>\n",
       "      <td>0.0</td>\n",
       "      <td>0.0</td>\n",
       "      <td>-1.029436</td>\n",
       "      <td>3.062953</td>\n",
       "      <td>1.116020</td>\n",
       "      <td>-0.150439</td>\n",
       "      <td>-0.218740</td>\n",
       "      <td>-0.074178</td>\n",
       "    </tr>\n",
       "    <tr>\n",
       "      <th>15343</th>\n",
       "      <td>0.0</td>\n",
       "      <td>1.0</td>\n",
       "      <td>0.0</td>\n",
       "      <td>0.0</td>\n",
       "      <td>0.0</td>\n",
       "      <td>0.0</td>\n",
       "      <td>0.0</td>\n",
       "      <td>0.0</td>\n",
       "      <td>0.0</td>\n",
       "      <td>0.0</td>\n",
       "      <td>...</td>\n",
       "      <td>0.0</td>\n",
       "      <td>0.0</td>\n",
       "      <td>1.0</td>\n",
       "      <td>1.0</td>\n",
       "      <td>-0.495478</td>\n",
       "      <td>0.174179</td>\n",
       "      <td>1.116020</td>\n",
       "      <td>1.995391</td>\n",
       "      <td>-0.218740</td>\n",
       "      <td>0.341422</td>\n",
       "    </tr>\n",
       "    <tr>\n",
       "      <th>15344</th>\n",
       "      <td>0.0</td>\n",
       "      <td>1.0</td>\n",
       "      <td>0.0</td>\n",
       "      <td>0.0</td>\n",
       "      <td>0.0</td>\n",
       "      <td>0.0</td>\n",
       "      <td>0.0</td>\n",
       "      <td>0.0</td>\n",
       "      <td>0.0</td>\n",
       "      <td>0.0</td>\n",
       "      <td>...</td>\n",
       "      <td>0.0</td>\n",
       "      <td>0.0</td>\n",
       "      <td>0.0</td>\n",
       "      <td>1.0</td>\n",
       "      <td>-0.876877</td>\n",
       "      <td>-0.796853</td>\n",
       "      <td>1.116020</td>\n",
       "      <td>-0.150439</td>\n",
       "      <td>-0.218740</td>\n",
       "      <td>-0.074178</td>\n",
       "    </tr>\n",
       "    <tr>\n",
       "      <th>15345</th>\n",
       "      <td>0.0</td>\n",
       "      <td>0.0</td>\n",
       "      <td>0.0</td>\n",
       "      <td>0.0</td>\n",
       "      <td>1.0</td>\n",
       "      <td>0.0</td>\n",
       "      <td>0.0</td>\n",
       "      <td>0.0</td>\n",
       "      <td>0.0</td>\n",
       "      <td>0.0</td>\n",
       "      <td>...</td>\n",
       "      <td>0.0</td>\n",
       "      <td>0.0</td>\n",
       "      <td>1.0</td>\n",
       "      <td>1.0</td>\n",
       "      <td>1.564076</td>\n",
       "      <td>0.748381</td>\n",
       "      <td>-0.450788</td>\n",
       "      <td>-0.150439</td>\n",
       "      <td>-0.218740</td>\n",
       "      <td>-0.074178</td>\n",
       "    </tr>\n",
       "    <tr>\n",
       "      <th>15346</th>\n",
       "      <td>0.0</td>\n",
       "      <td>1.0</td>\n",
       "      <td>0.0</td>\n",
       "      <td>0.0</td>\n",
       "      <td>0.0</td>\n",
       "      <td>0.0</td>\n",
       "      <td>0.0</td>\n",
       "      <td>0.0</td>\n",
       "      <td>0.0</td>\n",
       "      <td>0.0</td>\n",
       "      <td>...</td>\n",
       "      <td>0.0</td>\n",
       "      <td>0.0</td>\n",
       "      <td>1.0</td>\n",
       "      <td>1.0</td>\n",
       "      <td>-0.419198</td>\n",
       "      <td>-1.223741</td>\n",
       "      <td>1.116020</td>\n",
       "      <td>-0.150439</td>\n",
       "      <td>4.473444</td>\n",
       "      <td>0.341422</td>\n",
       "    </tr>\n",
       "  </tbody>\n",
       "</table>\n",
       "<p>15347 rows × 56 columns</p>\n",
       "</div>"
      ],
      "text/plain": [
       "        0    1    2    3    4    5    6    7    8    9   ...   46   47   48  \\\n",
       "0      1.0  0.0  0.0  0.0  0.0  0.0  0.0  0.0  0.0  0.0  ...  1.0  0.0  0.0   \n",
       "1      0.0  1.0  0.0  0.0  0.0  0.0  0.0  0.0  0.0  0.0  ...  0.0  0.0  1.0   \n",
       "2      1.0  0.0  0.0  0.0  0.0  0.0  0.0  0.0  0.0  0.0  ...  0.0  0.0  1.0   \n",
       "3      0.0  1.0  0.0  0.0  0.0  0.0  0.0  0.0  0.0  0.0  ...  0.0  0.0  1.0   \n",
       "4      0.0  1.0  0.0  0.0  0.0  0.0  0.0  0.0  0.0  0.0  ...  0.0  0.0  1.0   \n",
       "...    ...  ...  ...  ...  ...  ...  ...  ...  ...  ...  ...  ...  ...  ...   \n",
       "15342  1.0  0.0  0.0  0.0  0.0  0.0  0.0  0.0  0.0  0.0  ...  1.0  0.0  0.0   \n",
       "15343  0.0  1.0  0.0  0.0  0.0  0.0  0.0  0.0  0.0  0.0  ...  0.0  0.0  1.0   \n",
       "15344  0.0  1.0  0.0  0.0  0.0  0.0  0.0  0.0  0.0  0.0  ...  0.0  0.0  0.0   \n",
       "15345  0.0  0.0  0.0  0.0  1.0  0.0  0.0  0.0  0.0  0.0  ...  0.0  0.0  1.0   \n",
       "15346  0.0  1.0  0.0  0.0  0.0  0.0  0.0  0.0  0.0  0.0  ...  0.0  0.0  1.0   \n",
       "\n",
       "        49        50        51        52        53        54        55  \n",
       "0      1.0 -0.342919  0.900258 -0.450788 -0.065600 -0.218740  1.588223  \n",
       "1      1.0  0.114760  0.010683 -0.059086 -0.150439 -0.218740 -0.074178  \n",
       "2      1.0 -0.190359 -0.106280  1.116020 -0.150439 -0.218740 -0.074178  \n",
       "3      0.0 -1.258276 -0.041382 -0.059086 -0.150439 -0.218740 -0.905379  \n",
       "4      1.0  0.648719 -0.371197  1.116020  1.995391 -0.218740 -0.074178  \n",
       "...    ...       ...       ...       ...       ...       ...       ...  \n",
       "15342  0.0 -1.029436  3.062953  1.116020 -0.150439 -0.218740 -0.074178  \n",
       "15343  1.0 -0.495478  0.174179  1.116020  1.995391 -0.218740  0.341422  \n",
       "15344  1.0 -0.876877 -0.796853  1.116020 -0.150439 -0.218740 -0.074178  \n",
       "15345  1.0  1.564076  0.748381 -0.450788 -0.150439 -0.218740 -0.074178  \n",
       "15346  1.0 -0.419198 -1.223741  1.116020 -0.150439  4.473444  0.341422  \n",
       "\n",
       "[15347 rows x 56 columns]"
      ]
     },
     "execution_count": 77,
     "metadata": {},
     "output_type": "execute_result"
    }
   ],
   "source": [
    "data_new = pd.DataFrame(np.concatenate((data_cat.to_numpy(), X), axis=1))\n",
    "data_new"
   ]
  },
  {
   "cell_type": "code",
   "execution_count": 78,
   "metadata": {},
   "outputs": [
    {
     "data": {
      "text/plain": [
       "0.8906963183035848"
      ]
     },
     "execution_count": 78,
     "metadata": {},
     "output_type": "execute_result"
    }
   ],
   "source": [
    "mean(cross_val_score(KNeighborsClassifier(n_neighbors=40, metric='manhattan'), data_new, y, scoring='roc_auc', cv=5))"
   ]
  },
  {
   "cell_type": "markdown",
   "metadata": {},
   "source": [
    "kNN: Качество улучшилось"
   ]
  },
  {
   "cell_type": "code",
   "execution_count": 79,
   "metadata": {},
   "outputs": [
    {
     "data": {
      "text/plain": [
       "0.8903020323497122"
      ]
     },
     "execution_count": 79,
     "metadata": {},
     "output_type": "execute_result"
    }
   ],
   "source": [
    "mean(cross_val_score(DecisionTreeClassifier(criterion='entropy', max_depth=8), data_new, y, scoring='roc_auc', cv=5))"
   ]
  },
  {
   "cell_type": "markdown",
   "metadata": {},
   "source": [
    "Дерево: качество улучшилось"
   ]
  },
  {
   "cell_type": "code",
   "execution_count": 81,
   "metadata": {},
   "outputs": [
    {
     "data": {
      "text/plain": [
       "0.9014953212325668"
      ]
     },
     "execution_count": 81,
     "metadata": {},
     "output_type": "execute_result"
    }
   ],
   "source": [
    "mean(cross_val_score(SGDClassifier(loss='log', penalty='elasticnet'), data_new, y, scoring='roc_auc', cv=5))"
   ]
  },
  {
   "cell_type": "markdown",
   "metadata": {},
   "source": [
    "SGD: качество улучшилось"
   ]
  },
  {
   "cell_type": "code",
   "execution_count": 82,
   "metadata": {},
   "outputs": [
    {
     "data": {
      "text/plain": [
       "0.8935403582624675"
      ]
     },
     "execution_count": 82,
     "metadata": {},
     "output_type": "execute_result"
    }
   ],
   "source": [
    "mean(cross_val_score(RandomForestClassifier(n_estimators=29, criterion='entropy', max_features='sqrt'), data_new, y, scoring='roc_auc', cv=5))"
   ]
  },
  {
   "cell_type": "markdown",
   "metadata": {},
   "source": [
    "Random Forest: качество улучшилось"
   ]
  },
  {
   "cell_type": "code",
   "execution_count": 83,
   "metadata": {},
   "outputs": [
    {
     "data": {
      "text/plain": [
       "0.9197762984486293"
      ]
     },
     "execution_count": 83,
     "metadata": {},
     "output_type": "execute_result"
    }
   ],
   "source": [
    "mean(cross_val_score(GradientBoostingClassifier(n_estimators=304, criterion='friedman_mse', max_features='sqrt'), data_new, y, scoring='roc_auc', cv=5)) "
   ]
  },
  {
   "cell_type": "markdown",
   "metadata": {},
   "source": [
    "Бустинг: качество улучшилось"
   ]
  },
  {
   "cell_type": "markdown",
   "metadata": {},
   "source": [
    "Отличается ли теперь наилучший классификатор от наилучшего в предыдущем пункте?"
   ]
  },
  {
   "cell_type": "markdown",
   "metadata": {},
   "source": [
    "Лучший классификатор: **Gradient Boosting**. В прошлом пункте был он же.\n",
    "    "
   ]
  },
  {
   "cell_type": "markdown",
   "metadata": {},
   "source": [
    "## Поиск новых полезных признаков\n",
    "\n",
    "**Задание 11 (1.25 балла).** Попробуем улучшить качество модели, добавив в неё новые информативные признаки. Поступим так же, как действовали на [семинаре](https://github.com/Murcha1990/ML_Econom_2021-2022/blob/main/Семинары/Семинар%207/Seminar7.ipynb):\n",
    "* добавьте к модели полиномиальных признаков степени 2 (для создания полиномиальных признаков используйте только исходные числовые признаки)\n",
    "* затем снизьте размерность с помощью:\n",
    "a) фильтрационных методов\n",
    "b) жадного отбора признаков (RFE)\n",
    "с) встроенного в модель метода отбора признаков.\n",
    "\n",
    "Для каждого пункта выше выберите один метод и подберите для него оптимальные гиперпараметры, а также количество финальных признаков (по кросс-валидации).\n",
    "\n",
    "* Затем можно добавить к модели закодированные в предыдущем пункте категориальные признаки.\n",
    "\n",
    "Позволил ли этот подход улучшить качество моделей? "
   ]
  },
  {
   "cell_type": "code",
   "execution_count": 84,
   "metadata": {},
   "outputs": [
    {
     "data": {
      "text/plain": [
       "array([[ 1.00000000e+00, -3.42918504e-01,  9.00258021e-01, ...,\n",
       "         4.78473648e-02, -3.47408553e-01,  2.52245244e+00],\n",
       "       [ 1.00000000e+00,  1.14760125e-01,  1.06827133e-02, ...,\n",
       "         4.78473648e-02,  1.62257626e-02,  5.50240068e-03],\n",
       "       [ 1.00000000e+00, -1.90358961e-01, -1.06280262e-01, ...,\n",
       "         4.78473648e-02,  1.62257626e-02,  5.50240068e-03],\n",
       "       ...,\n",
       "       [ 1.00000000e+00, -8.76876904e-01, -7.96852927e-01, ...,\n",
       "         4.78473648e-02,  1.62257626e-02,  5.50240068e-03],\n",
       "       [ 1.00000000e+00,  1.56407578e+00,  7.48381146e-01, ...,\n",
       "         4.78473648e-02,  1.62257626e-02,  5.50240068e-03],\n",
       "       [ 1.00000000e+00, -4.19198275e-01, -1.22374144e+00, ...,\n",
       "         2.00117040e+01,  1.52733291e+00,  1.16569074e-01]])"
      ]
     },
     "execution_count": 84,
     "metadata": {},
     "output_type": "execute_result"
    }
   ],
   "source": [
    "poly = PolynomialFeatures(2)\n",
    "X = poly.fit_transform(X)\n",
    "X"
   ]
  },
  {
   "cell_type": "code",
   "execution_count": 85,
   "metadata": {},
   "outputs": [
    {
     "data": {
      "text/plain": [
       "28"
      ]
     },
     "execution_count": 85,
     "metadata": {},
     "output_type": "execute_result"
    }
   ],
   "source": [
    "X.shape[1] # number of features "
   ]
  },
  {
   "cell_type": "code",
   "execution_count": 86,
   "metadata": {},
   "outputs": [
    {
     "name": "stdout",
     "output_type": "stream",
     "text": [
      "number of features= 18 \n",
      "best CV score= 0.8380635358514039\n"
     ]
    }
   ],
   "source": [
    "# knn\n",
    "# filtration\n",
    "\n",
    "score=[]\n",
    "for k_features in range(10,29):\n",
    "    X_new = SelectKBest(mutual_info_classif, k=k_features).fit_transform(X, y)\n",
    "    score.append(mean(cross_val_score(KNeighborsClassifier(n_neighbors=40, metric='manhattan'), X_new, y, scoring='roc_auc', cv=5)))\n",
    "print('number of features=', 10+argmax(score), '\\nbest CV score=', max(score))\n",
    "    "
   ]
  },
  {
   "cell_type": "code",
   "execution_count": 87,
   "metadata": {},
   "outputs": [
    {
     "data": {
      "text/plain": [
       "0.8896495503857915"
      ]
     },
     "execution_count": 87,
     "metadata": {},
     "output_type": "execute_result"
    }
   ],
   "source": [
    "data_new = pd.DataFrame(np.concatenate((data_cat.to_numpy(), X_new), axis=1))\n",
    "mean(cross_val_score(KNeighborsClassifier(n_neighbors=40, metric='manhattan'), data_new, y, scoring='roc_auc',cv=5))"
   ]
  },
  {
   "cell_type": "markdown",
   "metadata": {},
   "source": [
    "Качество хуже (немношк)"
   ]
  },
  {
   "cell_type": "code",
   "execution_count": 88,
   "metadata": {},
   "outputs": [
    {
     "name": "stdout",
     "output_type": "stream",
     "text": [
      "number of features= 16 \n",
      "best CV score= 0.8406471875792793\n"
     ]
    }
   ],
   "source": [
    "# decision tree\n",
    "# RFE\n",
    "\n",
    "score=[]\n",
    "for k_best in range(10,29):\n",
    "    X_new = RFE(DecisionTreeClassifier(criterion='entropy', max_depth=8), n_features_to_select=k_best, step=30).fit_transform(X, y)\n",
    "    score.append(mean(cross_val_score(DecisionTreeClassifier(criterion='entropy', max_depth=8), X_new, y, scoring='roc_auc',cv=5)))\n",
    "print('number of features=', 10+argmax(score), '\\nbest CV score=', max(score))"
   ]
  },
  {
   "cell_type": "code",
   "execution_count": 89,
   "metadata": {},
   "outputs": [
    {
     "data": {
      "text/plain": [
       "0.8889095484390623"
      ]
     },
     "execution_count": 89,
     "metadata": {},
     "output_type": "execute_result"
    }
   ],
   "source": [
    "data_new = pd.DataFrame(np.concatenate((data_cat.to_numpy(), X_new), axis=1))\n",
    "mean(cross_val_score(DecisionTreeClassifier(criterion='entropy', max_depth=8), data_new, y, scoring='roc_auc',cv=5))"
   ]
  },
  {
   "cell_type": "markdown",
   "metadata": {},
   "source": [
    "качество хуже (тоже немношк)"
   ]
  },
  {
   "cell_type": "code",
   "execution_count": 90,
   "metadata": {},
   "outputs": [
    {
     "name": "stdout",
     "output_type": "stream",
     "text": [
      "number of features= 9 \n",
      "best CV score= 0.843888354195353\n"
     ]
    }
   ],
   "source": [
    "# SGD\n",
    "# regularization \n",
    "\n",
    "X_new = SelectFromModel(SGDClassifier(loss='log', penalty='elasticnet')).fit_transform(X, y)\n",
    "score=mean(cross_val_score(DecisionTreeClassifier(criterion='entropy', max_depth=8), X_new, y, scoring='roc_auc', cv=5))\n",
    "print('number of features=', X_new.shape[1], '\\nbest CV score=', score)"
   ]
  },
  {
   "cell_type": "code",
   "execution_count": 91,
   "metadata": {},
   "outputs": [
    {
     "data": {
      "text/plain": [
       "0.9059482246418062"
      ]
     },
     "execution_count": 91,
     "metadata": {},
     "output_type": "execute_result"
    }
   ],
   "source": [
    "data_new = pd.DataFrame(np.concatenate((data_cat.to_numpy(), X_new), axis=1))\n",
    "mean(cross_val_score(SGDClassifier(loss='log', penalty='elasticnet'), data_new, y, scoring='roc_auc', cv=5))"
   ]
  },
  {
   "cell_type": "markdown",
   "metadata": {},
   "source": [
    "Качество лучше"
   ]
  },
  {
   "cell_type": "code",
   "execution_count": 92,
   "metadata": {},
   "outputs": [
    {
     "name": "stdout",
     "output_type": "stream",
     "text": [
      "number of features= 18 \n",
      "best CV score= 0.813267659979011\n"
     ]
    }
   ],
   "source": [
    "# Random Forest\n",
    "# RFE\n",
    "score=[]\n",
    "for k_best in range(10,29):\n",
    "    X_new = RFE(RandomForestClassifier(n_estimators=29, criterion='entropy', max_features='sqrt'), n_features_to_select=k_best, step=30).fit_transform(X, y)\n",
    "    score.append(mean(cross_val_score(RandomForestClassifier(n_estimators=29, criterion='entropy', max_features='sqrt'), X_new, y, scoring='roc_auc', cv=5)))\n",
    "print('number of features=', 10+argmax(score), '\\nbest CV score=', max(score))"
   ]
  },
  {
   "cell_type": "code",
   "execution_count": 93,
   "metadata": {},
   "outputs": [
    {
     "data": {
      "text/plain": [
       "0.894050874933404"
      ]
     },
     "execution_count": 93,
     "metadata": {},
     "output_type": "execute_result"
    }
   ],
   "source": [
    "data_new = pd.DataFrame(np.concatenate((data_cat.to_numpy(), X_new), axis=1))\n",
    "mean(cross_val_score(RandomForestClassifier(n_estimators=29, criterion='entropy', max_features='sqrt'), data_new, y, scoring='roc_auc', cv=5))"
   ]
  },
  {
   "cell_type": "markdown",
   "metadata": {},
   "source": [
    "Качество немношк поднялось "
   ]
  },
  {
   "cell_type": "code",
   "execution_count": 94,
   "metadata": {},
   "outputs": [
    {
     "name": "stdout",
     "output_type": "stream",
     "text": [
      "number of features= 11 \n",
      "best CV score= 0.8654148960002809\n"
     ]
    }
   ],
   "source": [
    "# Gradient Boosting \n",
    "# filtration\n",
    "\n",
    "score=[]\n",
    "for k_features in range(10,29):\n",
    "    X_new = SelectKBest(mutual_info_classif, k=k_features).fit_transform(X, y)\n",
    "    score.append(mean(cross_val_score(GradientBoostingClassifier(n_estimators=304, criterion='friedman_mse', max_features='sqrt'), X_new, y, scoring='roc_auc', cv=5)))\n",
    "print('number of features=', 10+argmax(score), '\\nbest CV score=', max(score))"
   ]
  },
  {
   "cell_type": "code",
   "execution_count": 95,
   "metadata": {},
   "outputs": [
    {
     "data": {
      "text/plain": [
       "0.9195579871633776"
      ]
     },
     "execution_count": 95,
     "metadata": {},
     "output_type": "execute_result"
    }
   ],
   "source": [
    "data_new = pd.DataFrame(np.concatenate((data_cat.to_numpy(), X_new), axis=1))\n",
    "mean(cross_val_score(GradientBoostingClassifier(n_estimators=304, criterion='friedman_mse', max_features='sqrt'), data_new, y, scoring='roc_auc', cv=5)) # waiting "
   ]
  },
  {
   "cell_type": "markdown",
   "metadata": {},
   "source": [
    "Качество почти не изменилось (немношк упало)"
   ]
  },
  {
   "cell_type": "markdown",
   "metadata": {},
   "source": [
    "## Смешивание моделей\n",
    "\n",
    "Во всех предыдущих пунктах мы получили много сильных моделей, которые могут быть достаточно разными по своей природе (например, метод ближайших соседей и случайный лес). Часто на практике оказывается возможным увеличить качество предсказания путем смешивания подобных разных моделей. Давайте посмотрим, действительно ли это дает прирост в качестве.\n",
    "\n",
    "Выберите из построенных моделей двух предыдущих пунктов две, которые дали наибольшее начество на кросс-валидации (обозначим их $clf_1$ и $clf_2$). Далее постройте новый классификатор, ответ которого на некотором объекте $x$ будет выглядеть следующим образом:\n",
    "\n",
    "$$result(x) = clf_1(x) \\cdot \\alpha + clf_2(x) \\cdot (1 - \\alpha)$$\n",
    "\n",
    "где $\\alpha$ — гиперпараметр нового классификатора.\n",
    "\n",
    "**Задание 12 (1 балл)** Подберите по сетке от 0 до 1 $\\alpha$ для этого классификатора с помощью 5-Fold CV и постройте график качества в зависимости от $\\alpha$ (аналогичный графику в разделе \"Обучение классификаторов и оценка качества\"). Дал ли этот подход прирост к качеству по сравнению с моделями ранее?"
   ]
  },
  {
   "cell_type": "code",
   "execution_count": 97,
   "metadata": {},
   "outputs": [],
   "source": [
    "X_train, X_test, y_train, y_test = train_test_split(data_new, y, test_size=0.3, random_state=690)"
   ]
  },
  {
   "cell_type": "code",
   "execution_count": 99,
   "metadata": {},
   "outputs": [
    {
     "name": "stdout",
     "output_type": "stream",
     "text": [
      "alpha= 0.6000000000000001 \n",
      "best score= 0.8077436080272413\n"
     ]
    }
   ],
   "source": [
    "clf1 = GradientBoostingClassifier(n_estimators=304, criterion='friedman_mse', max_features='sqrt').fit(X_train, y_train)\n",
    "clf2 = SGDClassifier(loss='log', penalty='elasticnet').fit(X_train, y_train)\n",
    "\n",
    "score=[]\n",
    "for alpha in [n * 1/10 for n in range(0,11)]:\n",
    "    y_pred = alpha * clf1.predict(X_test) + (1-alpha) * clf2.predict(X_test)\n",
    "    roc_auc = roc_auc_score(y_test, y_pred)\n",
    "    score.append(roc_auc)\n",
    "\n",
    "print('alpha=', argmax(score)*0.1, '\\nbest score=', max(score))"
   ]
  },
  {
   "cell_type": "markdown",
   "metadata": {},
   "source": [
    "На тестовой выборке чекнули качество и получили, что оно ниже, чем в последних построенных моделях. Там везде больше 0.8"
   ]
  },
  {
   "cell_type": "markdown",
   "metadata": {},
   "source": [
    "## Сравнение построенных моделей\n",
    "\n",
    "![](http://cdn.shopify.com/s/files/1/0870/1066/files/compare_e8b89647-3cb6-4871-a976-2e36e5987773.png?1750043340268621065)\n",
    "\n",
    "После того как было построено много моделей хотелось бы сравнить их между собой. Для этого можно построить \"ящик с усами\" (диаграму размаха). Для этого можно воспользоваться библиотекой [matplotlib](https://matplotlib.org/3.1.0/api/_as_gen/matplotlib.pyplot.boxplot.html) или [seaborn](https://seaborn.pydata.org/generated/seaborn.boxplot.html).\n",
    "\n",
    "**Задание 13 (1 балл)** Для каждого типа классификатора (kNN, DecisionTree, RandomForest, SGD classifier), а так же смешанной модели выберите тот, которых давал наилучшее качество на кросс-валидации (с учетом подобранных гиперпараметров) и постройте диаграмму размаха (все классификаторы должны быть изображены на одном графике).\n",
    " \n",
    "Сделайте общие итоговые выводы о классификаторах с точки зрения их работы с признаками и сложности самой модели (какие гиперпараметры есть у модели, сильно ли изменение значения гиперпараметра влияет на качество модели)."
   ]
  },
  {
   "cell_type": "markdown",
   "metadata": {
    "collapsed": true
   },
   "source": [
    "**Общие выводы:**\n",
    "\n",
    "1) KNN, Random Forest и Gradient boosting (более сложные модели) в целом обучаются дольше, чем SGD и дерево. \n",
    "\n",
    "2) Значение гиперпараметра сильно влияет на качество модели (это видно, например, на графиках)\n",
    "\n",
    "3) Есть модели, чувствительные к масштабу признаков: линейные и KNN - при масштабировании качество очень сильно растет\n",
    "\n",
    "4) При добавлении категориальных признаков качество растет \n",
    "\n",
    "5) При Feature engineering качество изменяется относительно слабо. Надо искать гиперпараметры для методов, но не факт, что это поможет. \n",
    "\n",
    "6) Лучшее качество из всего, что было обучено - у градиентного бустинга 0.9198\n"
   ]
  }
 ],
 "metadata": {
  "kernelspec": {
   "display_name": "Python 3",
   "language": "python",
   "name": "python3"
  },
  "language_info": {
   "codemirror_mode": {
    "name": "ipython",
    "version": 3
   },
   "file_extension": ".py",
   "mimetype": "text/x-python",
   "name": "python",
   "nbconvert_exporter": "python",
   "pygments_lexer": "ipython3",
   "version": "3.8.5"
  }
 },
 "nbformat": 4,
 "nbformat_minor": 1
}
